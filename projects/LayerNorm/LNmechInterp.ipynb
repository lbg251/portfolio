{
 "cells": [
  {
   "cell_type": "code",
   "execution_count": 1,
   "metadata": {},
   "outputs": [
    {
     "data": {
      "text/html": [
       "<div id=\"circuits-vis-5999a879-0d04\" style=\"margin: 15px 0;\"/>\n",
       "    <script crossorigin type=\"module\">\n",
       "    import { render, Hello } from \"https://unpkg.com/circuitsvis@1.39.1/dist/cdn/esm.js\";\n",
       "    render(\n",
       "      \"circuits-vis-5999a879-0d04\",\n",
       "      Hello,\n",
       "      {\"name\": \"Neel\"}\n",
       "    )\n",
       "    </script>"
      ],
      "text/plain": [
       "<circuitsvis.utils.render.RenderedHTML at 0x1109a86a0>"
      ]
     },
     "execution_count": 1,
     "metadata": {},
     "output_type": "execute_result"
    }
   ],
   "source": [
    "\n",
    "\n",
    "# Import stuff\n",
    "import torch as t\n",
    "import torch.nn as nn\n",
    "import torch.nn.functional as F\n",
    "import torch.optim as optim\n",
    "import numpy as np\n",
    "import einops\n",
    "from fancy_einsum import einsum\n",
    "import tqdm.auto as tqdm\n",
    "import random\n",
    "from pathlib import Path\n",
    "import plotly.express as px\n",
    "from torch.utils.data import DataLoader\n",
    "\n",
    "from jaxtyping import Float, Int\n",
    "from typing import List, Union, Optional\n",
    "from functools import partial\n",
    "import copy\n",
    "\n",
    "import itertools\n",
    "from transformers import AutoModelForCausalLM, AutoConfig, AutoTokenizer\n",
    "import dataclasses\n",
    "import datasets\n",
    "from IPython.display import HTML\n",
    "\n",
    "# Plotly needs a different renderer for VSCode/Notebooks vs Colab argh\n",
    "import plotly.io as pio\n",
    "pio.renderers.default = \"notebook_connected\"\n",
    "\n",
    "\n",
    "import transformer_lens\n",
    "import transformer_lens.utils as utils\n",
    "from transformer_lens.hook_points import (\n",
    "    HookedRootModule,\n",
    "    HookPoint,\n",
    ")  # Hooking utilities\n",
    "from transformer_lens import HookedTransformer, HookedTransformerConfig, FactoredMatrix, ActivationCache\n",
    "\n",
    "import circuitsvis as cv\n",
    "# Testing that the library works\n",
    "cv.examples.hello(\"Neel\")\n",
    "\n"
   ]
  },
  {
   "cell_type": "code",
   "execution_count": 63,
   "metadata": {},
   "outputs": [
    {
     "name": "stderr",
     "output_type": "stream",
     "text": [
      "Using pad_token, but it is not set yet.\n"
     ]
    },
    {
     "name": "stdout",
     "output_type": "stream",
     "text": [
      "Loaded pretrained model gpt2-small into HookedTransformer\n",
      "cross-entropy losses with increasing context:  [tensor(5.6510), tensor(5.1699), tensor(4.5359), tensor(4.2693)]\n"
     ]
    }
   ],
   "source": [
    "## turn off AD to save memory, since we're focusing on model inference here \n",
    "t.set_grad_enabled(False)\n",
    "\n",
    "device = 'cuda' if t.cuda.is_available() else 'cpu'\n",
    "model = HookedTransformer.from_pretrained('gpt2-small', device=device)\n",
    "\n",
    "\n",
    "text1 = \"This is my input to gpt2-small\"\n",
    "logits, loss = model(text1, return_type = 'both')\n",
    "\n",
    "## LG experiment: the loss should decrease with more context\n",
    "text2 = text1 + \"The more context I give it, the lower the loss I will achieve\"\n",
    "text3 = text2 + \"Let's see how low we can make it while still only giving it a reasonable number of prompts.\"\n",
    "text4 = text3 + \"It's still not very low but at least it's going down...\"\n",
    "texts = [text1,text2,text3,text4]\n",
    "test_losses = [model(text, return_type = 'loss') for text in texts]\n",
    "print('cross-entropy losses with increasing context: ', test_losses)"
   ]
  },
  {
   "attachments": {},
   "cell_type": "markdown",
   "metadata": {},
   "source": [
    "Not sure why there are 3 copies of blocks.0.ln1.hook_scale and blocks.0.ln1.hook_normalized... ANSWER (from Neel/ slack): ln1 takes data that is split between the three subsequent matrices (Q, K, V), so it appears 3 times.\n",
    "\n",
    "Understand \"folding in\" : I want to make sure I understand what's happening when layernorm is folded in. Hopefully this will also help me understand how to access each part of the transformer using hooks/ model.attributes. "
   ]
  },
  {
   "cell_type": "code",
   "execution_count": 48,
   "metadata": {},
   "outputs": [
    {
     "name": "stdout",
     "output_type": "stream",
     "text": [
      "Loaded pretrained model attn-only-2l into HookedTransformer\n",
      "Loaded pretrained model attn-only-2l into HookedTransformer\n",
      "Reference: Hyperparameters for the model\n"
     ]
    },
    {
     "data": {
      "text/plain": [
       "{'n_layers': 2,\n",
       " 'd_model': 512,\n",
       " 'n_ctx': 1024,\n",
       " 'd_head': 64,\n",
       " 'model_name': 'Attn_Only_2L512W_C4_Code',\n",
       " 'n_heads': 8,\n",
       " 'd_mlp': 2048,\n",
       " 'act_fn': 'solu_ln',\n",
       " 'd_vocab': 48262,\n",
       " 'eps': 1e-05,\n",
       " 'use_attn_result': False,\n",
       " 'use_attn_scale': True,\n",
       " 'use_split_qkv_input': False,\n",
       " 'use_local_attn': False,\n",
       " 'original_architecture': 'neel',\n",
       " 'from_checkpoint': False,\n",
       " 'checkpoint_index': None,\n",
       " 'checkpoint_label_type': None,\n",
       " 'checkpoint_value': None,\n",
       " 'tokenizer_name': 'NeelNanda/gpt-neox-tokenizer-digits',\n",
       " 'window_size': None,\n",
       " 'attn_types': None,\n",
       " 'init_mode': 'gpt2',\n",
       " 'normalization_type': 'LNPre',\n",
       " 'device': 'cpu',\n",
       " 'attention_dir': 'causal',\n",
       " 'attn_only': True,\n",
       " 'seed': None,\n",
       " 'initializer_range': 0.035355339059327376,\n",
       " 'init_weights': False,\n",
       " 'scale_attn_by_inverse_layer_idx': False,\n",
       " 'positional_embedding_type': 'standard',\n",
       " 'final_rms': False,\n",
       " 'd_vocab_out': 48262,\n",
       " 'parallel_attn_mlp': False,\n",
       " 'rotary_dim': None,\n",
       " 'n_params': 2097152,\n",
       " 'use_hook_tokens': False}"
      ]
     },
     "execution_count": 48,
     "metadata": {},
     "output_type": "execute_result"
    }
   ],
   "source": [
    "\n",
    "model_attn_only = HookedTransformer.from_pretrained('attn-only-2l', device=device)\n",
    "model_attn_only_no_fold = HookedTransformer.from_pretrained('attn-only-2l', device=device, fold_ln=False)\n",
    "\n",
    "print('Reference: Hyperparameters for the model')\n",
    "dataclasses.asdict(model_attn_only.cfg)"
   ]
  },
  {
   "cell_type": "code",
   "execution_count": 67,
   "metadata": {},
   "outputs": [
    {
     "name": "stdout",
     "output_type": "stream",
     "text": [
      "tensor(False)\n",
      "Reference: Hyperparameters for the model\n"
     ]
    },
    {
     "data": {
      "text/plain": [
       "{'n_layers': 2,\n",
       " 'd_model': 512,\n",
       " 'n_ctx': 1024,\n",
       " 'd_head': 64,\n",
       " 'model_name': 'Attn_Only_2L512W_C4_Code',\n",
       " 'n_heads': 8,\n",
       " 'd_mlp': 2048,\n",
       " 'act_fn': 'solu_ln',\n",
       " 'd_vocab': 48262,\n",
       " 'eps': 1e-05,\n",
       " 'use_attn_result': False,\n",
       " 'use_attn_scale': True,\n",
       " 'use_split_qkv_input': False,\n",
       " 'use_local_attn': False,\n",
       " 'original_architecture': 'neel',\n",
       " 'from_checkpoint': False,\n",
       " 'checkpoint_index': None,\n",
       " 'checkpoint_label_type': None,\n",
       " 'checkpoint_value': None,\n",
       " 'tokenizer_name': 'NeelNanda/gpt-neox-tokenizer-digits',\n",
       " 'window_size': None,\n",
       " 'attn_types': None,\n",
       " 'init_mode': 'gpt2',\n",
       " 'normalization_type': 'LNPre',\n",
       " 'device': 'cpu',\n",
       " 'attention_dir': 'causal',\n",
       " 'attn_only': True,\n",
       " 'seed': None,\n",
       " 'initializer_range': 0.035355339059327376,\n",
       " 'init_weights': False,\n",
       " 'scale_attn_by_inverse_layer_idx': False,\n",
       " 'positional_embedding_type': 'standard',\n",
       " 'final_rms': False,\n",
       " 'd_vocab_out': 48262,\n",
       " 'parallel_attn_mlp': False,\n",
       " 'rotary_dim': None,\n",
       " 'n_params': 2097152,\n",
       " 'use_hook_tokens': False}"
      ]
     },
     "execution_count": 67,
     "metadata": {},
     "output_type": "execute_result"
    }
   ],
   "source": [
    "#test_prompt = \"The quick brown fox jumped over the lazy dog\"\n",
    "\n",
    "\n",
    "test_prompt = text4\n",
    "logits_gpt, cache_gpt = model.run_with_cache(test_prompt)\n",
    "\n",
    "logits, cache = model_attn_only.run_with_cache(test_prompt)\n",
    "logits_no_fold, cache_no_fold = model_attn_only_no_fold.run_with_cache(test_prompt)\n",
    "\n",
    "print(t.all(logits - logits_no_fold < 1e-6))\n",
    "print('Reference: Hyperparameters for the model')\n",
    "dataclasses.asdict(model_attn_only.cfg)"
   ]
  },
  {
   "cell_type": "code",
   "execution_count": 55,
   "metadata": {},
   "outputs": [],
   "source": [
    "eps = 1e-5\n",
    "test_x_in = cache['blocks.0.hook_resid_pre']\n",
    "x_norm = cache['blocks.0.ln1.hook_normalized']\n",
    "denom = t.sqrt(t.var(test_x_in, dim=-1, keepdim=True, unbiased=False) + eps)\n",
    "\n",
    "assert t.all(test_x_in/denom - x_norm <= 1e-6)\n",
    "assert t.all((cache['blocks.0.ln1.hook_scale'] - denom) <1e-7)"
   ]
  },
  {
   "cell_type": "code",
   "execution_count": 73,
   "metadata": {},
   "outputs": [
    {
     "name": "stdout",
     "output_type": "stream",
     "text": [
      "dict_keys(['hook_embed', 'hook_pos_embed', 'blocks.0.hook_resid_pre', 'blocks.0.ln1.hook_scale', 'blocks.0.ln1.hook_normalized', 'blocks.0.attn.hook_q', 'blocks.0.attn.hook_k', 'blocks.0.attn.hook_v', 'blocks.0.attn.hook_attn_scores', 'blocks.0.attn.hook_pattern', 'blocks.0.attn.hook_z', 'blocks.0.hook_attn_out', 'blocks.0.hook_resid_post', 'blocks.1.hook_resid_pre', 'blocks.1.ln1.hook_scale', 'blocks.1.ln1.hook_normalized', 'blocks.1.attn.hook_q', 'blocks.1.attn.hook_k', 'blocks.1.attn.hook_v', 'blocks.1.attn.hook_attn_scores', 'blocks.1.attn.hook_pattern', 'blocks.1.attn.hook_z', 'blocks.1.hook_attn_out', 'blocks.1.hook_resid_post', 'ln_final.hook_scale', 'ln_final.hook_normalized'])\n",
      "torch.Size([1, 59, 1])\n",
      "torch.Size([1, 59, 512])\n",
      "tensor([[1.0018, 1.0018, 1.0018, 1.0018, 1.0018, 1.0018, 1.0018, 1.0018, 1.0017,\n",
      "         1.0018, 1.0018, 1.0018, 1.0018, 1.0018, 1.0018, 1.0018, 1.0017, 1.0017,\n",
      "         1.0018, 1.0018, 1.0018, 1.0018, 1.0018, 1.0018, 1.0018, 1.0018, 1.0018,\n",
      "         1.0017, 1.0018, 1.0018, 1.0018, 1.0018, 1.0018, 1.0017, 1.0018, 1.0018,\n",
      "         1.0018, 1.0018, 1.0017, 1.0018, 1.0018, 1.0018, 1.0017, 1.0017, 1.0017,\n",
      "         1.0018, 1.0018, 1.0018, 1.0018, 1.0018, 1.0018, 1.0017, 1.0018, 1.0018,\n",
      "         1.0017, 1.0017, 1.0018, 1.0018, 1.0018]])\n"
     ]
    }
   ],
   "source": [
    "print(cache.keys())\n",
    "print(cache['blocks.0.ln1.hook_scale'].shape)\n",
    "print(cache['blocks.0.ln1.hook_normalized'].shape)\n",
    "\n",
    "x_norm_nf = cache_no_fold['blocks.0.ln1.hook_normalized']\n",
    "\n",
    "x_norm = cache['blocks.0.ln1.hook_normalized']\n",
    "\n",
    "## checking that x_norm is what I think it is \n",
    "test_x_in = cache_no_fold['blocks.0.hook_resid_pre']\n",
    "## input is input in either model \n",
    "assert t.all(cache['blocks.0.hook_resid_pre'] == test_x_in)\n",
    "\n",
    "eps = 1e-5\n",
    "denom = t.sqrt(t.var(test_x_in, dim=-1, keepdim=True, unbiased=False) + eps)\n",
    "\n",
    "# ## centering is off for no_fold, but the inputs should be the same once the mean is removed: \n",
    "\n",
    "# centered = test_x_in - t.mean(test_x_in, dim=-1, keepdim=True)\n",
    "\n",
    "# centering is on, so the mean should be 0, or very close\n",
    "assert t.all(t.mean(test_x_in, dim=-1) <= 1e-8)\n",
    "assert t.all(test_x_in == cache['blocks.0.hook_resid_pre'])\n",
    "assert t.all(test_x_in/denom - x_norm <= 1e-6)\n",
    "\n",
    "## checking that x_norm has mean = 0 and var = 1\n",
    "assert t.all(t.mean(x_norm, dim=-1) <= 1e-7)\n",
    "print(t.var(x_norm, dim=-1)) \n",
    "\n",
    "\n",
    "\n"
   ]
  },
  {
   "cell_type": "code",
   "execution_count": 57,
   "metadata": {},
   "outputs": [],
   "source": [
    "t.all(cache['blocks.0.ln1.hook_scale'] == cache_no_fold['blocks.0.ln1.hook_scale'])\n",
    "## hook scale is just the scale factor in the normalization -- makes sense that it's diagonal, because it's the same for all features \n",
    "assert t.all((cache['blocks.0.ln1.hook_scale'] - denom) <1e-7)\n",
    "#### x_norm_nf = W_{LN} x_norm, where W_{LN} should be folded into the subsequent matrix, even though the hooked matrices don't reflect that (the internals should). But the residual stream after the subsequent layer should be the same... let's check \n",
    "assert t.all(x_norm_nf != x_norm)\n",
    "## good, so when we output the attention residual stream, it's all the same. \n",
    "assert t.all((cache['blocks.0.hook_attn_out'] - cache_no_fold['blocks.0.hook_attn_out'])<1e-5)"
   ]
  },
  {
   "attachments": {},
   "cell_type": "markdown",
   "metadata": {},
   "source": [
    "IMPORTANT: the weight matrices (W_LN, W_Q, etc.) in are THE SAME in the models with and without fold in. THE ONLY THING THAT CHANGES IS THE RESIDUAL STREAM (and hook normalized, which depends on the residual stream)\n",
    "\n",
    "This means that, to see the differences, we need to look at the residuals. "
   ]
  },
  {
   "cell_type": "code",
   "execution_count": 58,
   "metadata": {},
   "outputs": [],
   "source": [
    "\n",
    "# LN weights are the same, one is just incorporated into the next layer\n",
    "W_LN_nf = cache_no_fold['blocks.0.ln1.hook_scale']\n",
    "W_LN = cache['blocks.0.ln1.hook_scale']\n",
    "assert t.all(W_LN_nf == W_LN )\n",
    "\n",
    "\n",
    "W_Q = cache['blocks.0.attn.hook_q']\n",
    "\n",
    "W_Q_nf = cache_no_fold['blocks.0.attn.hook_q']\n",
    "W_eff = (W_LN_nf[:,:,None]*W_Q_nf)\n",
    "assert W_eff.shape == W_Q_nf.shape\n",
    "\n",
    "\n",
    "assert t.all(W_Q -  W_Q_nf <= 1e-5)\n",
    "\n",
    "## should also work via matrix multiplication (my brain likes this way better, but it is more cumbersome)\n",
    "\n",
    "assert t.all(t.einsum('bsnd, bs -> bsnd',W_Q_nf,W_LN_nf.squeeze(-1)) == W_eff)\n",
    "\n"
   ]
  },
  {
   "attachments": {},
   "cell_type": "markdown",
   "metadata": {},
   "source": [
    "Is the distribution of the layer norm scale factor bimodal? "
   ]
  },
  {
   "cell_type": "code",
   "execution_count": 59,
   "metadata": {},
   "outputs": [
    {
     "data": {
      "text/plain": [
       "ActivationCache with keys ['hook_embed', 'hook_pos_embed', 'blocks.0.hook_resid_pre', 'blocks.0.ln1.hook_scale', 'blocks.0.ln1.hook_normalized', 'blocks.0.attn.hook_q', 'blocks.0.attn.hook_k', 'blocks.0.attn.hook_v', 'blocks.0.attn.hook_attn_scores', 'blocks.0.attn.hook_pattern', 'blocks.0.attn.hook_z', 'blocks.0.hook_attn_out', 'blocks.0.hook_resid_post', 'blocks.1.hook_resid_pre', 'blocks.1.ln1.hook_scale', 'blocks.1.ln1.hook_normalized', 'blocks.1.attn.hook_q', 'blocks.1.attn.hook_k', 'blocks.1.attn.hook_v', 'blocks.1.attn.hook_attn_scores', 'blocks.1.attn.hook_pattern', 'blocks.1.attn.hook_z', 'blocks.1.hook_attn_out', 'blocks.1.hook_resid_post', 'ln_final.hook_scale', 'ln_final.hook_normalized']"
      ]
     },
     "execution_count": 59,
     "metadata": {},
     "output_type": "execute_result"
    }
   ],
   "source": [
    "cache"
   ]
  },
  {
   "cell_type": "code",
   "execution_count": 60,
   "metadata": {},
   "outputs": [
    {
     "data": {
      "text/plain": [
       "Text(0.5, 0, 'scale factor')"
      ]
     },
     "execution_count": 60,
     "metadata": {},
     "output_type": "execute_result"
    },
    {
     "data": {
      "image/png": "[encoded data removed]",
      "text/plain": [
       "<Figure size 640x480 with 1 Axes>"
      ]
     },
     "metadata": {},
     "output_type": "display_data"
    }
   ],
   "source": [
    "import matplotlib.pyplot as plt\n",
    "plt.hist(cache['blocks.0.ln1.hook_scale'].flatten())\n",
    "plt.title('Histogram of the Normalization Scale Factor')\n",
    "plt.ylabel(\"count\")\n",
    "plt.xlabel(\"scale factor\")\n"
   ]
  },
  {
   "cell_type": "code",
   "execution_count": 61,
   "metadata": {},
   "outputs": [
    {
     "data": {
      "text/plain": [
       "(array([ 7.,  8.,  8., 10., 13.,  7.,  3.,  2.,  0.,  1.]),\n",
       " array([0.50054097, 0.52995318, 0.55936533, 0.58877754, 0.61818975,\n",
       "        0.64760196, 0.67701411, 0.70642632, 0.73583853, 0.76525068,\n",
       "        0.79466289]),\n",
       " <BarContainer object of 10 artists>)"
      ]
     },
     "execution_count": 61,
     "metadata": {},
     "output_type": "execute_result"
    },
    {
     "data": {
      "image/png": "[encoded data removed]",
      "text/plain": [
       "<Figure size 640x480 with 1 Axes>"
      ]
     },
     "metadata": {},
     "output_type": "display_data"
    }
   ],
   "source": [
    "plt.hist(cache['ln_final.hook_scale'].flatten())\n"
   ]
  },
  {
   "cell_type": "code",
   "execution_count": 69,
   "metadata": {},
   "outputs": [
    {
     "data": {
      "text/plain": [
       "(array([1.0000e+00, 0.0000e+00, 4.0000e+00, 6.7400e+02, 1.9833e+04,\n",
       "        9.5630e+03, 1.2700e+02, 4.0000e+00, 0.0000e+00, 2.0000e+00]),\n",
       " array([-11.78080082,  -9.34030151,  -6.89980221,  -4.45930338,\n",
       "         -2.01880407,   0.42169523,   2.86219454,   5.30269384,\n",
       "          7.74319267,  10.18369198,  12.62419128]),\n",
       " <BarContainer object of 10 artists>)"
      ]
     },
     "execution_count": 69,
     "metadata": {},
     "output_type": "execute_result"
    },
    {
     "data": {
      "image/png": "[encoded data removed]",
      "text/plain": [
       "<Figure size 640x480 with 1 Axes>"
      ]
     },
     "metadata": {},
     "output_type": "display_data"
    }
   ],
   "source": [
    "plt.hist(cache['blocks.0.ln1.hook_normalized'].flatten())\n",
    "#plt.hist(cache['ln_final.hook_normalized'].flatten())"
   ]
  },
  {
   "cell_type": "code",
   "execution_count": null,
   "metadata": {},
   "outputs": [],
   "source": [
    "\n"
   ]
  },
  {
   "cell_type": "code",
   "execution_count": null,
   "metadata": {},
   "outputs": [],
   "source": []
  }
 ],
 "metadata": {
  "kernelspec": {
   "display_name": "torch-gpu",
   "language": "python",
   "name": "python3"
  },
  "language_info": {
   "codemirror_mode": {
    "name": "ipython",
    "version": 3
   },
   "file_extension": ".py",
   "mimetype": "text/x-python",
   "name": "python",
   "nbconvert_exporter": "python",
   "pygments_lexer": "ipython3",
   "version": "3.10.9 (main, Jan 11 2023, 09:18:18) [Clang 14.0.6 ]"
  },
  "orig_nbformat": 4,
  "vscode": {
   "interpreter": {
    "hash": "6e851e82dedee55c73100bfbe6682b3cabddc188516229e1e8f6342cda6eae37"
   }
  }
 },
 "nbformat": 4,
 "nbformat_minor": 2
}
