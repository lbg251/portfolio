{
 "cells": [
  {
   "cell_type": "code",
   "execution_count": 1,
   "metadata": {},
   "outputs": [],
   "source": [
    "# Import stuff\n",
    "import torch as t\n",
    "import numpy as np\n",
    "# Plotly needs a different renderer for VSCode/Notebooks vs Colab\n",
    "import plotly.io as pio\n",
    "pio.renderers.default = \"notebook_connected\"\n",
    "import plotly.express as px\n",
    "import einops\n",
    "import plotly.graph_objects as go \n",
    "from functools import partial\n",
    "import tqdm.auto as tqdm\n",
    "import circuitsvis as cv\n",
    "from transformer_lens.hook_points import HookPoint\n",
    "from transformer_lens import utils, HookedTransformer, ActivationCache\n",
    "from transformer_lens.components import Embed, Unembed, LayerNorm, MLP\n",
    "from fancy_einsum import einsum\n",
    "from jaxtyping import Float, Int, Bool\n",
    "import re\n",
    "import random\n",
    "from IPython.display import display"
   ]
  },
  {
   "cell_type": "code",
   "execution_count": 2,
   "metadata": {},
   "outputs": [],
   "source": [
    "\n",
    "def imshow(tensor, renderer=None, **kwargs):\n",
    "    px.imshow(utils.to_numpy(tensor), color_continuous_midpoint=0.0, color_continuous_scale=\"RdBu\", **kwargs).show(renderer)\n",
    "\n",
    "def line(tensor, renderer=None, **kwargs):\n",
    "    px.line(y=utils.to_numpy(tensor), **kwargs).show(renderer)\n",
    "\n",
    "def scatter(x, y, xaxis=\"\", yaxis=\"\", caxis=\"\", renderer=None, **kwargs):\n",
    "    x = utils.to_numpy(x)\n",
    "    y = utils.to_numpy(y)\n",
    "    px.scatter(y=y, x=x, labels={\"x\":xaxis, \"y\":yaxis, \"color\":caxis}, **kwargs).show(renderer)"
   ]
  },
  {
   "cell_type": "code",
   "execution_count": 3,
   "metadata": {},
   "outputs": [
    {
     "name": "stderr",
     "output_type": "stream",
     "text": [
      "Using pad_token, but it is not set yet.\n"
     ]
    },
    {
     "name": "stdout",
     "output_type": "stream",
     "text": [
      "Loaded pretrained model gpt2-small into HookedTransformer\n"
     ]
    }
   ],
   "source": [
    "## turn off AD to save memory, since we're focusing on model inference here \n",
    "t.set_grad_enabled(False)\n",
    "\n",
    "device = 'cuda' if t.cuda.is_available() else 'cpu'\n",
    "model = HookedTransformer.from_pretrained('gpt2-small', device=device)"
   ]
  },
  {
   "cell_type": "code",
   "execution_count": null,
   "metadata": {},
   "outputs": [],
   "source": []
  },
  {
   "attachments": {},
   "cell_type": "markdown",
   "metadata": {},
   "source": [
    "Studying the head outputs on different distributions\n",
    "\n",
    "Create the datasets "
   ]
  },
  {
   "cell_type": "code",
   "execution_count": 4,
   "metadata": {},
   "outputs": [
    {
     "data": {
      "text/plain": [
       "[46317, 4564, 3012, 9369, 20127, 43330, 28607, 20025]"
      ]
     },
     "execution_count": 4,
     "metadata": {},
     "output_type": "execute_result"
    }
   ],
   "source": [
    "proper_nouns = [\n",
    "    \" Goose\", \" Church\",\n",
    "    \" Google\", \" Chair\",\n",
    "    \" Bag\", \" Statue\",\n",
    "    \" Lamp\", \" Flower\"\n",
    "]\n",
    "\n",
    "nouns = [\n",
    "    \" goose\", \" church\",\n",
    "    \" google\", \" chair\",\n",
    "    \" bag\", \" statue\",\n",
    "    \" lamp\", \" flower\"\n",
    "]\n",
    "\n",
    "multi_names_religious = [\n",
    "    \" Mary\", \" Joseph\",\n",
    "    \" Abraham\", \" Paul\",\n",
    "    \" Isaac\", \" Noah\",\n",
    "    \" Jacob\", \" Jesus\"\n",
    "]\n",
    "\n",
    "multi_names_places = [\n",
    "    \" Paris\", \" London\",\n",
    "    \" Madison\", \" Phoenix\",\n",
    "    \" Devon\", \" Florence\",\n",
    "    \" Austin\", \" Brooklyn\"\n",
    "]\n",
    "\n",
    "test = proper_nouns\n",
    "[model.to_single_token(test[i]) for i in range(len(test))]\n"
   ]
  },
  {
   "cell_type": "code",
   "execution_count": 5,
   "metadata": {},
   "outputs": [],
   "source": [
    "\n",
    "\n",
    "\n",
    "def get_dataset(N, names):\n",
    "    prompts = []\n",
    "    # List of answers, in the format (correct, incorrect)\n",
    "    answers = []\n",
    "    # List of the token (ie an integer) corresponding to each answer, in the format (correct_token, incorrect_token)\n",
    "    answer_tokens = []\n",
    "    for _ in range(N):\n",
    "        S1, S2 = random.sample(names,2)\n",
    "        answers.append((S1,S2))\n",
    "        answers.append((S2,S1))\n",
    "        prompt1 = f'When{S1} and{S2} went to the shops,{S2} gave the bag to'\n",
    "        prompt2 = f'When{S1} and{S2} went to the shops,{S1} gave the bag to'\n",
    "        prompts.append(prompt1)\n",
    "        prompts.append(prompt2)\n",
    "\n",
    "        answer_tok_1 = model.to_single_token(S1)\n",
    "        answer_tok_2 = model.to_single_token(S2)\n",
    "\n",
    "        answer_tokens.append((answer_tok_1, answer_tok_2))\n",
    "        answer_tokens.append((answer_tok_2, answer_tok_1))\n",
    "    assert len(set([len(model.to_str_tokens(prompt)) for prompt in prompts])) == 1\n",
    "    answer_tokens = t.tensor(answer_tokens).to(device)\n",
    "    return prompts, answers, answer_tokens\n",
    "\n"
   ]
  },
  {
   "cell_type": "code",
   "execution_count": 6,
   "metadata": {},
   "outputs": [],
   "source": [
    "prompts_rel, ans_rel, ans_toks_rel = get_dataset(10,multi_names_religious)\n",
    "prompts_pl, ans_pl, ans_toks_pl = get_dataset(10,multi_names_places)\n",
    "prompts_n, ans_n, ans_toks_n = get_dataset(10,nouns)\n",
    "prompts_pn, ans_pn, ans_toks_pn = get_dataset(10,proper_nouns)\n",
    "\n"
   ]
  },
  {
   "cell_type": "code",
   "execution_count": 7,
   "metadata": {},
   "outputs": [
    {
     "data": {
      "text/plain": [
       "(torch.Size([80, 2]), torch.Size([20, 2]))"
      ]
     },
     "execution_count": 7,
     "metadata": {},
     "output_type": "execute_result"
    }
   ],
   "source": [
    "prompts_full = prompts_n + prompts_pl + prompts_rel + prompts_pl\n",
    "ans_full = ans_n + ans_pl + ans_rel + ans_pl\n",
    "ans_toks_full = t.concat([ans_toks_n, ans_toks_pl, ans_toks_rel, ans_toks_pl], dim =0)\n",
    "ans_toks_full.shape, ans_toks_n.shape"
   ]
  },
  {
   "cell_type": "code",
   "execution_count": 8,
   "metadata": {},
   "outputs": [],
   "source": [
    "from rich.table import Table, Column\n",
    "from rich import print as rprint\n"
   ]
  },
  {
   "cell_type": "code",
   "execution_count": 9,
   "metadata": {},
   "outputs": [],
   "source": [
    "control_prompts = ['When John and Mary went to the shops, John gave the bag to',\n",
    " 'When John and Mary went to the shops, Mary gave the bag to',\n",
    " 'When Tom and James went to the park, James gave the ball to',\n",
    " 'When Tom and James went to the park, Tom gave the ball to',\n",
    " 'When Dan and Sid went to the shops, Sid gave an apple to',\n",
    " 'When Dan and Sid went to the shops, Dan gave an apple to',\n",
    " 'After Martin and Amy went to the park, Amy gave a drink to',\n",
    " 'After Martin and Amy went to the park, Martin gave a drink to']\n",
    "\n",
    "control_answers = [(' Mary', ' John'),\n",
    " (' John', ' Mary'),\n",
    " (' Tom', ' James'),\n",
    " (' James', ' Tom'),\n",
    " (' Dan', ' Sid'),\n",
    " (' Sid', ' Dan'),\n",
    " (' Martin', ' Amy'),\n",
    " (' Amy', ' Martin')]\n",
    "\n",
    "control_ans_prompts = t.tensor([[ 5335,  1757],\n",
    "        [ 1757,  5335],\n",
    "        [ 4186,  3700],\n",
    "        [ 3700,  4186],\n",
    "        [ 6035, 15686],\n",
    "        [15686,  6035],\n",
    "        [ 5780, 14235],\n",
    "        [14235,  5780]])\n",
    "\n"
   ]
  },
  {
   "cell_type": "code",
   "execution_count": 10,
   "metadata": {},
   "outputs": [
    {
     "name": "stdout",
     "output_type": "stream",
     "text": [
      "torch.Size([20, 15, 50257])\n"
     ]
    },
    {
     "data": {
      "text/plain": [
       "tensor(0.5253)"
      ]
     },
     "execution_count": 10,
     "metadata": {},
     "output_type": "execute_result"
    }
   ],
   "source": [
    "print(model(prompts_n).shape)\n",
    "\n",
    "def ave_logit_diff(prompts, answer_tokens, per_prompt = False):\n",
    "    final_logits = model(prompts)[:,-1,:]\n",
    "    answer_logits = final_logits.gather(dim = -1, index = answer_tokens)\n",
    "    #print(final_logits.shape)\n",
    "    answer_logit_diff = answer_logits[:,0] - answer_logits[:,1]\n",
    "    if per_prompt:\n",
    "        return answer_logit_diff \n",
    "    else:\n",
    "        return answer_logit_diff.mean()\n",
    "\n",
    "ave_logit_diff(prompts_n, ans_toks_n)"
   ]
  },
  {
   "cell_type": "code",
   "execution_count": 11,
   "metadata": {},
   "outputs": [
    {
     "data": {
      "text/plain": [
       "tensor(1.6329)"
      ]
     },
     "execution_count": 11,
     "metadata": {},
     "output_type": "execute_result"
    }
   ],
   "source": [
    "### Is the logit diff for these two names the right metric? \n",
    "\n",
    "### First, try the logit diff between the IO and the average of the actual topk logits for each example prompt \n",
    "\n",
    "\n",
    "def ave_logit_diff_topk(prompts, answer_tokens, k, per_prompt = False):\n",
    "    final_logits = model(prompts)[:,-1,:]\n",
    "    answer_logits = final_logits.gather(dim = -1, index = answer_tokens)[:,0]\n",
    "\n",
    "    sample_logits = model(prompts)[:,-1]\n",
    "    vals, ids = t.topk(sample_logits,k)\n",
    "    topk_avg = vals.mean(dim=-1)\n",
    "\n",
    "    answer_logit_diff = answer_logits - topk_avg\n",
    "    #print(answer_logits, topk_avg)\n",
    "    if per_prompt:\n",
    "        return answer_logit_diff \n",
    "    else:\n",
    "        return answer_logit_diff.mean()\n",
    "\n",
    "ave_logit_diff_topk(prompts_pn, ans_toks_pn,15)\n",
    "\n",
    "\n",
    "\n"
   ]
  },
  {
   "cell_type": "code",
   "execution_count": 12,
   "metadata": {},
   "outputs": [],
   "source": [
    "noun_test = [[k,ave_logit_diff_topk(prompts_n, ans_toks_n,k)] for k in range(25)]\n",
    "\n",
    "pnoun_test = [[k,ave_logit_diff_topk(prompts_pn, ans_toks_pn,k)] for k in range(25)]\n",
    "\n",
    "rel_test = [[k,ave_logit_diff_topk(prompts_rel, ans_toks_rel,k)] for k in range(25)]\n",
    "\n",
    "pl_test = [[k,ave_logit_diff_topk(prompts_pl, ans_toks_pl,k)] for k in range(25)]\n"
   ]
  },
  {
   "cell_type": "code",
   "execution_count": 13,
   "metadata": {},
   "outputs": [],
   "source": [
    "full_test = [[k,ave_logit_diff_topk(prompts_full, ans_toks_full,k)] for k in range(25)]"
   ]
  },
  {
   "attachments": {},
   "cell_type": "markdown",
   "metadata": {},
   "source": [
    "scatter(x= t.tensor(noun_test)[:,0], y = t.tensor(noun_test)[:,1],xaxis = 'k', yaxis = 'topk metric', title = 'Avg logit diff between IO and avg of topk answer logits: nouns')"
   ]
  },
  {
   "cell_type": "code",
   "execution_count": 14,
   "metadata": {},
   "outputs": [
    {
     "data": {
      "text/html": [
       "        <script type=\"text/javascript\">\n",
       "        window.PlotlyConfig = {MathJaxConfig: 'local'};\n",
       "        if (window.MathJax && window.MathJax.Hub && window.MathJax.Hub.Config) {window.MathJax.Hub.Config({SVG: {font: \"STIX-Web\"}});}\n",
       "        if (typeof require !== 'undefined') {\n",
       "        require.undef(\"plotly\");\n",
       "        requirejs.config({\n",
       "            paths: {\n",
       "                'plotly': ['https://cdn.plot.ly/plotly-2.12.1.min']\n",
       "            }\n",
       "        });\n",
       "        require(['plotly'], function(Plotly) {\n",
       "            window._Plotly = Plotly;\n",
       "        });\n",
       "        }\n",
       "        </script>\n",
       "        "
      ]
     },
     "metadata": {},
     "output_type": "display_data"
    },
    {
     "data": {
      "text/html": [
       "<div>                            <div id=\"ea588ad4-afce-4c68-80ce-4a4894a45481\" class=\"plotly-graph-div\" style=\"height:525px; width:100%;\"></div>            <script type=\"text/javascript\">                require([\"plotly\"], function(Plotly) {                    window.PLOTLYENV=window.PLOTLYENV || {};                                    if (document.getElementById(\"ea588ad4-afce-4c68-80ce-4a4894a45481\")) {                    Plotly.newPlot(                        \"ea588ad4-afce-4c68-80ce-4a4894a45481\",                        [{\"hovertemplate\":\"k=%{x}<br>topk metric=%{y}<extra></extra>\",\"legendgroup\":\"\",\"marker\":{\"color\":\"#636efa\",\"symbol\":\"circle\"},\"mode\":\"markers\",\"name\":\"\",\"orientation\":\"v\",\"showlegend\":false,\"x\":[0.0,1.0,2.0,3.0,4.0,5.0,6.0,7.0,8.0,9.0,10.0,11.0,12.0,13.0,14.0,15.0,16.0,17.0,18.0,19.0,20.0,21.0,22.0,23.0,24.0],\"xaxis\":\"x\",\"y\":[null,-2.7067818641662598,-2.176039457321167,-1.8112208843231201,-1.5857349634170532,-1.4217561483383179,-1.2728757858276367,-1.1355183124542236,-1.015104055404663,-0.9045171737670898,-0.7980278730392456,-0.6943554282188416,-0.5990297794342041,-0.507874608039856,-0.42105427384376526,-0.3400424122810364,-0.2650716006755829,-0.19521085917949677,-0.1293828785419464,-0.06795623153448105,-0.009098315611481667,0.046775031834840775,0.10025866329669952,0.1511053740978241,0.19977524876594543],\"yaxis\":\"y\",\"type\":\"scatter\"}],                        {\"template\":{\"data\":{\"histogram2dcontour\":[{\"type\":\"histogram2dcontour\",\"colorbar\":{\"outlinewidth\":0,\"ticks\":\"\"},\"colorscale\":[[0.0,\"#0d0887\"],[0.1111111111111111,\"#46039f\"],[0.2222222222222222,\"#7201a8\"],[0.3333333333333333,\"#9c179e\"],[0.4444444444444444,\"#bd3786\"],[0.5555555555555556,\"#d8576b\"],[0.6666666666666666,\"#ed7953\"],[0.7777777777777778,\"#fb9f3a\"],[0.8888888888888888,\"#fdca26\"],[1.0,\"#f0f921\"]]}],\"choropleth\":[{\"type\":\"choropleth\",\"colorbar\":{\"outlinewidth\":0,\"ticks\":\"\"}}],\"histogram2d\":[{\"type\":\"histogram2d\",\"colorbar\":{\"outlinewidth\":0,\"ticks\":\"\"},\"colorscale\":[[0.0,\"#0d0887\"],[0.1111111111111111,\"#46039f\"],[0.2222222222222222,\"#7201a8\"],[0.3333333333333333,\"#9c179e\"],[0.4444444444444444,\"#bd3786\"],[0.5555555555555556,\"#d8576b\"],[0.6666666666666666,\"#ed7953\"],[0.7777777777777778,\"#fb9f3a\"],[0.8888888888888888,\"#fdca26\"],[1.0,\"#f0f921\"]]}],\"heatmap\":[{\"type\":\"heatmap\",\"colorbar\":{\"outlinewidth\":0,\"ticks\":\"\"},\"colorscale\":[[0.0,\"#0d0887\"],[0.1111111111111111,\"#46039f\"],[0.2222222222222222,\"#7201a8\"],[0.3333333333333333,\"#9c179e\"],[0.4444444444444444,\"#bd3786\"],[0.5555555555555556,\"#d8576b\"],[0.6666666666666666,\"#ed7953\"],[0.7777777777777778,\"#fb9f3a\"],[0.8888888888888888,\"#fdca26\"],[1.0,\"#f0f921\"]]}],\"heatmapgl\":[{\"type\":\"heatmapgl\",\"colorbar\":{\"outlinewidth\":0,\"ticks\":\"\"},\"colorscale\":[[0.0,\"#0d0887\"],[0.1111111111111111,\"#46039f\"],[0.2222222222222222,\"#7201a8\"],[0.3333333333333333,\"#9c179e\"],[0.4444444444444444,\"#bd3786\"],[0.5555555555555556,\"#d8576b\"],[0.6666666666666666,\"#ed7953\"],[0.7777777777777778,\"#fb9f3a\"],[0.8888888888888888,\"#fdca26\"],[1.0,\"#f0f921\"]]}],\"contourcarpet\":[{\"type\":\"contourcarpet\",\"colorbar\":{\"outlinewidth\":0,\"ticks\":\"\"}}],\"contour\":[{\"type\":\"contour\",\"colorbar\":{\"outlinewidth\":0,\"ticks\":\"\"},\"colorscale\":[[0.0,\"#0d0887\"],[0.1111111111111111,\"#46039f\"],[0.2222222222222222,\"#7201a8\"],[0.3333333333333333,\"#9c179e\"],[0.4444444444444444,\"#bd3786\"],[0.5555555555555556,\"#d8576b\"],[0.6666666666666666,\"#ed7953\"],[0.7777777777777778,\"#fb9f3a\"],[0.8888888888888888,\"#fdca26\"],[1.0,\"#f0f921\"]]}],\"surface\":[{\"type\":\"surface\",\"colorbar\":{\"outlinewidth\":0,\"ticks\":\"\"},\"colorscale\":[[0.0,\"#0d0887\"],[0.1111111111111111,\"#46039f\"],[0.2222222222222222,\"#7201a8\"],[0.3333333333333333,\"#9c179e\"],[0.4444444444444444,\"#bd3786\"],[0.5555555555555556,\"#d8576b\"],[0.6666666666666666,\"#ed7953\"],[0.7777777777777778,\"#fb9f3a\"],[0.8888888888888888,\"#fdca26\"],[1.0,\"#f0f921\"]]}],\"mesh3d\":[{\"type\":\"mesh3d\",\"colorbar\":{\"outlinewidth\":0,\"ticks\":\"\"}}],\"scatter\":[{\"fillpattern\":{\"fillmode\":\"overlay\",\"size\":10,\"solidity\":0.2},\"type\":\"scatter\"}],\"parcoords\":[{\"type\":\"parcoords\",\"line\":{\"colorbar\":{\"outlinewidth\":0,\"ticks\":\"\"}}}],\"scatterpolargl\":[{\"type\":\"scatterpolargl\",\"marker\":{\"colorbar\":{\"outlinewidth\":0,\"ticks\":\"\"}}}],\"bar\":[{\"error_x\":{\"color\":\"#2a3f5f\"},\"error_y\":{\"color\":\"#2a3f5f\"},\"marker\":{\"line\":{\"color\":\"#E5ECF6\",\"width\":0.5},\"pattern\":{\"fillmode\":\"overlay\",\"size\":10,\"solidity\":0.2}},\"type\":\"bar\"}],\"scattergeo\":[{\"type\":\"scattergeo\",\"marker\":{\"colorbar\":{\"outlinewidth\":0,\"ticks\":\"\"}}}],\"scatterpolar\":[{\"type\":\"scatterpolar\",\"marker\":{\"colorbar\":{\"outlinewidth\":0,\"ticks\":\"\"}}}],\"histogram\":[{\"marker\":{\"pattern\":{\"fillmode\":\"overlay\",\"size\":10,\"solidity\":0.2}},\"type\":\"histogram\"}],\"scattergl\":[{\"type\":\"scattergl\",\"marker\":{\"colorbar\":{\"outlinewidth\":0,\"ticks\":\"\"}}}],\"scatter3d\":[{\"type\":\"scatter3d\",\"line\":{\"colorbar\":{\"outlinewidth\":0,\"ticks\":\"\"}},\"marker\":{\"colorbar\":{\"outlinewidth\":0,\"ticks\":\"\"}}}],\"scattermapbox\":[{\"type\":\"scattermapbox\",\"marker\":{\"colorbar\":{\"outlinewidth\":0,\"ticks\":\"\"}}}],\"scatterternary\":[{\"type\":\"scatterternary\",\"marker\":{\"colorbar\":{\"outlinewidth\":0,\"ticks\":\"\"}}}],\"scattercarpet\":[{\"type\":\"scattercarpet\",\"marker\":{\"colorbar\":{\"outlinewidth\":0,\"ticks\":\"\"}}}],\"carpet\":[{\"aaxis\":{\"endlinecolor\":\"#2a3f5f\",\"gridcolor\":\"white\",\"linecolor\":\"white\",\"minorgridcolor\":\"white\",\"startlinecolor\":\"#2a3f5f\"},\"baxis\":{\"endlinecolor\":\"#2a3f5f\",\"gridcolor\":\"white\",\"linecolor\":\"white\",\"minorgridcolor\":\"white\",\"startlinecolor\":\"#2a3f5f\"},\"type\":\"carpet\"}],\"table\":[{\"cells\":{\"fill\":{\"color\":\"#EBF0F8\"},\"line\":{\"color\":\"white\"}},\"header\":{\"fill\":{\"color\":\"#C8D4E3\"},\"line\":{\"color\":\"white\"}},\"type\":\"table\"}],\"barpolar\":[{\"marker\":{\"line\":{\"color\":\"#E5ECF6\",\"width\":0.5},\"pattern\":{\"fillmode\":\"overlay\",\"size\":10,\"solidity\":0.2}},\"type\":\"barpolar\"}],\"pie\":[{\"automargin\":true,\"type\":\"pie\"}]},\"layout\":{\"autotypenumbers\":\"strict\",\"colorway\":[\"#636efa\",\"#EF553B\",\"#00cc96\",\"#ab63fa\",\"#FFA15A\",\"#19d3f3\",\"#FF6692\",\"#B6E880\",\"#FF97FF\",\"#FECB52\"],\"font\":{\"color\":\"#2a3f5f\"},\"hovermode\":\"closest\",\"hoverlabel\":{\"align\":\"left\"},\"paper_bgcolor\":\"white\",\"plot_bgcolor\":\"#E5ECF6\",\"polar\":{\"bgcolor\":\"#E5ECF6\",\"angularaxis\":{\"gridcolor\":\"white\",\"linecolor\":\"white\",\"ticks\":\"\"},\"radialaxis\":{\"gridcolor\":\"white\",\"linecolor\":\"white\",\"ticks\":\"\"}},\"ternary\":{\"bgcolor\":\"#E5ECF6\",\"aaxis\":{\"gridcolor\":\"white\",\"linecolor\":\"white\",\"ticks\":\"\"},\"baxis\":{\"gridcolor\":\"white\",\"linecolor\":\"white\",\"ticks\":\"\"},\"caxis\":{\"gridcolor\":\"white\",\"linecolor\":\"white\",\"ticks\":\"\"}},\"coloraxis\":{\"colorbar\":{\"outlinewidth\":0,\"ticks\":\"\"}},\"colorscale\":{\"sequential\":[[0.0,\"#0d0887\"],[0.1111111111111111,\"#46039f\"],[0.2222222222222222,\"#7201a8\"],[0.3333333333333333,\"#9c179e\"],[0.4444444444444444,\"#bd3786\"],[0.5555555555555556,\"#d8576b\"],[0.6666666666666666,\"#ed7953\"],[0.7777777777777778,\"#fb9f3a\"],[0.8888888888888888,\"#fdca26\"],[1.0,\"#f0f921\"]],\"sequentialminus\":[[0.0,\"#0d0887\"],[0.1111111111111111,\"#46039f\"],[0.2222222222222222,\"#7201a8\"],[0.3333333333333333,\"#9c179e\"],[0.4444444444444444,\"#bd3786\"],[0.5555555555555556,\"#d8576b\"],[0.6666666666666666,\"#ed7953\"],[0.7777777777777778,\"#fb9f3a\"],[0.8888888888888888,\"#fdca26\"],[1.0,\"#f0f921\"]],\"diverging\":[[0,\"#8e0152\"],[0.1,\"#c51b7d\"],[0.2,\"#de77ae\"],[0.3,\"#f1b6da\"],[0.4,\"#fde0ef\"],[0.5,\"#f7f7f7\"],[0.6,\"#e6f5d0\"],[0.7,\"#b8e186\"],[0.8,\"#7fbc41\"],[0.9,\"#4d9221\"],[1,\"#276419\"]]},\"xaxis\":{\"gridcolor\":\"white\",\"linecolor\":\"white\",\"ticks\":\"\",\"title\":{\"standoff\":15},\"zerolinecolor\":\"white\",\"automargin\":true,\"zerolinewidth\":2},\"yaxis\":{\"gridcolor\":\"white\",\"linecolor\":\"white\",\"ticks\":\"\",\"title\":{\"standoff\":15},\"zerolinecolor\":\"white\",\"automargin\":true,\"zerolinewidth\":2},\"scene\":{\"xaxis\":{\"backgroundcolor\":\"#E5ECF6\",\"gridcolor\":\"white\",\"linecolor\":\"white\",\"showbackground\":true,\"ticks\":\"\",\"zerolinecolor\":\"white\",\"gridwidth\":2},\"yaxis\":{\"backgroundcolor\":\"#E5ECF6\",\"gridcolor\":\"white\",\"linecolor\":\"white\",\"showbackground\":true,\"ticks\":\"\",\"zerolinecolor\":\"white\",\"gridwidth\":2},\"zaxis\":{\"backgroundcolor\":\"#E5ECF6\",\"gridcolor\":\"white\",\"linecolor\":\"white\",\"showbackground\":true,\"ticks\":\"\",\"zerolinecolor\":\"white\",\"gridwidth\":2}},\"shapedefaults\":{\"line\":{\"color\":\"#2a3f5f\"}},\"annotationdefaults\":{\"arrowcolor\":\"#2a3f5f\",\"arrowhead\":0,\"arrowwidth\":1},\"geo\":{\"bgcolor\":\"white\",\"landcolor\":\"#E5ECF6\",\"subunitcolor\":\"white\",\"showland\":true,\"showlakes\":true,\"lakecolor\":\"white\"},\"title\":{\"x\":0.05},\"mapbox\":{\"style\":\"light\"}}},\"xaxis\":{\"anchor\":\"y\",\"domain\":[0.0,1.0],\"title\":{\"text\":\"k\"}},\"yaxis\":{\"anchor\":\"x\",\"domain\":[0.0,1.0],\"title\":{\"text\":\"topk metric\"}},\"legend\":{\"tracegroupgap\":0},\"title\":{\"text\":\"Avg logit diff between IO and avg of topk answer logits: nouns\"}},                        {\"responsive\": true}                    ).then(function(){\n",
       "                            \n",
       "var gd = document.getElementById('ea588ad4-afce-4c68-80ce-4a4894a45481');\n",
       "var x = new MutationObserver(function (mutations, observer) {{\n",
       "        var display = window.getComputedStyle(gd).display;\n",
       "        if (!display || display === 'none') {{\n",
       "            console.log([gd, 'removed!']);\n",
       "            Plotly.purge(gd);\n",
       "            observer.disconnect();\n",
       "        }}\n",
       "}});\n",
       "\n",
       "// Listen for the removal of the full notebook cells\n",
       "var notebookContainer = gd.closest('#notebook-container');\n",
       "if (notebookContainer) {{\n",
       "    x.observe(notebookContainer, {childList: true});\n",
       "}}\n",
       "\n",
       "// Listen for the clearing of the current output cell\n",
       "var outputEl = gd.closest('.output');\n",
       "if (outputEl) {{\n",
       "    x.observe(outputEl, {childList: true});\n",
       "}}\n",
       "\n",
       "                        })                };                });            </script>        </div>"
      ]
     },
     "metadata": {},
     "output_type": "display_data"
    },
    {
     "data": {
      "text/html": [
       "<div>                            <div id=\"acd65474-855a-4160-880a-203e8cf943b5\" class=\"plotly-graph-div\" style=\"height:525px; width:100%;\"></div>            <script type=\"text/javascript\">                require([\"plotly\"], function(Plotly) {                    window.PLOTLYENV=window.PLOTLYENV || {};                                    if (document.getElementById(\"acd65474-855a-4160-880a-203e8cf943b5\")) {                    Plotly.newPlot(                        \"acd65474-855a-4160-880a-203e8cf943b5\",                        [{\"hovertemplate\":\"k=%{x}<br>topk metric=%{y}<extra></extra>\",\"legendgroup\":\"\",\"marker\":{\"color\":\"#636efa\",\"symbol\":\"circle\"},\"mode\":\"markers\",\"name\":\"\",\"orientation\":\"v\",\"showlegend\":false,\"x\":[0.0,1.0,2.0,3.0,4.0,5.0,6.0,7.0,8.0,9.0,10.0,11.0,12.0,13.0,14.0,15.0,16.0,17.0,18.0,19.0,20.0,21.0,22.0,23.0,24.0],\"xaxis\":\"x\",\"y\":[null,-0.8381921648979187,-0.4652443826198578,-0.19026899337768555,0.04942832142114639,0.257413774728775,0.4554978311061859,0.6486354470252991,0.8174890279769897,0.9633235931396484,1.0992532968521118,1.2241039276123047,1.3377275466918945,1.4426714181900024,1.5402193069458008,1.6329481601715088,1.719388723373413,1.8006242513656616,1.8762394189834595,1.9487054347991943,2.01542329788208,2.078303813934326,2.1379995346069336,2.194856643676758,2.2491977214813232],\"yaxis\":\"y\",\"type\":\"scatter\"}],                        {\"template\":{\"data\":{\"histogram2dcontour\":[{\"type\":\"histogram2dcontour\",\"colorbar\":{\"outlinewidth\":0,\"ticks\":\"\"},\"colorscale\":[[0.0,\"#0d0887\"],[0.1111111111111111,\"#46039f\"],[0.2222222222222222,\"#7201a8\"],[0.3333333333333333,\"#9c179e\"],[0.4444444444444444,\"#bd3786\"],[0.5555555555555556,\"#d8576b\"],[0.6666666666666666,\"#ed7953\"],[0.7777777777777778,\"#fb9f3a\"],[0.8888888888888888,\"#fdca26\"],[1.0,\"#f0f921\"]]}],\"choropleth\":[{\"type\":\"choropleth\",\"colorbar\":{\"outlinewidth\":0,\"ticks\":\"\"}}],\"histogram2d\":[{\"type\":\"histogram2d\",\"colorbar\":{\"outlinewidth\":0,\"ticks\":\"\"},\"colorscale\":[[0.0,\"#0d0887\"],[0.1111111111111111,\"#46039f\"],[0.2222222222222222,\"#7201a8\"],[0.3333333333333333,\"#9c179e\"],[0.4444444444444444,\"#bd3786\"],[0.5555555555555556,\"#d8576b\"],[0.6666666666666666,\"#ed7953\"],[0.7777777777777778,\"#fb9f3a\"],[0.8888888888888888,\"#fdca26\"],[1.0,\"#f0f921\"]]}],\"heatmap\":[{\"type\":\"heatmap\",\"colorbar\":{\"outlinewidth\":0,\"ticks\":\"\"},\"colorscale\":[[0.0,\"#0d0887\"],[0.1111111111111111,\"#46039f\"],[0.2222222222222222,\"#7201a8\"],[0.3333333333333333,\"#9c179e\"],[0.4444444444444444,\"#bd3786\"],[0.5555555555555556,\"#d8576b\"],[0.6666666666666666,\"#ed7953\"],[0.7777777777777778,\"#fb9f3a\"],[0.8888888888888888,\"#fdca26\"],[1.0,\"#f0f921\"]]}],\"heatmapgl\":[{\"type\":\"heatmapgl\",\"colorbar\":{\"outlinewidth\":0,\"ticks\":\"\"},\"colorscale\":[[0.0,\"#0d0887\"],[0.1111111111111111,\"#46039f\"],[0.2222222222222222,\"#7201a8\"],[0.3333333333333333,\"#9c179e\"],[0.4444444444444444,\"#bd3786\"],[0.5555555555555556,\"#d8576b\"],[0.6666666666666666,\"#ed7953\"],[0.7777777777777778,\"#fb9f3a\"],[0.8888888888888888,\"#fdca26\"],[1.0,\"#f0f921\"]]}],\"contourcarpet\":[{\"type\":\"contourcarpet\",\"colorbar\":{\"outlinewidth\":0,\"ticks\":\"\"}}],\"contour\":[{\"type\":\"contour\",\"colorbar\":{\"outlinewidth\":0,\"ticks\":\"\"},\"colorscale\":[[0.0,\"#0d0887\"],[0.1111111111111111,\"#46039f\"],[0.2222222222222222,\"#7201a8\"],[0.3333333333333333,\"#9c179e\"],[0.4444444444444444,\"#bd3786\"],[0.5555555555555556,\"#d8576b\"],[0.6666666666666666,\"#ed7953\"],[0.7777777777777778,\"#fb9f3a\"],[0.8888888888888888,\"#fdca26\"],[1.0,\"#f0f921\"]]}],\"surface\":[{\"type\":\"surface\",\"colorbar\":{\"outlinewidth\":0,\"ticks\":\"\"},\"colorscale\":[[0.0,\"#0d0887\"],[0.1111111111111111,\"#46039f\"],[0.2222222222222222,\"#7201a8\"],[0.3333333333333333,\"#9c179e\"],[0.4444444444444444,\"#bd3786\"],[0.5555555555555556,\"#d8576b\"],[0.6666666666666666,\"#ed7953\"],[0.7777777777777778,\"#fb9f3a\"],[0.8888888888888888,\"#fdca26\"],[1.0,\"#f0f921\"]]}],\"mesh3d\":[{\"type\":\"mesh3d\",\"colorbar\":{\"outlinewidth\":0,\"ticks\":\"\"}}],\"scatter\":[{\"fillpattern\":{\"fillmode\":\"overlay\",\"size\":10,\"solidity\":0.2},\"type\":\"scatter\"}],\"parcoords\":[{\"type\":\"parcoords\",\"line\":{\"colorbar\":{\"outlinewidth\":0,\"ticks\":\"\"}}}],\"scatterpolargl\":[{\"type\":\"scatterpolargl\",\"marker\":{\"colorbar\":{\"outlinewidth\":0,\"ticks\":\"\"}}}],\"bar\":[{\"error_x\":{\"color\":\"#2a3f5f\"},\"error_y\":{\"color\":\"#2a3f5f\"},\"marker\":{\"line\":{\"color\":\"#E5ECF6\",\"width\":0.5},\"pattern\":{\"fillmode\":\"overlay\",\"size\":10,\"solidity\":0.2}},\"type\":\"bar\"}],\"scattergeo\":[{\"type\":\"scattergeo\",\"marker\":{\"colorbar\":{\"outlinewidth\":0,\"ticks\":\"\"}}}],\"scatterpolar\":[{\"type\":\"scatterpolar\",\"marker\":{\"colorbar\":{\"outlinewidth\":0,\"ticks\":\"\"}}}],\"histogram\":[{\"marker\":{\"pattern\":{\"fillmode\":\"overlay\",\"size\":10,\"solidity\":0.2}},\"type\":\"histogram\"}],\"scattergl\":[{\"type\":\"scattergl\",\"marker\":{\"colorbar\":{\"outlinewidth\":0,\"ticks\":\"\"}}}],\"scatter3d\":[{\"type\":\"scatter3d\",\"line\":{\"colorbar\":{\"outlinewidth\":0,\"ticks\":\"\"}},\"marker\":{\"colorbar\":{\"outlinewidth\":0,\"ticks\":\"\"}}}],\"scattermapbox\":[{\"type\":\"scattermapbox\",\"marker\":{\"colorbar\":{\"outlinewidth\":0,\"ticks\":\"\"}}}],\"scatterternary\":[{\"type\":\"scatterternary\",\"marker\":{\"colorbar\":{\"outlinewidth\":0,\"ticks\":\"\"}}}],\"scattercarpet\":[{\"type\":\"scattercarpet\",\"marker\":{\"colorbar\":{\"outlinewidth\":0,\"ticks\":\"\"}}}],\"carpet\":[{\"aaxis\":{\"endlinecolor\":\"#2a3f5f\",\"gridcolor\":\"white\",\"linecolor\":\"white\",\"minorgridcolor\":\"white\",\"startlinecolor\":\"#2a3f5f\"},\"baxis\":{\"endlinecolor\":\"#2a3f5f\",\"gridcolor\":\"white\",\"linecolor\":\"white\",\"minorgridcolor\":\"white\",\"startlinecolor\":\"#2a3f5f\"},\"type\":\"carpet\"}],\"table\":[{\"cells\":{\"fill\":{\"color\":\"#EBF0F8\"},\"line\":{\"color\":\"white\"}},\"header\":{\"fill\":{\"color\":\"#C8D4E3\"},\"line\":{\"color\":\"white\"}},\"type\":\"table\"}],\"barpolar\":[{\"marker\":{\"line\":{\"color\":\"#E5ECF6\",\"width\":0.5},\"pattern\":{\"fillmode\":\"overlay\",\"size\":10,\"solidity\":0.2}},\"type\":\"barpolar\"}],\"pie\":[{\"automargin\":true,\"type\":\"pie\"}]},\"layout\":{\"autotypenumbers\":\"strict\",\"colorway\":[\"#636efa\",\"#EF553B\",\"#00cc96\",\"#ab63fa\",\"#FFA15A\",\"#19d3f3\",\"#FF6692\",\"#B6E880\",\"#FF97FF\",\"#FECB52\"],\"font\":{\"color\":\"#2a3f5f\"},\"hovermode\":\"closest\",\"hoverlabel\":{\"align\":\"left\"},\"paper_bgcolor\":\"white\",\"plot_bgcolor\":\"#E5ECF6\",\"polar\":{\"bgcolor\":\"#E5ECF6\",\"angularaxis\":{\"gridcolor\":\"white\",\"linecolor\":\"white\",\"ticks\":\"\"},\"radialaxis\":{\"gridcolor\":\"white\",\"linecolor\":\"white\",\"ticks\":\"\"}},\"ternary\":{\"bgcolor\":\"#E5ECF6\",\"aaxis\":{\"gridcolor\":\"white\",\"linecolor\":\"white\",\"ticks\":\"\"},\"baxis\":{\"gridcolor\":\"white\",\"linecolor\":\"white\",\"ticks\":\"\"},\"caxis\":{\"gridcolor\":\"white\",\"linecolor\":\"white\",\"ticks\":\"\"}},\"coloraxis\":{\"colorbar\":{\"outlinewidth\":0,\"ticks\":\"\"}},\"colorscale\":{\"sequential\":[[0.0,\"#0d0887\"],[0.1111111111111111,\"#46039f\"],[0.2222222222222222,\"#7201a8\"],[0.3333333333333333,\"#9c179e\"],[0.4444444444444444,\"#bd3786\"],[0.5555555555555556,\"#d8576b\"],[0.6666666666666666,\"#ed7953\"],[0.7777777777777778,\"#fb9f3a\"],[0.8888888888888888,\"#fdca26\"],[1.0,\"#f0f921\"]],\"sequentialminus\":[[0.0,\"#0d0887\"],[0.1111111111111111,\"#46039f\"],[0.2222222222222222,\"#7201a8\"],[0.3333333333333333,\"#9c179e\"],[0.4444444444444444,\"#bd3786\"],[0.5555555555555556,\"#d8576b\"],[0.6666666666666666,\"#ed7953\"],[0.7777777777777778,\"#fb9f3a\"],[0.8888888888888888,\"#fdca26\"],[1.0,\"#f0f921\"]],\"diverging\":[[0,\"#8e0152\"],[0.1,\"#c51b7d\"],[0.2,\"#de77ae\"],[0.3,\"#f1b6da\"],[0.4,\"#fde0ef\"],[0.5,\"#f7f7f7\"],[0.6,\"#e6f5d0\"],[0.7,\"#b8e186\"],[0.8,\"#7fbc41\"],[0.9,\"#4d9221\"],[1,\"#276419\"]]},\"xaxis\":{\"gridcolor\":\"white\",\"linecolor\":\"white\",\"ticks\":\"\",\"title\":{\"standoff\":15},\"zerolinecolor\":\"white\",\"automargin\":true,\"zerolinewidth\":2},\"yaxis\":{\"gridcolor\":\"white\",\"linecolor\":\"white\",\"ticks\":\"\",\"title\":{\"standoff\":15},\"zerolinecolor\":\"white\",\"automargin\":true,\"zerolinewidth\":2},\"scene\":{\"xaxis\":{\"backgroundcolor\":\"#E5ECF6\",\"gridcolor\":\"white\",\"linecolor\":\"white\",\"showbackground\":true,\"ticks\":\"\",\"zerolinecolor\":\"white\",\"gridwidth\":2},\"yaxis\":{\"backgroundcolor\":\"#E5ECF6\",\"gridcolor\":\"white\",\"linecolor\":\"white\",\"showbackground\":true,\"ticks\":\"\",\"zerolinecolor\":\"white\",\"gridwidth\":2},\"zaxis\":{\"backgroundcolor\":\"#E5ECF6\",\"gridcolor\":\"white\",\"linecolor\":\"white\",\"showbackground\":true,\"ticks\":\"\",\"zerolinecolor\":\"white\",\"gridwidth\":2}},\"shapedefaults\":{\"line\":{\"color\":\"#2a3f5f\"}},\"annotationdefaults\":{\"arrowcolor\":\"#2a3f5f\",\"arrowhead\":0,\"arrowwidth\":1},\"geo\":{\"bgcolor\":\"white\",\"landcolor\":\"#E5ECF6\",\"subunitcolor\":\"white\",\"showland\":true,\"showlakes\":true,\"lakecolor\":\"white\"},\"title\":{\"x\":0.05},\"mapbox\":{\"style\":\"light\"}}},\"xaxis\":{\"anchor\":\"y\",\"domain\":[0.0,1.0],\"title\":{\"text\":\"k\"}},\"yaxis\":{\"anchor\":\"x\",\"domain\":[0.0,1.0],\"title\":{\"text\":\"topk metric\"}},\"legend\":{\"tracegroupgap\":0},\"title\":{\"text\":\"Avg logit diff between IO and avg of topk answer logits: pnouns\"}},                        {\"responsive\": true}                    ).then(function(){\n",
       "                            \n",
       "var gd = document.getElementById('acd65474-855a-4160-880a-203e8cf943b5');\n",
       "var x = new MutationObserver(function (mutations, observer) {{\n",
       "        var display = window.getComputedStyle(gd).display;\n",
       "        if (!display || display === 'none') {{\n",
       "            console.log([gd, 'removed!']);\n",
       "            Plotly.purge(gd);\n",
       "            observer.disconnect();\n",
       "        }}\n",
       "}});\n",
       "\n",
       "// Listen for the removal of the full notebook cells\n",
       "var notebookContainer = gd.closest('#notebook-container');\n",
       "if (notebookContainer) {{\n",
       "    x.observe(notebookContainer, {childList: true});\n",
       "}}\n",
       "\n",
       "// Listen for the clearing of the current output cell\n",
       "var outputEl = gd.closest('.output');\n",
       "if (outputEl) {{\n",
       "    x.observe(outputEl, {childList: true});\n",
       "}}\n",
       "\n",
       "                        })                };                });            </script>        </div>"
      ]
     },
     "metadata": {},
     "output_type": "display_data"
    },
    {
     "data": {
      "text/html": [
       "<div>                            <div id=\"e1ee5d74-eb3f-4d24-b239-b5cdeeb5be7f\" class=\"plotly-graph-div\" style=\"height:525px; width:100%;\"></div>            <script type=\"text/javascript\">                require([\"plotly\"], function(Plotly) {                    window.PLOTLYENV=window.PLOTLYENV || {};                                    if (document.getElementById(\"e1ee5d74-eb3f-4d24-b239-b5cdeeb5be7f\")) {                    Plotly.newPlot(                        \"e1ee5d74-eb3f-4d24-b239-b5cdeeb5be7f\",                        [{\"hovertemplate\":\"k=%{x}<br>topk metric=%{y}<extra></extra>\",\"legendgroup\":\"\",\"marker\":{\"color\":\"#636efa\",\"symbol\":\"circle\"},\"mode\":\"markers\",\"name\":\"\",\"orientation\":\"v\",\"showlegend\":false,\"x\":[0.0,1.0,2.0,3.0,4.0,5.0,6.0,7.0,8.0,9.0,10.0,11.0,12.0,13.0,14.0,15.0,16.0,17.0,18.0,19.0,20.0,21.0,22.0,23.0,24.0],\"xaxis\":\"x\",\"y\":[null,0.0,1.0443768501281738,1.4922943115234375,1.8425172567367554,2.1645665168762207,2.456178665161133,2.6858789920806885,2.8929450511932373,3.0885517597198486,3.262845993041992,3.4213433265686035,3.5642848014831543,3.6962122917175293,3.8171982765197754,3.930666446685791,4.03623628616333,4.136127471923828,4.229100704193115,4.316773414611816,4.399281024932861,4.477259159088135,4.551132678985596,4.61995267868042,4.685305118560791],\"yaxis\":\"y\",\"type\":\"scatter\"}],                        {\"template\":{\"data\":{\"histogram2dcontour\":[{\"type\":\"histogram2dcontour\",\"colorbar\":{\"outlinewidth\":0,\"ticks\":\"\"},\"colorscale\":[[0.0,\"#0d0887\"],[0.1111111111111111,\"#46039f\"],[0.2222222222222222,\"#7201a8\"],[0.3333333333333333,\"#9c179e\"],[0.4444444444444444,\"#bd3786\"],[0.5555555555555556,\"#d8576b\"],[0.6666666666666666,\"#ed7953\"],[0.7777777777777778,\"#fb9f3a\"],[0.8888888888888888,\"#fdca26\"],[1.0,\"#f0f921\"]]}],\"choropleth\":[{\"type\":\"choropleth\",\"colorbar\":{\"outlinewidth\":0,\"ticks\":\"\"}}],\"histogram2d\":[{\"type\":\"histogram2d\",\"colorbar\":{\"outlinewidth\":0,\"ticks\":\"\"},\"colorscale\":[[0.0,\"#0d0887\"],[0.1111111111111111,\"#46039f\"],[0.2222222222222222,\"#7201a8\"],[0.3333333333333333,\"#9c179e\"],[0.4444444444444444,\"#bd3786\"],[0.5555555555555556,\"#d8576b\"],[0.6666666666666666,\"#ed7953\"],[0.7777777777777778,\"#fb9f3a\"],[0.8888888888888888,\"#fdca26\"],[1.0,\"#f0f921\"]]}],\"heatmap\":[{\"type\":\"heatmap\",\"colorbar\":{\"outlinewidth\":0,\"ticks\":\"\"},\"colorscale\":[[0.0,\"#0d0887\"],[0.1111111111111111,\"#46039f\"],[0.2222222222222222,\"#7201a8\"],[0.3333333333333333,\"#9c179e\"],[0.4444444444444444,\"#bd3786\"],[0.5555555555555556,\"#d8576b\"],[0.6666666666666666,\"#ed7953\"],[0.7777777777777778,\"#fb9f3a\"],[0.8888888888888888,\"#fdca26\"],[1.0,\"#f0f921\"]]}],\"heatmapgl\":[{\"type\":\"heatmapgl\",\"colorbar\":{\"outlinewidth\":0,\"ticks\":\"\"},\"colorscale\":[[0.0,\"#0d0887\"],[0.1111111111111111,\"#46039f\"],[0.2222222222222222,\"#7201a8\"],[0.3333333333333333,\"#9c179e\"],[0.4444444444444444,\"#bd3786\"],[0.5555555555555556,\"#d8576b\"],[0.6666666666666666,\"#ed7953\"],[0.7777777777777778,\"#fb9f3a\"],[0.8888888888888888,\"#fdca26\"],[1.0,\"#f0f921\"]]}],\"contourcarpet\":[{\"type\":\"contourcarpet\",\"colorbar\":{\"outlinewidth\":0,\"ticks\":\"\"}}],\"contour\":[{\"type\":\"contour\",\"colorbar\":{\"outlinewidth\":0,\"ticks\":\"\"},\"colorscale\":[[0.0,\"#0d0887\"],[0.1111111111111111,\"#46039f\"],[0.2222222222222222,\"#7201a8\"],[0.3333333333333333,\"#9c179e\"],[0.4444444444444444,\"#bd3786\"],[0.5555555555555556,\"#d8576b\"],[0.6666666666666666,\"#ed7953\"],[0.7777777777777778,\"#fb9f3a\"],[0.8888888888888888,\"#fdca26\"],[1.0,\"#f0f921\"]]}],\"surface\":[{\"type\":\"surface\",\"colorbar\":{\"outlinewidth\":0,\"ticks\":\"\"},\"colorscale\":[[0.0,\"#0d0887\"],[0.1111111111111111,\"#46039f\"],[0.2222222222222222,\"#7201a8\"],[0.3333333333333333,\"#9c179e\"],[0.4444444444444444,\"#bd3786\"],[0.5555555555555556,\"#d8576b\"],[0.6666666666666666,\"#ed7953\"],[0.7777777777777778,\"#fb9f3a\"],[0.8888888888888888,\"#fdca26\"],[1.0,\"#f0f921\"]]}],\"mesh3d\":[{\"type\":\"mesh3d\",\"colorbar\":{\"outlinewidth\":0,\"ticks\":\"\"}}],\"scatter\":[{\"fillpattern\":{\"fillmode\":\"overlay\",\"size\":10,\"solidity\":0.2},\"type\":\"scatter\"}],\"parcoords\":[{\"type\":\"parcoords\",\"line\":{\"colorbar\":{\"outlinewidth\":0,\"ticks\":\"\"}}}],\"scatterpolargl\":[{\"type\":\"scatterpolargl\",\"marker\":{\"colorbar\":{\"outlinewidth\":0,\"ticks\":\"\"}}}],\"bar\":[{\"error_x\":{\"color\":\"#2a3f5f\"},\"error_y\":{\"color\":\"#2a3f5f\"},\"marker\":{\"line\":{\"color\":\"#E5ECF6\",\"width\":0.5},\"pattern\":{\"fillmode\":\"overlay\",\"size\":10,\"solidity\":0.2}},\"type\":\"bar\"}],\"scattergeo\":[{\"type\":\"scattergeo\",\"marker\":{\"colorbar\":{\"outlinewidth\":0,\"ticks\":\"\"}}}],\"scatterpolar\":[{\"type\":\"scatterpolar\",\"marker\":{\"colorbar\":{\"outlinewidth\":0,\"ticks\":\"\"}}}],\"histogram\":[{\"marker\":{\"pattern\":{\"fillmode\":\"overlay\",\"size\":10,\"solidity\":0.2}},\"type\":\"histogram\"}],\"scattergl\":[{\"type\":\"scattergl\",\"marker\":{\"colorbar\":{\"outlinewidth\":0,\"ticks\":\"\"}}}],\"scatter3d\":[{\"type\":\"scatter3d\",\"line\":{\"colorbar\":{\"outlinewidth\":0,\"ticks\":\"\"}},\"marker\":{\"colorbar\":{\"outlinewidth\":0,\"ticks\":\"\"}}}],\"scattermapbox\":[{\"type\":\"scattermapbox\",\"marker\":{\"colorbar\":{\"outlinewidth\":0,\"ticks\":\"\"}}}],\"scatterternary\":[{\"type\":\"scatterternary\",\"marker\":{\"colorbar\":{\"outlinewidth\":0,\"ticks\":\"\"}}}],\"scattercarpet\":[{\"type\":\"scattercarpet\",\"marker\":{\"colorbar\":{\"outlinewidth\":0,\"ticks\":\"\"}}}],\"carpet\":[{\"aaxis\":{\"endlinecolor\":\"#2a3f5f\",\"gridcolor\":\"white\",\"linecolor\":\"white\",\"minorgridcolor\":\"white\",\"startlinecolor\":\"#2a3f5f\"},\"baxis\":{\"endlinecolor\":\"#2a3f5f\",\"gridcolor\":\"white\",\"linecolor\":\"white\",\"minorgridcolor\":\"white\",\"startlinecolor\":\"#2a3f5f\"},\"type\":\"carpet\"}],\"table\":[{\"cells\":{\"fill\":{\"color\":\"#EBF0F8\"},\"line\":{\"color\":\"white\"}},\"header\":{\"fill\":{\"color\":\"#C8D4E3\"},\"line\":{\"color\":\"white\"}},\"type\":\"table\"}],\"barpolar\":[{\"marker\":{\"line\":{\"color\":\"#E5ECF6\",\"width\":0.5},\"pattern\":{\"fillmode\":\"overlay\",\"size\":10,\"solidity\":0.2}},\"type\":\"barpolar\"}],\"pie\":[{\"automargin\":true,\"type\":\"pie\"}]},\"layout\":{\"autotypenumbers\":\"strict\",\"colorway\":[\"#636efa\",\"#EF553B\",\"#00cc96\",\"#ab63fa\",\"#FFA15A\",\"#19d3f3\",\"#FF6692\",\"#B6E880\",\"#FF97FF\",\"#FECB52\"],\"font\":{\"color\":\"#2a3f5f\"},\"hovermode\":\"closest\",\"hoverlabel\":{\"align\":\"left\"},\"paper_bgcolor\":\"white\",\"plot_bgcolor\":\"#E5ECF6\",\"polar\":{\"bgcolor\":\"#E5ECF6\",\"angularaxis\":{\"gridcolor\":\"white\",\"linecolor\":\"white\",\"ticks\":\"\"},\"radialaxis\":{\"gridcolor\":\"white\",\"linecolor\":\"white\",\"ticks\":\"\"}},\"ternary\":{\"bgcolor\":\"#E5ECF6\",\"aaxis\":{\"gridcolor\":\"white\",\"linecolor\":\"white\",\"ticks\":\"\"},\"baxis\":{\"gridcolor\":\"white\",\"linecolor\":\"white\",\"ticks\":\"\"},\"caxis\":{\"gridcolor\":\"white\",\"linecolor\":\"white\",\"ticks\":\"\"}},\"coloraxis\":{\"colorbar\":{\"outlinewidth\":0,\"ticks\":\"\"}},\"colorscale\":{\"sequential\":[[0.0,\"#0d0887\"],[0.1111111111111111,\"#46039f\"],[0.2222222222222222,\"#7201a8\"],[0.3333333333333333,\"#9c179e\"],[0.4444444444444444,\"#bd3786\"],[0.5555555555555556,\"#d8576b\"],[0.6666666666666666,\"#ed7953\"],[0.7777777777777778,\"#fb9f3a\"],[0.8888888888888888,\"#fdca26\"],[1.0,\"#f0f921\"]],\"sequentialminus\":[[0.0,\"#0d0887\"],[0.1111111111111111,\"#46039f\"],[0.2222222222222222,\"#7201a8\"],[0.3333333333333333,\"#9c179e\"],[0.4444444444444444,\"#bd3786\"],[0.5555555555555556,\"#d8576b\"],[0.6666666666666666,\"#ed7953\"],[0.7777777777777778,\"#fb9f3a\"],[0.8888888888888888,\"#fdca26\"],[1.0,\"#f0f921\"]],\"diverging\":[[0,\"#8e0152\"],[0.1,\"#c51b7d\"],[0.2,\"#de77ae\"],[0.3,\"#f1b6da\"],[0.4,\"#fde0ef\"],[0.5,\"#f7f7f7\"],[0.6,\"#e6f5d0\"],[0.7,\"#b8e186\"],[0.8,\"#7fbc41\"],[0.9,\"#4d9221\"],[1,\"#276419\"]]},\"xaxis\":{\"gridcolor\":\"white\",\"linecolor\":\"white\",\"ticks\":\"\",\"title\":{\"standoff\":15},\"zerolinecolor\":\"white\",\"automargin\":true,\"zerolinewidth\":2},\"yaxis\":{\"gridcolor\":\"white\",\"linecolor\":\"white\",\"ticks\":\"\",\"title\":{\"standoff\":15},\"zerolinecolor\":\"white\",\"automargin\":true,\"zerolinewidth\":2},\"scene\":{\"xaxis\":{\"backgroundcolor\":\"#E5ECF6\",\"gridcolor\":\"white\",\"linecolor\":\"white\",\"showbackground\":true,\"ticks\":\"\",\"zerolinecolor\":\"white\",\"gridwidth\":2},\"yaxis\":{\"backgroundcolor\":\"#E5ECF6\",\"gridcolor\":\"white\",\"linecolor\":\"white\",\"showbackground\":true,\"ticks\":\"\",\"zerolinecolor\":\"white\",\"gridwidth\":2},\"zaxis\":{\"backgroundcolor\":\"#E5ECF6\",\"gridcolor\":\"white\",\"linecolor\":\"white\",\"showbackground\":true,\"ticks\":\"\",\"zerolinecolor\":\"white\",\"gridwidth\":2}},\"shapedefaults\":{\"line\":{\"color\":\"#2a3f5f\"}},\"annotationdefaults\":{\"arrowcolor\":\"#2a3f5f\",\"arrowhead\":0,\"arrowwidth\":1},\"geo\":{\"bgcolor\":\"white\",\"landcolor\":\"#E5ECF6\",\"subunitcolor\":\"white\",\"showland\":true,\"showlakes\":true,\"lakecolor\":\"white\"},\"title\":{\"x\":0.05},\"mapbox\":{\"style\":\"light\"}}},\"xaxis\":{\"anchor\":\"y\",\"domain\":[0.0,1.0],\"title\":{\"text\":\"k\"}},\"yaxis\":{\"anchor\":\"x\",\"domain\":[0.0,1.0],\"title\":{\"text\":\"topk metric\"}},\"legend\":{\"tracegroupgap\":0},\"title\":{\"text\":\"Avg logit diff between IO and avg of topk answer logits: rel\"}},                        {\"responsive\": true}                    ).then(function(){\n",
       "                            \n",
       "var gd = document.getElementById('e1ee5d74-eb3f-4d24-b239-b5cdeeb5be7f');\n",
       "var x = new MutationObserver(function (mutations, observer) {{\n",
       "        var display = window.getComputedStyle(gd).display;\n",
       "        if (!display || display === 'none') {{\n",
       "            console.log([gd, 'removed!']);\n",
       "            Plotly.purge(gd);\n",
       "            observer.disconnect();\n",
       "        }}\n",
       "}});\n",
       "\n",
       "// Listen for the removal of the full notebook cells\n",
       "var notebookContainer = gd.closest('#notebook-container');\n",
       "if (notebookContainer) {{\n",
       "    x.observe(notebookContainer, {childList: true});\n",
       "}}\n",
       "\n",
       "// Listen for the clearing of the current output cell\n",
       "var outputEl = gd.closest('.output');\n",
       "if (outputEl) {{\n",
       "    x.observe(outputEl, {childList: true});\n",
       "}}\n",
       "\n",
       "                        })                };                });            </script>        </div>"
      ]
     },
     "metadata": {},
     "output_type": "display_data"
    },
    {
     "data": {
      "text/html": [
       "<div>                            <div id=\"779d41c3-b146-4d3f-bb8f-86e3e19078eb\" class=\"plotly-graph-div\" style=\"height:525px; width:100%;\"></div>            <script type=\"text/javascript\">                require([\"plotly\"], function(Plotly) {                    window.PLOTLYENV=window.PLOTLYENV || {};                                    if (document.getElementById(\"779d41c3-b146-4d3f-bb8f-86e3e19078eb\")) {                    Plotly.newPlot(                        \"779d41c3-b146-4d3f-bb8f-86e3e19078eb\",                        [{\"hovertemplate\":\"k=%{x}<br>topk metric=%{y}<extra></extra>\",\"legendgroup\":\"\",\"marker\":{\"color\":\"#636efa\",\"symbol\":\"circle\"},\"mode\":\"markers\",\"name\":\"\",\"orientation\":\"v\",\"showlegend\":false,\"x\":[0.0,1.0,2.0,3.0,4.0,5.0,6.0,7.0,8.0,9.0,10.0,11.0,12.0,13.0,14.0,15.0,16.0,17.0,18.0,19.0,20.0,21.0,22.0,23.0,24.0],\"xaxis\":\"x\",\"y\":[null,-0.7859322428703308,-0.18019261956214905,0.18962006270885468,0.44869279861450195,0.6810670495033264,0.9158493280410767,1.1184089183807373,1.3030998706817627,1.4618295431137085,1.6112229824066162,1.7535308599472046,1.885237455368042,2.00942325592041,2.1241135597229004,2.231455087661743,2.331247091293335,2.4230587482452393,2.508971691131592,2.5893142223358154,2.6654889583587646,2.735842704772949,2.8017237186431885,2.8637211322784424,2.9219295978546143],\"yaxis\":\"y\",\"type\":\"scatter\"}],                        {\"template\":{\"data\":{\"histogram2dcontour\":[{\"type\":\"histogram2dcontour\",\"colorbar\":{\"outlinewidth\":0,\"ticks\":\"\"},\"colorscale\":[[0.0,\"#0d0887\"],[0.1111111111111111,\"#46039f\"],[0.2222222222222222,\"#7201a8\"],[0.3333333333333333,\"#9c179e\"],[0.4444444444444444,\"#bd3786\"],[0.5555555555555556,\"#d8576b\"],[0.6666666666666666,\"#ed7953\"],[0.7777777777777778,\"#fb9f3a\"],[0.8888888888888888,\"#fdca26\"],[1.0,\"#f0f921\"]]}],\"choropleth\":[{\"type\":\"choropleth\",\"colorbar\":{\"outlinewidth\":0,\"ticks\":\"\"}}],\"histogram2d\":[{\"type\":\"histogram2d\",\"colorbar\":{\"outlinewidth\":0,\"ticks\":\"\"},\"colorscale\":[[0.0,\"#0d0887\"],[0.1111111111111111,\"#46039f\"],[0.2222222222222222,\"#7201a8\"],[0.3333333333333333,\"#9c179e\"],[0.4444444444444444,\"#bd3786\"],[0.5555555555555556,\"#d8576b\"],[0.6666666666666666,\"#ed7953\"],[0.7777777777777778,\"#fb9f3a\"],[0.8888888888888888,\"#fdca26\"],[1.0,\"#f0f921\"]]}],\"heatmap\":[{\"type\":\"heatmap\",\"colorbar\":{\"outlinewidth\":0,\"ticks\":\"\"},\"colorscale\":[[0.0,\"#0d0887\"],[0.1111111111111111,\"#46039f\"],[0.2222222222222222,\"#7201a8\"],[0.3333333333333333,\"#9c179e\"],[0.4444444444444444,\"#bd3786\"],[0.5555555555555556,\"#d8576b\"],[0.6666666666666666,\"#ed7953\"],[0.7777777777777778,\"#fb9f3a\"],[0.8888888888888888,\"#fdca26\"],[1.0,\"#f0f921\"]]}],\"heatmapgl\":[{\"type\":\"heatmapgl\",\"colorbar\":{\"outlinewidth\":0,\"ticks\":\"\"},\"colorscale\":[[0.0,\"#0d0887\"],[0.1111111111111111,\"#46039f\"],[0.2222222222222222,\"#7201a8\"],[0.3333333333333333,\"#9c179e\"],[0.4444444444444444,\"#bd3786\"],[0.5555555555555556,\"#d8576b\"],[0.6666666666666666,\"#ed7953\"],[0.7777777777777778,\"#fb9f3a\"],[0.8888888888888888,\"#fdca26\"],[1.0,\"#f0f921\"]]}],\"contourcarpet\":[{\"type\":\"contourcarpet\",\"colorbar\":{\"outlinewidth\":0,\"ticks\":\"\"}}],\"contour\":[{\"type\":\"contour\",\"colorbar\":{\"outlinewidth\":0,\"ticks\":\"\"},\"colorscale\":[[0.0,\"#0d0887\"],[0.1111111111111111,\"#46039f\"],[0.2222222222222222,\"#7201a8\"],[0.3333333333333333,\"#9c179e\"],[0.4444444444444444,\"#bd3786\"],[0.5555555555555556,\"#d8576b\"],[0.6666666666666666,\"#ed7953\"],[0.7777777777777778,\"#fb9f3a\"],[0.8888888888888888,\"#fdca26\"],[1.0,\"#f0f921\"]]}],\"surface\":[{\"type\":\"surface\",\"colorbar\":{\"outlinewidth\":0,\"ticks\":\"\"},\"colorscale\":[[0.0,\"#0d0887\"],[0.1111111111111111,\"#46039f\"],[0.2222222222222222,\"#7201a8\"],[0.3333333333333333,\"#9c179e\"],[0.4444444444444444,\"#bd3786\"],[0.5555555555555556,\"#d8576b\"],[0.6666666666666666,\"#ed7953\"],[0.7777777777777778,\"#fb9f3a\"],[0.8888888888888888,\"#fdca26\"],[1.0,\"#f0f921\"]]}],\"mesh3d\":[{\"type\":\"mesh3d\",\"colorbar\":{\"outlinewidth\":0,\"ticks\":\"\"}}],\"scatter\":[{\"fillpattern\":{\"fillmode\":\"overlay\",\"size\":10,\"solidity\":0.2},\"type\":\"scatter\"}],\"parcoords\":[{\"type\":\"parcoords\",\"line\":{\"colorbar\":{\"outlinewidth\":0,\"ticks\":\"\"}}}],\"scatterpolargl\":[{\"type\":\"scatterpolargl\",\"marker\":{\"colorbar\":{\"outlinewidth\":0,\"ticks\":\"\"}}}],\"bar\":[{\"error_x\":{\"color\":\"#2a3f5f\"},\"error_y\":{\"color\":\"#2a3f5f\"},\"marker\":{\"line\":{\"color\":\"#E5ECF6\",\"width\":0.5},\"pattern\":{\"fillmode\":\"overlay\",\"size\":10,\"solidity\":0.2}},\"type\":\"bar\"}],\"scattergeo\":[{\"type\":\"scattergeo\",\"marker\":{\"colorbar\":{\"outlinewidth\":0,\"ticks\":\"\"}}}],\"scatterpolar\":[{\"type\":\"scatterpolar\",\"marker\":{\"colorbar\":{\"outlinewidth\":0,\"ticks\":\"\"}}}],\"histogram\":[{\"marker\":{\"pattern\":{\"fillmode\":\"overlay\",\"size\":10,\"solidity\":0.2}},\"type\":\"histogram\"}],\"scattergl\":[{\"type\":\"scattergl\",\"marker\":{\"colorbar\":{\"outlinewidth\":0,\"ticks\":\"\"}}}],\"scatter3d\":[{\"type\":\"scatter3d\",\"line\":{\"colorbar\":{\"outlinewidth\":0,\"ticks\":\"\"}},\"marker\":{\"colorbar\":{\"outlinewidth\":0,\"ticks\":\"\"}}}],\"scattermapbox\":[{\"type\":\"scattermapbox\",\"marker\":{\"colorbar\":{\"outlinewidth\":0,\"ticks\":\"\"}}}],\"scatterternary\":[{\"type\":\"scatterternary\",\"marker\":{\"colorbar\":{\"outlinewidth\":0,\"ticks\":\"\"}}}],\"scattercarpet\":[{\"type\":\"scattercarpet\",\"marker\":{\"colorbar\":{\"outlinewidth\":0,\"ticks\":\"\"}}}],\"carpet\":[{\"aaxis\":{\"endlinecolor\":\"#2a3f5f\",\"gridcolor\":\"white\",\"linecolor\":\"white\",\"minorgridcolor\":\"white\",\"startlinecolor\":\"#2a3f5f\"},\"baxis\":{\"endlinecolor\":\"#2a3f5f\",\"gridcolor\":\"white\",\"linecolor\":\"white\",\"minorgridcolor\":\"white\",\"startlinecolor\":\"#2a3f5f\"},\"type\":\"carpet\"}],\"table\":[{\"cells\":{\"fill\":{\"color\":\"#EBF0F8\"},\"line\":{\"color\":\"white\"}},\"header\":{\"fill\":{\"color\":\"#C8D4E3\"},\"line\":{\"color\":\"white\"}},\"type\":\"table\"}],\"barpolar\":[{\"marker\":{\"line\":{\"color\":\"#E5ECF6\",\"width\":0.5},\"pattern\":{\"fillmode\":\"overlay\",\"size\":10,\"solidity\":0.2}},\"type\":\"barpolar\"}],\"pie\":[{\"automargin\":true,\"type\":\"pie\"}]},\"layout\":{\"autotypenumbers\":\"strict\",\"colorway\":[\"#636efa\",\"#EF553B\",\"#00cc96\",\"#ab63fa\",\"#FFA15A\",\"#19d3f3\",\"#FF6692\",\"#B6E880\",\"#FF97FF\",\"#FECB52\"],\"font\":{\"color\":\"#2a3f5f\"},\"hovermode\":\"closest\",\"hoverlabel\":{\"align\":\"left\"},\"paper_bgcolor\":\"white\",\"plot_bgcolor\":\"#E5ECF6\",\"polar\":{\"bgcolor\":\"#E5ECF6\",\"angularaxis\":{\"gridcolor\":\"white\",\"linecolor\":\"white\",\"ticks\":\"\"},\"radialaxis\":{\"gridcolor\":\"white\",\"linecolor\":\"white\",\"ticks\":\"\"}},\"ternary\":{\"bgcolor\":\"#E5ECF6\",\"aaxis\":{\"gridcolor\":\"white\",\"linecolor\":\"white\",\"ticks\":\"\"},\"baxis\":{\"gridcolor\":\"white\",\"linecolor\":\"white\",\"ticks\":\"\"},\"caxis\":{\"gridcolor\":\"white\",\"linecolor\":\"white\",\"ticks\":\"\"}},\"coloraxis\":{\"colorbar\":{\"outlinewidth\":0,\"ticks\":\"\"}},\"colorscale\":{\"sequential\":[[0.0,\"#0d0887\"],[0.1111111111111111,\"#46039f\"],[0.2222222222222222,\"#7201a8\"],[0.3333333333333333,\"#9c179e\"],[0.4444444444444444,\"#bd3786\"],[0.5555555555555556,\"#d8576b\"],[0.6666666666666666,\"#ed7953\"],[0.7777777777777778,\"#fb9f3a\"],[0.8888888888888888,\"#fdca26\"],[1.0,\"#f0f921\"]],\"sequentialminus\":[[0.0,\"#0d0887\"],[0.1111111111111111,\"#46039f\"],[0.2222222222222222,\"#7201a8\"],[0.3333333333333333,\"#9c179e\"],[0.4444444444444444,\"#bd3786\"],[0.5555555555555556,\"#d8576b\"],[0.6666666666666666,\"#ed7953\"],[0.7777777777777778,\"#fb9f3a\"],[0.8888888888888888,\"#fdca26\"],[1.0,\"#f0f921\"]],\"diverging\":[[0,\"#8e0152\"],[0.1,\"#c51b7d\"],[0.2,\"#de77ae\"],[0.3,\"#f1b6da\"],[0.4,\"#fde0ef\"],[0.5,\"#f7f7f7\"],[0.6,\"#e6f5d0\"],[0.7,\"#b8e186\"],[0.8,\"#7fbc41\"],[0.9,\"#4d9221\"],[1,\"#276419\"]]},\"xaxis\":{\"gridcolor\":\"white\",\"linecolor\":\"white\",\"ticks\":\"\",\"title\":{\"standoff\":15},\"zerolinecolor\":\"white\",\"automargin\":true,\"zerolinewidth\":2},\"yaxis\":{\"gridcolor\":\"white\",\"linecolor\":\"white\",\"ticks\":\"\",\"title\":{\"standoff\":15},\"zerolinecolor\":\"white\",\"automargin\":true,\"zerolinewidth\":2},\"scene\":{\"xaxis\":{\"backgroundcolor\":\"#E5ECF6\",\"gridcolor\":\"white\",\"linecolor\":\"white\",\"showbackground\":true,\"ticks\":\"\",\"zerolinecolor\":\"white\",\"gridwidth\":2},\"yaxis\":{\"backgroundcolor\":\"#E5ECF6\",\"gridcolor\":\"white\",\"linecolor\":\"white\",\"showbackground\":true,\"ticks\":\"\",\"zerolinecolor\":\"white\",\"gridwidth\":2},\"zaxis\":{\"backgroundcolor\":\"#E5ECF6\",\"gridcolor\":\"white\",\"linecolor\":\"white\",\"showbackground\":true,\"ticks\":\"\",\"zerolinecolor\":\"white\",\"gridwidth\":2}},\"shapedefaults\":{\"line\":{\"color\":\"#2a3f5f\"}},\"annotationdefaults\":{\"arrowcolor\":\"#2a3f5f\",\"arrowhead\":0,\"arrowwidth\":1},\"geo\":{\"bgcolor\":\"white\",\"landcolor\":\"#E5ECF6\",\"subunitcolor\":\"white\",\"showland\":true,\"showlakes\":true,\"lakecolor\":\"white\"},\"title\":{\"x\":0.05},\"mapbox\":{\"style\":\"light\"}}},\"xaxis\":{\"anchor\":\"y\",\"domain\":[0.0,1.0],\"title\":{\"text\":\"k\"}},\"yaxis\":{\"anchor\":\"x\",\"domain\":[0.0,1.0],\"title\":{\"text\":\"topk metric\"}},\"legend\":{\"tracegroupgap\":0},\"title\":{\"text\":\"Avg logit diff between IO and avg of topk answer logits: places\"}},                        {\"responsive\": true}                    ).then(function(){\n",
       "                            \n",
       "var gd = document.getElementById('779d41c3-b146-4d3f-bb8f-86e3e19078eb');\n",
       "var x = new MutationObserver(function (mutations, observer) {{\n",
       "        var display = window.getComputedStyle(gd).display;\n",
       "        if (!display || display === 'none') {{\n",
       "            console.log([gd, 'removed!']);\n",
       "            Plotly.purge(gd);\n",
       "            observer.disconnect();\n",
       "        }}\n",
       "}});\n",
       "\n",
       "// Listen for the removal of the full notebook cells\n",
       "var notebookContainer = gd.closest('#notebook-container');\n",
       "if (notebookContainer) {{\n",
       "    x.observe(notebookContainer, {childList: true});\n",
       "}}\n",
       "\n",
       "// Listen for the clearing of the current output cell\n",
       "var outputEl = gd.closest('.output');\n",
       "if (outputEl) {{\n",
       "    x.observe(outputEl, {childList: true});\n",
       "}}\n",
       "\n",
       "                        })                };                });            </script>        </div>"
      ]
     },
     "metadata": {},
     "output_type": "display_data"
    },
    {
     "data": {
      "text/html": [
       "<div>                            <div id=\"d4aef670-31f5-4780-8f9c-56a539f47ddb\" class=\"plotly-graph-div\" style=\"height:525px; width:100%;\"></div>            <script type=\"text/javascript\">                require([\"plotly\"], function(Plotly) {                    window.PLOTLYENV=window.PLOTLYENV || {};                                    if (document.getElementById(\"d4aef670-31f5-4780-8f9c-56a539f47ddb\")) {                    Plotly.newPlot(                        \"d4aef670-31f5-4780-8f9c-56a539f47ddb\",                        [{\"hovertemplate\":\"k=%{x}<br>topk metric=%{y}<extra></extra>\",\"legendgroup\":\"\",\"marker\":{\"color\":\"#636efa\",\"symbol\":\"circle\"},\"mode\":\"markers\",\"name\":\"\",\"orientation\":\"v\",\"showlegend\":false,\"x\":[0.0,1.0,2.0,3.0,4.0,5.0,6.0,7.0,8.0,9.0,10.0,11.0,12.0,13.0,14.0,15.0,16.0,17.0,18.0,19.0,20.0,21.0,22.0,23.0,24.0],\"xaxis\":\"x\",\"y\":[null,-1.0696616172790527,-0.373011976480484,0.015078413300216198,0.28854188323020935,0.5262360572814941,0.7537504434585571,0.9467946887016296,1.121010184288025,1.276923418045044,1.4218159914016724,1.5585123300552368,1.6839326620101929,1.8017961978912354,1.9110925197601318,2.013383388519287,2.108414649963379,2.196758508682251,2.2794156074523926,2.3568613529205322,2.4302902221679688,2.498929738998413,2.5637094974517822,2.6246249675750732,2.682234764099121],\"yaxis\":\"y\",\"type\":\"scatter\"}],                        {\"template\":{\"data\":{\"histogram2dcontour\":[{\"type\":\"histogram2dcontour\",\"colorbar\":{\"outlinewidth\":0,\"ticks\":\"\"},\"colorscale\":[[0.0,\"#0d0887\"],[0.1111111111111111,\"#46039f\"],[0.2222222222222222,\"#7201a8\"],[0.3333333333333333,\"#9c179e\"],[0.4444444444444444,\"#bd3786\"],[0.5555555555555556,\"#d8576b\"],[0.6666666666666666,\"#ed7953\"],[0.7777777777777778,\"#fb9f3a\"],[0.8888888888888888,\"#fdca26\"],[1.0,\"#f0f921\"]]}],\"choropleth\":[{\"type\":\"choropleth\",\"colorbar\":{\"outlinewidth\":0,\"ticks\":\"\"}}],\"histogram2d\":[{\"type\":\"histogram2d\",\"colorbar\":{\"outlinewidth\":0,\"ticks\":\"\"},\"colorscale\":[[0.0,\"#0d0887\"],[0.1111111111111111,\"#46039f\"],[0.2222222222222222,\"#7201a8\"],[0.3333333333333333,\"#9c179e\"],[0.4444444444444444,\"#bd3786\"],[0.5555555555555556,\"#d8576b\"],[0.6666666666666666,\"#ed7953\"],[0.7777777777777778,\"#fb9f3a\"],[0.8888888888888888,\"#fdca26\"],[1.0,\"#f0f921\"]]}],\"heatmap\":[{\"type\":\"heatmap\",\"colorbar\":{\"outlinewidth\":0,\"ticks\":\"\"},\"colorscale\":[[0.0,\"#0d0887\"],[0.1111111111111111,\"#46039f\"],[0.2222222222222222,\"#7201a8\"],[0.3333333333333333,\"#9c179e\"],[0.4444444444444444,\"#bd3786\"],[0.5555555555555556,\"#d8576b\"],[0.6666666666666666,\"#ed7953\"],[0.7777777777777778,\"#fb9f3a\"],[0.8888888888888888,\"#fdca26\"],[1.0,\"#f0f921\"]]}],\"heatmapgl\":[{\"type\":\"heatmapgl\",\"colorbar\":{\"outlinewidth\":0,\"ticks\":\"\"},\"colorscale\":[[0.0,\"#0d0887\"],[0.1111111111111111,\"#46039f\"],[0.2222222222222222,\"#7201a8\"],[0.3333333333333333,\"#9c179e\"],[0.4444444444444444,\"#bd3786\"],[0.5555555555555556,\"#d8576b\"],[0.6666666666666666,\"#ed7953\"],[0.7777777777777778,\"#fb9f3a\"],[0.8888888888888888,\"#fdca26\"],[1.0,\"#f0f921\"]]}],\"contourcarpet\":[{\"type\":\"contourcarpet\",\"colorbar\":{\"outlinewidth\":0,\"ticks\":\"\"}}],\"contour\":[{\"type\":\"contour\",\"colorbar\":{\"outlinewidth\":0,\"ticks\":\"\"},\"colorscale\":[[0.0,\"#0d0887\"],[0.1111111111111111,\"#46039f\"],[0.2222222222222222,\"#7201a8\"],[0.3333333333333333,\"#9c179e\"],[0.4444444444444444,\"#bd3786\"],[0.5555555555555556,\"#d8576b\"],[0.6666666666666666,\"#ed7953\"],[0.7777777777777778,\"#fb9f3a\"],[0.8888888888888888,\"#fdca26\"],[1.0,\"#f0f921\"]]}],\"surface\":[{\"type\":\"surface\",\"colorbar\":{\"outlinewidth\":0,\"ticks\":\"\"},\"colorscale\":[[0.0,\"#0d0887\"],[0.1111111111111111,\"#46039f\"],[0.2222222222222222,\"#7201a8\"],[0.3333333333333333,\"#9c179e\"],[0.4444444444444444,\"#bd3786\"],[0.5555555555555556,\"#d8576b\"],[0.6666666666666666,\"#ed7953\"],[0.7777777777777778,\"#fb9f3a\"],[0.8888888888888888,\"#fdca26\"],[1.0,\"#f0f921\"]]}],\"mesh3d\":[{\"type\":\"mesh3d\",\"colorbar\":{\"outlinewidth\":0,\"ticks\":\"\"}}],\"scatter\":[{\"fillpattern\":{\"fillmode\":\"overlay\",\"size\":10,\"solidity\":0.2},\"type\":\"scatter\"}],\"parcoords\":[{\"type\":\"parcoords\",\"line\":{\"colorbar\":{\"outlinewidth\":0,\"ticks\":\"\"}}}],\"scatterpolargl\":[{\"type\":\"scatterpolargl\",\"marker\":{\"colorbar\":{\"outlinewidth\":0,\"ticks\":\"\"}}}],\"bar\":[{\"error_x\":{\"color\":\"#2a3f5f\"},\"error_y\":{\"color\":\"#2a3f5f\"},\"marker\":{\"line\":{\"color\":\"#E5ECF6\",\"width\":0.5},\"pattern\":{\"fillmode\":\"overlay\",\"size\":10,\"solidity\":0.2}},\"type\":\"bar\"}],\"scattergeo\":[{\"type\":\"scattergeo\",\"marker\":{\"colorbar\":{\"outlinewidth\":0,\"ticks\":\"\"}}}],\"scatterpolar\":[{\"type\":\"scatterpolar\",\"marker\":{\"colorbar\":{\"outlinewidth\":0,\"ticks\":\"\"}}}],\"histogram\":[{\"marker\":{\"pattern\":{\"fillmode\":\"overlay\",\"size\":10,\"solidity\":0.2}},\"type\":\"histogram\"}],\"scattergl\":[{\"type\":\"scattergl\",\"marker\":{\"colorbar\":{\"outlinewidth\":0,\"ticks\":\"\"}}}],\"scatter3d\":[{\"type\":\"scatter3d\",\"line\":{\"colorbar\":{\"outlinewidth\":0,\"ticks\":\"\"}},\"marker\":{\"colorbar\":{\"outlinewidth\":0,\"ticks\":\"\"}}}],\"scattermapbox\":[{\"type\":\"scattermapbox\",\"marker\":{\"colorbar\":{\"outlinewidth\":0,\"ticks\":\"\"}}}],\"scatterternary\":[{\"type\":\"scatterternary\",\"marker\":{\"colorbar\":{\"outlinewidth\":0,\"ticks\":\"\"}}}],\"scattercarpet\":[{\"type\":\"scattercarpet\",\"marker\":{\"colorbar\":{\"outlinewidth\":0,\"ticks\":\"\"}}}],\"carpet\":[{\"aaxis\":{\"endlinecolor\":\"#2a3f5f\",\"gridcolor\":\"white\",\"linecolor\":\"white\",\"minorgridcolor\":\"white\",\"startlinecolor\":\"#2a3f5f\"},\"baxis\":{\"endlinecolor\":\"#2a3f5f\",\"gridcolor\":\"white\",\"linecolor\":\"white\",\"minorgridcolor\":\"white\",\"startlinecolor\":\"#2a3f5f\"},\"type\":\"carpet\"}],\"table\":[{\"cells\":{\"fill\":{\"color\":\"#EBF0F8\"},\"line\":{\"color\":\"white\"}},\"header\":{\"fill\":{\"color\":\"#C8D4E3\"},\"line\":{\"color\":\"white\"}},\"type\":\"table\"}],\"barpolar\":[{\"marker\":{\"line\":{\"color\":\"#E5ECF6\",\"width\":0.5},\"pattern\":{\"fillmode\":\"overlay\",\"size\":10,\"solidity\":0.2}},\"type\":\"barpolar\"}],\"pie\":[{\"automargin\":true,\"type\":\"pie\"}]},\"layout\":{\"autotypenumbers\":\"strict\",\"colorway\":[\"#636efa\",\"#EF553B\",\"#00cc96\",\"#ab63fa\",\"#FFA15A\",\"#19d3f3\",\"#FF6692\",\"#B6E880\",\"#FF97FF\",\"#FECB52\"],\"font\":{\"color\":\"#2a3f5f\"},\"hovermode\":\"closest\",\"hoverlabel\":{\"align\":\"left\"},\"paper_bgcolor\":\"white\",\"plot_bgcolor\":\"#E5ECF6\",\"polar\":{\"bgcolor\":\"#E5ECF6\",\"angularaxis\":{\"gridcolor\":\"white\",\"linecolor\":\"white\",\"ticks\":\"\"},\"radialaxis\":{\"gridcolor\":\"white\",\"linecolor\":\"white\",\"ticks\":\"\"}},\"ternary\":{\"bgcolor\":\"#E5ECF6\",\"aaxis\":{\"gridcolor\":\"white\",\"linecolor\":\"white\",\"ticks\":\"\"},\"baxis\":{\"gridcolor\":\"white\",\"linecolor\":\"white\",\"ticks\":\"\"},\"caxis\":{\"gridcolor\":\"white\",\"linecolor\":\"white\",\"ticks\":\"\"}},\"coloraxis\":{\"colorbar\":{\"outlinewidth\":0,\"ticks\":\"\"}},\"colorscale\":{\"sequential\":[[0.0,\"#0d0887\"],[0.1111111111111111,\"#46039f\"],[0.2222222222222222,\"#7201a8\"],[0.3333333333333333,\"#9c179e\"],[0.4444444444444444,\"#bd3786\"],[0.5555555555555556,\"#d8576b\"],[0.6666666666666666,\"#ed7953\"],[0.7777777777777778,\"#fb9f3a\"],[0.8888888888888888,\"#fdca26\"],[1.0,\"#f0f921\"]],\"sequentialminus\":[[0.0,\"#0d0887\"],[0.1111111111111111,\"#46039f\"],[0.2222222222222222,\"#7201a8\"],[0.3333333333333333,\"#9c179e\"],[0.4444444444444444,\"#bd3786\"],[0.5555555555555556,\"#d8576b\"],[0.6666666666666666,\"#ed7953\"],[0.7777777777777778,\"#fb9f3a\"],[0.8888888888888888,\"#fdca26\"],[1.0,\"#f0f921\"]],\"diverging\":[[0,\"#8e0152\"],[0.1,\"#c51b7d\"],[0.2,\"#de77ae\"],[0.3,\"#f1b6da\"],[0.4,\"#fde0ef\"],[0.5,\"#f7f7f7\"],[0.6,\"#e6f5d0\"],[0.7,\"#b8e186\"],[0.8,\"#7fbc41\"],[0.9,\"#4d9221\"],[1,\"#276419\"]]},\"xaxis\":{\"gridcolor\":\"white\",\"linecolor\":\"white\",\"ticks\":\"\",\"title\":{\"standoff\":15},\"zerolinecolor\":\"white\",\"automargin\":true,\"zerolinewidth\":2},\"yaxis\":{\"gridcolor\":\"white\",\"linecolor\":\"white\",\"ticks\":\"\",\"title\":{\"standoff\":15},\"zerolinecolor\":\"white\",\"automargin\":true,\"zerolinewidth\":2},\"scene\":{\"xaxis\":{\"backgroundcolor\":\"#E5ECF6\",\"gridcolor\":\"white\",\"linecolor\":\"white\",\"showbackground\":true,\"ticks\":\"\",\"zerolinecolor\":\"white\",\"gridwidth\":2},\"yaxis\":{\"backgroundcolor\":\"#E5ECF6\",\"gridcolor\":\"white\",\"linecolor\":\"white\",\"showbackground\":true,\"ticks\":\"\",\"zerolinecolor\":\"white\",\"gridwidth\":2},\"zaxis\":{\"backgroundcolor\":\"#E5ECF6\",\"gridcolor\":\"white\",\"linecolor\":\"white\",\"showbackground\":true,\"ticks\":\"\",\"zerolinecolor\":\"white\",\"gridwidth\":2}},\"shapedefaults\":{\"line\":{\"color\":\"#2a3f5f\"}},\"annotationdefaults\":{\"arrowcolor\":\"#2a3f5f\",\"arrowhead\":0,\"arrowwidth\":1},\"geo\":{\"bgcolor\":\"white\",\"landcolor\":\"#E5ECF6\",\"subunitcolor\":\"white\",\"showland\":true,\"showlakes\":true,\"lakecolor\":\"white\"},\"title\":{\"x\":0.05},\"mapbox\":{\"style\":\"light\"}}},\"xaxis\":{\"anchor\":\"y\",\"domain\":[0.0,1.0],\"title\":{\"text\":\"k\"}},\"yaxis\":{\"anchor\":\"x\",\"domain\":[0.0,1.0],\"title\":{\"text\":\"topk metric\"}},\"legend\":{\"tracegroupgap\":0},\"title\":{\"text\":\"Avg logit diff between IO and avg of topk answer logits: full\"}},                        {\"responsive\": true}                    ).then(function(){\n",
       "                            \n",
       "var gd = document.getElementById('d4aef670-31f5-4780-8f9c-56a539f47ddb');\n",
       "var x = new MutationObserver(function (mutations, observer) {{\n",
       "        var display = window.getComputedStyle(gd).display;\n",
       "        if (!display || display === 'none') {{\n",
       "            console.log([gd, 'removed!']);\n",
       "            Plotly.purge(gd);\n",
       "            observer.disconnect();\n",
       "        }}\n",
       "}});\n",
       "\n",
       "// Listen for the removal of the full notebook cells\n",
       "var notebookContainer = gd.closest('#notebook-container');\n",
       "if (notebookContainer) {{\n",
       "    x.observe(notebookContainer, {childList: true});\n",
       "}}\n",
       "\n",
       "// Listen for the clearing of the current output cell\n",
       "var outputEl = gd.closest('.output');\n",
       "if (outputEl) {{\n",
       "    x.observe(outputEl, {childList: true});\n",
       "}}\n",
       "\n",
       "                        })                };                });            </script>        </div>"
      ]
     },
     "metadata": {},
     "output_type": "display_data"
    }
   ],
   "source": [
    "scatter(x= t.tensor(noun_test)[:,0], y = t.tensor(noun_test)[:,1],xaxis = 'k', yaxis = 'topk metric', title = 'Avg logit diff between IO and avg of topk answer logits: nouns')\n",
    "\n",
    "scatter(x= t.tensor(pnoun_test)[:,0], y = t.tensor(pnoun_test)[:,1],xaxis = 'k', yaxis = 'topk metric', title = 'Avg logit diff between IO and avg of topk answer logits: pnouns')\n",
    "\n",
    "scatter(x= t.tensor(rel_test)[:,0], y = t.tensor(rel_test)[:,1],xaxis = 'k', yaxis = 'topk metric', title = 'Avg logit diff between IO and avg of topk answer logits: rel')\n",
    "\n",
    "scatter(x= t.tensor(pl_test)[:,0], y = t.tensor(pl_test)[:,1],xaxis = 'k', yaxis = 'topk metric', title = 'Avg logit diff between IO and avg of topk answer logits: places')\n",
    "\n",
    "scatter(x= t.tensor(full_test)[:,0], y = t.tensor(full_test)[:,1],xaxis = 'k', yaxis = 'topk metric', title = 'Avg logit diff between IO and avg of topk answer logits: full')\n"
   ]
  },
  {
   "cell_type": "code",
   "execution_count": 15,
   "metadata": {},
   "outputs": [
    {
     "name": "stdout",
     "output_type": "stream",
     "text": [
      "tensor([6.3172, 6.1858, 7.3361, 8.1930, 7.3361, 8.1930, 7.1432, 6.6085, 6.2552,\n",
      "        6.5293, 6.8996, 7.5656, 6.2511, 5.8115, 6.8996, 7.5656, 7.1742, 7.3582,\n",
      "        5.9309, 6.7130])\n"
     ]
    },
    {
     "data": {
      "text/plain": [
       "tensor(4.4788)"
      ]
     },
     "execution_count": 15,
     "metadata": {},
     "output_type": "execute_result"
    }
   ],
   "source": [
    "### could also take the difference between the IO logits and the average of the logits for the other names in the set, to check for correlations among the words \n",
    "\n",
    "\n",
    "def ave_logit_diff_assoc(prompts, answer_tokens, per_prompt = False):\n",
    "    final_logits = model(prompts)[:,-1,:]\n",
    "    answer_logits = final_logits.gather(dim = -1, index = answer_tokens)[:,0]\n",
    "\n",
    "\n",
    "    # take the average of the other answers in the same distribution\n",
    "    ave_assoc = (final_logits[:,answer_tokens[:,0]].sum(dim=-1) - answer_logits)/(len(prompts) - 1)\n",
    "    print(ave_assoc)\n",
    "    answer_logit_diff = answer_logits - ave_assoc\n",
    "    #print(answer_logits, topk_avg)\n",
    "    if per_prompt:\n",
    "        return answer_logit_diff \n",
    "    else:\n",
    "        return answer_logit_diff.mean()\n",
    "\n",
    "\n",
    "ave_logit_diff_assoc(prompts_n, ans_toks_n)\n"
   ]
  },
  {
   "cell_type": "code",
   "execution_count": 16,
   "metadata": {},
   "outputs": [],
   "source": [
    "def make_table(prompts, answers, answer_tokens, title):\n",
    "    cols = [\n",
    "        \"Prompt\", \n",
    "        Column(\"Correct\", style=\"rgb(0,200,0) bold\"), \n",
    "        Column(\"Incorrect\", style=\"rgb(255,0,0) bold\"), \n",
    "        Column(\"Logit Difference\", style=\"bold\")\n",
    "    ]\n",
    "    logit_diffs = ave_logit_diff(prompts,answer_tokens, per_prompt = True)\n",
    "    \n",
    "    ave_logits = ave_logit_diff(prompts,answer_tokens, per_prompt = False)\n",
    "    logit_diff_table = Table(*cols, title=title + f\": Ave logit diff = {ave_logits.item():.3f}\")\n",
    "    logit_diffs = ave_logit_diff(prompts,answer_tokens, per_prompt = True)\n",
    "    \n",
    "    ave_logits = ave_logit_diff(prompts,answer_tokens, per_prompt = False)\n",
    "                                 \n",
    "    ave_logit_diff(prompts, answer_tokens)\n",
    "    for prompt, ans, logit_diff in zip(prompts, answers,logit_diffs):\n",
    "        logit_diff_table.add_row(prompt, ans[0], ans[1], f\"{logit_diff.item():.3f}\")\n",
    "    rprint(logit_diff_table)"
   ]
  },
  {
   "cell_type": "code",
   "execution_count": 17,
   "metadata": {},
   "outputs": [
    {
     "data": {
      "text/html": [
       "<pre style=\"white-space:pre;overflow-x:auto;line-height:normal;font-family:Menlo,'DejaVu Sans Mono',consolas,'Courier New',monospace\"><span style=\"font-style: italic\">                                  Control Names: Ave logit diff = 3.552                                   </span>\n",
       "┏━━━━━━━━━━━━━━━━━━━━━━━━━━━━━━━━━━━━━━━━━━━━━━━━━━━━━━━━━━━━━━━┳━━━━━━━━━┳━━━━━━━━━━━┳━━━━━━━━━━━━━━━━━━┓\n",
       "┃<span style=\"font-weight: bold\"> Prompt                                                        </span>┃<span style=\"font-weight: bold\"> Correct </span>┃<span style=\"font-weight: bold\"> Incorrect </span>┃<span style=\"font-weight: bold\"> Logit Difference </span>┃\n",
       "┡━━━━━━━━━━━━━━━━━━━━━━━━━━━━━━━━━━━━━━━━━━━━━━━━━━━━━━━━━━━━━━━╇━━━━━━━━━╇━━━━━━━━━━━╇━━━━━━━━━━━━━━━━━━┩\n",
       "│ When John and Mary went to the shops, John gave the bag to    │<span style=\"color: #00c800; text-decoration-color: #00c800; font-weight: bold\">  Mary   </span>│<span style=\"color: #ff0000; text-decoration-color: #ff0000; font-weight: bold\">  John     </span>│<span style=\"font-weight: bold\"> 3.337            </span>│\n",
       "│ When John and Mary went to the shops, Mary gave the bag to    │<span style=\"color: #00c800; text-decoration-color: #00c800; font-weight: bold\">  John   </span>│<span style=\"color: #ff0000; text-decoration-color: #ff0000; font-weight: bold\">  Mary     </span>│<span style=\"font-weight: bold\"> 3.202            </span>│\n",
       "│ When Tom and James went to the park, James gave the ball to   │<span style=\"color: #00c800; text-decoration-color: #00c800; font-weight: bold\">  Tom    </span>│<span style=\"color: #ff0000; text-decoration-color: #ff0000; font-weight: bold\">  James    </span>│<span style=\"font-weight: bold\"> 2.709            </span>│\n",
       "│ When Tom and James went to the park, Tom gave the ball to     │<span style=\"color: #00c800; text-decoration-color: #00c800; font-weight: bold\">  James  </span>│<span style=\"color: #ff0000; text-decoration-color: #ff0000; font-weight: bold\">  Tom      </span>│<span style=\"font-weight: bold\"> 3.797            </span>│\n",
       "│ When Dan and Sid went to the shops, Sid gave an apple to      │<span style=\"color: #00c800; text-decoration-color: #00c800; font-weight: bold\">  Dan    </span>│<span style=\"color: #ff0000; text-decoration-color: #ff0000; font-weight: bold\">  Sid      </span>│<span style=\"font-weight: bold\"> 1.720            </span>│\n",
       "│ When Dan and Sid went to the shops, Dan gave an apple to      │<span style=\"color: #00c800; text-decoration-color: #00c800; font-weight: bold\">  Sid    </span>│<span style=\"color: #ff0000; text-decoration-color: #ff0000; font-weight: bold\">  Dan      </span>│<span style=\"font-weight: bold\"> 5.281            </span>│\n",
       "│ After Martin and Amy went to the park, Amy gave a drink to    │<span style=\"color: #00c800; text-decoration-color: #00c800; font-weight: bold\">  Martin </span>│<span style=\"color: #ff0000; text-decoration-color: #ff0000; font-weight: bold\">  Amy      </span>│<span style=\"font-weight: bold\"> 2.601            </span>│\n",
       "│ After Martin and Amy went to the park, Martin gave a drink to │<span style=\"color: #00c800; text-decoration-color: #00c800; font-weight: bold\">  Amy    </span>│<span style=\"color: #ff0000; text-decoration-color: #ff0000; font-weight: bold\">  Martin   </span>│<span style=\"font-weight: bold\"> 5.767            </span>│\n",
       "└───────────────────────────────────────────────────────────────┴─────────┴───────────┴──────────────────┘\n",
       "</pre>\n"
      ],
      "text/plain": [
       "\u001b[3m                                  Control Names: Ave logit diff = 3.552                                   \u001b[0m\n",
       "┏━━━━━━━━━━━━━━━━━━━━━━━━━━━━━━━━━━━━━━━━━━━━━━━━━━━━━━━━━━━━━━━┳━━━━━━━━━┳━━━━━━━━━━━┳━━━━━━━━━━━━━━━━━━┓\n",
       "┃\u001b[1m \u001b[0m\u001b[1mPrompt                                                       \u001b[0m\u001b[1m \u001b[0m┃\u001b[1m \u001b[0m\u001b[1mCorrect\u001b[0m\u001b[1m \u001b[0m┃\u001b[1m \u001b[0m\u001b[1mIncorrect\u001b[0m\u001b[1m \u001b[0m┃\u001b[1m \u001b[0m\u001b[1mLogit Difference\u001b[0m\u001b[1m \u001b[0m┃\n",
       "┡━━━━━━━━━━━━━━━━━━━━━━━━━━━━━━━━━━━━━━━━━━━━━━━━━━━━━━━━━━━━━━━╇━━━━━━━━━╇━━━━━━━━━━━╇━━━━━━━━━━━━━━━━━━┩\n",
       "│ When John and Mary went to the shops, John gave the bag to    │\u001b[1;38;2;0;200;0m \u001b[0m\u001b[1;38;2;0;200;0m Mary  \u001b[0m\u001b[1;38;2;0;200;0m \u001b[0m│\u001b[1;38;2;255;0;0m \u001b[0m\u001b[1;38;2;255;0;0m John    \u001b[0m\u001b[1;38;2;255;0;0m \u001b[0m│\u001b[1m \u001b[0m\u001b[1m3.337           \u001b[0m\u001b[1m \u001b[0m│\n",
       "│ When John and Mary went to the shops, Mary gave the bag to    │\u001b[1;38;2;0;200;0m \u001b[0m\u001b[1;38;2;0;200;0m John  \u001b[0m\u001b[1;38;2;0;200;0m \u001b[0m│\u001b[1;38;2;255;0;0m \u001b[0m\u001b[1;38;2;255;0;0m Mary    \u001b[0m\u001b[1;38;2;255;0;0m \u001b[0m│\u001b[1m \u001b[0m\u001b[1m3.202           \u001b[0m\u001b[1m \u001b[0m│\n",
       "│ When Tom and James went to the park, James gave the ball to   │\u001b[1;38;2;0;200;0m \u001b[0m\u001b[1;38;2;0;200;0m Tom   \u001b[0m\u001b[1;38;2;0;200;0m \u001b[0m│\u001b[1;38;2;255;0;0m \u001b[0m\u001b[1;38;2;255;0;0m James   \u001b[0m\u001b[1;38;2;255;0;0m \u001b[0m│\u001b[1m \u001b[0m\u001b[1m2.709           \u001b[0m\u001b[1m \u001b[0m│\n",
       "│ When Tom and James went to the park, Tom gave the ball to     │\u001b[1;38;2;0;200;0m \u001b[0m\u001b[1;38;2;0;200;0m James \u001b[0m\u001b[1;38;2;0;200;0m \u001b[0m│\u001b[1;38;2;255;0;0m \u001b[0m\u001b[1;38;2;255;0;0m Tom     \u001b[0m\u001b[1;38;2;255;0;0m \u001b[0m│\u001b[1m \u001b[0m\u001b[1m3.797           \u001b[0m\u001b[1m \u001b[0m│\n",
       "│ When Dan and Sid went to the shops, Sid gave an apple to      │\u001b[1;38;2;0;200;0m \u001b[0m\u001b[1;38;2;0;200;0m Dan   \u001b[0m\u001b[1;38;2;0;200;0m \u001b[0m│\u001b[1;38;2;255;0;0m \u001b[0m\u001b[1;38;2;255;0;0m Sid     \u001b[0m\u001b[1;38;2;255;0;0m \u001b[0m│\u001b[1m \u001b[0m\u001b[1m1.720           \u001b[0m\u001b[1m \u001b[0m│\n",
       "│ When Dan and Sid went to the shops, Dan gave an apple to      │\u001b[1;38;2;0;200;0m \u001b[0m\u001b[1;38;2;0;200;0m Sid   \u001b[0m\u001b[1;38;2;0;200;0m \u001b[0m│\u001b[1;38;2;255;0;0m \u001b[0m\u001b[1;38;2;255;0;0m Dan     \u001b[0m\u001b[1;38;2;255;0;0m \u001b[0m│\u001b[1m \u001b[0m\u001b[1m5.281           \u001b[0m\u001b[1m \u001b[0m│\n",
       "│ After Martin and Amy went to the park, Amy gave a drink to    │\u001b[1;38;2;0;200;0m \u001b[0m\u001b[1;38;2;0;200;0m Martin\u001b[0m\u001b[1;38;2;0;200;0m \u001b[0m│\u001b[1;38;2;255;0;0m \u001b[0m\u001b[1;38;2;255;0;0m Amy     \u001b[0m\u001b[1;38;2;255;0;0m \u001b[0m│\u001b[1m \u001b[0m\u001b[1m2.601           \u001b[0m\u001b[1m \u001b[0m│\n",
       "│ After Martin and Amy went to the park, Martin gave a drink to │\u001b[1;38;2;0;200;0m \u001b[0m\u001b[1;38;2;0;200;0m Amy   \u001b[0m\u001b[1;38;2;0;200;0m \u001b[0m│\u001b[1;38;2;255;0;0m \u001b[0m\u001b[1;38;2;255;0;0m Martin  \u001b[0m\u001b[1;38;2;255;0;0m \u001b[0m│\u001b[1m \u001b[0m\u001b[1m5.767           \u001b[0m\u001b[1m \u001b[0m│\n",
       "└───────────────────────────────────────────────────────────────┴─────────┴───────────┴──────────────────┘\n"
      ]
     },
     "metadata": {},
     "output_type": "display_data"
    }
   ],
   "source": [
    "make_table(control_prompts, control_answers, control_ans_prompts, \"Control Names\")"
   ]
  },
  {
   "cell_type": "code",
   "execution_count": 18,
   "metadata": {},
   "outputs": [
    {
     "data": {
      "text/plain": [
       "([' chair', ' bag'], [' chair', ' bag'], (' chair', ' bag'))"
      ]
     },
     "execution_count": 18,
     "metadata": {},
     "output_type": "execute_result"
    }
   ],
   "source": [
    "#[(model.to_str_tokens(ans_toks_n[k],ans_n[k]), model.to_str_tokens(ans_toks_n[k]),model.to_str_tokens(ans_n[k]), ans_n[k]) for k in range(len(ans_toks_n))]\n",
    "\n",
    "test = ans_toks_n[10]\n",
    "test_ans = ans_n[10]\n",
    "[model.tokenizer.decode(test[i]) for i in range(len(test))], model.to_str_tokens(test), ans_n[10]\n"
   ]
  },
  {
   "cell_type": "code",
   "execution_count": null,
   "metadata": {},
   "outputs": [],
   "source": []
  },
  {
   "cell_type": "code",
   "execution_count": 19,
   "metadata": {},
   "outputs": [
    {
     "data": {
      "text/html": [
       "<pre style=\"white-space:pre;overflow-x:auto;line-height:normal;font-family:Menlo,'DejaVu Sans Mono',consolas,'Courier New',monospace\"><span style=\"font-style: italic\">                                       nouns: Ave logit diff = 0.525                                        </span>\n",
       "┏━━━━━━━━━━━━━━━━━━━━━━━━━━━━━━━━━━━━━━━━━━━━━━━━━━━━━━━━━━━━━━━━━┳━━━━━━━━━┳━━━━━━━━━━━┳━━━━━━━━━━━━━━━━━━┓\n",
       "┃<span style=\"font-weight: bold\"> Prompt                                                          </span>┃<span style=\"font-weight: bold\"> Correct </span>┃<span style=\"font-weight: bold\"> Incorrect </span>┃<span style=\"font-weight: bold\"> Logit Difference </span>┃\n",
       "┡━━━━━━━━━━━━━━━━━━━━━━━━━━━━━━━━━━━━━━━━━━━━━━━━━━━━━━━━━━━━━━━━━╇━━━━━━━━━╇━━━━━━━━━━━╇━━━━━━━━━━━━━━━━━━┩\n",
       "│ When bag and church went to the shops, church gave the bag to   │<span style=\"color: #00c800; text-decoration-color: #00c800; font-weight: bold\">  bag    </span>│<span style=\"color: #ff0000; text-decoration-color: #ff0000; font-weight: bold\">  church   </span>│<span style=\"font-weight: bold\"> -2.265           </span>│\n",
       "│ When bag and church went to the shops, bag gave the bag to      │<span style=\"color: #00c800; text-decoration-color: #00c800; font-weight: bold\">  church </span>│<span style=\"color: #ff0000; text-decoration-color: #ff0000; font-weight: bold\">  bag      </span>│<span style=\"font-weight: bold\"> 2.326            </span>│\n",
       "│ When goose and chair went to the shops, chair gave the bag to   │<span style=\"color: #00c800; text-decoration-color: #00c800; font-weight: bold\">  goose  </span>│<span style=\"color: #ff0000; text-decoration-color: #ff0000; font-weight: bold\">  chair    </span>│<span style=\"font-weight: bold\"> 2.073            </span>│\n",
       "│ When goose and chair went to the shops, goose gave the bag to   │<span style=\"color: #00c800; text-decoration-color: #00c800; font-weight: bold\">  chair  </span>│<span style=\"color: #ff0000; text-decoration-color: #ff0000; font-weight: bold\">  goose    </span>│<span style=\"font-weight: bold\"> -0.519           </span>│\n",
       "│ When goose and chair went to the shops, chair gave the bag to   │<span style=\"color: #00c800; text-decoration-color: #00c800; font-weight: bold\">  goose  </span>│<span style=\"color: #ff0000; text-decoration-color: #ff0000; font-weight: bold\">  chair    </span>│<span style=\"font-weight: bold\"> 2.073            </span>│\n",
       "│ When goose and chair went to the shops, goose gave the bag to   │<span style=\"color: #00c800; text-decoration-color: #00c800; font-weight: bold\">  chair  </span>│<span style=\"color: #ff0000; text-decoration-color: #ff0000; font-weight: bold\">  goose    </span>│<span style=\"font-weight: bold\"> -0.519           </span>│\n",
       "│ When bag and google went to the shops, google gave the bag to   │<span style=\"color: #00c800; text-decoration-color: #00c800; font-weight: bold\">  bag    </span>│<span style=\"color: #ff0000; text-decoration-color: #ff0000; font-weight: bold\">  google   </span>│<span style=\"font-weight: bold\"> -0.198           </span>│\n",
       "│ When bag and google went to the shops, bag gave the bag to      │<span style=\"color: #00c800; text-decoration-color: #00c800; font-weight: bold\">  google </span>│<span style=\"color: #ff0000; text-decoration-color: #ff0000; font-weight: bold\">  bag      </span>│<span style=\"font-weight: bold\"> 1.003            </span>│\n",
       "│ When church and bag went to the shops, bag gave the bag to      │<span style=\"color: #00c800; text-decoration-color: #00c800; font-weight: bold\">  church </span>│<span style=\"color: #ff0000; text-decoration-color: #ff0000; font-weight: bold\">  bag      </span>│<span style=\"font-weight: bold\"> 1.690            </span>│\n",
       "│ When church and bag went to the shops, church gave the bag to   │<span style=\"color: #00c800; text-decoration-color: #00c800; font-weight: bold\">  bag    </span>│<span style=\"color: #ff0000; text-decoration-color: #ff0000; font-weight: bold\">  church   </span>│<span style=\"font-weight: bold\"> -1.319           </span>│\n",
       "│ When chair and bag went to the shops, bag gave the bag to       │<span style=\"color: #00c800; text-decoration-color: #00c800; font-weight: bold\">  chair  </span>│<span style=\"color: #ff0000; text-decoration-color: #ff0000; font-weight: bold\">  bag      </span>│<span style=\"font-weight: bold\"> -0.277           </span>│\n",
       "│ When chair and bag went to the shops, chair gave the bag to     │<span style=\"color: #00c800; text-decoration-color: #00c800; font-weight: bold\">  bag    </span>│<span style=\"color: #ff0000; text-decoration-color: #ff0000; font-weight: bold\">  chair    </span>│<span style=\"font-weight: bold\"> 2.837            </span>│\n",
       "│ When google and lamp went to the shops, lamp gave the bag to    │<span style=\"color: #00c800; text-decoration-color: #00c800; font-weight: bold\">  google </span>│<span style=\"color: #ff0000; text-decoration-color: #ff0000; font-weight: bold\">  lamp     </span>│<span style=\"font-weight: bold\"> -1.220           </span>│\n",
       "│ When google and lamp went to the shops, google gave the bag to  │<span style=\"color: #00c800; text-decoration-color: #00c800; font-weight: bold\">  lamp   </span>│<span style=\"color: #ff0000; text-decoration-color: #ff0000; font-weight: bold\">  google   </span>│<span style=\"font-weight: bold\"> -0.124           </span>│\n",
       "│ When chair and bag went to the shops, bag gave the bag to       │<span style=\"color: #00c800; text-decoration-color: #00c800; font-weight: bold\">  chair  </span>│<span style=\"color: #ff0000; text-decoration-color: #ff0000; font-weight: bold\">  bag      </span>│<span style=\"font-weight: bold\"> -0.277           </span>│\n",
       "│ When chair and bag went to the shops, chair gave the bag to     │<span style=\"color: #00c800; text-decoration-color: #00c800; font-weight: bold\">  bag    </span>│<span style=\"color: #ff0000; text-decoration-color: #ff0000; font-weight: bold\">  chair    </span>│<span style=\"font-weight: bold\"> 2.837            </span>│\n",
       "│ When goose and google went to the shops, google gave the bag to │<span style=\"color: #00c800; text-decoration-color: #00c800; font-weight: bold\">  goose  </span>│<span style=\"color: #ff0000; text-decoration-color: #ff0000; font-weight: bold\">  google   </span>│<span style=\"font-weight: bold\"> -0.262           </span>│\n",
       "│ When goose and google went to the shops, goose gave the bag to  │<span style=\"color: #00c800; text-decoration-color: #00c800; font-weight: bold\">  google </span>│<span style=\"color: #ff0000; text-decoration-color: #ff0000; font-weight: bold\">  goose    </span>│<span style=\"font-weight: bold\"> 1.381            </span>│\n",
       "│ When statue and bag went to the shops, bag gave the bag to      │<span style=\"color: #00c800; text-decoration-color: #00c800; font-weight: bold\">  statue </span>│<span style=\"color: #ff0000; text-decoration-color: #ff0000; font-weight: bold\">  bag      </span>│<span style=\"font-weight: bold\"> -1.878           </span>│\n",
       "│ When statue and bag went to the shops, statue gave the bag to   │<span style=\"color: #00c800; text-decoration-color: #00c800; font-weight: bold\">  bag    </span>│<span style=\"color: #ff0000; text-decoration-color: #ff0000; font-weight: bold\">  statue   </span>│<span style=\"font-weight: bold\"> 3.145            </span>│\n",
       "└─────────────────────────────────────────────────────────────────┴─────────┴───────────┴──────────────────┘\n",
       "</pre>\n"
      ],
      "text/plain": [
       "\u001b[3m                                       nouns: Ave logit diff = 0.525                                        \u001b[0m\n",
       "┏━━━━━━━━━━━━━━━━━━━━━━━━━━━━━━━━━━━━━━━━━━━━━━━━━━━━━━━━━━━━━━━━━┳━━━━━━━━━┳━━━━━━━━━━━┳━━━━━━━━━━━━━━━━━━┓\n",
       "┃\u001b[1m \u001b[0m\u001b[1mPrompt                                                         \u001b[0m\u001b[1m \u001b[0m┃\u001b[1m \u001b[0m\u001b[1mCorrect\u001b[0m\u001b[1m \u001b[0m┃\u001b[1m \u001b[0m\u001b[1mIncorrect\u001b[0m\u001b[1m \u001b[0m┃\u001b[1m \u001b[0m\u001b[1mLogit Difference\u001b[0m\u001b[1m \u001b[0m┃\n",
       "┡━━━━━━━━━━━━━━━━━━━━━━━━━━━━━━━━━━━━━━━━━━━━━━━━━━━━━━━━━━━━━━━━━╇━━━━━━━━━╇━━━━━━━━━━━╇━━━━━━━━━━━━━━━━━━┩\n",
       "│ When bag and church went to the shops, church gave the bag to   │\u001b[1;38;2;0;200;0m \u001b[0m\u001b[1;38;2;0;200;0m bag   \u001b[0m\u001b[1;38;2;0;200;0m \u001b[0m│\u001b[1;38;2;255;0;0m \u001b[0m\u001b[1;38;2;255;0;0m church  \u001b[0m\u001b[1;38;2;255;0;0m \u001b[0m│\u001b[1m \u001b[0m\u001b[1m-2.265          \u001b[0m\u001b[1m \u001b[0m│\n",
       "│ When bag and church went to the shops, bag gave the bag to      │\u001b[1;38;2;0;200;0m \u001b[0m\u001b[1;38;2;0;200;0m church\u001b[0m\u001b[1;38;2;0;200;0m \u001b[0m│\u001b[1;38;2;255;0;0m \u001b[0m\u001b[1;38;2;255;0;0m bag     \u001b[0m\u001b[1;38;2;255;0;0m \u001b[0m│\u001b[1m \u001b[0m\u001b[1m2.326           \u001b[0m\u001b[1m \u001b[0m│\n",
       "│ When goose and chair went to the shops, chair gave the bag to   │\u001b[1;38;2;0;200;0m \u001b[0m\u001b[1;38;2;0;200;0m goose \u001b[0m\u001b[1;38;2;0;200;0m \u001b[0m│\u001b[1;38;2;255;0;0m \u001b[0m\u001b[1;38;2;255;0;0m chair   \u001b[0m\u001b[1;38;2;255;0;0m \u001b[0m│\u001b[1m \u001b[0m\u001b[1m2.073           \u001b[0m\u001b[1m \u001b[0m│\n",
       "│ When goose and chair went to the shops, goose gave the bag to   │\u001b[1;38;2;0;200;0m \u001b[0m\u001b[1;38;2;0;200;0m chair \u001b[0m\u001b[1;38;2;0;200;0m \u001b[0m│\u001b[1;38;2;255;0;0m \u001b[0m\u001b[1;38;2;255;0;0m goose   \u001b[0m\u001b[1;38;2;255;0;0m \u001b[0m│\u001b[1m \u001b[0m\u001b[1m-0.519          \u001b[0m\u001b[1m \u001b[0m│\n",
       "│ When goose and chair went to the shops, chair gave the bag to   │\u001b[1;38;2;0;200;0m \u001b[0m\u001b[1;38;2;0;200;0m goose \u001b[0m\u001b[1;38;2;0;200;0m \u001b[0m│\u001b[1;38;2;255;0;0m \u001b[0m\u001b[1;38;2;255;0;0m chair   \u001b[0m\u001b[1;38;2;255;0;0m \u001b[0m│\u001b[1m \u001b[0m\u001b[1m2.073           \u001b[0m\u001b[1m \u001b[0m│\n",
       "│ When goose and chair went to the shops, goose gave the bag to   │\u001b[1;38;2;0;200;0m \u001b[0m\u001b[1;38;2;0;200;0m chair \u001b[0m\u001b[1;38;2;0;200;0m \u001b[0m│\u001b[1;38;2;255;0;0m \u001b[0m\u001b[1;38;2;255;0;0m goose   \u001b[0m\u001b[1;38;2;255;0;0m \u001b[0m│\u001b[1m \u001b[0m\u001b[1m-0.519          \u001b[0m\u001b[1m \u001b[0m│\n",
       "│ When bag and google went to the shops, google gave the bag to   │\u001b[1;38;2;0;200;0m \u001b[0m\u001b[1;38;2;0;200;0m bag   \u001b[0m\u001b[1;38;2;0;200;0m \u001b[0m│\u001b[1;38;2;255;0;0m \u001b[0m\u001b[1;38;2;255;0;0m google  \u001b[0m\u001b[1;38;2;255;0;0m \u001b[0m│\u001b[1m \u001b[0m\u001b[1m-0.198          \u001b[0m\u001b[1m \u001b[0m│\n",
       "│ When bag and google went to the shops, bag gave the bag to      │\u001b[1;38;2;0;200;0m \u001b[0m\u001b[1;38;2;0;200;0m google\u001b[0m\u001b[1;38;2;0;200;0m \u001b[0m│\u001b[1;38;2;255;0;0m \u001b[0m\u001b[1;38;2;255;0;0m bag     \u001b[0m\u001b[1;38;2;255;0;0m \u001b[0m│\u001b[1m \u001b[0m\u001b[1m1.003           \u001b[0m\u001b[1m \u001b[0m│\n",
       "│ When church and bag went to the shops, bag gave the bag to      │\u001b[1;38;2;0;200;0m \u001b[0m\u001b[1;38;2;0;200;0m church\u001b[0m\u001b[1;38;2;0;200;0m \u001b[0m│\u001b[1;38;2;255;0;0m \u001b[0m\u001b[1;38;2;255;0;0m bag     \u001b[0m\u001b[1;38;2;255;0;0m \u001b[0m│\u001b[1m \u001b[0m\u001b[1m1.690           \u001b[0m\u001b[1m \u001b[0m│\n",
       "│ When church and bag went to the shops, church gave the bag to   │\u001b[1;38;2;0;200;0m \u001b[0m\u001b[1;38;2;0;200;0m bag   \u001b[0m\u001b[1;38;2;0;200;0m \u001b[0m│\u001b[1;38;2;255;0;0m \u001b[0m\u001b[1;38;2;255;0;0m church  \u001b[0m\u001b[1;38;2;255;0;0m \u001b[0m│\u001b[1m \u001b[0m\u001b[1m-1.319          \u001b[0m\u001b[1m \u001b[0m│\n",
       "│ When chair and bag went to the shops, bag gave the bag to       │\u001b[1;38;2;0;200;0m \u001b[0m\u001b[1;38;2;0;200;0m chair \u001b[0m\u001b[1;38;2;0;200;0m \u001b[0m│\u001b[1;38;2;255;0;0m \u001b[0m\u001b[1;38;2;255;0;0m bag     \u001b[0m\u001b[1;38;2;255;0;0m \u001b[0m│\u001b[1m \u001b[0m\u001b[1m-0.277          \u001b[0m\u001b[1m \u001b[0m│\n",
       "│ When chair and bag went to the shops, chair gave the bag to     │\u001b[1;38;2;0;200;0m \u001b[0m\u001b[1;38;2;0;200;0m bag   \u001b[0m\u001b[1;38;2;0;200;0m \u001b[0m│\u001b[1;38;2;255;0;0m \u001b[0m\u001b[1;38;2;255;0;0m chair   \u001b[0m\u001b[1;38;2;255;0;0m \u001b[0m│\u001b[1m \u001b[0m\u001b[1m2.837           \u001b[0m\u001b[1m \u001b[0m│\n",
       "│ When google and lamp went to the shops, lamp gave the bag to    │\u001b[1;38;2;0;200;0m \u001b[0m\u001b[1;38;2;0;200;0m google\u001b[0m\u001b[1;38;2;0;200;0m \u001b[0m│\u001b[1;38;2;255;0;0m \u001b[0m\u001b[1;38;2;255;0;0m lamp    \u001b[0m\u001b[1;38;2;255;0;0m \u001b[0m│\u001b[1m \u001b[0m\u001b[1m-1.220          \u001b[0m\u001b[1m \u001b[0m│\n",
       "│ When google and lamp went to the shops, google gave the bag to  │\u001b[1;38;2;0;200;0m \u001b[0m\u001b[1;38;2;0;200;0m lamp  \u001b[0m\u001b[1;38;2;0;200;0m \u001b[0m│\u001b[1;38;2;255;0;0m \u001b[0m\u001b[1;38;2;255;0;0m google  \u001b[0m\u001b[1;38;2;255;0;0m \u001b[0m│\u001b[1m \u001b[0m\u001b[1m-0.124          \u001b[0m\u001b[1m \u001b[0m│\n",
       "│ When chair and bag went to the shops, bag gave the bag to       │\u001b[1;38;2;0;200;0m \u001b[0m\u001b[1;38;2;0;200;0m chair \u001b[0m\u001b[1;38;2;0;200;0m \u001b[0m│\u001b[1;38;2;255;0;0m \u001b[0m\u001b[1;38;2;255;0;0m bag     \u001b[0m\u001b[1;38;2;255;0;0m \u001b[0m│\u001b[1m \u001b[0m\u001b[1m-0.277          \u001b[0m\u001b[1m \u001b[0m│\n",
       "│ When chair and bag went to the shops, chair gave the bag to     │\u001b[1;38;2;0;200;0m \u001b[0m\u001b[1;38;2;0;200;0m bag   \u001b[0m\u001b[1;38;2;0;200;0m \u001b[0m│\u001b[1;38;2;255;0;0m \u001b[0m\u001b[1;38;2;255;0;0m chair   \u001b[0m\u001b[1;38;2;255;0;0m \u001b[0m│\u001b[1m \u001b[0m\u001b[1m2.837           \u001b[0m\u001b[1m \u001b[0m│\n",
       "│ When goose and google went to the shops, google gave the bag to │\u001b[1;38;2;0;200;0m \u001b[0m\u001b[1;38;2;0;200;0m goose \u001b[0m\u001b[1;38;2;0;200;0m \u001b[0m│\u001b[1;38;2;255;0;0m \u001b[0m\u001b[1;38;2;255;0;0m google  \u001b[0m\u001b[1;38;2;255;0;0m \u001b[0m│\u001b[1m \u001b[0m\u001b[1m-0.262          \u001b[0m\u001b[1m \u001b[0m│\n",
       "│ When goose and google went to the shops, goose gave the bag to  │\u001b[1;38;2;0;200;0m \u001b[0m\u001b[1;38;2;0;200;0m google\u001b[0m\u001b[1;38;2;0;200;0m \u001b[0m│\u001b[1;38;2;255;0;0m \u001b[0m\u001b[1;38;2;255;0;0m goose   \u001b[0m\u001b[1;38;2;255;0;0m \u001b[0m│\u001b[1m \u001b[0m\u001b[1m1.381           \u001b[0m\u001b[1m \u001b[0m│\n",
       "│ When statue and bag went to the shops, bag gave the bag to      │\u001b[1;38;2;0;200;0m \u001b[0m\u001b[1;38;2;0;200;0m statue\u001b[0m\u001b[1;38;2;0;200;0m \u001b[0m│\u001b[1;38;2;255;0;0m \u001b[0m\u001b[1;38;2;255;0;0m bag     \u001b[0m\u001b[1;38;2;255;0;0m \u001b[0m│\u001b[1m \u001b[0m\u001b[1m-1.878          \u001b[0m\u001b[1m \u001b[0m│\n",
       "│ When statue and bag went to the shops, statue gave the bag to   │\u001b[1;38;2;0;200;0m \u001b[0m\u001b[1;38;2;0;200;0m bag   \u001b[0m\u001b[1;38;2;0;200;0m \u001b[0m│\u001b[1;38;2;255;0;0m \u001b[0m\u001b[1;38;2;255;0;0m statue  \u001b[0m\u001b[1;38;2;255;0;0m \u001b[0m│\u001b[1m \u001b[0m\u001b[1m3.145           \u001b[0m\u001b[1m \u001b[0m│\n",
       "└─────────────────────────────────────────────────────────────────┴─────────┴───────────┴──────────────────┘\n"
      ]
     },
     "metadata": {},
     "output_type": "display_data"
    },
    {
     "data": {
      "text/html": [
       "<pre style=\"white-space:pre;overflow-x:auto;line-height:normal;font-family:Menlo,'DejaVu Sans Mono',consolas,'Courier New',monospace\"><span style=\"font-style: italic\">                                    proper nouns: Ave logit diff = 2.766                                     </span>\n",
       "┏━━━━━━━━━━━━━━━━━━━━━━━━━━━━━━━━━━━━━━━━━━━━━━━━━━━━━━━━━━━━━━━━━━┳━━━━━━━━━┳━━━━━━━━━━━┳━━━━━━━━━━━━━━━━━━┓\n",
       "┃<span style=\"font-weight: bold\"> Prompt                                                           </span>┃<span style=\"font-weight: bold\"> Correct </span>┃<span style=\"font-weight: bold\"> Incorrect </span>┃<span style=\"font-weight: bold\"> Logit Difference </span>┃\n",
       "┡━━━━━━━━━━━━━━━━━━━━━━━━━━━━━━━━━━━━━━━━━━━━━━━━━━━━━━━━━━━━━━━━━━╇━━━━━━━━━╇━━━━━━━━━━━╇━━━━━━━━━━━━━━━━━━┩\n",
       "│ When Goose and Google went to the shops, Google gave the bag to  │<span style=\"color: #00c800; text-decoration-color: #00c800; font-weight: bold\">  Goose  </span>│<span style=\"color: #ff0000; text-decoration-color: #ff0000; font-weight: bold\">  Google   </span>│<span style=\"font-weight: bold\"> 0.330            </span>│\n",
       "│ When Goose and Google went to the shops, Goose gave the bag to   │<span style=\"color: #00c800; text-decoration-color: #00c800; font-weight: bold\">  Google </span>│<span style=\"color: #ff0000; text-decoration-color: #ff0000; font-weight: bold\">  Goose    </span>│<span style=\"font-weight: bold\"> 3.316            </span>│\n",
       "│ When Bag and Church went to the shops, Church gave the bag to    │<span style=\"color: #00c800; text-decoration-color: #00c800; font-weight: bold\">  Bag    </span>│<span style=\"color: #ff0000; text-decoration-color: #ff0000; font-weight: bold\">  Church   </span>│<span style=\"font-weight: bold\"> 1.956            </span>│\n",
       "│ When Bag and Church went to the shops, Bag gave the bag to       │<span style=\"color: #00c800; text-decoration-color: #00c800; font-weight: bold\">  Church </span>│<span style=\"color: #ff0000; text-decoration-color: #ff0000; font-weight: bold\">  Bag      </span>│<span style=\"font-weight: bold\"> 5.257            </span>│\n",
       "│ When Bag and Statue went to the shops, Statue gave the bag to    │<span style=\"color: #00c800; text-decoration-color: #00c800; font-weight: bold\">  Bag    </span>│<span style=\"color: #ff0000; text-decoration-color: #ff0000; font-weight: bold\">  Statue   </span>│<span style=\"font-weight: bold\"> 5.912            </span>│\n",
       "│ When Bag and Statue went to the shops, Bag gave the bag to       │<span style=\"color: #00c800; text-decoration-color: #00c800; font-weight: bold\">  Statue </span>│<span style=\"color: #ff0000; text-decoration-color: #ff0000; font-weight: bold\">  Bag      </span>│<span style=\"font-weight: bold\"> 3.118            </span>│\n",
       "│ When Flower and Church went to the shops, Church gave the bag to │<span style=\"color: #00c800; text-decoration-color: #00c800; font-weight: bold\">  Flower </span>│<span style=\"color: #ff0000; text-decoration-color: #ff0000; font-weight: bold\">  Church   </span>│<span style=\"font-weight: bold\"> 0.207            </span>│\n",
       "│ When Flower and Church went to the shops, Flower gave the bag to │<span style=\"color: #00c800; text-decoration-color: #00c800; font-weight: bold\">  Church </span>│<span style=\"color: #ff0000; text-decoration-color: #ff0000; font-weight: bold\">  Flower   </span>│<span style=\"font-weight: bold\"> 5.257            </span>│\n",
       "│ When Bag and Church went to the shops, Church gave the bag to    │<span style=\"color: #00c800; text-decoration-color: #00c800; font-weight: bold\">  Bag    </span>│<span style=\"color: #ff0000; text-decoration-color: #ff0000; font-weight: bold\">  Church   </span>│<span style=\"font-weight: bold\"> 1.956            </span>│\n",
       "│ When Bag and Church went to the shops, Bag gave the bag to       │<span style=\"color: #00c800; text-decoration-color: #00c800; font-weight: bold\">  Church </span>│<span style=\"color: #ff0000; text-decoration-color: #ff0000; font-weight: bold\">  Bag      </span>│<span style=\"font-weight: bold\"> 5.257            </span>│\n",
       "│ When Chair and Google went to the shops, Google gave the bag to  │<span style=\"color: #00c800; text-decoration-color: #00c800; font-weight: bold\">  Chair  </span>│<span style=\"color: #ff0000; text-decoration-color: #ff0000; font-weight: bold\">  Google   </span>│<span style=\"font-weight: bold\"> -1.274           </span>│\n",
       "│ When Chair and Google went to the shops, Chair gave the bag to   │<span style=\"color: #00c800; text-decoration-color: #00c800; font-weight: bold\">  Google </span>│<span style=\"color: #ff0000; text-decoration-color: #ff0000; font-weight: bold\">  Chair    </span>│<span style=\"font-weight: bold\"> 4.586            </span>│\n",
       "│ When Church and Statue went to the shops, Statue gave the bag to │<span style=\"color: #00c800; text-decoration-color: #00c800; font-weight: bold\">  Church </span>│<span style=\"color: #ff0000; text-decoration-color: #ff0000; font-weight: bold\">  Statue   </span>│<span style=\"font-weight: bold\"> 3.321            </span>│\n",
       "│ When Church and Statue went to the shops, Church gave the bag to │<span style=\"color: #00c800; text-decoration-color: #00c800; font-weight: bold\">  Statue </span>│<span style=\"color: #ff0000; text-decoration-color: #ff0000; font-weight: bold\">  Church   </span>│<span style=\"font-weight: bold\"> 0.536            </span>│\n",
       "│ When Statue and Goose went to the shops, Goose gave the bag to   │<span style=\"color: #00c800; text-decoration-color: #00c800; font-weight: bold\">  Statue </span>│<span style=\"color: #ff0000; text-decoration-color: #ff0000; font-weight: bold\">  Goose    </span>│<span style=\"font-weight: bold\"> -0.604           </span>│\n",
       "│ When Statue and Goose went to the shops, Statue gave the bag to  │<span style=\"color: #00c800; text-decoration-color: #00c800; font-weight: bold\">  Goose  </span>│<span style=\"color: #ff0000; text-decoration-color: #ff0000; font-weight: bold\">  Statue   </span>│<span style=\"font-weight: bold\"> 7.116            </span>│\n",
       "│ When Bag and Google went to the shops, Google gave the bag to    │<span style=\"color: #00c800; text-decoration-color: #00c800; font-weight: bold\">  Bag    </span>│<span style=\"color: #ff0000; text-decoration-color: #ff0000; font-weight: bold\">  Google   </span>│<span style=\"font-weight: bold\"> -0.502           </span>│\n",
       "│ When Bag and Google went to the shops, Bag gave the bag to       │<span style=\"color: #00c800; text-decoration-color: #00c800; font-weight: bold\">  Google </span>│<span style=\"color: #ff0000; text-decoration-color: #ff0000; font-weight: bold\">  Bag      </span>│<span style=\"font-weight: bold\"> 3.053            </span>│\n",
       "│ When Statue and Goose went to the shops, Goose gave the bag to   │<span style=\"color: #00c800; text-decoration-color: #00c800; font-weight: bold\">  Statue </span>│<span style=\"color: #ff0000; text-decoration-color: #ff0000; font-weight: bold\">  Goose    </span>│<span style=\"font-weight: bold\"> -0.604           </span>│\n",
       "│ When Statue and Goose went to the shops, Statue gave the bag to  │<span style=\"color: #00c800; text-decoration-color: #00c800; font-weight: bold\">  Goose  </span>│<span style=\"color: #ff0000; text-decoration-color: #ff0000; font-weight: bold\">  Statue   </span>│<span style=\"font-weight: bold\"> 7.116            </span>│\n",
       "└──────────────────────────────────────────────────────────────────┴─────────┴───────────┴──────────────────┘\n",
       "</pre>\n"
      ],
      "text/plain": [
       "\u001b[3m                                    proper nouns: Ave logit diff = 2.766                                     \u001b[0m\n",
       "┏━━━━━━━━━━━━━━━━━━━━━━━━━━━━━━━━━━━━━━━━━━━━━━━━━━━━━━━━━━━━━━━━━━┳━━━━━━━━━┳━━━━━━━━━━━┳━━━━━━━━━━━━━━━━━━┓\n",
       "┃\u001b[1m \u001b[0m\u001b[1mPrompt                                                          \u001b[0m\u001b[1m \u001b[0m┃\u001b[1m \u001b[0m\u001b[1mCorrect\u001b[0m\u001b[1m \u001b[0m┃\u001b[1m \u001b[0m\u001b[1mIncorrect\u001b[0m\u001b[1m \u001b[0m┃\u001b[1m \u001b[0m\u001b[1mLogit Difference\u001b[0m\u001b[1m \u001b[0m┃\n",
       "┡━━━━━━━━━━━━━━━━━━━━━━━━━━━━━━━━━━━━━━━━━━━━━━━━━━━━━━━━━━━━━━━━━━╇━━━━━━━━━╇━━━━━━━━━━━╇━━━━━━━━━━━━━━━━━━┩\n",
       "│ When Goose and Google went to the shops, Google gave the bag to  │\u001b[1;38;2;0;200;0m \u001b[0m\u001b[1;38;2;0;200;0m Goose \u001b[0m\u001b[1;38;2;0;200;0m \u001b[0m│\u001b[1;38;2;255;0;0m \u001b[0m\u001b[1;38;2;255;0;0m Google  \u001b[0m\u001b[1;38;2;255;0;0m \u001b[0m│\u001b[1m \u001b[0m\u001b[1m0.330           \u001b[0m\u001b[1m \u001b[0m│\n",
       "│ When Goose and Google went to the shops, Goose gave the bag to   │\u001b[1;38;2;0;200;0m \u001b[0m\u001b[1;38;2;0;200;0m Google\u001b[0m\u001b[1;38;2;0;200;0m \u001b[0m│\u001b[1;38;2;255;0;0m \u001b[0m\u001b[1;38;2;255;0;0m Goose   \u001b[0m\u001b[1;38;2;255;0;0m \u001b[0m│\u001b[1m \u001b[0m\u001b[1m3.316           \u001b[0m\u001b[1m \u001b[0m│\n",
       "│ When Bag and Church went to the shops, Church gave the bag to    │\u001b[1;38;2;0;200;0m \u001b[0m\u001b[1;38;2;0;200;0m Bag   \u001b[0m\u001b[1;38;2;0;200;0m \u001b[0m│\u001b[1;38;2;255;0;0m \u001b[0m\u001b[1;38;2;255;0;0m Church  \u001b[0m\u001b[1;38;2;255;0;0m \u001b[0m│\u001b[1m \u001b[0m\u001b[1m1.956           \u001b[0m\u001b[1m \u001b[0m│\n",
       "│ When Bag and Church went to the shops, Bag gave the bag to       │\u001b[1;38;2;0;200;0m \u001b[0m\u001b[1;38;2;0;200;0m Church\u001b[0m\u001b[1;38;2;0;200;0m \u001b[0m│\u001b[1;38;2;255;0;0m \u001b[0m\u001b[1;38;2;255;0;0m Bag     \u001b[0m\u001b[1;38;2;255;0;0m \u001b[0m│\u001b[1m \u001b[0m\u001b[1m5.257           \u001b[0m\u001b[1m \u001b[0m│\n",
       "│ When Bag and Statue went to the shops, Statue gave the bag to    │\u001b[1;38;2;0;200;0m \u001b[0m\u001b[1;38;2;0;200;0m Bag   \u001b[0m\u001b[1;38;2;0;200;0m \u001b[0m│\u001b[1;38;2;255;0;0m \u001b[0m\u001b[1;38;2;255;0;0m Statue  \u001b[0m\u001b[1;38;2;255;0;0m \u001b[0m│\u001b[1m \u001b[0m\u001b[1m5.912           \u001b[0m\u001b[1m \u001b[0m│\n",
       "│ When Bag and Statue went to the shops, Bag gave the bag to       │\u001b[1;38;2;0;200;0m \u001b[0m\u001b[1;38;2;0;200;0m Statue\u001b[0m\u001b[1;38;2;0;200;0m \u001b[0m│\u001b[1;38;2;255;0;0m \u001b[0m\u001b[1;38;2;255;0;0m Bag     \u001b[0m\u001b[1;38;2;255;0;0m \u001b[0m│\u001b[1m \u001b[0m\u001b[1m3.118           \u001b[0m\u001b[1m \u001b[0m│\n",
       "│ When Flower and Church went to the shops, Church gave the bag to │\u001b[1;38;2;0;200;0m \u001b[0m\u001b[1;38;2;0;200;0m Flower\u001b[0m\u001b[1;38;2;0;200;0m \u001b[0m│\u001b[1;38;2;255;0;0m \u001b[0m\u001b[1;38;2;255;0;0m Church  \u001b[0m\u001b[1;38;2;255;0;0m \u001b[0m│\u001b[1m \u001b[0m\u001b[1m0.207           \u001b[0m\u001b[1m \u001b[0m│\n",
       "│ When Flower and Church went to the shops, Flower gave the bag to │\u001b[1;38;2;0;200;0m \u001b[0m\u001b[1;38;2;0;200;0m Church\u001b[0m\u001b[1;38;2;0;200;0m \u001b[0m│\u001b[1;38;2;255;0;0m \u001b[0m\u001b[1;38;2;255;0;0m Flower  \u001b[0m\u001b[1;38;2;255;0;0m \u001b[0m│\u001b[1m \u001b[0m\u001b[1m5.257           \u001b[0m\u001b[1m \u001b[0m│\n",
       "│ When Bag and Church went to the shops, Church gave the bag to    │\u001b[1;38;2;0;200;0m \u001b[0m\u001b[1;38;2;0;200;0m Bag   \u001b[0m\u001b[1;38;2;0;200;0m \u001b[0m│\u001b[1;38;2;255;0;0m \u001b[0m\u001b[1;38;2;255;0;0m Church  \u001b[0m\u001b[1;38;2;255;0;0m \u001b[0m│\u001b[1m \u001b[0m\u001b[1m1.956           \u001b[0m\u001b[1m \u001b[0m│\n",
       "│ When Bag and Church went to the shops, Bag gave the bag to       │\u001b[1;38;2;0;200;0m \u001b[0m\u001b[1;38;2;0;200;0m Church\u001b[0m\u001b[1;38;2;0;200;0m \u001b[0m│\u001b[1;38;2;255;0;0m \u001b[0m\u001b[1;38;2;255;0;0m Bag     \u001b[0m\u001b[1;38;2;255;0;0m \u001b[0m│\u001b[1m \u001b[0m\u001b[1m5.257           \u001b[0m\u001b[1m \u001b[0m│\n",
       "│ When Chair and Google went to the shops, Google gave the bag to  │\u001b[1;38;2;0;200;0m \u001b[0m\u001b[1;38;2;0;200;0m Chair \u001b[0m\u001b[1;38;2;0;200;0m \u001b[0m│\u001b[1;38;2;255;0;0m \u001b[0m\u001b[1;38;2;255;0;0m Google  \u001b[0m\u001b[1;38;2;255;0;0m \u001b[0m│\u001b[1m \u001b[0m\u001b[1m-1.274          \u001b[0m\u001b[1m \u001b[0m│\n",
       "│ When Chair and Google went to the shops, Chair gave the bag to   │\u001b[1;38;2;0;200;0m \u001b[0m\u001b[1;38;2;0;200;0m Google\u001b[0m\u001b[1;38;2;0;200;0m \u001b[0m│\u001b[1;38;2;255;0;0m \u001b[0m\u001b[1;38;2;255;0;0m Chair   \u001b[0m\u001b[1;38;2;255;0;0m \u001b[0m│\u001b[1m \u001b[0m\u001b[1m4.586           \u001b[0m\u001b[1m \u001b[0m│\n",
       "│ When Church and Statue went to the shops, Statue gave the bag to │\u001b[1;38;2;0;200;0m \u001b[0m\u001b[1;38;2;0;200;0m Church\u001b[0m\u001b[1;38;2;0;200;0m \u001b[0m│\u001b[1;38;2;255;0;0m \u001b[0m\u001b[1;38;2;255;0;0m Statue  \u001b[0m\u001b[1;38;2;255;0;0m \u001b[0m│\u001b[1m \u001b[0m\u001b[1m3.321           \u001b[0m\u001b[1m \u001b[0m│\n",
       "│ When Church and Statue went to the shops, Church gave the bag to │\u001b[1;38;2;0;200;0m \u001b[0m\u001b[1;38;2;0;200;0m Statue\u001b[0m\u001b[1;38;2;0;200;0m \u001b[0m│\u001b[1;38;2;255;0;0m \u001b[0m\u001b[1;38;2;255;0;0m Church  \u001b[0m\u001b[1;38;2;255;0;0m \u001b[0m│\u001b[1m \u001b[0m\u001b[1m0.536           \u001b[0m\u001b[1m \u001b[0m│\n",
       "│ When Statue and Goose went to the shops, Goose gave the bag to   │\u001b[1;38;2;0;200;0m \u001b[0m\u001b[1;38;2;0;200;0m Statue\u001b[0m\u001b[1;38;2;0;200;0m \u001b[0m│\u001b[1;38;2;255;0;0m \u001b[0m\u001b[1;38;2;255;0;0m Goose   \u001b[0m\u001b[1;38;2;255;0;0m \u001b[0m│\u001b[1m \u001b[0m\u001b[1m-0.604          \u001b[0m\u001b[1m \u001b[0m│\n",
       "│ When Statue and Goose went to the shops, Statue gave the bag to  │\u001b[1;38;2;0;200;0m \u001b[0m\u001b[1;38;2;0;200;0m Goose \u001b[0m\u001b[1;38;2;0;200;0m \u001b[0m│\u001b[1;38;2;255;0;0m \u001b[0m\u001b[1;38;2;255;0;0m Statue  \u001b[0m\u001b[1;38;2;255;0;0m \u001b[0m│\u001b[1m \u001b[0m\u001b[1m7.116           \u001b[0m\u001b[1m \u001b[0m│\n",
       "│ When Bag and Google went to the shops, Google gave the bag to    │\u001b[1;38;2;0;200;0m \u001b[0m\u001b[1;38;2;0;200;0m Bag   \u001b[0m\u001b[1;38;2;0;200;0m \u001b[0m│\u001b[1;38;2;255;0;0m \u001b[0m\u001b[1;38;2;255;0;0m Google  \u001b[0m\u001b[1;38;2;255;0;0m \u001b[0m│\u001b[1m \u001b[0m\u001b[1m-0.502          \u001b[0m\u001b[1m \u001b[0m│\n",
       "│ When Bag and Google went to the shops, Bag gave the bag to       │\u001b[1;38;2;0;200;0m \u001b[0m\u001b[1;38;2;0;200;0m Google\u001b[0m\u001b[1;38;2;0;200;0m \u001b[0m│\u001b[1;38;2;255;0;0m \u001b[0m\u001b[1;38;2;255;0;0m Bag     \u001b[0m\u001b[1;38;2;255;0;0m \u001b[0m│\u001b[1m \u001b[0m\u001b[1m3.053           \u001b[0m\u001b[1m \u001b[0m│\n",
       "│ When Statue and Goose went to the shops, Goose gave the bag to   │\u001b[1;38;2;0;200;0m \u001b[0m\u001b[1;38;2;0;200;0m Statue\u001b[0m\u001b[1;38;2;0;200;0m \u001b[0m│\u001b[1;38;2;255;0;0m \u001b[0m\u001b[1;38;2;255;0;0m Goose   \u001b[0m\u001b[1;38;2;255;0;0m \u001b[0m│\u001b[1m \u001b[0m\u001b[1m-0.604          \u001b[0m\u001b[1m \u001b[0m│\n",
       "│ When Statue and Goose went to the shops, Statue gave the bag to  │\u001b[1;38;2;0;200;0m \u001b[0m\u001b[1;38;2;0;200;0m Goose \u001b[0m\u001b[1;38;2;0;200;0m \u001b[0m│\u001b[1;38;2;255;0;0m \u001b[0m\u001b[1;38;2;255;0;0m Statue  \u001b[0m\u001b[1;38;2;255;0;0m \u001b[0m│\u001b[1m \u001b[0m\u001b[1m7.116           \u001b[0m\u001b[1m \u001b[0m│\n",
       "└──────────────────────────────────────────────────────────────────┴─────────┴───────────┴──────────────────┘\n"
      ]
     },
     "metadata": {},
     "output_type": "display_data"
    },
    {
     "data": {
      "text/html": [
       "<pre style=\"white-space:pre;overflow-x:auto;line-height:normal;font-family:Menlo,'DejaVu Sans Mono',consolas,'Courier New',monospace\"><span style=\"font-style: italic\">                                  Religious Names: Ave logit diff = 3.686                                   </span>\n",
       "┏━━━━━━━━━━━━━━━━━━━━━━━━━━━━━━━━━━━━━━━━━━━━━━━━━━━━━━━━━━━━━━━━━┳━━━━━━━━━┳━━━━━━━━━━━┳━━━━━━━━━━━━━━━━━━┓\n",
       "┃<span style=\"font-weight: bold\"> Prompt                                                          </span>┃<span style=\"font-weight: bold\"> Correct </span>┃<span style=\"font-weight: bold\"> Incorrect </span>┃<span style=\"font-weight: bold\"> Logit Difference </span>┃\n",
       "┡━━━━━━━━━━━━━━━━━━━━━━━━━━━━━━━━━━━━━━━━━━━━━━━━━━━━━━━━━━━━━━━━━╇━━━━━━━━━╇━━━━━━━━━━━╇━━━━━━━━━━━━━━━━━━┩\n",
       "│ When Mary and Isaac went to the shops, Isaac gave the bag to    │<span style=\"color: #00c800; text-decoration-color: #00c800; font-weight: bold\">  Mary   </span>│<span style=\"color: #ff0000; text-decoration-color: #ff0000; font-weight: bold\">  Isaac    </span>│<span style=\"font-weight: bold\"> 4.724            </span>│\n",
       "│ When Mary and Isaac went to the shops, Mary gave the bag to     │<span style=\"color: #00c800; text-decoration-color: #00c800; font-weight: bold\">  Isaac  </span>│<span style=\"color: #ff0000; text-decoration-color: #ff0000; font-weight: bold\">  Mary     </span>│<span style=\"font-weight: bold\"> 1.970            </span>│\n",
       "│ When Mary and Noah went to the shops, Noah gave the bag to      │<span style=\"color: #00c800; text-decoration-color: #00c800; font-weight: bold\">  Mary   </span>│<span style=\"color: #ff0000; text-decoration-color: #ff0000; font-weight: bold\">  Noah     </span>│<span style=\"font-weight: bold\"> 4.331            </span>│\n",
       "│ When Mary and Noah went to the shops, Mary gave the bag to      │<span style=\"color: #00c800; text-decoration-color: #00c800; font-weight: bold\">  Noah   </span>│<span style=\"color: #ff0000; text-decoration-color: #ff0000; font-weight: bold\">  Mary     </span>│<span style=\"font-weight: bold\"> 2.820            </span>│\n",
       "│ When Joseph and Jesus went to the shops, Jesus gave the bag to  │<span style=\"color: #00c800; text-decoration-color: #00c800; font-weight: bold\">  Joseph </span>│<span style=\"color: #ff0000; text-decoration-color: #ff0000; font-weight: bold\">  Jesus    </span>│<span style=\"font-weight: bold\"> 3.808            </span>│\n",
       "│ When Joseph and Jesus went to the shops, Joseph gave the bag to │<span style=\"color: #00c800; text-decoration-color: #00c800; font-weight: bold\">  Jesus  </span>│<span style=\"color: #ff0000; text-decoration-color: #ff0000; font-weight: bold\">  Joseph   </span>│<span style=\"font-weight: bold\"> 1.881            </span>│\n",
       "│ When Paul and Mary went to the shops, Mary gave the bag to      │<span style=\"color: #00c800; text-decoration-color: #00c800; font-weight: bold\">  Paul   </span>│<span style=\"color: #ff0000; text-decoration-color: #ff0000; font-weight: bold\">  Mary     </span>│<span style=\"font-weight: bold\"> 5.106            </span>│\n",
       "│ When Paul and Mary went to the shops, Paul gave the bag to      │<span style=\"color: #00c800; text-decoration-color: #00c800; font-weight: bold\">  Mary   </span>│<span style=\"color: #ff0000; text-decoration-color: #ff0000; font-weight: bold\">  Paul     </span>│<span style=\"font-weight: bold\"> 4.334            </span>│\n",
       "│ When Paul and Isaac went to the shops, Isaac gave the bag to    │<span style=\"color: #00c800; text-decoration-color: #00c800; font-weight: bold\">  Paul   </span>│<span style=\"color: #ff0000; text-decoration-color: #ff0000; font-weight: bold\">  Isaac    </span>│<span style=\"font-weight: bold\"> 4.513            </span>│\n",
       "│ When Paul and Isaac went to the shops, Paul gave the bag to     │<span style=\"color: #00c800; text-decoration-color: #00c800; font-weight: bold\">  Isaac  </span>│<span style=\"color: #ff0000; text-decoration-color: #ff0000; font-weight: bold\">  Paul     </span>│<span style=\"font-weight: bold\"> 4.195            </span>│\n",
       "│ When Isaac and Joseph went to the shops, Joseph gave the bag to │<span style=\"color: #00c800; text-decoration-color: #00c800; font-weight: bold\">  Isaac  </span>│<span style=\"color: #ff0000; text-decoration-color: #ff0000; font-weight: bold\">  Joseph   </span>│<span style=\"font-weight: bold\"> 2.299            </span>│\n",
       "│ When Isaac and Joseph went to the shops, Isaac gave the bag to  │<span style=\"color: #00c800; text-decoration-color: #00c800; font-weight: bold\">  Joseph </span>│<span style=\"color: #ff0000; text-decoration-color: #ff0000; font-weight: bold\">  Isaac    </span>│<span style=\"font-weight: bold\"> 5.545            </span>│\n",
       "│ When Noah and Jacob went to the shops, Jacob gave the bag to    │<span style=\"color: #00c800; text-decoration-color: #00c800; font-weight: bold\">  Noah   </span>│<span style=\"color: #ff0000; text-decoration-color: #ff0000; font-weight: bold\">  Jacob    </span>│<span style=\"font-weight: bold\"> 4.277            </span>│\n",
       "│ When Noah and Jacob went to the shops, Noah gave the bag to     │<span style=\"color: #00c800; text-decoration-color: #00c800; font-weight: bold\">  Jacob  </span>│<span style=\"color: #ff0000; text-decoration-color: #ff0000; font-weight: bold\">  Noah     </span>│<span style=\"font-weight: bold\"> 3.373            </span>│\n",
       "│ When Mary and Noah went to the shops, Noah gave the bag to      │<span style=\"color: #00c800; text-decoration-color: #00c800; font-weight: bold\">  Mary   </span>│<span style=\"color: #ff0000; text-decoration-color: #ff0000; font-weight: bold\">  Noah     </span>│<span style=\"font-weight: bold\"> 4.331            </span>│\n",
       "│ When Mary and Noah went to the shops, Mary gave the bag to      │<span style=\"color: #00c800; text-decoration-color: #00c800; font-weight: bold\">  Noah   </span>│<span style=\"color: #ff0000; text-decoration-color: #ff0000; font-weight: bold\">  Mary     </span>│<span style=\"font-weight: bold\"> 2.820            </span>│\n",
       "│ When Jesus and Jacob went to the shops, Jacob gave the bag to   │<span style=\"color: #00c800; text-decoration-color: #00c800; font-weight: bold\">  Jesus  </span>│<span style=\"color: #ff0000; text-decoration-color: #ff0000; font-weight: bold\">  Jacob    </span>│<span style=\"font-weight: bold\"> 1.831            </span>│\n",
       "│ When Jesus and Jacob went to the shops, Jesus gave the bag to   │<span style=\"color: #00c800; text-decoration-color: #00c800; font-weight: bold\">  Jacob  </span>│<span style=\"color: #ff0000; text-decoration-color: #ff0000; font-weight: bold\">  Jesus    </span>│<span style=\"font-weight: bold\"> 3.583            </span>│\n",
       "│ When Paul and Noah went to the shops, Noah gave the bag to      │<span style=\"color: #00c800; text-decoration-color: #00c800; font-weight: bold\">  Paul   </span>│<span style=\"color: #ff0000; text-decoration-color: #ff0000; font-weight: bold\">  Noah     </span>│<span style=\"font-weight: bold\"> 2.641            </span>│\n",
       "│ When Paul and Noah went to the shops, Paul gave the bag to      │<span style=\"color: #00c800; text-decoration-color: #00c800; font-weight: bold\">  Noah   </span>│<span style=\"color: #ff0000; text-decoration-color: #ff0000; font-weight: bold\">  Paul     </span>│<span style=\"font-weight: bold\"> 5.343            </span>│\n",
       "└─────────────────────────────────────────────────────────────────┴─────────┴───────────┴──────────────────┘\n",
       "</pre>\n"
      ],
      "text/plain": [
       "\u001b[3m                                  Religious Names: Ave logit diff = 3.686                                   \u001b[0m\n",
       "┏━━━━━━━━━━━━━━━━━━━━━━━━━━━━━━━━━━━━━━━━━━━━━━━━━━━━━━━━━━━━━━━━━┳━━━━━━━━━┳━━━━━━━━━━━┳━━━━━━━━━━━━━━━━━━┓\n",
       "┃\u001b[1m \u001b[0m\u001b[1mPrompt                                                         \u001b[0m\u001b[1m \u001b[0m┃\u001b[1m \u001b[0m\u001b[1mCorrect\u001b[0m\u001b[1m \u001b[0m┃\u001b[1m \u001b[0m\u001b[1mIncorrect\u001b[0m\u001b[1m \u001b[0m┃\u001b[1m \u001b[0m\u001b[1mLogit Difference\u001b[0m\u001b[1m \u001b[0m┃\n",
       "┡━━━━━━━━━━━━━━━━━━━━━━━━━━━━━━━━━━━━━━━━━━━━━━━━━━━━━━━━━━━━━━━━━╇━━━━━━━━━╇━━━━━━━━━━━╇━━━━━━━━━━━━━━━━━━┩\n",
       "│ When Mary and Isaac went to the shops, Isaac gave the bag to    │\u001b[1;38;2;0;200;0m \u001b[0m\u001b[1;38;2;0;200;0m Mary  \u001b[0m\u001b[1;38;2;0;200;0m \u001b[0m│\u001b[1;38;2;255;0;0m \u001b[0m\u001b[1;38;2;255;0;0m Isaac   \u001b[0m\u001b[1;38;2;255;0;0m \u001b[0m│\u001b[1m \u001b[0m\u001b[1m4.724           \u001b[0m\u001b[1m \u001b[0m│\n",
       "│ When Mary and Isaac went to the shops, Mary gave the bag to     │\u001b[1;38;2;0;200;0m \u001b[0m\u001b[1;38;2;0;200;0m Isaac \u001b[0m\u001b[1;38;2;0;200;0m \u001b[0m│\u001b[1;38;2;255;0;0m \u001b[0m\u001b[1;38;2;255;0;0m Mary    \u001b[0m\u001b[1;38;2;255;0;0m \u001b[0m│\u001b[1m \u001b[0m\u001b[1m1.970           \u001b[0m\u001b[1m \u001b[0m│\n",
       "│ When Mary and Noah went to the shops, Noah gave the bag to      │\u001b[1;38;2;0;200;0m \u001b[0m\u001b[1;38;2;0;200;0m Mary  \u001b[0m\u001b[1;38;2;0;200;0m \u001b[0m│\u001b[1;38;2;255;0;0m \u001b[0m\u001b[1;38;2;255;0;0m Noah    \u001b[0m\u001b[1;38;2;255;0;0m \u001b[0m│\u001b[1m \u001b[0m\u001b[1m4.331           \u001b[0m\u001b[1m \u001b[0m│\n",
       "│ When Mary and Noah went to the shops, Mary gave the bag to      │\u001b[1;38;2;0;200;0m \u001b[0m\u001b[1;38;2;0;200;0m Noah  \u001b[0m\u001b[1;38;2;0;200;0m \u001b[0m│\u001b[1;38;2;255;0;0m \u001b[0m\u001b[1;38;2;255;0;0m Mary    \u001b[0m\u001b[1;38;2;255;0;0m \u001b[0m│\u001b[1m \u001b[0m\u001b[1m2.820           \u001b[0m\u001b[1m \u001b[0m│\n",
       "│ When Joseph and Jesus went to the shops, Jesus gave the bag to  │\u001b[1;38;2;0;200;0m \u001b[0m\u001b[1;38;2;0;200;0m Joseph\u001b[0m\u001b[1;38;2;0;200;0m \u001b[0m│\u001b[1;38;2;255;0;0m \u001b[0m\u001b[1;38;2;255;0;0m Jesus   \u001b[0m\u001b[1;38;2;255;0;0m \u001b[0m│\u001b[1m \u001b[0m\u001b[1m3.808           \u001b[0m\u001b[1m \u001b[0m│\n",
       "│ When Joseph and Jesus went to the shops, Joseph gave the bag to │\u001b[1;38;2;0;200;0m \u001b[0m\u001b[1;38;2;0;200;0m Jesus \u001b[0m\u001b[1;38;2;0;200;0m \u001b[0m│\u001b[1;38;2;255;0;0m \u001b[0m\u001b[1;38;2;255;0;0m Joseph  \u001b[0m\u001b[1;38;2;255;0;0m \u001b[0m│\u001b[1m \u001b[0m\u001b[1m1.881           \u001b[0m\u001b[1m \u001b[0m│\n",
       "│ When Paul and Mary went to the shops, Mary gave the bag to      │\u001b[1;38;2;0;200;0m \u001b[0m\u001b[1;38;2;0;200;0m Paul  \u001b[0m\u001b[1;38;2;0;200;0m \u001b[0m│\u001b[1;38;2;255;0;0m \u001b[0m\u001b[1;38;2;255;0;0m Mary    \u001b[0m\u001b[1;38;2;255;0;0m \u001b[0m│\u001b[1m \u001b[0m\u001b[1m5.106           \u001b[0m\u001b[1m \u001b[0m│\n",
       "│ When Paul and Mary went to the shops, Paul gave the bag to      │\u001b[1;38;2;0;200;0m \u001b[0m\u001b[1;38;2;0;200;0m Mary  \u001b[0m\u001b[1;38;2;0;200;0m \u001b[0m│\u001b[1;38;2;255;0;0m \u001b[0m\u001b[1;38;2;255;0;0m Paul    \u001b[0m\u001b[1;38;2;255;0;0m \u001b[0m│\u001b[1m \u001b[0m\u001b[1m4.334           \u001b[0m\u001b[1m \u001b[0m│\n",
       "│ When Paul and Isaac went to the shops, Isaac gave the bag to    │\u001b[1;38;2;0;200;0m \u001b[0m\u001b[1;38;2;0;200;0m Paul  \u001b[0m\u001b[1;38;2;0;200;0m \u001b[0m│\u001b[1;38;2;255;0;0m \u001b[0m\u001b[1;38;2;255;0;0m Isaac   \u001b[0m\u001b[1;38;2;255;0;0m \u001b[0m│\u001b[1m \u001b[0m\u001b[1m4.513           \u001b[0m\u001b[1m \u001b[0m│\n",
       "│ When Paul and Isaac went to the shops, Paul gave the bag to     │\u001b[1;38;2;0;200;0m \u001b[0m\u001b[1;38;2;0;200;0m Isaac \u001b[0m\u001b[1;38;2;0;200;0m \u001b[0m│\u001b[1;38;2;255;0;0m \u001b[0m\u001b[1;38;2;255;0;0m Paul    \u001b[0m\u001b[1;38;2;255;0;0m \u001b[0m│\u001b[1m \u001b[0m\u001b[1m4.195           \u001b[0m\u001b[1m \u001b[0m│\n",
       "│ When Isaac and Joseph went to the shops, Joseph gave the bag to │\u001b[1;38;2;0;200;0m \u001b[0m\u001b[1;38;2;0;200;0m Isaac \u001b[0m\u001b[1;38;2;0;200;0m \u001b[0m│\u001b[1;38;2;255;0;0m \u001b[0m\u001b[1;38;2;255;0;0m Joseph  \u001b[0m\u001b[1;38;2;255;0;0m \u001b[0m│\u001b[1m \u001b[0m\u001b[1m2.299           \u001b[0m\u001b[1m \u001b[0m│\n",
       "│ When Isaac and Joseph went to the shops, Isaac gave the bag to  │\u001b[1;38;2;0;200;0m \u001b[0m\u001b[1;38;2;0;200;0m Joseph\u001b[0m\u001b[1;38;2;0;200;0m \u001b[0m│\u001b[1;38;2;255;0;0m \u001b[0m\u001b[1;38;2;255;0;0m Isaac   \u001b[0m\u001b[1;38;2;255;0;0m \u001b[0m│\u001b[1m \u001b[0m\u001b[1m5.545           \u001b[0m\u001b[1m \u001b[0m│\n",
       "│ When Noah and Jacob went to the shops, Jacob gave the bag to    │\u001b[1;38;2;0;200;0m \u001b[0m\u001b[1;38;2;0;200;0m Noah  \u001b[0m\u001b[1;38;2;0;200;0m \u001b[0m│\u001b[1;38;2;255;0;0m \u001b[0m\u001b[1;38;2;255;0;0m Jacob   \u001b[0m\u001b[1;38;2;255;0;0m \u001b[0m│\u001b[1m \u001b[0m\u001b[1m4.277           \u001b[0m\u001b[1m \u001b[0m│\n",
       "│ When Noah and Jacob went to the shops, Noah gave the bag to     │\u001b[1;38;2;0;200;0m \u001b[0m\u001b[1;38;2;0;200;0m Jacob \u001b[0m\u001b[1;38;2;0;200;0m \u001b[0m│\u001b[1;38;2;255;0;0m \u001b[0m\u001b[1;38;2;255;0;0m Noah    \u001b[0m\u001b[1;38;2;255;0;0m \u001b[0m│\u001b[1m \u001b[0m\u001b[1m3.373           \u001b[0m\u001b[1m \u001b[0m│\n",
       "│ When Mary and Noah went to the shops, Noah gave the bag to      │\u001b[1;38;2;0;200;0m \u001b[0m\u001b[1;38;2;0;200;0m Mary  \u001b[0m\u001b[1;38;2;0;200;0m \u001b[0m│\u001b[1;38;2;255;0;0m \u001b[0m\u001b[1;38;2;255;0;0m Noah    \u001b[0m\u001b[1;38;2;255;0;0m \u001b[0m│\u001b[1m \u001b[0m\u001b[1m4.331           \u001b[0m\u001b[1m \u001b[0m│\n",
       "│ When Mary and Noah went to the shops, Mary gave the bag to      │\u001b[1;38;2;0;200;0m \u001b[0m\u001b[1;38;2;0;200;0m Noah  \u001b[0m\u001b[1;38;2;0;200;0m \u001b[0m│\u001b[1;38;2;255;0;0m \u001b[0m\u001b[1;38;2;255;0;0m Mary    \u001b[0m\u001b[1;38;2;255;0;0m \u001b[0m│\u001b[1m \u001b[0m\u001b[1m2.820           \u001b[0m\u001b[1m \u001b[0m│\n",
       "│ When Jesus and Jacob went to the shops, Jacob gave the bag to   │\u001b[1;38;2;0;200;0m \u001b[0m\u001b[1;38;2;0;200;0m Jesus \u001b[0m\u001b[1;38;2;0;200;0m \u001b[0m│\u001b[1;38;2;255;0;0m \u001b[0m\u001b[1;38;2;255;0;0m Jacob   \u001b[0m\u001b[1;38;2;255;0;0m \u001b[0m│\u001b[1m \u001b[0m\u001b[1m1.831           \u001b[0m\u001b[1m \u001b[0m│\n",
       "│ When Jesus and Jacob went to the shops, Jesus gave the bag to   │\u001b[1;38;2;0;200;0m \u001b[0m\u001b[1;38;2;0;200;0m Jacob \u001b[0m\u001b[1;38;2;0;200;0m \u001b[0m│\u001b[1;38;2;255;0;0m \u001b[0m\u001b[1;38;2;255;0;0m Jesus   \u001b[0m\u001b[1;38;2;255;0;0m \u001b[0m│\u001b[1m \u001b[0m\u001b[1m3.583           \u001b[0m\u001b[1m \u001b[0m│\n",
       "│ When Paul and Noah went to the shops, Noah gave the bag to      │\u001b[1;38;2;0;200;0m \u001b[0m\u001b[1;38;2;0;200;0m Paul  \u001b[0m\u001b[1;38;2;0;200;0m \u001b[0m│\u001b[1;38;2;255;0;0m \u001b[0m\u001b[1;38;2;255;0;0m Noah    \u001b[0m\u001b[1;38;2;255;0;0m \u001b[0m│\u001b[1m \u001b[0m\u001b[1m2.641           \u001b[0m\u001b[1m \u001b[0m│\n",
       "│ When Paul and Noah went to the shops, Paul gave the bag to      │\u001b[1;38;2;0;200;0m \u001b[0m\u001b[1;38;2;0;200;0m Noah  \u001b[0m\u001b[1;38;2;0;200;0m \u001b[0m│\u001b[1;38;2;255;0;0m \u001b[0m\u001b[1;38;2;255;0;0m Paul    \u001b[0m\u001b[1;38;2;255;0;0m \u001b[0m│\u001b[1m \u001b[0m\u001b[1m5.343           \u001b[0m\u001b[1m \u001b[0m│\n",
       "└─────────────────────────────────────────────────────────────────┴─────────┴───────────┴──────────────────┘\n"
      ]
     },
     "metadata": {},
     "output_type": "display_data"
    },
    {
     "data": {
      "text/html": [
       "<pre style=\"white-space:pre;overflow-x:auto;line-height:normal;font-family:Menlo,'DejaVu Sans Mono',consolas,'Courier New',monospace\"><span style=\"font-style: italic\">                                        Place Names: Ave logit diff = 3.149                                        </span>\n",
       "┏━━━━━━━━━━━━━━━━━━━━━━━━━━━━━━━━━━━━━━━━━━━━━━━━━━━━━━━━━━━━━━━━━━━━━━┳━━━━━━━━━━━┳━━━━━━━━━━━┳━━━━━━━━━━━━━━━━━━┓\n",
       "┃<span style=\"font-weight: bold\"> Prompt                                                               </span>┃<span style=\"font-weight: bold\"> Correct   </span>┃<span style=\"font-weight: bold\"> Incorrect </span>┃<span style=\"font-weight: bold\"> Logit Difference </span>┃\n",
       "┡━━━━━━━━━━━━━━━━━━━━━━━━━━━━━━━━━━━━━━━━━━━━━━━━━━━━━━━━━━━━━━━━━━━━━━╇━━━━━━━━━━━╇━━━━━━━━━━━╇━━━━━━━━━━━━━━━━━━┩\n",
       "│ When Florence and Devon went to the shops, Devon gave the bag to     │<span style=\"color: #00c800; text-decoration-color: #00c800; font-weight: bold\">  Florence </span>│<span style=\"color: #ff0000; text-decoration-color: #ff0000; font-weight: bold\">  Devon    </span>│<span style=\"font-weight: bold\"> 4.434            </span>│\n",
       "│ When Florence and Devon went to the shops, Florence gave the bag to  │<span style=\"color: #00c800; text-decoration-color: #00c800; font-weight: bold\">  Devon    </span>│<span style=\"color: #ff0000; text-decoration-color: #ff0000; font-weight: bold\">  Florence </span>│<span style=\"font-weight: bold\"> 6.011            </span>│\n",
       "│ When Brooklyn and Phoenix went to the shops, Phoenix gave the bag to │<span style=\"color: #00c800; text-decoration-color: #00c800; font-weight: bold\">  Brooklyn </span>│<span style=\"color: #ff0000; text-decoration-color: #ff0000; font-weight: bold\">  Phoenix  </span>│<span style=\"font-weight: bold\"> 0.111            </span>│\n",
       "│ When Brooklyn and Phoenix went to the shops, Brooklyn gave the bag   │<span style=\"color: #00c800; text-decoration-color: #00c800; font-weight: bold\">  Phoenix  </span>│<span style=\"color: #ff0000; text-decoration-color: #ff0000; font-weight: bold\">  Brooklyn </span>│<span style=\"font-weight: bold\"> 6.009            </span>│\n",
       "│ to                                                                   │<span style=\"color: #00c800; text-decoration-color: #00c800; font-weight: bold\">           </span>│<span style=\"color: #ff0000; text-decoration-color: #ff0000; font-weight: bold\">           </span>│<span style=\"font-weight: bold\">                  </span>│\n",
       "│ When Paris and London went to the shops, London gave the bag to      │<span style=\"color: #00c800; text-decoration-color: #00c800; font-weight: bold\">  Paris    </span>│<span style=\"color: #ff0000; text-decoration-color: #ff0000; font-weight: bold\">  London   </span>│<span style=\"font-weight: bold\"> 1.465            </span>│\n",
       "│ When Paris and London went to the shops, Paris gave the bag to       │<span style=\"color: #00c800; text-decoration-color: #00c800; font-weight: bold\">  London   </span>│<span style=\"color: #ff0000; text-decoration-color: #ff0000; font-weight: bold\">  Paris    </span>│<span style=\"font-weight: bold\"> 1.790            </span>│\n",
       "│ When Phoenix and Paris went to the shops, Paris gave the bag to      │<span style=\"color: #00c800; text-decoration-color: #00c800; font-weight: bold\">  Phoenix  </span>│<span style=\"color: #ff0000; text-decoration-color: #ff0000; font-weight: bold\">  Paris    </span>│<span style=\"font-weight: bold\"> 0.502            </span>│\n",
       "│ When Phoenix and Paris went to the shops, Phoenix gave the bag to    │<span style=\"color: #00c800; text-decoration-color: #00c800; font-weight: bold\">  Paris    </span>│<span style=\"color: #ff0000; text-decoration-color: #ff0000; font-weight: bold\">  Phoenix  </span>│<span style=\"font-weight: bold\"> 6.743            </span>│\n",
       "│ When London and Florence went to the shops, Florence gave the bag to │<span style=\"color: #00c800; text-decoration-color: #00c800; font-weight: bold\">  London   </span>│<span style=\"color: #ff0000; text-decoration-color: #ff0000; font-weight: bold\">  Florence </span>│<span style=\"font-weight: bold\"> -0.268           </span>│\n",
       "│ When London and Florence went to the shops, London gave the bag to   │<span style=\"color: #00c800; text-decoration-color: #00c800; font-weight: bold\">  Florence </span>│<span style=\"color: #ff0000; text-decoration-color: #ff0000; font-weight: bold\">  London   </span>│<span style=\"font-weight: bold\"> 4.467            </span>│\n",
       "│ When London and Florence went to the shops, Florence gave the bag to │<span style=\"color: #00c800; text-decoration-color: #00c800; font-weight: bold\">  London   </span>│<span style=\"color: #ff0000; text-decoration-color: #ff0000; font-weight: bold\">  Florence </span>│<span style=\"font-weight: bold\"> -0.268           </span>│\n",
       "│ When London and Florence went to the shops, London gave the bag to   │<span style=\"color: #00c800; text-decoration-color: #00c800; font-weight: bold\">  Florence </span>│<span style=\"color: #ff0000; text-decoration-color: #ff0000; font-weight: bold\">  London   </span>│<span style=\"font-weight: bold\"> 4.467            </span>│\n",
       "│ When Brooklyn and Paris went to the shops, Paris gave the bag to     │<span style=\"color: #00c800; text-decoration-color: #00c800; font-weight: bold\">  Brooklyn </span>│<span style=\"color: #ff0000; text-decoration-color: #ff0000; font-weight: bold\">  Paris    </span>│<span style=\"font-weight: bold\"> -0.601           </span>│\n",
       "│ When Brooklyn and Paris went to the shops, Brooklyn gave the bag to  │<span style=\"color: #00c800; text-decoration-color: #00c800; font-weight: bold\">  Paris    </span>│<span style=\"color: #ff0000; text-decoration-color: #ff0000; font-weight: bold\">  Brooklyn </span>│<span style=\"font-weight: bold\"> 8.024            </span>│\n",
       "│ When Austin and Paris went to the shops, Paris gave the bag to       │<span style=\"color: #00c800; text-decoration-color: #00c800; font-weight: bold\">  Austin   </span>│<span style=\"color: #ff0000; text-decoration-color: #ff0000; font-weight: bold\">  Paris    </span>│<span style=\"font-weight: bold\"> 3.903            </span>│\n",
       "│ When Austin and Paris went to the shops, Austin gave the bag to      │<span style=\"color: #00c800; text-decoration-color: #00c800; font-weight: bold\">  Paris    </span>│<span style=\"color: #ff0000; text-decoration-color: #ff0000; font-weight: bold\">  Austin   </span>│<span style=\"font-weight: bold\"> 7.673            </span>│\n",
       "│ When Brooklyn and London went to the shops, London gave the bag to   │<span style=\"color: #00c800; text-decoration-color: #00c800; font-weight: bold\">  Brooklyn </span>│<span style=\"color: #ff0000; text-decoration-color: #ff0000; font-weight: bold\">  London   </span>│<span style=\"font-weight: bold\"> -0.108           </span>│\n",
       "│ When Brooklyn and London went to the shops, Brooklyn gave the bag to │<span style=\"color: #00c800; text-decoration-color: #00c800; font-weight: bold\">  London   </span>│<span style=\"color: #ff0000; text-decoration-color: #ff0000; font-weight: bold\">  Brooklyn </span>│<span style=\"font-weight: bold\"> 4.468            </span>│\n",
       "│ When Paris and Phoenix went to the shops, Phoenix gave the bag to    │<span style=\"color: #00c800; text-decoration-color: #00c800; font-weight: bold\">  Paris    </span>│<span style=\"color: #ff0000; text-decoration-color: #ff0000; font-weight: bold\">  Phoenix  </span>│<span style=\"font-weight: bold\"> 0.388            </span>│\n",
       "│ When Paris and Phoenix went to the shops, Paris gave the bag to      │<span style=\"color: #00c800; text-decoration-color: #00c800; font-weight: bold\">  Phoenix  </span>│<span style=\"color: #ff0000; text-decoration-color: #ff0000; font-weight: bold\">  Paris    </span>│<span style=\"font-weight: bold\"> 3.778            </span>│\n",
       "└──────────────────────────────────────────────────────────────────────┴───────────┴───────────┴──────────────────┘\n",
       "</pre>\n"
      ],
      "text/plain": [
       "\u001b[3m                                        Place Names: Ave logit diff = 3.149                                        \u001b[0m\n",
       "┏━━━━━━━━━━━━━━━━━━━━━━━━━━━━━━━━━━━━━━━━━━━━━━━━━━━━━━━━━━━━━━━━━━━━━━┳━━━━━━━━━━━┳━━━━━━━━━━━┳━━━━━━━━━━━━━━━━━━┓\n",
       "┃\u001b[1m \u001b[0m\u001b[1mPrompt                                                              \u001b[0m\u001b[1m \u001b[0m┃\u001b[1m \u001b[0m\u001b[1mCorrect  \u001b[0m\u001b[1m \u001b[0m┃\u001b[1m \u001b[0m\u001b[1mIncorrect\u001b[0m\u001b[1m \u001b[0m┃\u001b[1m \u001b[0m\u001b[1mLogit Difference\u001b[0m\u001b[1m \u001b[0m┃\n",
       "┡━━━━━━━━━━━━━━━━━━━━━━━━━━━━━━━━━━━━━━━━━━━━━━━━━━━━━━━━━━━━━━━━━━━━━━╇━━━━━━━━━━━╇━━━━━━━━━━━╇━━━━━━━━━━━━━━━━━━┩\n",
       "│ When Florence and Devon went to the shops, Devon gave the bag to     │\u001b[1;38;2;0;200;0m \u001b[0m\u001b[1;38;2;0;200;0m Florence\u001b[0m\u001b[1;38;2;0;200;0m \u001b[0m│\u001b[1;38;2;255;0;0m \u001b[0m\u001b[1;38;2;255;0;0m Devon   \u001b[0m\u001b[1;38;2;255;0;0m \u001b[0m│\u001b[1m \u001b[0m\u001b[1m4.434           \u001b[0m\u001b[1m \u001b[0m│\n",
       "│ When Florence and Devon went to the shops, Florence gave the bag to  │\u001b[1;38;2;0;200;0m \u001b[0m\u001b[1;38;2;0;200;0m Devon   \u001b[0m\u001b[1;38;2;0;200;0m \u001b[0m│\u001b[1;38;2;255;0;0m \u001b[0m\u001b[1;38;2;255;0;0m Florence\u001b[0m\u001b[1;38;2;255;0;0m \u001b[0m│\u001b[1m \u001b[0m\u001b[1m6.011           \u001b[0m\u001b[1m \u001b[0m│\n",
       "│ When Brooklyn and Phoenix went to the shops, Phoenix gave the bag to │\u001b[1;38;2;0;200;0m \u001b[0m\u001b[1;38;2;0;200;0m Brooklyn\u001b[0m\u001b[1;38;2;0;200;0m \u001b[0m│\u001b[1;38;2;255;0;0m \u001b[0m\u001b[1;38;2;255;0;0m Phoenix \u001b[0m\u001b[1;38;2;255;0;0m \u001b[0m│\u001b[1m \u001b[0m\u001b[1m0.111           \u001b[0m\u001b[1m \u001b[0m│\n",
       "│ When Brooklyn and Phoenix went to the shops, Brooklyn gave the bag   │\u001b[1;38;2;0;200;0m \u001b[0m\u001b[1;38;2;0;200;0m Phoenix \u001b[0m\u001b[1;38;2;0;200;0m \u001b[0m│\u001b[1;38;2;255;0;0m \u001b[0m\u001b[1;38;2;255;0;0m Brooklyn\u001b[0m\u001b[1;38;2;255;0;0m \u001b[0m│\u001b[1m \u001b[0m\u001b[1m6.009           \u001b[0m\u001b[1m \u001b[0m│\n",
       "│ to                                                                   │\u001b[1;38;2;0;200;0m           \u001b[0m│\u001b[1;38;2;255;0;0m           \u001b[0m│\u001b[1m                  \u001b[0m│\n",
       "│ When Paris and London went to the shops, London gave the bag to      │\u001b[1;38;2;0;200;0m \u001b[0m\u001b[1;38;2;0;200;0m Paris   \u001b[0m\u001b[1;38;2;0;200;0m \u001b[0m│\u001b[1;38;2;255;0;0m \u001b[0m\u001b[1;38;2;255;0;0m London  \u001b[0m\u001b[1;38;2;255;0;0m \u001b[0m│\u001b[1m \u001b[0m\u001b[1m1.465           \u001b[0m\u001b[1m \u001b[0m│\n",
       "│ When Paris and London went to the shops, Paris gave the bag to       │\u001b[1;38;2;0;200;0m \u001b[0m\u001b[1;38;2;0;200;0m London  \u001b[0m\u001b[1;38;2;0;200;0m \u001b[0m│\u001b[1;38;2;255;0;0m \u001b[0m\u001b[1;38;2;255;0;0m Paris   \u001b[0m\u001b[1;38;2;255;0;0m \u001b[0m│\u001b[1m \u001b[0m\u001b[1m1.790           \u001b[0m\u001b[1m \u001b[0m│\n",
       "│ When Phoenix and Paris went to the shops, Paris gave the bag to      │\u001b[1;38;2;0;200;0m \u001b[0m\u001b[1;38;2;0;200;0m Phoenix \u001b[0m\u001b[1;38;2;0;200;0m \u001b[0m│\u001b[1;38;2;255;0;0m \u001b[0m\u001b[1;38;2;255;0;0m Paris   \u001b[0m\u001b[1;38;2;255;0;0m \u001b[0m│\u001b[1m \u001b[0m\u001b[1m0.502           \u001b[0m\u001b[1m \u001b[0m│\n",
       "│ When Phoenix and Paris went to the shops, Phoenix gave the bag to    │\u001b[1;38;2;0;200;0m \u001b[0m\u001b[1;38;2;0;200;0m Paris   \u001b[0m\u001b[1;38;2;0;200;0m \u001b[0m│\u001b[1;38;2;255;0;0m \u001b[0m\u001b[1;38;2;255;0;0m Phoenix \u001b[0m\u001b[1;38;2;255;0;0m \u001b[0m│\u001b[1m \u001b[0m\u001b[1m6.743           \u001b[0m\u001b[1m \u001b[0m│\n",
       "│ When London and Florence went to the shops, Florence gave the bag to │\u001b[1;38;2;0;200;0m \u001b[0m\u001b[1;38;2;0;200;0m London  \u001b[0m\u001b[1;38;2;0;200;0m \u001b[0m│\u001b[1;38;2;255;0;0m \u001b[0m\u001b[1;38;2;255;0;0m Florence\u001b[0m\u001b[1;38;2;255;0;0m \u001b[0m│\u001b[1m \u001b[0m\u001b[1m-0.268          \u001b[0m\u001b[1m \u001b[0m│\n",
       "│ When London and Florence went to the shops, London gave the bag to   │\u001b[1;38;2;0;200;0m \u001b[0m\u001b[1;38;2;0;200;0m Florence\u001b[0m\u001b[1;38;2;0;200;0m \u001b[0m│\u001b[1;38;2;255;0;0m \u001b[0m\u001b[1;38;2;255;0;0m London  \u001b[0m\u001b[1;38;2;255;0;0m \u001b[0m│\u001b[1m \u001b[0m\u001b[1m4.467           \u001b[0m\u001b[1m \u001b[0m│\n",
       "│ When London and Florence went to the shops, Florence gave the bag to │\u001b[1;38;2;0;200;0m \u001b[0m\u001b[1;38;2;0;200;0m London  \u001b[0m\u001b[1;38;2;0;200;0m \u001b[0m│\u001b[1;38;2;255;0;0m \u001b[0m\u001b[1;38;2;255;0;0m Florence\u001b[0m\u001b[1;38;2;255;0;0m \u001b[0m│\u001b[1m \u001b[0m\u001b[1m-0.268          \u001b[0m\u001b[1m \u001b[0m│\n",
       "│ When London and Florence went to the shops, London gave the bag to   │\u001b[1;38;2;0;200;0m \u001b[0m\u001b[1;38;2;0;200;0m Florence\u001b[0m\u001b[1;38;2;0;200;0m \u001b[0m│\u001b[1;38;2;255;0;0m \u001b[0m\u001b[1;38;2;255;0;0m London  \u001b[0m\u001b[1;38;2;255;0;0m \u001b[0m│\u001b[1m \u001b[0m\u001b[1m4.467           \u001b[0m\u001b[1m \u001b[0m│\n",
       "│ When Brooklyn and Paris went to the shops, Paris gave the bag to     │\u001b[1;38;2;0;200;0m \u001b[0m\u001b[1;38;2;0;200;0m Brooklyn\u001b[0m\u001b[1;38;2;0;200;0m \u001b[0m│\u001b[1;38;2;255;0;0m \u001b[0m\u001b[1;38;2;255;0;0m Paris   \u001b[0m\u001b[1;38;2;255;0;0m \u001b[0m│\u001b[1m \u001b[0m\u001b[1m-0.601          \u001b[0m\u001b[1m \u001b[0m│\n",
       "│ When Brooklyn and Paris went to the shops, Brooklyn gave the bag to  │\u001b[1;38;2;0;200;0m \u001b[0m\u001b[1;38;2;0;200;0m Paris   \u001b[0m\u001b[1;38;2;0;200;0m \u001b[0m│\u001b[1;38;2;255;0;0m \u001b[0m\u001b[1;38;2;255;0;0m Brooklyn\u001b[0m\u001b[1;38;2;255;0;0m \u001b[0m│\u001b[1m \u001b[0m\u001b[1m8.024           \u001b[0m\u001b[1m \u001b[0m│\n",
       "│ When Austin and Paris went to the shops, Paris gave the bag to       │\u001b[1;38;2;0;200;0m \u001b[0m\u001b[1;38;2;0;200;0m Austin  \u001b[0m\u001b[1;38;2;0;200;0m \u001b[0m│\u001b[1;38;2;255;0;0m \u001b[0m\u001b[1;38;2;255;0;0m Paris   \u001b[0m\u001b[1;38;2;255;0;0m \u001b[0m│\u001b[1m \u001b[0m\u001b[1m3.903           \u001b[0m\u001b[1m \u001b[0m│\n",
       "│ When Austin and Paris went to the shops, Austin gave the bag to      │\u001b[1;38;2;0;200;0m \u001b[0m\u001b[1;38;2;0;200;0m Paris   \u001b[0m\u001b[1;38;2;0;200;0m \u001b[0m│\u001b[1;38;2;255;0;0m \u001b[0m\u001b[1;38;2;255;0;0m Austin  \u001b[0m\u001b[1;38;2;255;0;0m \u001b[0m│\u001b[1m \u001b[0m\u001b[1m7.673           \u001b[0m\u001b[1m \u001b[0m│\n",
       "│ When Brooklyn and London went to the shops, London gave the bag to   │\u001b[1;38;2;0;200;0m \u001b[0m\u001b[1;38;2;0;200;0m Brooklyn\u001b[0m\u001b[1;38;2;0;200;0m \u001b[0m│\u001b[1;38;2;255;0;0m \u001b[0m\u001b[1;38;2;255;0;0m London  \u001b[0m\u001b[1;38;2;255;0;0m \u001b[0m│\u001b[1m \u001b[0m\u001b[1m-0.108          \u001b[0m\u001b[1m \u001b[0m│\n",
       "│ When Brooklyn and London went to the shops, Brooklyn gave the bag to │\u001b[1;38;2;0;200;0m \u001b[0m\u001b[1;38;2;0;200;0m London  \u001b[0m\u001b[1;38;2;0;200;0m \u001b[0m│\u001b[1;38;2;255;0;0m \u001b[0m\u001b[1;38;2;255;0;0m Brooklyn\u001b[0m\u001b[1;38;2;255;0;0m \u001b[0m│\u001b[1m \u001b[0m\u001b[1m4.468           \u001b[0m\u001b[1m \u001b[0m│\n",
       "│ When Paris and Phoenix went to the shops, Phoenix gave the bag to    │\u001b[1;38;2;0;200;0m \u001b[0m\u001b[1;38;2;0;200;0m Paris   \u001b[0m\u001b[1;38;2;0;200;0m \u001b[0m│\u001b[1;38;2;255;0;0m \u001b[0m\u001b[1;38;2;255;0;0m Phoenix \u001b[0m\u001b[1;38;2;255;0;0m \u001b[0m│\u001b[1m \u001b[0m\u001b[1m0.388           \u001b[0m\u001b[1m \u001b[0m│\n",
       "│ When Paris and Phoenix went to the shops, Paris gave the bag to      │\u001b[1;38;2;0;200;0m \u001b[0m\u001b[1;38;2;0;200;0m Phoenix \u001b[0m\u001b[1;38;2;0;200;0m \u001b[0m│\u001b[1;38;2;255;0;0m \u001b[0m\u001b[1;38;2;255;0;0m Paris   \u001b[0m\u001b[1;38;2;255;0;0m \u001b[0m│\u001b[1m \u001b[0m\u001b[1m3.778           \u001b[0m\u001b[1m \u001b[0m│\n",
       "└──────────────────────────────────────────────────────────────────────┴───────────┴───────────┴──────────────────┘\n"
      ]
     },
     "metadata": {},
     "output_type": "display_data"
    },
    {
     "data": {
      "text/html": [
       "<pre style=\"white-space:pre;overflow-x:auto;line-height:normal;font-family:Menlo,'DejaVu Sans Mono',consolas,'Courier New',monospace\"><span style=\"font-style: italic\">                                         Full Dist: Ave logit diff = 2.628                                         </span>\n",
       "┏━━━━━━━━━━━━━━━━━━━━━━━━━━━━━━━━━━━━━━━━━━━━━━━━━━━━━━━━━━━━━━━━━━━━━━┳━━━━━━━━━━━┳━━━━━━━━━━━┳━━━━━━━━━━━━━━━━━━┓\n",
       "┃<span style=\"font-weight: bold\"> Prompt                                                               </span>┃<span style=\"font-weight: bold\"> Correct   </span>┃<span style=\"font-weight: bold\"> Incorrect </span>┃<span style=\"font-weight: bold\"> Logit Difference </span>┃\n",
       "┡━━━━━━━━━━━━━━━━━━━━━━━━━━━━━━━━━━━━━━━━━━━━━━━━━━━━━━━━━━━━━━━━━━━━━━╇━━━━━━━━━━━╇━━━━━━━━━━━╇━━━━━━━━━━━━━━━━━━┩\n",
       "│ When bag and church went to the shops, church gave the bag to        │<span style=\"color: #00c800; text-decoration-color: #00c800; font-weight: bold\">  bag      </span>│<span style=\"color: #ff0000; text-decoration-color: #ff0000; font-weight: bold\">  church   </span>│<span style=\"font-weight: bold\"> -2.265           </span>│\n",
       "│ When bag and church went to the shops, bag gave the bag to           │<span style=\"color: #00c800; text-decoration-color: #00c800; font-weight: bold\">  church   </span>│<span style=\"color: #ff0000; text-decoration-color: #ff0000; font-weight: bold\">  bag      </span>│<span style=\"font-weight: bold\"> 2.326            </span>│\n",
       "│ When goose and chair went to the shops, chair gave the bag to        │<span style=\"color: #00c800; text-decoration-color: #00c800; font-weight: bold\">  goose    </span>│<span style=\"color: #ff0000; text-decoration-color: #ff0000; font-weight: bold\">  chair    </span>│<span style=\"font-weight: bold\"> 2.073            </span>│\n",
       "│ When goose and chair went to the shops, goose gave the bag to        │<span style=\"color: #00c800; text-decoration-color: #00c800; font-weight: bold\">  chair    </span>│<span style=\"color: #ff0000; text-decoration-color: #ff0000; font-weight: bold\">  goose    </span>│<span style=\"font-weight: bold\"> -0.519           </span>│\n",
       "│ When goose and chair went to the shops, chair gave the bag to        │<span style=\"color: #00c800; text-decoration-color: #00c800; font-weight: bold\">  goose    </span>│<span style=\"color: #ff0000; text-decoration-color: #ff0000; font-weight: bold\">  chair    </span>│<span style=\"font-weight: bold\"> 2.073            </span>│\n",
       "│ When goose and chair went to the shops, goose gave the bag to        │<span style=\"color: #00c800; text-decoration-color: #00c800; font-weight: bold\">  chair    </span>│<span style=\"color: #ff0000; text-decoration-color: #ff0000; font-weight: bold\">  goose    </span>│<span style=\"font-weight: bold\"> -0.519           </span>│\n",
       "│ When bag and google went to the shops, google gave the bag to        │<span style=\"color: #00c800; text-decoration-color: #00c800; font-weight: bold\">  bag      </span>│<span style=\"color: #ff0000; text-decoration-color: #ff0000; font-weight: bold\">  google   </span>│<span style=\"font-weight: bold\"> -0.198           </span>│\n",
       "│ When bag and google went to the shops, bag gave the bag to           │<span style=\"color: #00c800; text-decoration-color: #00c800; font-weight: bold\">  google   </span>│<span style=\"color: #ff0000; text-decoration-color: #ff0000; font-weight: bold\">  bag      </span>│<span style=\"font-weight: bold\"> 1.003            </span>│\n",
       "│ When church and bag went to the shops, bag gave the bag to           │<span style=\"color: #00c800; text-decoration-color: #00c800; font-weight: bold\">  church   </span>│<span style=\"color: #ff0000; text-decoration-color: #ff0000; font-weight: bold\">  bag      </span>│<span style=\"font-weight: bold\"> 1.690            </span>│\n",
       "│ When church and bag went to the shops, church gave the bag to        │<span style=\"color: #00c800; text-decoration-color: #00c800; font-weight: bold\">  bag      </span>│<span style=\"color: #ff0000; text-decoration-color: #ff0000; font-weight: bold\">  church   </span>│<span style=\"font-weight: bold\"> -1.319           </span>│\n",
       "│ When chair and bag went to the shops, bag gave the bag to            │<span style=\"color: #00c800; text-decoration-color: #00c800; font-weight: bold\">  chair    </span>│<span style=\"color: #ff0000; text-decoration-color: #ff0000; font-weight: bold\">  bag      </span>│<span style=\"font-weight: bold\"> -0.277           </span>│\n",
       "│ When chair and bag went to the shops, chair gave the bag to          │<span style=\"color: #00c800; text-decoration-color: #00c800; font-weight: bold\">  bag      </span>│<span style=\"color: #ff0000; text-decoration-color: #ff0000; font-weight: bold\">  chair    </span>│<span style=\"font-weight: bold\"> 2.837            </span>│\n",
       "│ When google and lamp went to the shops, lamp gave the bag to         │<span style=\"color: #00c800; text-decoration-color: #00c800; font-weight: bold\">  google   </span>│<span style=\"color: #ff0000; text-decoration-color: #ff0000; font-weight: bold\">  lamp     </span>│<span style=\"font-weight: bold\"> -1.220           </span>│\n",
       "│ When google and lamp went to the shops, google gave the bag to       │<span style=\"color: #00c800; text-decoration-color: #00c800; font-weight: bold\">  lamp     </span>│<span style=\"color: #ff0000; text-decoration-color: #ff0000; font-weight: bold\">  google   </span>│<span style=\"font-weight: bold\"> -0.124           </span>│\n",
       "│ When chair and bag went to the shops, bag gave the bag to            │<span style=\"color: #00c800; text-decoration-color: #00c800; font-weight: bold\">  chair    </span>│<span style=\"color: #ff0000; text-decoration-color: #ff0000; font-weight: bold\">  bag      </span>│<span style=\"font-weight: bold\"> -0.277           </span>│\n",
       "│ When chair and bag went to the shops, chair gave the bag to          │<span style=\"color: #00c800; text-decoration-color: #00c800; font-weight: bold\">  bag      </span>│<span style=\"color: #ff0000; text-decoration-color: #ff0000; font-weight: bold\">  chair    </span>│<span style=\"font-weight: bold\"> 2.837            </span>│\n",
       "│ When goose and google went to the shops, google gave the bag to      │<span style=\"color: #00c800; text-decoration-color: #00c800; font-weight: bold\">  goose    </span>│<span style=\"color: #ff0000; text-decoration-color: #ff0000; font-weight: bold\">  google   </span>│<span style=\"font-weight: bold\"> -0.262           </span>│\n",
       "│ When goose and google went to the shops, goose gave the bag to       │<span style=\"color: #00c800; text-decoration-color: #00c800; font-weight: bold\">  google   </span>│<span style=\"color: #ff0000; text-decoration-color: #ff0000; font-weight: bold\">  goose    </span>│<span style=\"font-weight: bold\"> 1.381            </span>│\n",
       "│ When statue and bag went to the shops, bag gave the bag to           │<span style=\"color: #00c800; text-decoration-color: #00c800; font-weight: bold\">  statue   </span>│<span style=\"color: #ff0000; text-decoration-color: #ff0000; font-weight: bold\">  bag      </span>│<span style=\"font-weight: bold\"> -1.878           </span>│\n",
       "│ When statue and bag went to the shops, statue gave the bag to        │<span style=\"color: #00c800; text-decoration-color: #00c800; font-weight: bold\">  bag      </span>│<span style=\"color: #ff0000; text-decoration-color: #ff0000; font-weight: bold\">  statue   </span>│<span style=\"font-weight: bold\"> 3.145            </span>│\n",
       "│ When Florence and Devon went to the shops, Devon gave the bag to     │<span style=\"color: #00c800; text-decoration-color: #00c800; font-weight: bold\">  Florence </span>│<span style=\"color: #ff0000; text-decoration-color: #ff0000; font-weight: bold\">  Devon    </span>│<span style=\"font-weight: bold\"> 4.434            </span>│\n",
       "│ When Florence and Devon went to the shops, Florence gave the bag to  │<span style=\"color: #00c800; text-decoration-color: #00c800; font-weight: bold\">  Devon    </span>│<span style=\"color: #ff0000; text-decoration-color: #ff0000; font-weight: bold\">  Florence </span>│<span style=\"font-weight: bold\"> 6.011            </span>│\n",
       "│ When Brooklyn and Phoenix went to the shops, Phoenix gave the bag to │<span style=\"color: #00c800; text-decoration-color: #00c800; font-weight: bold\">  Brooklyn </span>│<span style=\"color: #ff0000; text-decoration-color: #ff0000; font-weight: bold\">  Phoenix  </span>│<span style=\"font-weight: bold\"> 0.111            </span>│\n",
       "│ When Brooklyn and Phoenix went to the shops, Brooklyn gave the bag   │<span style=\"color: #00c800; text-decoration-color: #00c800; font-weight: bold\">  Phoenix  </span>│<span style=\"color: #ff0000; text-decoration-color: #ff0000; font-weight: bold\">  Brooklyn </span>│<span style=\"font-weight: bold\"> 6.009            </span>│\n",
       "│ to                                                                   │<span style=\"color: #00c800; text-decoration-color: #00c800; font-weight: bold\">           </span>│<span style=\"color: #ff0000; text-decoration-color: #ff0000; font-weight: bold\">           </span>│<span style=\"font-weight: bold\">                  </span>│\n",
       "│ When Paris and London went to the shops, London gave the bag to      │<span style=\"color: #00c800; text-decoration-color: #00c800; font-weight: bold\">  Paris    </span>│<span style=\"color: #ff0000; text-decoration-color: #ff0000; font-weight: bold\">  London   </span>│<span style=\"font-weight: bold\"> 1.465            </span>│\n",
       "│ When Paris and London went to the shops, Paris gave the bag to       │<span style=\"color: #00c800; text-decoration-color: #00c800; font-weight: bold\">  London   </span>│<span style=\"color: #ff0000; text-decoration-color: #ff0000; font-weight: bold\">  Paris    </span>│<span style=\"font-weight: bold\"> 1.790            </span>│\n",
       "│ When Phoenix and Paris went to the shops, Paris gave the bag to      │<span style=\"color: #00c800; text-decoration-color: #00c800; font-weight: bold\">  Phoenix  </span>│<span style=\"color: #ff0000; text-decoration-color: #ff0000; font-weight: bold\">  Paris    </span>│<span style=\"font-weight: bold\"> 0.502            </span>│\n",
       "│ When Phoenix and Paris went to the shops, Phoenix gave the bag to    │<span style=\"color: #00c800; text-decoration-color: #00c800; font-weight: bold\">  Paris    </span>│<span style=\"color: #ff0000; text-decoration-color: #ff0000; font-weight: bold\">  Phoenix  </span>│<span style=\"font-weight: bold\"> 6.743            </span>│\n",
       "│ When London and Florence went to the shops, Florence gave the bag to │<span style=\"color: #00c800; text-decoration-color: #00c800; font-weight: bold\">  London   </span>│<span style=\"color: #ff0000; text-decoration-color: #ff0000; font-weight: bold\">  Florence </span>│<span style=\"font-weight: bold\"> -0.268           </span>│\n",
       "│ When London and Florence went to the shops, London gave the bag to   │<span style=\"color: #00c800; text-decoration-color: #00c800; font-weight: bold\">  Florence </span>│<span style=\"color: #ff0000; text-decoration-color: #ff0000; font-weight: bold\">  London   </span>│<span style=\"font-weight: bold\"> 4.467            </span>│\n",
       "│ When London and Florence went to the shops, Florence gave the bag to │<span style=\"color: #00c800; text-decoration-color: #00c800; font-weight: bold\">  London   </span>│<span style=\"color: #ff0000; text-decoration-color: #ff0000; font-weight: bold\">  Florence </span>│<span style=\"font-weight: bold\"> -0.268           </span>│\n",
       "│ When London and Florence went to the shops, London gave the bag to   │<span style=\"color: #00c800; text-decoration-color: #00c800; font-weight: bold\">  Florence </span>│<span style=\"color: #ff0000; text-decoration-color: #ff0000; font-weight: bold\">  London   </span>│<span style=\"font-weight: bold\"> 4.467            </span>│\n",
       "│ When Brooklyn and Paris went to the shops, Paris gave the bag to     │<span style=\"color: #00c800; text-decoration-color: #00c800; font-weight: bold\">  Brooklyn </span>│<span style=\"color: #ff0000; text-decoration-color: #ff0000; font-weight: bold\">  Paris    </span>│<span style=\"font-weight: bold\"> -0.601           </span>│\n",
       "│ When Brooklyn and Paris went to the shops, Brooklyn gave the bag to  │<span style=\"color: #00c800; text-decoration-color: #00c800; font-weight: bold\">  Paris    </span>│<span style=\"color: #ff0000; text-decoration-color: #ff0000; font-weight: bold\">  Brooklyn </span>│<span style=\"font-weight: bold\"> 8.024            </span>│\n",
       "│ When Austin and Paris went to the shops, Paris gave the bag to       │<span style=\"color: #00c800; text-decoration-color: #00c800; font-weight: bold\">  Austin   </span>│<span style=\"color: #ff0000; text-decoration-color: #ff0000; font-weight: bold\">  Paris    </span>│<span style=\"font-weight: bold\"> 3.903            </span>│\n",
       "│ When Austin and Paris went to the shops, Austin gave the bag to      │<span style=\"color: #00c800; text-decoration-color: #00c800; font-weight: bold\">  Paris    </span>│<span style=\"color: #ff0000; text-decoration-color: #ff0000; font-weight: bold\">  Austin   </span>│<span style=\"font-weight: bold\"> 7.673            </span>│\n",
       "│ When Brooklyn and London went to the shops, London gave the bag to   │<span style=\"color: #00c800; text-decoration-color: #00c800; font-weight: bold\">  Brooklyn </span>│<span style=\"color: #ff0000; text-decoration-color: #ff0000; font-weight: bold\">  London   </span>│<span style=\"font-weight: bold\"> -0.108           </span>│\n",
       "│ When Brooklyn and London went to the shops, Brooklyn gave the bag to │<span style=\"color: #00c800; text-decoration-color: #00c800; font-weight: bold\">  London   </span>│<span style=\"color: #ff0000; text-decoration-color: #ff0000; font-weight: bold\">  Brooklyn </span>│<span style=\"font-weight: bold\"> 4.468            </span>│\n",
       "│ When Paris and Phoenix went to the shops, Phoenix gave the bag to    │<span style=\"color: #00c800; text-decoration-color: #00c800; font-weight: bold\">  Paris    </span>│<span style=\"color: #ff0000; text-decoration-color: #ff0000; font-weight: bold\">  Phoenix  </span>│<span style=\"font-weight: bold\"> 0.388            </span>│\n",
       "│ When Paris and Phoenix went to the shops, Paris gave the bag to      │<span style=\"color: #00c800; text-decoration-color: #00c800; font-weight: bold\">  Phoenix  </span>│<span style=\"color: #ff0000; text-decoration-color: #ff0000; font-weight: bold\">  Paris    </span>│<span style=\"font-weight: bold\"> 3.778            </span>│\n",
       "│ When Mary and Isaac went to the shops, Isaac gave the bag to         │<span style=\"color: #00c800; text-decoration-color: #00c800; font-weight: bold\">  Mary     </span>│<span style=\"color: #ff0000; text-decoration-color: #ff0000; font-weight: bold\">  Isaac    </span>│<span style=\"font-weight: bold\"> 4.724            </span>│\n",
       "│ When Mary and Isaac went to the shops, Mary gave the bag to          │<span style=\"color: #00c800; text-decoration-color: #00c800; font-weight: bold\">  Isaac    </span>│<span style=\"color: #ff0000; text-decoration-color: #ff0000; font-weight: bold\">  Mary     </span>│<span style=\"font-weight: bold\"> 1.970            </span>│\n",
       "│ When Mary and Noah went to the shops, Noah gave the bag to           │<span style=\"color: #00c800; text-decoration-color: #00c800; font-weight: bold\">  Mary     </span>│<span style=\"color: #ff0000; text-decoration-color: #ff0000; font-weight: bold\">  Noah     </span>│<span style=\"font-weight: bold\"> 4.331            </span>│\n",
       "│ When Mary and Noah went to the shops, Mary gave the bag to           │<span style=\"color: #00c800; text-decoration-color: #00c800; font-weight: bold\">  Noah     </span>│<span style=\"color: #ff0000; text-decoration-color: #ff0000; font-weight: bold\">  Mary     </span>│<span style=\"font-weight: bold\"> 2.820            </span>│\n",
       "│ When Joseph and Jesus went to the shops, Jesus gave the bag to       │<span style=\"color: #00c800; text-decoration-color: #00c800; font-weight: bold\">  Joseph   </span>│<span style=\"color: #ff0000; text-decoration-color: #ff0000; font-weight: bold\">  Jesus    </span>│<span style=\"font-weight: bold\"> 3.808            </span>│\n",
       "│ When Joseph and Jesus went to the shops, Joseph gave the bag to      │<span style=\"color: #00c800; text-decoration-color: #00c800; font-weight: bold\">  Jesus    </span>│<span style=\"color: #ff0000; text-decoration-color: #ff0000; font-weight: bold\">  Joseph   </span>│<span style=\"font-weight: bold\"> 1.881            </span>│\n",
       "│ When Paul and Mary went to the shops, Mary gave the bag to           │<span style=\"color: #00c800; text-decoration-color: #00c800; font-weight: bold\">  Paul     </span>│<span style=\"color: #ff0000; text-decoration-color: #ff0000; font-weight: bold\">  Mary     </span>│<span style=\"font-weight: bold\"> 5.106            </span>│\n",
       "│ When Paul and Mary went to the shops, Paul gave the bag to           │<span style=\"color: #00c800; text-decoration-color: #00c800; font-weight: bold\">  Mary     </span>│<span style=\"color: #ff0000; text-decoration-color: #ff0000; font-weight: bold\">  Paul     </span>│<span style=\"font-weight: bold\"> 4.334            </span>│\n",
       "│ When Paul and Isaac went to the shops, Isaac gave the bag to         │<span style=\"color: #00c800; text-decoration-color: #00c800; font-weight: bold\">  Paul     </span>│<span style=\"color: #ff0000; text-decoration-color: #ff0000; font-weight: bold\">  Isaac    </span>│<span style=\"font-weight: bold\"> 4.513            </span>│\n",
       "│ When Paul and Isaac went to the shops, Paul gave the bag to          │<span style=\"color: #00c800; text-decoration-color: #00c800; font-weight: bold\">  Isaac    </span>│<span style=\"color: #ff0000; text-decoration-color: #ff0000; font-weight: bold\">  Paul     </span>│<span style=\"font-weight: bold\"> 4.195            </span>│\n",
       "│ When Isaac and Joseph went to the shops, Joseph gave the bag to      │<span style=\"color: #00c800; text-decoration-color: #00c800; font-weight: bold\">  Isaac    </span>│<span style=\"color: #ff0000; text-decoration-color: #ff0000; font-weight: bold\">  Joseph   </span>│<span style=\"font-weight: bold\"> 2.299            </span>│\n",
       "│ When Isaac and Joseph went to the shops, Isaac gave the bag to       │<span style=\"color: #00c800; text-decoration-color: #00c800; font-weight: bold\">  Joseph   </span>│<span style=\"color: #ff0000; text-decoration-color: #ff0000; font-weight: bold\">  Isaac    </span>│<span style=\"font-weight: bold\"> 5.545            </span>│\n",
       "│ When Noah and Jacob went to the shops, Jacob gave the bag to         │<span style=\"color: #00c800; text-decoration-color: #00c800; font-weight: bold\">  Noah     </span>│<span style=\"color: #ff0000; text-decoration-color: #ff0000; font-weight: bold\">  Jacob    </span>│<span style=\"font-weight: bold\"> 4.277            </span>│\n",
       "│ When Noah and Jacob went to the shops, Noah gave the bag to          │<span style=\"color: #00c800; text-decoration-color: #00c800; font-weight: bold\">  Jacob    </span>│<span style=\"color: #ff0000; text-decoration-color: #ff0000; font-weight: bold\">  Noah     </span>│<span style=\"font-weight: bold\"> 3.373            </span>│\n",
       "│ When Mary and Noah went to the shops, Noah gave the bag to           │<span style=\"color: #00c800; text-decoration-color: #00c800; font-weight: bold\">  Mary     </span>│<span style=\"color: #ff0000; text-decoration-color: #ff0000; font-weight: bold\">  Noah     </span>│<span style=\"font-weight: bold\"> 4.331            </span>│\n",
       "│ When Mary and Noah went to the shops, Mary gave the bag to           │<span style=\"color: #00c800; text-decoration-color: #00c800; font-weight: bold\">  Noah     </span>│<span style=\"color: #ff0000; text-decoration-color: #ff0000; font-weight: bold\">  Mary     </span>│<span style=\"font-weight: bold\"> 2.820            </span>│\n",
       "│ When Jesus and Jacob went to the shops, Jacob gave the bag to        │<span style=\"color: #00c800; text-decoration-color: #00c800; font-weight: bold\">  Jesus    </span>│<span style=\"color: #ff0000; text-decoration-color: #ff0000; font-weight: bold\">  Jacob    </span>│<span style=\"font-weight: bold\"> 1.831            </span>│\n",
       "│ When Jesus and Jacob went to the shops, Jesus gave the bag to        │<span style=\"color: #00c800; text-decoration-color: #00c800; font-weight: bold\">  Jacob    </span>│<span style=\"color: #ff0000; text-decoration-color: #ff0000; font-weight: bold\">  Jesus    </span>│<span style=\"font-weight: bold\"> 3.583            </span>│\n",
       "│ When Paul and Noah went to the shops, Noah gave the bag to           │<span style=\"color: #00c800; text-decoration-color: #00c800; font-weight: bold\">  Paul     </span>│<span style=\"color: #ff0000; text-decoration-color: #ff0000; font-weight: bold\">  Noah     </span>│<span style=\"font-weight: bold\"> 2.641            </span>│\n",
       "│ When Paul and Noah went to the shops, Paul gave the bag to           │<span style=\"color: #00c800; text-decoration-color: #00c800; font-weight: bold\">  Noah     </span>│<span style=\"color: #ff0000; text-decoration-color: #ff0000; font-weight: bold\">  Paul     </span>│<span style=\"font-weight: bold\"> 5.343            </span>│\n",
       "│ When Florence and Devon went to the shops, Devon gave the bag to     │<span style=\"color: #00c800; text-decoration-color: #00c800; font-weight: bold\">  Florence </span>│<span style=\"color: #ff0000; text-decoration-color: #ff0000; font-weight: bold\">  Devon    </span>│<span style=\"font-weight: bold\"> 4.434            </span>│\n",
       "│ When Florence and Devon went to the shops, Florence gave the bag to  │<span style=\"color: #00c800; text-decoration-color: #00c800; font-weight: bold\">  Devon    </span>│<span style=\"color: #ff0000; text-decoration-color: #ff0000; font-weight: bold\">  Florence </span>│<span style=\"font-weight: bold\"> 6.011            </span>│\n",
       "│ When Brooklyn and Phoenix went to the shops, Phoenix gave the bag to │<span style=\"color: #00c800; text-decoration-color: #00c800; font-weight: bold\">  Brooklyn </span>│<span style=\"color: #ff0000; text-decoration-color: #ff0000; font-weight: bold\">  Phoenix  </span>│<span style=\"font-weight: bold\"> 0.111            </span>│\n",
       "│ When Brooklyn and Phoenix went to the shops, Brooklyn gave the bag   │<span style=\"color: #00c800; text-decoration-color: #00c800; font-weight: bold\">  Phoenix  </span>│<span style=\"color: #ff0000; text-decoration-color: #ff0000; font-weight: bold\">  Brooklyn </span>│<span style=\"font-weight: bold\"> 6.009            </span>│\n",
       "│ to                                                                   │<span style=\"color: #00c800; text-decoration-color: #00c800; font-weight: bold\">           </span>│<span style=\"color: #ff0000; text-decoration-color: #ff0000; font-weight: bold\">           </span>│<span style=\"font-weight: bold\">                  </span>│\n",
       "│ When Paris and London went to the shops, London gave the bag to      │<span style=\"color: #00c800; text-decoration-color: #00c800; font-weight: bold\">  Paris    </span>│<span style=\"color: #ff0000; text-decoration-color: #ff0000; font-weight: bold\">  London   </span>│<span style=\"font-weight: bold\"> 1.465            </span>│\n",
       "│ When Paris and London went to the shops, Paris gave the bag to       │<span style=\"color: #00c800; text-decoration-color: #00c800; font-weight: bold\">  London   </span>│<span style=\"color: #ff0000; text-decoration-color: #ff0000; font-weight: bold\">  Paris    </span>│<span style=\"font-weight: bold\"> 1.790            </span>│\n",
       "│ When Phoenix and Paris went to the shops, Paris gave the bag to      │<span style=\"color: #00c800; text-decoration-color: #00c800; font-weight: bold\">  Phoenix  </span>│<span style=\"color: #ff0000; text-decoration-color: #ff0000; font-weight: bold\">  Paris    </span>│<span style=\"font-weight: bold\"> 0.502            </span>│\n",
       "│ When Phoenix and Paris went to the shops, Phoenix gave the bag to    │<span style=\"color: #00c800; text-decoration-color: #00c800; font-weight: bold\">  Paris    </span>│<span style=\"color: #ff0000; text-decoration-color: #ff0000; font-weight: bold\">  Phoenix  </span>│<span style=\"font-weight: bold\"> 6.743            </span>│\n",
       "│ When London and Florence went to the shops, Florence gave the bag to │<span style=\"color: #00c800; text-decoration-color: #00c800; font-weight: bold\">  London   </span>│<span style=\"color: #ff0000; text-decoration-color: #ff0000; font-weight: bold\">  Florence </span>│<span style=\"font-weight: bold\"> -0.268           </span>│\n",
       "│ When London and Florence went to the shops, London gave the bag to   │<span style=\"color: #00c800; text-decoration-color: #00c800; font-weight: bold\">  Florence </span>│<span style=\"color: #ff0000; text-decoration-color: #ff0000; font-weight: bold\">  London   </span>│<span style=\"font-weight: bold\"> 4.467            </span>│\n",
       "│ When London and Florence went to the shops, Florence gave the bag to │<span style=\"color: #00c800; text-decoration-color: #00c800; font-weight: bold\">  London   </span>│<span style=\"color: #ff0000; text-decoration-color: #ff0000; font-weight: bold\">  Florence </span>│<span style=\"font-weight: bold\"> -0.268           </span>│\n",
       "│ When London and Florence went to the shops, London gave the bag to   │<span style=\"color: #00c800; text-decoration-color: #00c800; font-weight: bold\">  Florence </span>│<span style=\"color: #ff0000; text-decoration-color: #ff0000; font-weight: bold\">  London   </span>│<span style=\"font-weight: bold\"> 4.467            </span>│\n",
       "│ When Brooklyn and Paris went to the shops, Paris gave the bag to     │<span style=\"color: #00c800; text-decoration-color: #00c800; font-weight: bold\">  Brooklyn </span>│<span style=\"color: #ff0000; text-decoration-color: #ff0000; font-weight: bold\">  Paris    </span>│<span style=\"font-weight: bold\"> -0.601           </span>│\n",
       "│ When Brooklyn and Paris went to the shops, Brooklyn gave the bag to  │<span style=\"color: #00c800; text-decoration-color: #00c800; font-weight: bold\">  Paris    </span>│<span style=\"color: #ff0000; text-decoration-color: #ff0000; font-weight: bold\">  Brooklyn </span>│<span style=\"font-weight: bold\"> 8.024            </span>│\n",
       "│ When Austin and Paris went to the shops, Paris gave the bag to       │<span style=\"color: #00c800; text-decoration-color: #00c800; font-weight: bold\">  Austin   </span>│<span style=\"color: #ff0000; text-decoration-color: #ff0000; font-weight: bold\">  Paris    </span>│<span style=\"font-weight: bold\"> 3.903            </span>│\n",
       "│ When Austin and Paris went to the shops, Austin gave the bag to      │<span style=\"color: #00c800; text-decoration-color: #00c800; font-weight: bold\">  Paris    </span>│<span style=\"color: #ff0000; text-decoration-color: #ff0000; font-weight: bold\">  Austin   </span>│<span style=\"font-weight: bold\"> 7.673            </span>│\n",
       "│ When Brooklyn and London went to the shops, London gave the bag to   │<span style=\"color: #00c800; text-decoration-color: #00c800; font-weight: bold\">  Brooklyn </span>│<span style=\"color: #ff0000; text-decoration-color: #ff0000; font-weight: bold\">  London   </span>│<span style=\"font-weight: bold\"> -0.108           </span>│\n",
       "│ When Brooklyn and London went to the shops, Brooklyn gave the bag to │<span style=\"color: #00c800; text-decoration-color: #00c800; font-weight: bold\">  London   </span>│<span style=\"color: #ff0000; text-decoration-color: #ff0000; font-weight: bold\">  Brooklyn </span>│<span style=\"font-weight: bold\"> 4.468            </span>│\n",
       "│ When Paris and Phoenix went to the shops, Phoenix gave the bag to    │<span style=\"color: #00c800; text-decoration-color: #00c800; font-weight: bold\">  Paris    </span>│<span style=\"color: #ff0000; text-decoration-color: #ff0000; font-weight: bold\">  Phoenix  </span>│<span style=\"font-weight: bold\"> 0.388            </span>│\n",
       "│ When Paris and Phoenix went to the shops, Paris gave the bag to      │<span style=\"color: #00c800; text-decoration-color: #00c800; font-weight: bold\">  Phoenix  </span>│<span style=\"color: #ff0000; text-decoration-color: #ff0000; font-weight: bold\">  Paris    </span>│<span style=\"font-weight: bold\"> 3.778            </span>│\n",
       "└──────────────────────────────────────────────────────────────────────┴───────────┴───────────┴──────────────────┘\n",
       "</pre>\n"
      ],
      "text/plain": [
       "\u001b[3m                                         Full Dist: Ave logit diff = 2.628                                         \u001b[0m\n",
       "┏━━━━━━━━━━━━━━━━━━━━━━━━━━━━━━━━━━━━━━━━━━━━━━━━━━━━━━━━━━━━━━━━━━━━━━┳━━━━━━━━━━━┳━━━━━━━━━━━┳━━━━━━━━━━━━━━━━━━┓\n",
       "┃\u001b[1m \u001b[0m\u001b[1mPrompt                                                              \u001b[0m\u001b[1m \u001b[0m┃\u001b[1m \u001b[0m\u001b[1mCorrect  \u001b[0m\u001b[1m \u001b[0m┃\u001b[1m \u001b[0m\u001b[1mIncorrect\u001b[0m\u001b[1m \u001b[0m┃\u001b[1m \u001b[0m\u001b[1mLogit Difference\u001b[0m\u001b[1m \u001b[0m┃\n",
       "┡━━━━━━━━━━━━━━━━━━━━━━━━━━━━━━━━━━━━━━━━━━━━━━━━━━━━━━━━━━━━━━━━━━━━━━╇━━━━━━━━━━━╇━━━━━━━━━━━╇━━━━━━━━━━━━━━━━━━┩\n",
       "│ When bag and church went to the shops, church gave the bag to        │\u001b[1;38;2;0;200;0m \u001b[0m\u001b[1;38;2;0;200;0m bag     \u001b[0m\u001b[1;38;2;0;200;0m \u001b[0m│\u001b[1;38;2;255;0;0m \u001b[0m\u001b[1;38;2;255;0;0m church  \u001b[0m\u001b[1;38;2;255;0;0m \u001b[0m│\u001b[1m \u001b[0m\u001b[1m-2.265          \u001b[0m\u001b[1m \u001b[0m│\n",
       "│ When bag and church went to the shops, bag gave the bag to           │\u001b[1;38;2;0;200;0m \u001b[0m\u001b[1;38;2;0;200;0m church  \u001b[0m\u001b[1;38;2;0;200;0m \u001b[0m│\u001b[1;38;2;255;0;0m \u001b[0m\u001b[1;38;2;255;0;0m bag     \u001b[0m\u001b[1;38;2;255;0;0m \u001b[0m│\u001b[1m \u001b[0m\u001b[1m2.326           \u001b[0m\u001b[1m \u001b[0m│\n",
       "│ When goose and chair went to the shops, chair gave the bag to        │\u001b[1;38;2;0;200;0m \u001b[0m\u001b[1;38;2;0;200;0m goose   \u001b[0m\u001b[1;38;2;0;200;0m \u001b[0m│\u001b[1;38;2;255;0;0m \u001b[0m\u001b[1;38;2;255;0;0m chair   \u001b[0m\u001b[1;38;2;255;0;0m \u001b[0m│\u001b[1m \u001b[0m\u001b[1m2.073           \u001b[0m\u001b[1m \u001b[0m│\n",
       "│ When goose and chair went to the shops, goose gave the bag to        │\u001b[1;38;2;0;200;0m \u001b[0m\u001b[1;38;2;0;200;0m chair   \u001b[0m\u001b[1;38;2;0;200;0m \u001b[0m│\u001b[1;38;2;255;0;0m \u001b[0m\u001b[1;38;2;255;0;0m goose   \u001b[0m\u001b[1;38;2;255;0;0m \u001b[0m│\u001b[1m \u001b[0m\u001b[1m-0.519          \u001b[0m\u001b[1m \u001b[0m│\n",
       "│ When goose and chair went to the shops, chair gave the bag to        │\u001b[1;38;2;0;200;0m \u001b[0m\u001b[1;38;2;0;200;0m goose   \u001b[0m\u001b[1;38;2;0;200;0m \u001b[0m│\u001b[1;38;2;255;0;0m \u001b[0m\u001b[1;38;2;255;0;0m chair   \u001b[0m\u001b[1;38;2;255;0;0m \u001b[0m│\u001b[1m \u001b[0m\u001b[1m2.073           \u001b[0m\u001b[1m \u001b[0m│\n",
       "│ When goose and chair went to the shops, goose gave the bag to        │\u001b[1;38;2;0;200;0m \u001b[0m\u001b[1;38;2;0;200;0m chair   \u001b[0m\u001b[1;38;2;0;200;0m \u001b[0m│\u001b[1;38;2;255;0;0m \u001b[0m\u001b[1;38;2;255;0;0m goose   \u001b[0m\u001b[1;38;2;255;0;0m \u001b[0m│\u001b[1m \u001b[0m\u001b[1m-0.519          \u001b[0m\u001b[1m \u001b[0m│\n",
       "│ When bag and google went to the shops, google gave the bag to        │\u001b[1;38;2;0;200;0m \u001b[0m\u001b[1;38;2;0;200;0m bag     \u001b[0m\u001b[1;38;2;0;200;0m \u001b[0m│\u001b[1;38;2;255;0;0m \u001b[0m\u001b[1;38;2;255;0;0m google  \u001b[0m\u001b[1;38;2;255;0;0m \u001b[0m│\u001b[1m \u001b[0m\u001b[1m-0.198          \u001b[0m\u001b[1m \u001b[0m│\n",
       "│ When bag and google went to the shops, bag gave the bag to           │\u001b[1;38;2;0;200;0m \u001b[0m\u001b[1;38;2;0;200;0m google  \u001b[0m\u001b[1;38;2;0;200;0m \u001b[0m│\u001b[1;38;2;255;0;0m \u001b[0m\u001b[1;38;2;255;0;0m bag     \u001b[0m\u001b[1;38;2;255;0;0m \u001b[0m│\u001b[1m \u001b[0m\u001b[1m1.003           \u001b[0m\u001b[1m \u001b[0m│\n",
       "│ When church and bag went to the shops, bag gave the bag to           │\u001b[1;38;2;0;200;0m \u001b[0m\u001b[1;38;2;0;200;0m church  \u001b[0m\u001b[1;38;2;0;200;0m \u001b[0m│\u001b[1;38;2;255;0;0m \u001b[0m\u001b[1;38;2;255;0;0m bag     \u001b[0m\u001b[1;38;2;255;0;0m \u001b[0m│\u001b[1m \u001b[0m\u001b[1m1.690           \u001b[0m\u001b[1m \u001b[0m│\n",
       "│ When church and bag went to the shops, church gave the bag to        │\u001b[1;38;2;0;200;0m \u001b[0m\u001b[1;38;2;0;200;0m bag     \u001b[0m\u001b[1;38;2;0;200;0m \u001b[0m│\u001b[1;38;2;255;0;0m \u001b[0m\u001b[1;38;2;255;0;0m church  \u001b[0m\u001b[1;38;2;255;0;0m \u001b[0m│\u001b[1m \u001b[0m\u001b[1m-1.319          \u001b[0m\u001b[1m \u001b[0m│\n",
       "│ When chair and bag went to the shops, bag gave the bag to            │\u001b[1;38;2;0;200;0m \u001b[0m\u001b[1;38;2;0;200;0m chair   \u001b[0m\u001b[1;38;2;0;200;0m \u001b[0m│\u001b[1;38;2;255;0;0m \u001b[0m\u001b[1;38;2;255;0;0m bag     \u001b[0m\u001b[1;38;2;255;0;0m \u001b[0m│\u001b[1m \u001b[0m\u001b[1m-0.277          \u001b[0m\u001b[1m \u001b[0m│\n",
       "│ When chair and bag went to the shops, chair gave the bag to          │\u001b[1;38;2;0;200;0m \u001b[0m\u001b[1;38;2;0;200;0m bag     \u001b[0m\u001b[1;38;2;0;200;0m \u001b[0m│\u001b[1;38;2;255;0;0m \u001b[0m\u001b[1;38;2;255;0;0m chair   \u001b[0m\u001b[1;38;2;255;0;0m \u001b[0m│\u001b[1m \u001b[0m\u001b[1m2.837           \u001b[0m\u001b[1m \u001b[0m│\n",
       "│ When google and lamp went to the shops, lamp gave the bag to         │\u001b[1;38;2;0;200;0m \u001b[0m\u001b[1;38;2;0;200;0m google  \u001b[0m\u001b[1;38;2;0;200;0m \u001b[0m│\u001b[1;38;2;255;0;0m \u001b[0m\u001b[1;38;2;255;0;0m lamp    \u001b[0m\u001b[1;38;2;255;0;0m \u001b[0m│\u001b[1m \u001b[0m\u001b[1m-1.220          \u001b[0m\u001b[1m \u001b[0m│\n",
       "│ When google and lamp went to the shops, google gave the bag to       │\u001b[1;38;2;0;200;0m \u001b[0m\u001b[1;38;2;0;200;0m lamp    \u001b[0m\u001b[1;38;2;0;200;0m \u001b[0m│\u001b[1;38;2;255;0;0m \u001b[0m\u001b[1;38;2;255;0;0m google  \u001b[0m\u001b[1;38;2;255;0;0m \u001b[0m│\u001b[1m \u001b[0m\u001b[1m-0.124          \u001b[0m\u001b[1m \u001b[0m│\n",
       "│ When chair and bag went to the shops, bag gave the bag to            │\u001b[1;38;2;0;200;0m \u001b[0m\u001b[1;38;2;0;200;0m chair   \u001b[0m\u001b[1;38;2;0;200;0m \u001b[0m│\u001b[1;38;2;255;0;0m \u001b[0m\u001b[1;38;2;255;0;0m bag     \u001b[0m\u001b[1;38;2;255;0;0m \u001b[0m│\u001b[1m \u001b[0m\u001b[1m-0.277          \u001b[0m\u001b[1m \u001b[0m│\n",
       "│ When chair and bag went to the shops, chair gave the bag to          │\u001b[1;38;2;0;200;0m \u001b[0m\u001b[1;38;2;0;200;0m bag     \u001b[0m\u001b[1;38;2;0;200;0m \u001b[0m│\u001b[1;38;2;255;0;0m \u001b[0m\u001b[1;38;2;255;0;0m chair   \u001b[0m\u001b[1;38;2;255;0;0m \u001b[0m│\u001b[1m \u001b[0m\u001b[1m2.837           \u001b[0m\u001b[1m \u001b[0m│\n",
       "│ When goose and google went to the shops, google gave the bag to      │\u001b[1;38;2;0;200;0m \u001b[0m\u001b[1;38;2;0;200;0m goose   \u001b[0m\u001b[1;38;2;0;200;0m \u001b[0m│\u001b[1;38;2;255;0;0m \u001b[0m\u001b[1;38;2;255;0;0m google  \u001b[0m\u001b[1;38;2;255;0;0m \u001b[0m│\u001b[1m \u001b[0m\u001b[1m-0.262          \u001b[0m\u001b[1m \u001b[0m│\n",
       "│ When goose and google went to the shops, goose gave the bag to       │\u001b[1;38;2;0;200;0m \u001b[0m\u001b[1;38;2;0;200;0m google  \u001b[0m\u001b[1;38;2;0;200;0m \u001b[0m│\u001b[1;38;2;255;0;0m \u001b[0m\u001b[1;38;2;255;0;0m goose   \u001b[0m\u001b[1;38;2;255;0;0m \u001b[0m│\u001b[1m \u001b[0m\u001b[1m1.381           \u001b[0m\u001b[1m \u001b[0m│\n",
       "│ When statue and bag went to the shops, bag gave the bag to           │\u001b[1;38;2;0;200;0m \u001b[0m\u001b[1;38;2;0;200;0m statue  \u001b[0m\u001b[1;38;2;0;200;0m \u001b[0m│\u001b[1;38;2;255;0;0m \u001b[0m\u001b[1;38;2;255;0;0m bag     \u001b[0m\u001b[1;38;2;255;0;0m \u001b[0m│\u001b[1m \u001b[0m\u001b[1m-1.878          \u001b[0m\u001b[1m \u001b[0m│\n",
       "│ When statue and bag went to the shops, statue gave the bag to        │\u001b[1;38;2;0;200;0m \u001b[0m\u001b[1;38;2;0;200;0m bag     \u001b[0m\u001b[1;38;2;0;200;0m \u001b[0m│\u001b[1;38;2;255;0;0m \u001b[0m\u001b[1;38;2;255;0;0m statue  \u001b[0m\u001b[1;38;2;255;0;0m \u001b[0m│\u001b[1m \u001b[0m\u001b[1m3.145           \u001b[0m\u001b[1m \u001b[0m│\n",
       "│ When Florence and Devon went to the shops, Devon gave the bag to     │\u001b[1;38;2;0;200;0m \u001b[0m\u001b[1;38;2;0;200;0m Florence\u001b[0m\u001b[1;38;2;0;200;0m \u001b[0m│\u001b[1;38;2;255;0;0m \u001b[0m\u001b[1;38;2;255;0;0m Devon   \u001b[0m\u001b[1;38;2;255;0;0m \u001b[0m│\u001b[1m \u001b[0m\u001b[1m4.434           \u001b[0m\u001b[1m \u001b[0m│\n",
       "│ When Florence and Devon went to the shops, Florence gave the bag to  │\u001b[1;38;2;0;200;0m \u001b[0m\u001b[1;38;2;0;200;0m Devon   \u001b[0m\u001b[1;38;2;0;200;0m \u001b[0m│\u001b[1;38;2;255;0;0m \u001b[0m\u001b[1;38;2;255;0;0m Florence\u001b[0m\u001b[1;38;2;255;0;0m \u001b[0m│\u001b[1m \u001b[0m\u001b[1m6.011           \u001b[0m\u001b[1m \u001b[0m│\n",
       "│ When Brooklyn and Phoenix went to the shops, Phoenix gave the bag to │\u001b[1;38;2;0;200;0m \u001b[0m\u001b[1;38;2;0;200;0m Brooklyn\u001b[0m\u001b[1;38;2;0;200;0m \u001b[0m│\u001b[1;38;2;255;0;0m \u001b[0m\u001b[1;38;2;255;0;0m Phoenix \u001b[0m\u001b[1;38;2;255;0;0m \u001b[0m│\u001b[1m \u001b[0m\u001b[1m0.111           \u001b[0m\u001b[1m \u001b[0m│\n",
       "│ When Brooklyn and Phoenix went to the shops, Brooklyn gave the bag   │\u001b[1;38;2;0;200;0m \u001b[0m\u001b[1;38;2;0;200;0m Phoenix \u001b[0m\u001b[1;38;2;0;200;0m \u001b[0m│\u001b[1;38;2;255;0;0m \u001b[0m\u001b[1;38;2;255;0;0m Brooklyn\u001b[0m\u001b[1;38;2;255;0;0m \u001b[0m│\u001b[1m \u001b[0m\u001b[1m6.009           \u001b[0m\u001b[1m \u001b[0m│\n",
       "│ to                                                                   │\u001b[1;38;2;0;200;0m           \u001b[0m│\u001b[1;38;2;255;0;0m           \u001b[0m│\u001b[1m                  \u001b[0m│\n",
       "│ When Paris and London went to the shops, London gave the bag to      │\u001b[1;38;2;0;200;0m \u001b[0m\u001b[1;38;2;0;200;0m Paris   \u001b[0m\u001b[1;38;2;0;200;0m \u001b[0m│\u001b[1;38;2;255;0;0m \u001b[0m\u001b[1;38;2;255;0;0m London  \u001b[0m\u001b[1;38;2;255;0;0m \u001b[0m│\u001b[1m \u001b[0m\u001b[1m1.465           \u001b[0m\u001b[1m \u001b[0m│\n",
       "│ When Paris and London went to the shops, Paris gave the bag to       │\u001b[1;38;2;0;200;0m \u001b[0m\u001b[1;38;2;0;200;0m London  \u001b[0m\u001b[1;38;2;0;200;0m \u001b[0m│\u001b[1;38;2;255;0;0m \u001b[0m\u001b[1;38;2;255;0;0m Paris   \u001b[0m\u001b[1;38;2;255;0;0m \u001b[0m│\u001b[1m \u001b[0m\u001b[1m1.790           \u001b[0m\u001b[1m \u001b[0m│\n",
       "│ When Phoenix and Paris went to the shops, Paris gave the bag to      │\u001b[1;38;2;0;200;0m \u001b[0m\u001b[1;38;2;0;200;0m Phoenix \u001b[0m\u001b[1;38;2;0;200;0m \u001b[0m│\u001b[1;38;2;255;0;0m \u001b[0m\u001b[1;38;2;255;0;0m Paris   \u001b[0m\u001b[1;38;2;255;0;0m \u001b[0m│\u001b[1m \u001b[0m\u001b[1m0.502           \u001b[0m\u001b[1m \u001b[0m│\n",
       "│ When Phoenix and Paris went to the shops, Phoenix gave the bag to    │\u001b[1;38;2;0;200;0m \u001b[0m\u001b[1;38;2;0;200;0m Paris   \u001b[0m\u001b[1;38;2;0;200;0m \u001b[0m│\u001b[1;38;2;255;0;0m \u001b[0m\u001b[1;38;2;255;0;0m Phoenix \u001b[0m\u001b[1;38;2;255;0;0m \u001b[0m│\u001b[1m \u001b[0m\u001b[1m6.743           \u001b[0m\u001b[1m \u001b[0m│\n",
       "│ When London and Florence went to the shops, Florence gave the bag to │\u001b[1;38;2;0;200;0m \u001b[0m\u001b[1;38;2;0;200;0m London  \u001b[0m\u001b[1;38;2;0;200;0m \u001b[0m│\u001b[1;38;2;255;0;0m \u001b[0m\u001b[1;38;2;255;0;0m Florence\u001b[0m\u001b[1;38;2;255;0;0m \u001b[0m│\u001b[1m \u001b[0m\u001b[1m-0.268          \u001b[0m\u001b[1m \u001b[0m│\n",
       "│ When London and Florence went to the shops, London gave the bag to   │\u001b[1;38;2;0;200;0m \u001b[0m\u001b[1;38;2;0;200;0m Florence\u001b[0m\u001b[1;38;2;0;200;0m \u001b[0m│\u001b[1;38;2;255;0;0m \u001b[0m\u001b[1;38;2;255;0;0m London  \u001b[0m\u001b[1;38;2;255;0;0m \u001b[0m│\u001b[1m \u001b[0m\u001b[1m4.467           \u001b[0m\u001b[1m \u001b[0m│\n",
       "│ When London and Florence went to the shops, Florence gave the bag to │\u001b[1;38;2;0;200;0m \u001b[0m\u001b[1;38;2;0;200;0m London  \u001b[0m\u001b[1;38;2;0;200;0m \u001b[0m│\u001b[1;38;2;255;0;0m \u001b[0m\u001b[1;38;2;255;0;0m Florence\u001b[0m\u001b[1;38;2;255;0;0m \u001b[0m│\u001b[1m \u001b[0m\u001b[1m-0.268          \u001b[0m\u001b[1m \u001b[0m│\n",
       "│ When London and Florence went to the shops, London gave the bag to   │\u001b[1;38;2;0;200;0m \u001b[0m\u001b[1;38;2;0;200;0m Florence\u001b[0m\u001b[1;38;2;0;200;0m \u001b[0m│\u001b[1;38;2;255;0;0m \u001b[0m\u001b[1;38;2;255;0;0m London  \u001b[0m\u001b[1;38;2;255;0;0m \u001b[0m│\u001b[1m \u001b[0m\u001b[1m4.467           \u001b[0m\u001b[1m \u001b[0m│\n",
       "│ When Brooklyn and Paris went to the shops, Paris gave the bag to     │\u001b[1;38;2;0;200;0m \u001b[0m\u001b[1;38;2;0;200;0m Brooklyn\u001b[0m\u001b[1;38;2;0;200;0m \u001b[0m│\u001b[1;38;2;255;0;0m \u001b[0m\u001b[1;38;2;255;0;0m Paris   \u001b[0m\u001b[1;38;2;255;0;0m \u001b[0m│\u001b[1m \u001b[0m\u001b[1m-0.601          \u001b[0m\u001b[1m \u001b[0m│\n",
       "│ When Brooklyn and Paris went to the shops, Brooklyn gave the bag to  │\u001b[1;38;2;0;200;0m \u001b[0m\u001b[1;38;2;0;200;0m Paris   \u001b[0m\u001b[1;38;2;0;200;0m \u001b[0m│\u001b[1;38;2;255;0;0m \u001b[0m\u001b[1;38;2;255;0;0m Brooklyn\u001b[0m\u001b[1;38;2;255;0;0m \u001b[0m│\u001b[1m \u001b[0m\u001b[1m8.024           \u001b[0m\u001b[1m \u001b[0m│\n",
       "│ When Austin and Paris went to the shops, Paris gave the bag to       │\u001b[1;38;2;0;200;0m \u001b[0m\u001b[1;38;2;0;200;0m Austin  \u001b[0m\u001b[1;38;2;0;200;0m \u001b[0m│\u001b[1;38;2;255;0;0m \u001b[0m\u001b[1;38;2;255;0;0m Paris   \u001b[0m\u001b[1;38;2;255;0;0m \u001b[0m│\u001b[1m \u001b[0m\u001b[1m3.903           \u001b[0m\u001b[1m \u001b[0m│\n",
       "│ When Austin and Paris went to the shops, Austin gave the bag to      │\u001b[1;38;2;0;200;0m \u001b[0m\u001b[1;38;2;0;200;0m Paris   \u001b[0m\u001b[1;38;2;0;200;0m \u001b[0m│\u001b[1;38;2;255;0;0m \u001b[0m\u001b[1;38;2;255;0;0m Austin  \u001b[0m\u001b[1;38;2;255;0;0m \u001b[0m│\u001b[1m \u001b[0m\u001b[1m7.673           \u001b[0m\u001b[1m \u001b[0m│\n",
       "│ When Brooklyn and London went to the shops, London gave the bag to   │\u001b[1;38;2;0;200;0m \u001b[0m\u001b[1;38;2;0;200;0m Brooklyn\u001b[0m\u001b[1;38;2;0;200;0m \u001b[0m│\u001b[1;38;2;255;0;0m \u001b[0m\u001b[1;38;2;255;0;0m London  \u001b[0m\u001b[1;38;2;255;0;0m \u001b[0m│\u001b[1m \u001b[0m\u001b[1m-0.108          \u001b[0m\u001b[1m \u001b[0m│\n",
       "│ When Brooklyn and London went to the shops, Brooklyn gave the bag to │\u001b[1;38;2;0;200;0m \u001b[0m\u001b[1;38;2;0;200;0m London  \u001b[0m\u001b[1;38;2;0;200;0m \u001b[0m│\u001b[1;38;2;255;0;0m \u001b[0m\u001b[1;38;2;255;0;0m Brooklyn\u001b[0m\u001b[1;38;2;255;0;0m \u001b[0m│\u001b[1m \u001b[0m\u001b[1m4.468           \u001b[0m\u001b[1m \u001b[0m│\n",
       "│ When Paris and Phoenix went to the shops, Phoenix gave the bag to    │\u001b[1;38;2;0;200;0m \u001b[0m\u001b[1;38;2;0;200;0m Paris   \u001b[0m\u001b[1;38;2;0;200;0m \u001b[0m│\u001b[1;38;2;255;0;0m \u001b[0m\u001b[1;38;2;255;0;0m Phoenix \u001b[0m\u001b[1;38;2;255;0;0m \u001b[0m│\u001b[1m \u001b[0m\u001b[1m0.388           \u001b[0m\u001b[1m \u001b[0m│\n",
       "│ When Paris and Phoenix went to the shops, Paris gave the bag to      │\u001b[1;38;2;0;200;0m \u001b[0m\u001b[1;38;2;0;200;0m Phoenix \u001b[0m\u001b[1;38;2;0;200;0m \u001b[0m│\u001b[1;38;2;255;0;0m \u001b[0m\u001b[1;38;2;255;0;0m Paris   \u001b[0m\u001b[1;38;2;255;0;0m \u001b[0m│\u001b[1m \u001b[0m\u001b[1m3.778           \u001b[0m\u001b[1m \u001b[0m│\n",
       "│ When Mary and Isaac went to the shops, Isaac gave the bag to         │\u001b[1;38;2;0;200;0m \u001b[0m\u001b[1;38;2;0;200;0m Mary    \u001b[0m\u001b[1;38;2;0;200;0m \u001b[0m│\u001b[1;38;2;255;0;0m \u001b[0m\u001b[1;38;2;255;0;0m Isaac   \u001b[0m\u001b[1;38;2;255;0;0m \u001b[0m│\u001b[1m \u001b[0m\u001b[1m4.724           \u001b[0m\u001b[1m \u001b[0m│\n",
       "│ When Mary and Isaac went to the shops, Mary gave the bag to          │\u001b[1;38;2;0;200;0m \u001b[0m\u001b[1;38;2;0;200;0m Isaac   \u001b[0m\u001b[1;38;2;0;200;0m \u001b[0m│\u001b[1;38;2;255;0;0m \u001b[0m\u001b[1;38;2;255;0;0m Mary    \u001b[0m\u001b[1;38;2;255;0;0m \u001b[0m│\u001b[1m \u001b[0m\u001b[1m1.970           \u001b[0m\u001b[1m \u001b[0m│\n",
       "│ When Mary and Noah went to the shops, Noah gave the bag to           │\u001b[1;38;2;0;200;0m \u001b[0m\u001b[1;38;2;0;200;0m Mary    \u001b[0m\u001b[1;38;2;0;200;0m \u001b[0m│\u001b[1;38;2;255;0;0m \u001b[0m\u001b[1;38;2;255;0;0m Noah    \u001b[0m\u001b[1;38;2;255;0;0m \u001b[0m│\u001b[1m \u001b[0m\u001b[1m4.331           \u001b[0m\u001b[1m \u001b[0m│\n",
       "│ When Mary and Noah went to the shops, Mary gave the bag to           │\u001b[1;38;2;0;200;0m \u001b[0m\u001b[1;38;2;0;200;0m Noah    \u001b[0m\u001b[1;38;2;0;200;0m \u001b[0m│\u001b[1;38;2;255;0;0m \u001b[0m\u001b[1;38;2;255;0;0m Mary    \u001b[0m\u001b[1;38;2;255;0;0m \u001b[0m│\u001b[1m \u001b[0m\u001b[1m2.820           \u001b[0m\u001b[1m \u001b[0m│\n",
       "│ When Joseph and Jesus went to the shops, Jesus gave the bag to       │\u001b[1;38;2;0;200;0m \u001b[0m\u001b[1;38;2;0;200;0m Joseph  \u001b[0m\u001b[1;38;2;0;200;0m \u001b[0m│\u001b[1;38;2;255;0;0m \u001b[0m\u001b[1;38;2;255;0;0m Jesus   \u001b[0m\u001b[1;38;2;255;0;0m \u001b[0m│\u001b[1m \u001b[0m\u001b[1m3.808           \u001b[0m\u001b[1m \u001b[0m│\n",
       "│ When Joseph and Jesus went to the shops, Joseph gave the bag to      │\u001b[1;38;2;0;200;0m \u001b[0m\u001b[1;38;2;0;200;0m Jesus   \u001b[0m\u001b[1;38;2;0;200;0m \u001b[0m│\u001b[1;38;2;255;0;0m \u001b[0m\u001b[1;38;2;255;0;0m Joseph  \u001b[0m\u001b[1;38;2;255;0;0m \u001b[0m│\u001b[1m \u001b[0m\u001b[1m1.881           \u001b[0m\u001b[1m \u001b[0m│\n",
       "│ When Paul and Mary went to the shops, Mary gave the bag to           │\u001b[1;38;2;0;200;0m \u001b[0m\u001b[1;38;2;0;200;0m Paul    \u001b[0m\u001b[1;38;2;0;200;0m \u001b[0m│\u001b[1;38;2;255;0;0m \u001b[0m\u001b[1;38;2;255;0;0m Mary    \u001b[0m\u001b[1;38;2;255;0;0m \u001b[0m│\u001b[1m \u001b[0m\u001b[1m5.106           \u001b[0m\u001b[1m \u001b[0m│\n",
       "│ When Paul and Mary went to the shops, Paul gave the bag to           │\u001b[1;38;2;0;200;0m \u001b[0m\u001b[1;38;2;0;200;0m Mary    \u001b[0m\u001b[1;38;2;0;200;0m \u001b[0m│\u001b[1;38;2;255;0;0m \u001b[0m\u001b[1;38;2;255;0;0m Paul    \u001b[0m\u001b[1;38;2;255;0;0m \u001b[0m│\u001b[1m \u001b[0m\u001b[1m4.334           \u001b[0m\u001b[1m \u001b[0m│\n",
       "│ When Paul and Isaac went to the shops, Isaac gave the bag to         │\u001b[1;38;2;0;200;0m \u001b[0m\u001b[1;38;2;0;200;0m Paul    \u001b[0m\u001b[1;38;2;0;200;0m \u001b[0m│\u001b[1;38;2;255;0;0m \u001b[0m\u001b[1;38;2;255;0;0m Isaac   \u001b[0m\u001b[1;38;2;255;0;0m \u001b[0m│\u001b[1m \u001b[0m\u001b[1m4.513           \u001b[0m\u001b[1m \u001b[0m│\n",
       "│ When Paul and Isaac went to the shops, Paul gave the bag to          │\u001b[1;38;2;0;200;0m \u001b[0m\u001b[1;38;2;0;200;0m Isaac   \u001b[0m\u001b[1;38;2;0;200;0m \u001b[0m│\u001b[1;38;2;255;0;0m \u001b[0m\u001b[1;38;2;255;0;0m Paul    \u001b[0m\u001b[1;38;2;255;0;0m \u001b[0m│\u001b[1m \u001b[0m\u001b[1m4.195           \u001b[0m\u001b[1m \u001b[0m│\n",
       "│ When Isaac and Joseph went to the shops, Joseph gave the bag to      │\u001b[1;38;2;0;200;0m \u001b[0m\u001b[1;38;2;0;200;0m Isaac   \u001b[0m\u001b[1;38;2;0;200;0m \u001b[0m│\u001b[1;38;2;255;0;0m \u001b[0m\u001b[1;38;2;255;0;0m Joseph  \u001b[0m\u001b[1;38;2;255;0;0m \u001b[0m│\u001b[1m \u001b[0m\u001b[1m2.299           \u001b[0m\u001b[1m \u001b[0m│\n",
       "│ When Isaac and Joseph went to the shops, Isaac gave the bag to       │\u001b[1;38;2;0;200;0m \u001b[0m\u001b[1;38;2;0;200;0m Joseph  \u001b[0m\u001b[1;38;2;0;200;0m \u001b[0m│\u001b[1;38;2;255;0;0m \u001b[0m\u001b[1;38;2;255;0;0m Isaac   \u001b[0m\u001b[1;38;2;255;0;0m \u001b[0m│\u001b[1m \u001b[0m\u001b[1m5.545           \u001b[0m\u001b[1m \u001b[0m│\n",
       "│ When Noah and Jacob went to the shops, Jacob gave the bag to         │\u001b[1;38;2;0;200;0m \u001b[0m\u001b[1;38;2;0;200;0m Noah    \u001b[0m\u001b[1;38;2;0;200;0m \u001b[0m│\u001b[1;38;2;255;0;0m \u001b[0m\u001b[1;38;2;255;0;0m Jacob   \u001b[0m\u001b[1;38;2;255;0;0m \u001b[0m│\u001b[1m \u001b[0m\u001b[1m4.277           \u001b[0m\u001b[1m \u001b[0m│\n",
       "│ When Noah and Jacob went to the shops, Noah gave the bag to          │\u001b[1;38;2;0;200;0m \u001b[0m\u001b[1;38;2;0;200;0m Jacob   \u001b[0m\u001b[1;38;2;0;200;0m \u001b[0m│\u001b[1;38;2;255;0;0m \u001b[0m\u001b[1;38;2;255;0;0m Noah    \u001b[0m\u001b[1;38;2;255;0;0m \u001b[0m│\u001b[1m \u001b[0m\u001b[1m3.373           \u001b[0m\u001b[1m \u001b[0m│\n",
       "│ When Mary and Noah went to the shops, Noah gave the bag to           │\u001b[1;38;2;0;200;0m \u001b[0m\u001b[1;38;2;0;200;0m Mary    \u001b[0m\u001b[1;38;2;0;200;0m \u001b[0m│\u001b[1;38;2;255;0;0m \u001b[0m\u001b[1;38;2;255;0;0m Noah    \u001b[0m\u001b[1;38;2;255;0;0m \u001b[0m│\u001b[1m \u001b[0m\u001b[1m4.331           \u001b[0m\u001b[1m \u001b[0m│\n",
       "│ When Mary and Noah went to the shops, Mary gave the bag to           │\u001b[1;38;2;0;200;0m \u001b[0m\u001b[1;38;2;0;200;0m Noah    \u001b[0m\u001b[1;38;2;0;200;0m \u001b[0m│\u001b[1;38;2;255;0;0m \u001b[0m\u001b[1;38;2;255;0;0m Mary    \u001b[0m\u001b[1;38;2;255;0;0m \u001b[0m│\u001b[1m \u001b[0m\u001b[1m2.820           \u001b[0m\u001b[1m \u001b[0m│\n",
       "│ When Jesus and Jacob went to the shops, Jacob gave the bag to        │\u001b[1;38;2;0;200;0m \u001b[0m\u001b[1;38;2;0;200;0m Jesus   \u001b[0m\u001b[1;38;2;0;200;0m \u001b[0m│\u001b[1;38;2;255;0;0m \u001b[0m\u001b[1;38;2;255;0;0m Jacob   \u001b[0m\u001b[1;38;2;255;0;0m \u001b[0m│\u001b[1m \u001b[0m\u001b[1m1.831           \u001b[0m\u001b[1m \u001b[0m│\n",
       "│ When Jesus and Jacob went to the shops, Jesus gave the bag to        │\u001b[1;38;2;0;200;0m \u001b[0m\u001b[1;38;2;0;200;0m Jacob   \u001b[0m\u001b[1;38;2;0;200;0m \u001b[0m│\u001b[1;38;2;255;0;0m \u001b[0m\u001b[1;38;2;255;0;0m Jesus   \u001b[0m\u001b[1;38;2;255;0;0m \u001b[0m│\u001b[1m \u001b[0m\u001b[1m3.583           \u001b[0m\u001b[1m \u001b[0m│\n",
       "│ When Paul and Noah went to the shops, Noah gave the bag to           │\u001b[1;38;2;0;200;0m \u001b[0m\u001b[1;38;2;0;200;0m Paul    \u001b[0m\u001b[1;38;2;0;200;0m \u001b[0m│\u001b[1;38;2;255;0;0m \u001b[0m\u001b[1;38;2;255;0;0m Noah    \u001b[0m\u001b[1;38;2;255;0;0m \u001b[0m│\u001b[1m \u001b[0m\u001b[1m2.641           \u001b[0m\u001b[1m \u001b[0m│\n",
       "│ When Paul and Noah went to the shops, Paul gave the bag to           │\u001b[1;38;2;0;200;0m \u001b[0m\u001b[1;38;2;0;200;0m Noah    \u001b[0m\u001b[1;38;2;0;200;0m \u001b[0m│\u001b[1;38;2;255;0;0m \u001b[0m\u001b[1;38;2;255;0;0m Paul    \u001b[0m\u001b[1;38;2;255;0;0m \u001b[0m│\u001b[1m \u001b[0m\u001b[1m5.343           \u001b[0m\u001b[1m \u001b[0m│\n",
       "│ When Florence and Devon went to the shops, Devon gave the bag to     │\u001b[1;38;2;0;200;0m \u001b[0m\u001b[1;38;2;0;200;0m Florence\u001b[0m\u001b[1;38;2;0;200;0m \u001b[0m│\u001b[1;38;2;255;0;0m \u001b[0m\u001b[1;38;2;255;0;0m Devon   \u001b[0m\u001b[1;38;2;255;0;0m \u001b[0m│\u001b[1m \u001b[0m\u001b[1m4.434           \u001b[0m\u001b[1m \u001b[0m│\n",
       "│ When Florence and Devon went to the shops, Florence gave the bag to  │\u001b[1;38;2;0;200;0m \u001b[0m\u001b[1;38;2;0;200;0m Devon   \u001b[0m\u001b[1;38;2;0;200;0m \u001b[0m│\u001b[1;38;2;255;0;0m \u001b[0m\u001b[1;38;2;255;0;0m Florence\u001b[0m\u001b[1;38;2;255;0;0m \u001b[0m│\u001b[1m \u001b[0m\u001b[1m6.011           \u001b[0m\u001b[1m \u001b[0m│\n",
       "│ When Brooklyn and Phoenix went to the shops, Phoenix gave the bag to │\u001b[1;38;2;0;200;0m \u001b[0m\u001b[1;38;2;0;200;0m Brooklyn\u001b[0m\u001b[1;38;2;0;200;0m \u001b[0m│\u001b[1;38;2;255;0;0m \u001b[0m\u001b[1;38;2;255;0;0m Phoenix \u001b[0m\u001b[1;38;2;255;0;0m \u001b[0m│\u001b[1m \u001b[0m\u001b[1m0.111           \u001b[0m\u001b[1m \u001b[0m│\n",
       "│ When Brooklyn and Phoenix went to the shops, Brooklyn gave the bag   │\u001b[1;38;2;0;200;0m \u001b[0m\u001b[1;38;2;0;200;0m Phoenix \u001b[0m\u001b[1;38;2;0;200;0m \u001b[0m│\u001b[1;38;2;255;0;0m \u001b[0m\u001b[1;38;2;255;0;0m Brooklyn\u001b[0m\u001b[1;38;2;255;0;0m \u001b[0m│\u001b[1m \u001b[0m\u001b[1m6.009           \u001b[0m\u001b[1m \u001b[0m│\n",
       "│ to                                                                   │\u001b[1;38;2;0;200;0m           \u001b[0m│\u001b[1;38;2;255;0;0m           \u001b[0m│\u001b[1m                  \u001b[0m│\n",
       "│ When Paris and London went to the shops, London gave the bag to      │\u001b[1;38;2;0;200;0m \u001b[0m\u001b[1;38;2;0;200;0m Paris   \u001b[0m\u001b[1;38;2;0;200;0m \u001b[0m│\u001b[1;38;2;255;0;0m \u001b[0m\u001b[1;38;2;255;0;0m London  \u001b[0m\u001b[1;38;2;255;0;0m \u001b[0m│\u001b[1m \u001b[0m\u001b[1m1.465           \u001b[0m\u001b[1m \u001b[0m│\n",
       "│ When Paris and London went to the shops, Paris gave the bag to       │\u001b[1;38;2;0;200;0m \u001b[0m\u001b[1;38;2;0;200;0m London  \u001b[0m\u001b[1;38;2;0;200;0m \u001b[0m│\u001b[1;38;2;255;0;0m \u001b[0m\u001b[1;38;2;255;0;0m Paris   \u001b[0m\u001b[1;38;2;255;0;0m \u001b[0m│\u001b[1m \u001b[0m\u001b[1m1.790           \u001b[0m\u001b[1m \u001b[0m│\n",
       "│ When Phoenix and Paris went to the shops, Paris gave the bag to      │\u001b[1;38;2;0;200;0m \u001b[0m\u001b[1;38;2;0;200;0m Phoenix \u001b[0m\u001b[1;38;2;0;200;0m \u001b[0m│\u001b[1;38;2;255;0;0m \u001b[0m\u001b[1;38;2;255;0;0m Paris   \u001b[0m\u001b[1;38;2;255;0;0m \u001b[0m│\u001b[1m \u001b[0m\u001b[1m0.502           \u001b[0m\u001b[1m \u001b[0m│\n",
       "│ When Phoenix and Paris went to the shops, Phoenix gave the bag to    │\u001b[1;38;2;0;200;0m \u001b[0m\u001b[1;38;2;0;200;0m Paris   \u001b[0m\u001b[1;38;2;0;200;0m \u001b[0m│\u001b[1;38;2;255;0;0m \u001b[0m\u001b[1;38;2;255;0;0m Phoenix \u001b[0m\u001b[1;38;2;255;0;0m \u001b[0m│\u001b[1m \u001b[0m\u001b[1m6.743           \u001b[0m\u001b[1m \u001b[0m│\n",
       "│ When London and Florence went to the shops, Florence gave the bag to │\u001b[1;38;2;0;200;0m \u001b[0m\u001b[1;38;2;0;200;0m London  \u001b[0m\u001b[1;38;2;0;200;0m \u001b[0m│\u001b[1;38;2;255;0;0m \u001b[0m\u001b[1;38;2;255;0;0m Florence\u001b[0m\u001b[1;38;2;255;0;0m \u001b[0m│\u001b[1m \u001b[0m\u001b[1m-0.268          \u001b[0m\u001b[1m \u001b[0m│\n",
       "│ When London and Florence went to the shops, London gave the bag to   │\u001b[1;38;2;0;200;0m \u001b[0m\u001b[1;38;2;0;200;0m Florence\u001b[0m\u001b[1;38;2;0;200;0m \u001b[0m│\u001b[1;38;2;255;0;0m \u001b[0m\u001b[1;38;2;255;0;0m London  \u001b[0m\u001b[1;38;2;255;0;0m \u001b[0m│\u001b[1m \u001b[0m\u001b[1m4.467           \u001b[0m\u001b[1m \u001b[0m│\n",
       "│ When London and Florence went to the shops, Florence gave the bag to │\u001b[1;38;2;0;200;0m \u001b[0m\u001b[1;38;2;0;200;0m London  \u001b[0m\u001b[1;38;2;0;200;0m \u001b[0m│\u001b[1;38;2;255;0;0m \u001b[0m\u001b[1;38;2;255;0;0m Florence\u001b[0m\u001b[1;38;2;255;0;0m \u001b[0m│\u001b[1m \u001b[0m\u001b[1m-0.268          \u001b[0m\u001b[1m \u001b[0m│\n",
       "│ When London and Florence went to the shops, London gave the bag to   │\u001b[1;38;2;0;200;0m \u001b[0m\u001b[1;38;2;0;200;0m Florence\u001b[0m\u001b[1;38;2;0;200;0m \u001b[0m│\u001b[1;38;2;255;0;0m \u001b[0m\u001b[1;38;2;255;0;0m London  \u001b[0m\u001b[1;38;2;255;0;0m \u001b[0m│\u001b[1m \u001b[0m\u001b[1m4.467           \u001b[0m\u001b[1m \u001b[0m│\n",
       "│ When Brooklyn and Paris went to the shops, Paris gave the bag to     │\u001b[1;38;2;0;200;0m \u001b[0m\u001b[1;38;2;0;200;0m Brooklyn\u001b[0m\u001b[1;38;2;0;200;0m \u001b[0m│\u001b[1;38;2;255;0;0m \u001b[0m\u001b[1;38;2;255;0;0m Paris   \u001b[0m\u001b[1;38;2;255;0;0m \u001b[0m│\u001b[1m \u001b[0m\u001b[1m-0.601          \u001b[0m\u001b[1m \u001b[0m│\n",
       "│ When Brooklyn and Paris went to the shops, Brooklyn gave the bag to  │\u001b[1;38;2;0;200;0m \u001b[0m\u001b[1;38;2;0;200;0m Paris   \u001b[0m\u001b[1;38;2;0;200;0m \u001b[0m│\u001b[1;38;2;255;0;0m \u001b[0m\u001b[1;38;2;255;0;0m Brooklyn\u001b[0m\u001b[1;38;2;255;0;0m \u001b[0m│\u001b[1m \u001b[0m\u001b[1m8.024           \u001b[0m\u001b[1m \u001b[0m│\n",
       "│ When Austin and Paris went to the shops, Paris gave the bag to       │\u001b[1;38;2;0;200;0m \u001b[0m\u001b[1;38;2;0;200;0m Austin  \u001b[0m\u001b[1;38;2;0;200;0m \u001b[0m│\u001b[1;38;2;255;0;0m \u001b[0m\u001b[1;38;2;255;0;0m Paris   \u001b[0m\u001b[1;38;2;255;0;0m \u001b[0m│\u001b[1m \u001b[0m\u001b[1m3.903           \u001b[0m\u001b[1m \u001b[0m│\n",
       "│ When Austin and Paris went to the shops, Austin gave the bag to      │\u001b[1;38;2;0;200;0m \u001b[0m\u001b[1;38;2;0;200;0m Paris   \u001b[0m\u001b[1;38;2;0;200;0m \u001b[0m│\u001b[1;38;2;255;0;0m \u001b[0m\u001b[1;38;2;255;0;0m Austin  \u001b[0m\u001b[1;38;2;255;0;0m \u001b[0m│\u001b[1m \u001b[0m\u001b[1m7.673           \u001b[0m\u001b[1m \u001b[0m│\n",
       "│ When Brooklyn and London went to the shops, London gave the bag to   │\u001b[1;38;2;0;200;0m \u001b[0m\u001b[1;38;2;0;200;0m Brooklyn\u001b[0m\u001b[1;38;2;0;200;0m \u001b[0m│\u001b[1;38;2;255;0;0m \u001b[0m\u001b[1;38;2;255;0;0m London  \u001b[0m\u001b[1;38;2;255;0;0m \u001b[0m│\u001b[1m \u001b[0m\u001b[1m-0.108          \u001b[0m\u001b[1m \u001b[0m│\n",
       "│ When Brooklyn and London went to the shops, Brooklyn gave the bag to │\u001b[1;38;2;0;200;0m \u001b[0m\u001b[1;38;2;0;200;0m London  \u001b[0m\u001b[1;38;2;0;200;0m \u001b[0m│\u001b[1;38;2;255;0;0m \u001b[0m\u001b[1;38;2;255;0;0m Brooklyn\u001b[0m\u001b[1;38;2;255;0;0m \u001b[0m│\u001b[1m \u001b[0m\u001b[1m4.468           \u001b[0m\u001b[1m \u001b[0m│\n",
       "│ When Paris and Phoenix went to the shops, Phoenix gave the bag to    │\u001b[1;38;2;0;200;0m \u001b[0m\u001b[1;38;2;0;200;0m Paris   \u001b[0m\u001b[1;38;2;0;200;0m \u001b[0m│\u001b[1;38;2;255;0;0m \u001b[0m\u001b[1;38;2;255;0;0m Phoenix \u001b[0m\u001b[1;38;2;255;0;0m \u001b[0m│\u001b[1m \u001b[0m\u001b[1m0.388           \u001b[0m\u001b[1m \u001b[0m│\n",
       "│ When Paris and Phoenix went to the shops, Paris gave the bag to      │\u001b[1;38;2;0;200;0m \u001b[0m\u001b[1;38;2;0;200;0m Phoenix \u001b[0m\u001b[1;38;2;0;200;0m \u001b[0m│\u001b[1;38;2;255;0;0m \u001b[0m\u001b[1;38;2;255;0;0m Paris   \u001b[0m\u001b[1;38;2;255;0;0m \u001b[0m│\u001b[1m \u001b[0m\u001b[1m3.778           \u001b[0m\u001b[1m \u001b[0m│\n",
       "└──────────────────────────────────────────────────────────────────────┴───────────┴───────────┴──────────────────┘\n"
      ]
     },
     "metadata": {},
     "output_type": "display_data"
    }
   ],
   "source": [
    "make_table(prompts_n, ans_n, ans_toks_n, \"nouns\")\n",
    "make_table(prompts_pn, ans_pn, ans_toks_pn, \"proper nouns\")\n",
    "make_table(prompts_rel, ans_rel, ans_toks_rel, \"Religious Names\")\n",
    "make_table(prompts_pl, ans_pl, ans_toks_pl, \"Place Names\")\n",
    "make_table(prompts_full, ans_full, ans_toks_full, \"Full Dist\")"
   ]
  },
  {
   "cell_type": "code",
   "execution_count": 20,
   "metadata": {},
   "outputs": [
    {
     "data": {
      "text/html": [
       "<pre style=\"white-space:pre;overflow-x:auto;line-height:normal;font-family:Menlo,'DejaVu Sans Mono',consolas,'Courier New',monospace\"><span style=\"font-style: italic\">                                 small sample of full Dist: Ave logit diff = 2.408                                 </span>\n",
       "┏━━━━━━━━━━━━━━━━━━━━━━━━━━━━━━━━━━━━━━━━━━━━━━━━━━━━━━━━━━━━━━━━━━━━━━┳━━━━━━━━━━━┳━━━━━━━━━━━┳━━━━━━━━━━━━━━━━━━┓\n",
       "┃<span style=\"font-weight: bold\"> Prompt                                                               </span>┃<span style=\"font-weight: bold\"> Correct   </span>┃<span style=\"font-weight: bold\"> Incorrect </span>┃<span style=\"font-weight: bold\"> Logit Difference </span>┃\n",
       "┡━━━━━━━━━━━━━━━━━━━━━━━━━━━━━━━━━━━━━━━━━━━━━━━━━━━━━━━━━━━━━━━━━━━━━━╇━━━━━━━━━━━╇━━━━━━━━━━━╇━━━━━━━━━━━━━━━━━━┩\n",
       "│ When bag and church went to the shops, church gave the bag to        │<span style=\"color: #00c800; text-decoration-color: #00c800; font-weight: bold\">  bag      </span>│<span style=\"color: #ff0000; text-decoration-color: #ff0000; font-weight: bold\">  church   </span>│<span style=\"font-weight: bold\"> -2.265           </span>│\n",
       "│ When bag and church went to the shops, bag gave the bag to           │<span style=\"color: #00c800; text-decoration-color: #00c800; font-weight: bold\">  church   </span>│<span style=\"color: #ff0000; text-decoration-color: #ff0000; font-weight: bold\">  bag      </span>│<span style=\"font-weight: bold\"> 2.326            </span>│\n",
       "│ When goose and chair went to the shops, chair gave the bag to        │<span style=\"color: #00c800; text-decoration-color: #00c800; font-weight: bold\">  goose    </span>│<span style=\"color: #ff0000; text-decoration-color: #ff0000; font-weight: bold\">  chair    </span>│<span style=\"font-weight: bold\"> 2.073            </span>│\n",
       "│ When goose and chair went to the shops, goose gave the bag to        │<span style=\"color: #00c800; text-decoration-color: #00c800; font-weight: bold\">  chair    </span>│<span style=\"color: #ff0000; text-decoration-color: #ff0000; font-weight: bold\">  goose    </span>│<span style=\"font-weight: bold\"> -0.519           </span>│\n",
       "│ When Goose and Google went to the shops, Google gave the bag to      │<span style=\"color: #00c800; text-decoration-color: #00c800; font-weight: bold\">  Goose    </span>│<span style=\"color: #ff0000; text-decoration-color: #ff0000; font-weight: bold\">  Google   </span>│<span style=\"font-weight: bold\"> 0.330            </span>│\n",
       "│ When Goose and Google went to the shops, Goose gave the bag to       │<span style=\"color: #00c800; text-decoration-color: #00c800; font-weight: bold\">  Google   </span>│<span style=\"color: #ff0000; text-decoration-color: #ff0000; font-weight: bold\">  Goose    </span>│<span style=\"font-weight: bold\"> 3.316            </span>│\n",
       "│ When Bag and Church went to the shops, Church gave the bag to        │<span style=\"color: #00c800; text-decoration-color: #00c800; font-weight: bold\">  Bag      </span>│<span style=\"color: #ff0000; text-decoration-color: #ff0000; font-weight: bold\">  Church   </span>│<span style=\"font-weight: bold\"> 1.956            </span>│\n",
       "│ When Bag and Church went to the shops, Bag gave the bag to           │<span style=\"color: #00c800; text-decoration-color: #00c800; font-weight: bold\">  Church   </span>│<span style=\"color: #ff0000; text-decoration-color: #ff0000; font-weight: bold\">  Bag      </span>│<span style=\"font-weight: bold\"> 5.257            </span>│\n",
       "│ When Isaac and Joseph went to the shops, Isaac gave the bag to       │<span style=\"color: #00c800; text-decoration-color: #00c800; font-weight: bold\">  Joseph   </span>│<span style=\"color: #ff0000; text-decoration-color: #ff0000; font-weight: bold\">  Isaac    </span>│<span style=\"font-weight: bold\"> 5.545            </span>│\n",
       "│ When Noah and Jacob went to the shops, Jacob gave the bag to         │<span style=\"color: #00c800; text-decoration-color: #00c800; font-weight: bold\">  Noah     </span>│<span style=\"color: #ff0000; text-decoration-color: #ff0000; font-weight: bold\">  Jacob    </span>│<span style=\"font-weight: bold\"> 4.277            </span>│\n",
       "│ When Noah and Jacob went to the shops, Noah gave the bag to          │<span style=\"color: #00c800; text-decoration-color: #00c800; font-weight: bold\">  Jacob    </span>│<span style=\"color: #ff0000; text-decoration-color: #ff0000; font-weight: bold\">  Noah     </span>│<span style=\"font-weight: bold\"> 3.373            </span>│\n",
       "│ When Mary and Noah went to the shops, Noah gave the bag to           │<span style=\"color: #00c800; text-decoration-color: #00c800; font-weight: bold\">  Mary     </span>│<span style=\"color: #ff0000; text-decoration-color: #ff0000; font-weight: bold\">  Noah     </span>│<span style=\"font-weight: bold\"> 4.331            </span>│\n",
       "│ When Brooklyn and London went to the shops, London gave the bag to   │<span style=\"color: #00c800; text-decoration-color: #00c800; font-weight: bold\">  Brooklyn </span>│<span style=\"color: #ff0000; text-decoration-color: #ff0000; font-weight: bold\">  London   </span>│<span style=\"font-weight: bold\"> -0.108           </span>│\n",
       "│ When Brooklyn and London went to the shops, Brooklyn gave the bag to │<span style=\"color: #00c800; text-decoration-color: #00c800; font-weight: bold\">  London   </span>│<span style=\"color: #ff0000; text-decoration-color: #ff0000; font-weight: bold\">  Brooklyn </span>│<span style=\"font-weight: bold\"> 4.468            </span>│\n",
       "│ When Paris and Phoenix went to the shops, Phoenix gave the bag to    │<span style=\"color: #00c800; text-decoration-color: #00c800; font-weight: bold\">  Paris    </span>│<span style=\"color: #ff0000; text-decoration-color: #ff0000; font-weight: bold\">  Phoenix  </span>│<span style=\"font-weight: bold\"> 0.388            </span>│\n",
       "│ When Paris and Phoenix went to the shops, Paris gave the bag to      │<span style=\"color: #00c800; text-decoration-color: #00c800; font-weight: bold\">  Phoenix  </span>│<span style=\"color: #ff0000; text-decoration-color: #ff0000; font-weight: bold\">  Paris    </span>│<span style=\"font-weight: bold\"> 3.778            </span>│\n",
       "└──────────────────────────────────────────────────────────────────────┴───────────┴───────────┴──────────────────┘\n",
       "</pre>\n"
      ],
      "text/plain": [
       "\u001b[3m                                 small sample of full Dist: Ave logit diff = 2.408                                 \u001b[0m\n",
       "┏━━━━━━━━━━━━━━━━━━━━━━━━━━━━━━━━━━━━━━━━━━━━━━━━━━━━━━━━━━━━━━━━━━━━━━┳━━━━━━━━━━━┳━━━━━━━━━━━┳━━━━━━━━━━━━━━━━━━┓\n",
       "┃\u001b[1m \u001b[0m\u001b[1mPrompt                                                              \u001b[0m\u001b[1m \u001b[0m┃\u001b[1m \u001b[0m\u001b[1mCorrect  \u001b[0m\u001b[1m \u001b[0m┃\u001b[1m \u001b[0m\u001b[1mIncorrect\u001b[0m\u001b[1m \u001b[0m┃\u001b[1m \u001b[0m\u001b[1mLogit Difference\u001b[0m\u001b[1m \u001b[0m┃\n",
       "┡━━━━━━━━━━━━━━━━━━━━━━━━━━━━━━━━━━━━━━━━━━━━━━━━━━━━━━━━━━━━━━━━━━━━━━╇━━━━━━━━━━━╇━━━━━━━━━━━╇━━━━━━━━━━━━━━━━━━┩\n",
       "│ When bag and church went to the shops, church gave the bag to        │\u001b[1;38;2;0;200;0m \u001b[0m\u001b[1;38;2;0;200;0m bag     \u001b[0m\u001b[1;38;2;0;200;0m \u001b[0m│\u001b[1;38;2;255;0;0m \u001b[0m\u001b[1;38;2;255;0;0m church  \u001b[0m\u001b[1;38;2;255;0;0m \u001b[0m│\u001b[1m \u001b[0m\u001b[1m-2.265          \u001b[0m\u001b[1m \u001b[0m│\n",
       "│ When bag and church went to the shops, bag gave the bag to           │\u001b[1;38;2;0;200;0m \u001b[0m\u001b[1;38;2;0;200;0m church  \u001b[0m\u001b[1;38;2;0;200;0m \u001b[0m│\u001b[1;38;2;255;0;0m \u001b[0m\u001b[1;38;2;255;0;0m bag     \u001b[0m\u001b[1;38;2;255;0;0m \u001b[0m│\u001b[1m \u001b[0m\u001b[1m2.326           \u001b[0m\u001b[1m \u001b[0m│\n",
       "│ When goose and chair went to the shops, chair gave the bag to        │\u001b[1;38;2;0;200;0m \u001b[0m\u001b[1;38;2;0;200;0m goose   \u001b[0m\u001b[1;38;2;0;200;0m \u001b[0m│\u001b[1;38;2;255;0;0m \u001b[0m\u001b[1;38;2;255;0;0m chair   \u001b[0m\u001b[1;38;2;255;0;0m \u001b[0m│\u001b[1m \u001b[0m\u001b[1m2.073           \u001b[0m\u001b[1m \u001b[0m│\n",
       "│ When goose and chair went to the shops, goose gave the bag to        │\u001b[1;38;2;0;200;0m \u001b[0m\u001b[1;38;2;0;200;0m chair   \u001b[0m\u001b[1;38;2;0;200;0m \u001b[0m│\u001b[1;38;2;255;0;0m \u001b[0m\u001b[1;38;2;255;0;0m goose   \u001b[0m\u001b[1;38;2;255;0;0m \u001b[0m│\u001b[1m \u001b[0m\u001b[1m-0.519          \u001b[0m\u001b[1m \u001b[0m│\n",
       "│ When Goose and Google went to the shops, Google gave the bag to      │\u001b[1;38;2;0;200;0m \u001b[0m\u001b[1;38;2;0;200;0m Goose   \u001b[0m\u001b[1;38;2;0;200;0m \u001b[0m│\u001b[1;38;2;255;0;0m \u001b[0m\u001b[1;38;2;255;0;0m Google  \u001b[0m\u001b[1;38;2;255;0;0m \u001b[0m│\u001b[1m \u001b[0m\u001b[1m0.330           \u001b[0m\u001b[1m \u001b[0m│\n",
       "│ When Goose and Google went to the shops, Goose gave the bag to       │\u001b[1;38;2;0;200;0m \u001b[0m\u001b[1;38;2;0;200;0m Google  \u001b[0m\u001b[1;38;2;0;200;0m \u001b[0m│\u001b[1;38;2;255;0;0m \u001b[0m\u001b[1;38;2;255;0;0m Goose   \u001b[0m\u001b[1;38;2;255;0;0m \u001b[0m│\u001b[1m \u001b[0m\u001b[1m3.316           \u001b[0m\u001b[1m \u001b[0m│\n",
       "│ When Bag and Church went to the shops, Church gave the bag to        │\u001b[1;38;2;0;200;0m \u001b[0m\u001b[1;38;2;0;200;0m Bag     \u001b[0m\u001b[1;38;2;0;200;0m \u001b[0m│\u001b[1;38;2;255;0;0m \u001b[0m\u001b[1;38;2;255;0;0m Church  \u001b[0m\u001b[1;38;2;255;0;0m \u001b[0m│\u001b[1m \u001b[0m\u001b[1m1.956           \u001b[0m\u001b[1m \u001b[0m│\n",
       "│ When Bag and Church went to the shops, Bag gave the bag to           │\u001b[1;38;2;0;200;0m \u001b[0m\u001b[1;38;2;0;200;0m Church  \u001b[0m\u001b[1;38;2;0;200;0m \u001b[0m│\u001b[1;38;2;255;0;0m \u001b[0m\u001b[1;38;2;255;0;0m Bag     \u001b[0m\u001b[1;38;2;255;0;0m \u001b[0m│\u001b[1m \u001b[0m\u001b[1m5.257           \u001b[0m\u001b[1m \u001b[0m│\n",
       "│ When Isaac and Joseph went to the shops, Isaac gave the bag to       │\u001b[1;38;2;0;200;0m \u001b[0m\u001b[1;38;2;0;200;0m Joseph  \u001b[0m\u001b[1;38;2;0;200;0m \u001b[0m│\u001b[1;38;2;255;0;0m \u001b[0m\u001b[1;38;2;255;0;0m Isaac   \u001b[0m\u001b[1;38;2;255;0;0m \u001b[0m│\u001b[1m \u001b[0m\u001b[1m5.545           \u001b[0m\u001b[1m \u001b[0m│\n",
       "│ When Noah and Jacob went to the shops, Jacob gave the bag to         │\u001b[1;38;2;0;200;0m \u001b[0m\u001b[1;38;2;0;200;0m Noah    \u001b[0m\u001b[1;38;2;0;200;0m \u001b[0m│\u001b[1;38;2;255;0;0m \u001b[0m\u001b[1;38;2;255;0;0m Jacob   \u001b[0m\u001b[1;38;2;255;0;0m \u001b[0m│\u001b[1m \u001b[0m\u001b[1m4.277           \u001b[0m\u001b[1m \u001b[0m│\n",
       "│ When Noah and Jacob went to the shops, Noah gave the bag to          │\u001b[1;38;2;0;200;0m \u001b[0m\u001b[1;38;2;0;200;0m Jacob   \u001b[0m\u001b[1;38;2;0;200;0m \u001b[0m│\u001b[1;38;2;255;0;0m \u001b[0m\u001b[1;38;2;255;0;0m Noah    \u001b[0m\u001b[1;38;2;255;0;0m \u001b[0m│\u001b[1m \u001b[0m\u001b[1m3.373           \u001b[0m\u001b[1m \u001b[0m│\n",
       "│ When Mary and Noah went to the shops, Noah gave the bag to           │\u001b[1;38;2;0;200;0m \u001b[0m\u001b[1;38;2;0;200;0m Mary    \u001b[0m\u001b[1;38;2;0;200;0m \u001b[0m│\u001b[1;38;2;255;0;0m \u001b[0m\u001b[1;38;2;255;0;0m Noah    \u001b[0m\u001b[1;38;2;255;0;0m \u001b[0m│\u001b[1m \u001b[0m\u001b[1m4.331           \u001b[0m\u001b[1m \u001b[0m│\n",
       "│ When Brooklyn and London went to the shops, London gave the bag to   │\u001b[1;38;2;0;200;0m \u001b[0m\u001b[1;38;2;0;200;0m Brooklyn\u001b[0m\u001b[1;38;2;0;200;0m \u001b[0m│\u001b[1;38;2;255;0;0m \u001b[0m\u001b[1;38;2;255;0;0m London  \u001b[0m\u001b[1;38;2;255;0;0m \u001b[0m│\u001b[1m \u001b[0m\u001b[1m-0.108          \u001b[0m\u001b[1m \u001b[0m│\n",
       "│ When Brooklyn and London went to the shops, Brooklyn gave the bag to │\u001b[1;38;2;0;200;0m \u001b[0m\u001b[1;38;2;0;200;0m London  \u001b[0m\u001b[1;38;2;0;200;0m \u001b[0m│\u001b[1;38;2;255;0;0m \u001b[0m\u001b[1;38;2;255;0;0m Brooklyn\u001b[0m\u001b[1;38;2;255;0;0m \u001b[0m│\u001b[1m \u001b[0m\u001b[1m4.468           \u001b[0m\u001b[1m \u001b[0m│\n",
       "│ When Paris and Phoenix went to the shops, Phoenix gave the bag to    │\u001b[1;38;2;0;200;0m \u001b[0m\u001b[1;38;2;0;200;0m Paris   \u001b[0m\u001b[1;38;2;0;200;0m \u001b[0m│\u001b[1;38;2;255;0;0m \u001b[0m\u001b[1;38;2;255;0;0m Phoenix \u001b[0m\u001b[1;38;2;255;0;0m \u001b[0m│\u001b[1m \u001b[0m\u001b[1m0.388           \u001b[0m\u001b[1m \u001b[0m│\n",
       "│ When Paris and Phoenix went to the shops, Paris gave the bag to      │\u001b[1;38;2;0;200;0m \u001b[0m\u001b[1;38;2;0;200;0m Phoenix \u001b[0m\u001b[1;38;2;0;200;0m \u001b[0m│\u001b[1;38;2;255;0;0m \u001b[0m\u001b[1;38;2;255;0;0m Paris   \u001b[0m\u001b[1;38;2;255;0;0m \u001b[0m│\u001b[1m \u001b[0m\u001b[1m3.778           \u001b[0m\u001b[1m \u001b[0m│\n",
       "└──────────────────────────────────────────────────────────────────────┴───────────┴───────────┴──────────────────┘\n"
      ]
     },
     "metadata": {},
     "output_type": "display_data"
    }
   ],
   "source": [
    "test_prompts = prompts_n[:4]+prompts_pn[:4] +prompts_rel[-9:-5] + prompts_pl[-4:]\n",
    "test_ans = ans_n[:4]+ans_pn[:4] +ans_rel[-9:-5] + ans_pl[-4:]\n",
    "test_toks = t.concat([ans_toks_n[:4], ans_toks_pn[:4], ans_toks_rel[-9:-5], ans_toks_pl[-4:]])\n",
    "\n",
    "test_toks\n",
    "make_table(test_prompts, test_ans, test_toks, \"small sample of full Dist\")"
   ]
  },
  {
   "attachments": {},
   "cell_type": "markdown",
   "metadata": {},
   "source": [
    "Looking at the top-k logits for each prompt"
   ]
  },
  {
   "cell_type": "code",
   "execution_count": 21,
   "metadata": {},
   "outputs": [
    {
     "name": "stdout",
     "output_type": "stream",
     "text": [
      "Prompt = When Florence and Devon went to the shops, Devon gave the bag to\n",
      "Top 0th logit. prob = 52.59%, token =  Florence\n",
      "Top 1th logit. prob = 8.91%, token =  her\n",
      "Top 2th logit. prob = 7.62%, token =  the\n",
      "Top 3th logit. prob = 3.88%, token =  them\n",
      "Top 4th logit. prob = 1.64%, token =  a\n",
      "Prompt = When Florence and Devon went to the shops, Florence gave the bag to\n",
      "Top 0th logit. prob = 31.93%, token =  Devon\n",
      "Top 1th logit. prob = 14.97%, token =  the\n",
      "Top 2th logit. prob = 14.92%, token =  her\n",
      "Top 3th logit. prob = 5.45%, token =  them\n",
      "Top 4th logit. prob = 3.42%, token =  a\n",
      "Prompt = When Brooklyn and Phoenix went to the shops, Phoenix gave the bag to\n",
      "Top 0th logit. prob = 15.70%, token =  the\n",
      "Top 1th logit. prob = 4.94%, token =  his\n",
      "Top 2th logit. prob = 4.85%, token =  a\n",
      "Top 3th logit. prob = 4.26%, token =  Brooklyn\n",
      "Top 4th logit. prob = 3.81%, token =  Phoenix\n",
      "Prompt = When Brooklyn and Phoenix went to the shops, Brooklyn gave the bag to\n",
      "Top 0th logit. prob = 33.41%, token =  Phoenix\n",
      "Top 1th logit. prob = 13.95%, token =  the\n",
      "Top 2th logit. prob = 6.15%, token =  his\n",
      "Top 3th logit. prob = 5.81%, token =  a\n",
      "Top 4th logit. prob = 4.57%, token =  her\n",
      "Prompt = When Paris and London went to the shops, London gave the bag to\n",
      "Top 0th logit. prob = 18.73%, token =  the\n",
      "Top 1th logit. prob = 8.41%, token =  Paris\n",
      "Top 2th logit. prob = 4.96%, token =  a\n",
      "Top 3th logit. prob = 4.24%, token =  them\n",
      "Top 4th logit. prob = 1.94%, token =  London\n",
      "Prompt = When Paris and London went to the shops, Paris gave the bag to\n",
      "Top 0th logit. prob = 16.71%, token =  the\n",
      "Top 1th logit. prob = 7.84%, token =  his\n",
      "Top 2th logit. prob = 7.55%, token =  London\n",
      "Top 3th logit. prob = 7.30%, token =  a\n",
      "Top 4th logit. prob = 5.61%, token =  her\n",
      "Prompt = When Phoenix and Paris went to the shops, Paris gave the bag to\n",
      "Top 0th logit. prob = 14.54%, token =  the\n",
      "Top 1th logit. prob = 8.81%, token =  Phoenix\n",
      "Top 2th logit. prob = 7.87%, token =  her\n",
      "Top 3th logit. prob = 5.33%, token =  Paris\n",
      "Top 4th logit. prob = 4.40%, token =  his\n",
      "Prompt = When Phoenix and Paris went to the shops, Phoenix gave the bag to\n",
      "Top 0th logit. prob = 67.21%, token =  Paris\n",
      "Top 1th logit. prob = 9.36%, token =  the\n",
      "Top 2th logit. prob = 2.26%, token =  his\n",
      "Top 3th logit. prob = 1.64%, token =  her\n",
      "Top 4th logit. prob = 1.56%, token =  a\n",
      "Prompt = When London and Florence went to the shops, Florence gave the bag to\n",
      "Top 0th logit. prob = 16.32%, token =  the\n",
      "Top 1th logit. prob = 10.54%, token =  her\n",
      "Top 2th logit. prob = 8.44%, token =  a\n",
      "Top 3th logit. prob = 4.53%, token =  one\n",
      "Top 4th logit. prob = 1.61%, token =  them\n",
      "Prompt = When London and Florence went to the shops, London gave the bag to\n",
      "Top 0th logit. prob = 77.50%, token =  Florence\n",
      "Top 1th logit. prob = 5.36%, token =  the\n",
      "Top 2th logit. prob = 1.54%, token =  her\n",
      "Top 3th logit. prob = 1.25%, token =  a\n",
      "Top 4th logit. prob = 0.89%, token =  London\n",
      "Prompt = When London and Florence went to the shops, Florence gave the bag to\n",
      "Top 0th logit. prob = 16.32%, token =  the\n",
      "Top 1th logit. prob = 10.54%, token =  her\n",
      "Top 2th logit. prob = 8.44%, token =  a\n",
      "Top 3th logit. prob = 4.53%, token =  one\n",
      "Top 4th logit. prob = 1.61%, token =  them\n",
      "Prompt = When London and Florence went to the shops, London gave the bag to\n",
      "Top 0th logit. prob = 77.50%, token =  Florence\n",
      "Top 1th logit. prob = 5.36%, token =  the\n",
      "Top 2th logit. prob = 1.54%, token =  her\n",
      "Top 3th logit. prob = 1.25%, token =  a\n",
      "Top 4th logit. prob = 0.89%, token =  London\n",
      "Prompt = When Brooklyn and Paris went to the shops, Paris gave the bag to\n",
      "Top 0th logit. prob = 14.09%, token =  the\n",
      "Top 1th logit. prob = 12.58%, token =  her\n",
      "Top 2th logit. prob = 6.27%, token =  a\n",
      "Top 3th logit. prob = 5.45%, token =  his\n",
      "Top 4th logit. prob = 3.85%, token =  me\n",
      "Prompt = When Brooklyn and Paris went to the shops, Brooklyn gave the bag to\n",
      "Top 0th logit. prob = 57.57%, token =  Paris\n",
      "Top 1th logit. prob = 9.30%, token =  the\n",
      "Top 2th logit. prob = 4.04%, token =  her\n",
      "Top 3th logit. prob = 3.97%, token =  his\n",
      "Top 4th logit. prob = 3.24%, token =  a\n",
      "Prompt = When Austin and Paris went to the shops, Paris gave the bag to\n",
      "Top 0th logit. prob = 56.53%, token =  Austin\n",
      "Top 1th logit. prob = 5.74%, token =  the\n",
      "Top 2th logit. prob = 4.37%, token =  her\n",
      "Top 3th logit. prob = 4.11%, token =  them\n",
      "Top 4th logit. prob = 3.31%, token =  him\n",
      "Prompt = When Austin and Paris went to the shops, Austin gave the bag to\n",
      "Top 0th logit. prob = 79.45%, token =  Paris\n",
      "Top 1th logit. prob = 5.17%, token =  the\n",
      "Top 2th logit. prob = 2.83%, token =  his\n",
      "Top 3th logit. prob = 1.34%, token =  her\n",
      "Top 4th logit. prob = 1.07%, token =  a\n",
      "Prompt = When Brooklyn and London went to the shops, London gave the bag to\n",
      "Top 0th logit. prob = 13.87%, token =  the\n",
      "Top 1th logit. prob = 6.34%, token =  his\n",
      "Top 2th logit. prob = 5.85%, token =  her\n",
      "Top 3th logit. prob = 4.98%, token =  a\n",
      "Top 4th logit. prob = 3.68%, token =  them\n",
      "Prompt = When Brooklyn and London went to the shops, Brooklyn gave the bag to\n",
      "Top 0th logit. prob = 16.67%, token =  London\n",
      "Top 1th logit. prob = 14.37%, token =  the\n",
      "Top 2th logit. prob = 8.12%, token =  a\n",
      "Top 3th logit. prob = 7.54%, token =  his\n",
      "Top 4th logit. prob = 4.90%, token =  her\n",
      "Prompt = When Paris and Phoenix went to the shops, Phoenix gave the bag to\n",
      "Top 0th logit. prob = 17.96%, token =  the\n",
      "Top 1th logit. prob = 5.09%, token =  Paris\n",
      "Top 2th logit. prob = 4.41%, token =  a\n",
      "Top 3th logit. prob = 4.05%, token =  his\n",
      "Top 4th logit. prob = 3.84%, token =  her\n",
      "Prompt = When Paris and Phoenix went to the shops, Paris gave the bag to\n",
      "Top 0th logit. prob = 24.03%, token =  Phoenix\n",
      "Top 1th logit. prob = 18.33%, token =  the\n",
      "Top 2th logit. prob = 7.99%, token =  her\n",
      "Top 3th logit. prob = 6.31%, token =  his\n",
      "Top 4th logit. prob = 5.19%, token =  a\n"
     ]
    }
   ],
   "source": [
    "\n",
    "prompts = prompts_pl\n",
    "k = 5\n",
    "\n",
    "for sample_prompt in prompts:\n",
    "    sample_logits = model(sample_prompt)\n",
    "    sample_probs = t.softmax(sample_logits[0, -1], dim = -1)\n",
    "    vals, ids = t.topk(sample_probs,k)\n",
    "\n",
    "    print(f\"Prompt = {sample_prompt}\")\n",
    "    for i in range(k):\n",
    "            print(f\"Top {i}th logit. prob = {vals[i]:.2%}, token = {model.tokenizer.decode(ids[i])}\")\n"
   ]
  },
  {
   "attachments": {},
   "cell_type": "markdown",
   "metadata": {},
   "source": [
    "Looking at the attention heads on each distribution"
   ]
  },
  {
   "cell_type": "code",
   "execution_count": 22,
   "metadata": {},
   "outputs": [
    {
     "name": "stdout",
     "output_type": "stream",
     "text": [
      "torch.Size([20, 12, 15, 15])\n",
      "torch.Size([20, 12, 15, 15])\n"
     ]
    }
   ],
   "source": [
    "noun_tokens = model.to_tokens(prompts_n).to(device)\n",
    "noun_logits, noun_cache = model.run_with_cache(prompts_n)\n",
    "print(noun_cache[\"pattern\", 0, \"attn\"].shape)\n",
    "\n",
    "pnoun_tokens = model.to_tokens(prompts_pn).to(device)\n",
    "pnoun_logits, pnoun_cache = model.run_with_cache(prompts_pn)\n",
    "\n",
    "rel_tokens = model.to_tokens(prompts_rel).to(device)\n",
    "rel_logits, rel_cache = model.run_with_cache(prompts_rel)\n",
    "\n",
    "full_tokens = model.to_tokens(prompts_full).to(device)\n",
    "full_logits, full_cache = model.run_with_cache(prompts_full)\n",
    "\n",
    "\n",
    "pl_tokens = model.to_tokens(prompts_pl).to(device)\n",
    "pl_logits, pl_cache = model.run_with_cache(prompts_pl)\n",
    "print(noun_cache[\"pattern\", 0, \"attn\"].shape)\n",
    "\n"
   ]
  },
  {
   "cell_type": "code",
   "execution_count": null,
   "metadata": {},
   "outputs": [],
   "source": []
  },
  {
   "cell_type": "code",
   "execution_count": null,
   "metadata": {},
   "outputs": [],
   "source": []
  },
  {
   "cell_type": "code",
   "execution_count": 23,
   "metadata": {},
   "outputs": [
    {
     "name": "stdout",
     "output_type": "stream",
     "text": [
      "Layer 9 Head Attention Patterns:\n"
     ]
    },
    {
     "data": {
      "text/html": [
       "<div id=\"circuits-vis-ee28926a-e0d2\" style=\"margin: 15px 0;\"/>\n",
       "    <script crossorigin type=\"module\">\n",
       "    import { render, AttentionPatterns } from \"https://unpkg.com/circuitsvis@1.39.1/dist/cdn/esm.js\";\n",
       "    render(\n",
       "      \"circuits-vis-ee28926a-e0d2\",\n",
       "      AttentionPatterns,\n",
       "      {\"tokens\": [\"<|endoftext|>\", \"When\", \" chair\", \" and\", \" bag\", \" went\", \" to\", \" the\", \" shops\", \",\", \" bag\", \" gave\", \" the\", \" bag\", \" to\"], \"attention\": [[[1.0, 0.0, 0.0, 0.0, 0.0, 0.0, 0.0, 0.0, 0.0, 0.0, 0.0, 0.0, 0.0, 0.0, 0.0], [0.9764552712440491, 0.02354477532207966, 0.0, 0.0, 0.0, 0.0, 0.0, 0.0, 0.0, 0.0, 0.0, 0.0, 0.0, 0.0, 0.0], [0.18434488773345947, 0.5398839712142944, 0.2757711112499237, 0.0, 0.0, 0.0, 0.0, 0.0, 0.0, 0.0, 0.0, 0.0, 0.0, 0.0, 0.0], [0.22854819893836975, 0.3798063099384308, 0.25091537833213806, 0.14073015749454498, 0.0, 0.0, 0.0, 0.0, 0.0, 0.0, 0.0, 0.0, 0.0, 0.0, 0.0], [0.17844431102275848, 0.1756751984357834, 0.17175865173339844, 0.22271540760993958, 0.25140637159347534, 0.0, 0.0, 0.0, 0.0, 0.0, 0.0, 0.0, 0.0, 0.0, 0.0], [0.09445961564779282, 0.542988121509552, 0.05840158089995384, 0.15732929110527039, 0.04690343514084816, 0.09991790354251862, 0.0, 0.0, 0.0, 0.0, 0.0, 0.0, 0.0, 0.0, 0.0], [0.06748434156179428, 0.059541329741477966, 0.01798199489712715, 0.034294236451387405, 0.04273059964179993, 0.7367444634437561, 0.0412229485809803, 0.0, 0.0, 0.0, 0.0, 0.0, 0.0, 0.0, 0.0], [0.1169070452451706, 0.07706694304943085, 0.03148264065384865, 0.07701918482780457, 0.05352334305644035, 0.225834459066391, 0.27359655499458313, 0.14456987380981445, 0.0, 0.0, 0.0, 0.0, 0.0, 0.0, 0.0], [0.038932714611291885, 0.06356091052293777, 0.03216005116701126, 0.03385740891098976, 0.04527619853615761, 0.22135691344738007, 0.13530731201171875, 0.30952534079551697, 0.12002313137054443, 0.0, 0.0, 0.0, 0.0, 0.0, 0.0], [0.07177003473043442, 0.1653546690940857, 0.037036556750535965, 0.05891221761703491, 0.057713963091373444, 0.10694622993469238, 0.0956794023513794, 0.1485781967639923, 0.13898783922195435, 0.11902081221342087, 0.0, 0.0, 0.0, 0.0, 0.0], [0.028094632551074028, 0.014604846946895123, 0.01967597007751465, 0.0240856371819973, 0.03161019831895828, 0.07255636900663376, 0.1302064061164856, 0.15671968460083008, 0.15988682210445404, 0.22387371957302094, 0.13868576288223267, 0.0, 0.0, 0.0, 0.0], [0.052649714052677155, 0.0581328384578228, 0.013070208951830864, 0.045721445232629776, 0.022313671186566353, 0.061890799552202225, 0.036793503910303116, 0.08115579932928085, 0.09236954152584076, 0.3134172558784485, 0.0970115065574646, 0.12547360360622406, 0.0, 0.0, 0.0], [0.03311648592352867, 0.01569194346666336, 0.006961513310670853, 0.0177970789372921, 0.0119710024446249, 0.04093712568283081, 0.04904899746179581, 0.03710833564400673, 0.05046462640166283, 0.12832562625408173, 0.05362628027796745, 0.3327106535434723, 0.22224031388759613, 0.0, 0.0], [0.020279396325349808, 0.004666245076805353, 0.007382411044090986, 0.0094423433765769, 0.012156025506556034, 0.022938894107937813, 0.04003304988145828, 0.06665998697280884, 0.06211267039179802, 0.08961760252714157, 0.049590855836868286, 0.16123971343040466, 0.3533726632595062, 0.10050821304321289, 0.0], [0.02115018106997013, 0.007683947682380676, 0.002299517160281539, 0.00454900786280632, 0.0057037100195884705, 0.05856076255440712, 0.004239789210259914, 0.025598328560590744, 0.017793452367186546, 0.045985519886016846, 0.029267411679029465, 0.5009017586708069, 0.15893250703811646, 0.05266720429062843, 0.06466691941022873]], [[1.0, 0.0, 0.0, 0.0, 0.0, 0.0, 0.0, 0.0, 0.0, 0.0, 0.0, 0.0, 0.0, 0.0, 0.0], [0.9338306188583374, 0.06616932898759842, 0.0, 0.0, 0.0, 0.0, 0.0, 0.0, 0.0, 0.0, 0.0, 0.0, 0.0, 0.0, 0.0], [0.6458746194839478, 0.28537219762802124, 0.0687531903386116, 0.0, 0.0, 0.0, 0.0, 0.0, 0.0, 0.0, 0.0, 0.0, 0.0, 0.0, 0.0], [0.631316065788269, 0.1658942848443985, 0.08025896549224854, 0.12253066152334213, 0.0, 0.0, 0.0, 0.0, 0.0, 0.0, 0.0, 0.0, 0.0, 0.0, 0.0], [0.4635404348373413, 0.1573743224143982, 0.06435147672891617, 0.2401096075773239, 0.0746242105960846, 0.0, 0.0, 0.0, 0.0, 0.0, 0.0, 0.0, 0.0, 0.0, 0.0], [0.42985400557518005, 0.14247582852840424, 0.04768897965550423, 0.23125721514225006, 0.06564974039793015, 0.083074189722538, 0.0, 0.0, 0.0, 0.0, 0.0, 0.0, 0.0, 0.0, 0.0], [0.3328019380569458, 0.12542660534381866, 0.05258916690945625, 0.18610286712646484, 0.07808220386505127, 0.1013084203004837, 0.12368883192539215, 0.0, 0.0, 0.0, 0.0, 0.0, 0.0, 0.0, 0.0], [0.3108631670475006, 0.09722588956356049, 0.04298601672053337, 0.12108970433473587, 0.07152899354696274, 0.0962582379579544, 0.15643249452114105, 0.10361554473638535, 0.0, 0.0, 0.0, 0.0, 0.0, 0.0, 0.0], [0.24879057705402374, 0.04886509105563164, 0.0297043826431036, 0.11145341396331787, 0.042662397027015686, 0.09549649059772491, 0.12632527947425842, 0.21053583920001984, 0.08616652339696884, 0.0, 0.0, 0.0, 0.0, 0.0, 0.0], [0.2929370403289795, 0.07106788456439972, 0.025768565014004707, 0.07879792153835297, 0.04592078924179077, 0.07062432169914246, 0.06615213304758072, 0.08236668258905411, 0.06986631453037262, 0.19649836421012878, 0.0, 0.0, 0.0, 0.0, 0.0], [0.12140177935361862, 0.024046555161476135, 0.01027707103639841, 0.04068217799067497, 0.012269512750208378, 0.04425431415438652, 0.06661516427993774, 0.10100310295820236, 0.0653916448354721, 0.44844985008239746, 0.06560883671045303, 0.0, 0.0, 0.0, 0.0], [0.12173324823379517, 0.029727095738053322, 0.013088424690067768, 0.04964698851108551, 0.017038829624652863, 0.024491677060723305, 0.05526721850037575, 0.06800756603479385, 0.045954544097185135, 0.4086710810661316, 0.07330992817878723, 0.09306339174509048, 0.0, 0.0, 0.0], [0.11227885633707047, 0.02604748122394085, 0.013552438467741013, 0.0397687703371048, 0.021828895434737206, 0.031101390719413757, 0.04742458090186119, 0.029189299792051315, 0.04990234971046448, 0.28007301688194275, 0.07927162945270538, 0.14966318011283875, 0.11989805102348328, 0.0, 0.0], [0.09316170960664749, 0.012841960415244102, 0.00619423296302557, 0.023245228454470634, 0.00825668964534998, 0.022650552913546562, 0.03228920325636864, 0.0429251566529274, 0.04236520081758499, 0.24986721575260162, 0.03982943296432495, 0.14681999385356903, 0.19927294552326202, 0.08028049767017365, 0.0], [0.10186900198459625, 0.019895967096090317, 0.009172703139483929, 0.03155679628252983, 0.012694778852164745, 0.020462529733777046, 0.0180591382086277, 0.03615579381585121, 0.03242896869778633, 0.2139711230993271, 0.04701457917690277, 0.09222418814897537, 0.14545348286628723, 0.08243328332901001, 0.1366075873374939]], [[1.0, 0.0, 0.0, 0.0, 0.0, 0.0, 0.0, 0.0, 0.0, 0.0, 0.0, 0.0, 0.0, 0.0, 0.0], [0.9775686860084534, 0.022431273013353348, 0.0, 0.0, 0.0, 0.0, 0.0, 0.0, 0.0, 0.0, 0.0, 0.0, 0.0, 0.0, 0.0], [0.8458401560783386, 0.055867042392492294, 0.0982927680015564, 0.0, 0.0, 0.0, 0.0, 0.0, 0.0, 0.0, 0.0, 0.0, 0.0, 0.0, 0.0], [0.5846518278121948, 0.035867344588041306, 0.079188272356987, 0.3002925515174866, 0.0, 0.0, 0.0, 0.0, 0.0, 0.0, 0.0, 0.0, 0.0, 0.0, 0.0], [0.4795164465904236, 0.04291515052318573, 0.08006136119365692, 0.3036157488822937, 0.09389130771160126, 0.0, 0.0, 0.0, 0.0, 0.0, 0.0, 0.0, 0.0, 0.0, 0.0], [0.3944846987724304, 0.033828478306531906, 0.07240018248558044, 0.24560098350048065, 0.08626044541597366, 0.1674252450466156, 0.0, 0.0, 0.0, 0.0, 0.0, 0.0, 0.0, 0.0, 0.0], [0.28954756259918213, 0.02936810441315174, 0.05698872730135918, 0.17038355767726898, 0.07297172397375107, 0.13431282341480255, 0.246427521109581, 0.0, 0.0, 0.0, 0.0, 0.0, 0.0, 0.0, 0.0], [0.24441465735435486, 0.025610674172639847, 0.05319057032465935, 0.14116717875003815, 0.062029194086790085, 0.11062954366207123, 0.19344505667686462, 0.16951322555541992, 0.0, 0.0, 0.0, 0.0, 0.0, 0.0, 0.0], [0.20708489418029785, 0.02860732562839985, 0.04935276880860329, 0.13792680203914642, 0.05445238575339317, 0.09853046387434006, 0.18093428015708923, 0.14039920270442963, 0.10271189361810684, 0.0, 0.0, 0.0, 0.0, 0.0, 0.0], [0.1624593287706375, 0.021847879514098167, 0.03930266574025154, 0.1018122211098671, 0.04798503965139389, 0.08626590669155121, 0.13774138689041138, 0.11169226467609406, 0.08492191880941391, 0.20597131550312042, 0.0, 0.0, 0.0, 0.0, 0.0], [0.13500197231769562, 0.023494910448789597, 0.03835146129131317, 0.10334503650665283, 0.04077477380633354, 0.07533702254295349, 0.13255079090595245, 0.09972058981657028, 0.08077026903629303, 0.19857966899871826, 0.0720735415816307, 0.0, 0.0, 0.0, 0.0], [0.12372002750635147, 0.019997868686914444, 0.03630968555808067, 0.08742805570363998, 0.040427304804325104, 0.07111839950084686, 0.11605536192655563, 0.08640407770872116, 0.0721549540758133, 0.16896027326583862, 0.07221149653196335, 0.10521243512630463, 0.0, 0.0, 0.0], [0.10408487915992737, 0.019474171102046967, 0.03525092825293541, 0.06946911662817001, 0.03715107962489128, 0.06082434952259064, 0.09492768347263336, 0.08397889882326126, 0.06923219561576843, 0.13553281128406525, 0.06634996086359024, 0.09417111426591873, 0.12955279648303986, 0.0, 0.0], [0.0971272736787796, 0.021224478259682655, 0.03283136710524559, 0.07343636453151703, 0.03264067322015762, 0.05658513307571411, 0.09272804111242294, 0.07073657214641571, 0.06454059481620789, 0.13631808757781982, 0.05563976615667343, 0.08968261629343033, 0.10743896663188934, 0.06907014548778534, 0.0], [0.07605601102113724, 0.017813900485634804, 0.028542177751660347, 0.052938312292099, 0.031939227133989334, 0.05036165937781334, 0.07753856480121613, 0.060284025967121124, 0.05700094625353813, 0.10214496403932571, 0.05496625974774361, 0.08020327985286713, 0.09392150491476059, 0.06847015768289566, 0.14781907200813293]], [[1.0, 0.0, 0.0, 0.0, 0.0, 0.0, 0.0, 0.0, 0.0, 0.0, 0.0, 0.0, 0.0, 0.0, 0.0], [0.6096706390380859, 0.39032936096191406, 0.0, 0.0, 0.0, 0.0, 0.0, 0.0, 0.0, 0.0, 0.0, 0.0, 0.0, 0.0, 0.0], [0.5758280754089355, 0.22531720995903015, 0.1988547295331955, 0.0, 0.0, 0.0, 0.0, 0.0, 0.0, 0.0, 0.0, 0.0, 0.0, 0.0, 0.0], [0.5314710736274719, 0.15163850784301758, 0.1628202497959137, 0.15407013893127441, 0.0, 0.0, 0.0, 0.0, 0.0, 0.0, 0.0, 0.0, 0.0, 0.0, 0.0], [0.5056804418563843, 0.11881476640701294, 0.12366054207086563, 0.12714460492134094, 0.124699667096138, 0.0, 0.0, 0.0, 0.0, 0.0, 0.0, 0.0, 0.0, 0.0, 0.0], [0.47777777910232544, 0.08663508296012878, 0.1001783013343811, 0.1000768318772316, 0.10947699099779129, 0.12585504353046417, 0.0, 0.0, 0.0, 0.0, 0.0, 0.0, 0.0, 0.0, 0.0], [0.48295289278030396, 0.07146289944648743, 0.07899162918329239, 0.07837828993797302, 0.08784700185060501, 0.10343917459249496, 0.09692805260419846, 0.0, 0.0, 0.0, 0.0, 0.0, 0.0, 0.0, 0.0], [0.4789682626724243, 0.05970848351716995, 0.07000046223402023, 0.06656193733215332, 0.07465212047100067, 0.08807367086410522, 0.07864558696746826, 0.08338948339223862, 0.0, 0.0, 0.0, 0.0, 0.0, 0.0, 0.0], [0.46565717458724976, 0.057444363832473755, 0.06027344614267349, 0.0601690337061882, 0.06169178709387779, 0.07606396824121475, 0.06921840459108353, 0.06705863028764725, 0.08242318034172058, 0.0, 0.0, 0.0, 0.0, 0.0, 0.0], [0.46537908911705017, 0.0433075837790966, 0.050384387373924255, 0.048595622181892395, 0.053098224103450775, 0.06530104577541351, 0.058007340878248215, 0.05672693997621536, 0.07104525715112686, 0.08815445750951767, 0.0, 0.0, 0.0, 0.0, 0.0], [0.45708078145980835, 0.03689437359571457, 0.04268981143832207, 0.04487835615873337, 0.04300442337989807, 0.057245075702667236, 0.053762175142765045, 0.05115547031164169, 0.06603532284498215, 0.08766239881515503, 0.0595918633043766, 0.0, 0.0, 0.0, 0.0], [0.473852276802063, 0.03006056137382984, 0.03588692843914032, 0.03641316667199135, 0.03864523395895958, 0.04889300838112831, 0.04576220363378525, 0.04259411618113518, 0.05502449348568916, 0.07290567457675934, 0.05198783800005913, 0.06797446310520172, 0.0, 0.0, 0.0], [0.4910685122013092, 0.026009153574705124, 0.031872354447841644, 0.030552590265870094, 0.03292451053857803, 0.041436582803726196, 0.03789319097995758, 0.04033639281988144, 0.0481145866215229, 0.06065261736512184, 0.04507402703166008, 0.05823004990816116, 0.05583539232611656, 0.0, 0.0], [0.4607476592063904, 0.026117200031876564, 0.030184175819158554, 0.03153036907315254, 0.029609253630042076, 0.0396004319190979, 0.03797627240419388, 0.03572389483451843, 0.04668314382433891, 0.06175293028354645, 0.04126593470573425, 0.05847474932670593, 0.050735246390104294, 0.04959873482584953, 0.0], [0.5123315453529358, 0.01949523761868477, 0.02302563562989235, 0.02334117516875267, 0.02478875406086445, 0.03189372271299362, 0.03120366483926773, 0.029046164825558662, 0.037428565323352814, 0.04787474870681763, 0.03443605825304985, 0.046576447784900665, 0.04151792451739311, 0.0415051095187664, 0.055535271763801575]], [[1.0, 0.0, 0.0, 0.0, 0.0, 0.0, 0.0, 0.0, 0.0, 0.0, 0.0, 0.0, 0.0, 0.0, 0.0], [0.8780754804611206, 0.12192447483539581, 0.0, 0.0, 0.0, 0.0, 0.0, 0.0, 0.0, 0.0, 0.0, 0.0, 0.0, 0.0, 0.0], [0.7590292096138, 0.12234403938055038, 0.11862675100564957, 0.0, 0.0, 0.0, 0.0, 0.0, 0.0, 0.0, 0.0, 0.0, 0.0, 0.0, 0.0], [0.6730674505233765, 0.10584184527397156, 0.13103646039962769, 0.09005431085824966, 0.0, 0.0, 0.0, 0.0, 0.0, 0.0, 0.0, 0.0, 0.0, 0.0, 0.0], [0.627831757068634, 0.0873260349035263, 0.09346064925193787, 0.08259719610214233, 0.10878422856330872, 0.0, 0.0, 0.0, 0.0, 0.0, 0.0, 0.0, 0.0, 0.0, 0.0], [0.5339383482933044, 0.07428809255361557, 0.09061026573181152, 0.07379825413227081, 0.11623887717723846, 0.1111261323094368, 0.0, 0.0, 0.0, 0.0, 0.0, 0.0, 0.0, 0.0, 0.0], [0.4700084328651428, 0.07470846176147461, 0.08637377619743347, 0.062025465071201324, 0.11651908606290817, 0.1002245545387268, 0.09014031291007996, 0.0, 0.0, 0.0, 0.0, 0.0, 0.0, 0.0, 0.0], [0.43442851305007935, 0.06556378304958344, 0.08923950791358948, 0.05799579620361328, 0.10486111789941788, 0.08816730231046677, 0.07473111152648926, 0.08501292020082474, 0.0, 0.0, 0.0, 0.0, 0.0, 0.0, 0.0], [0.393790602684021, 0.06355088204145432, 0.068271704018116, 0.058099668473005295, 0.08289571851491928, 0.07917877286672592, 0.07086476683616638, 0.07117868214845657, 0.11216919124126434, 0.0, 0.0, 0.0, 0.0, 0.0, 0.0], [0.33870986104011536, 0.060739509761333466, 0.0666777491569519, 0.05111057683825493, 0.08428879082202911, 0.07913163304328918, 0.06052648276090622, 0.06410869210958481, 0.10628404468297958, 0.08842260390520096, 0.0, 0.0, 0.0, 0.0, 0.0], [0.35984641313552856, 0.04875803738832474, 0.050060760229825974, 0.049620095640420914, 0.05626216530799866, 0.06096109002828598, 0.05874061584472656, 0.05558101460337639, 0.0813450813293457, 0.09019488096237183, 0.08862989395856857, 0.0, 0.0, 0.0, 0.0], [0.30823826789855957, 0.04098593443632126, 0.05151950567960739, 0.04245876893401146, 0.06067043915390968, 0.06052231043577194, 0.051714032888412476, 0.05051672086119652, 0.08027975261211395, 0.0744544193148613, 0.09519399702548981, 0.08344583958387375, 0.0, 0.0, 0.0], [0.2792685925960541, 0.03907390311360359, 0.05366716906428337, 0.03712533414363861, 0.057596415281295776, 0.05121636018157005, 0.04581441730260849, 0.051910895854234695, 0.07895994186401367, 0.06470727920532227, 0.08976072072982788, 0.07565360516309738, 0.07524539530277252, 0.0, 0.0], [0.29351863265037537, 0.03948628902435303, 0.0412738099694252, 0.03943033143877983, 0.043324485421180725, 0.04637777432799339, 0.04507474601268768, 0.04304199293255806, 0.06197361275553703, 0.06682199984788895, 0.06592615693807602, 0.0702042430639267, 0.06311754882335663, 0.08042844384908676, 0.0], [0.23911751806735992, 0.03237925097346306, 0.03846722096204758, 0.03126034885644913, 0.04741227626800537, 0.043317802250385284, 0.04283713176846504, 0.042074140161275864, 0.06176144257187843, 0.05344970524311066, 0.07179472595453262, 0.06962186098098755, 0.061234839260578156, 0.08854994177818298, 0.07672183215618134]], [[1.0, 0.0, 0.0, 0.0, 0.0, 0.0, 0.0, 0.0, 0.0, 0.0, 0.0, 0.0, 0.0, 0.0, 0.0], [0.7972972393035889, 0.20270276069641113, 0.0, 0.0, 0.0, 0.0, 0.0, 0.0, 0.0, 0.0, 0.0, 0.0, 0.0, 0.0, 0.0], [0.8895936012268066, 0.04869721084833145, 0.0617092065513134, 0.0, 0.0, 0.0, 0.0, 0.0, 0.0, 0.0, 0.0, 0.0, 0.0, 0.0, 0.0], [0.641227662563324, 0.04101574420928955, 0.01482078805565834, 0.3029358983039856, 0.0, 0.0, 0.0, 0.0, 0.0, 0.0, 0.0, 0.0, 0.0, 0.0, 0.0], [0.640743613243103, 0.06898461282253265, 0.11194571107625961, 0.061800647526979446, 0.11652538180351257, 0.0, 0.0, 0.0, 0.0, 0.0, 0.0, 0.0, 0.0, 0.0, 0.0], [0.5331939458847046, 0.26442596316337585, 0.033149417489767075, 0.08362586796283722, 0.007583520375192165, 0.07802126556634903, 0.0, 0.0, 0.0, 0.0, 0.0, 0.0, 0.0, 0.0, 0.0], [0.4319588541984558, 0.02671344019472599, 0.01927390694618225, 0.07710926979780197, 0.0022253047209233046, 0.011462423019111156, 0.43125683069229126, 0.0, 0.0, 0.0, 0.0, 0.0, 0.0, 0.0, 0.0], [0.4654825031757355, 0.12071339786052704, 0.03593477979302406, 0.18107005953788757, 0.015552523545920849, 0.03787154704332352, 0.08400195837020874, 0.05937330052256584, 0.0, 0.0, 0.0, 0.0, 0.0, 0.0, 0.0], [0.43776199221611023, 0.04600028693675995, 0.07464081048965454, 0.03251832351088524, 0.0874437689781189, 0.051191557198762894, 0.020697420462965965, 0.06266874074935913, 0.18707706034183502, 0.0, 0.0, 0.0, 0.0, 0.0, 0.0], [0.2824901044368744, 0.042831070721149445, 0.014673423953354359, 0.13388463854789734, 0.005628467537462711, 0.024779245257377625, 0.03018929809331894, 0.05299340933561325, 0.006891116965562105, 0.40563926100730896, 0.0, 0.0, 0.0, 0.0, 0.0], [0.1828978955745697, 0.033206310123205185, 0.08411657065153122, 0.04028954729437828, 0.1272124946117401, 0.02605561539530754, 0.0341506190598011, 0.07427967339754105, 0.16295123100280762, 0.16034814715385437, 0.0744919702410698, 0.0, 0.0, 0.0, 0.0], [0.3353578746318817, 0.16789890825748444, 0.027506304904818535, 0.04504202678799629, 0.019997403025627136, 0.12901897728443146, 0.03638400882482529, 0.05061265081167221, 0.019797954708337784, 0.09982313960790634, 0.009299674071371555, 0.05926109850406647, 0.0, 0.0, 0.0], [0.24980849027633667, 0.08719281852245331, 0.03238164633512497, 0.14150971174240112, 0.015314154326915741, 0.03506379574537277, 0.06818313151597977, 0.05148713290691376, 0.009326247498393059, 0.24185827374458313, 0.008155412040650845, 0.015093705616891384, 0.04462548717856407, 0.0, 0.0], [0.12753142416477203, 0.022644344717264175, 0.06372888386249542, 0.03907204791903496, 0.10867037624120712, 0.017602995038032532, 0.032015327364206314, 0.06458957493305206, 0.12784624099731445, 0.18357731401920319, 0.07079362869262695, 0.021769119426608086, 0.06156805902719498, 0.05859068036079407, 0.0], [0.14634592831134796, 0.0130783561617136, 0.014984006993472576, 0.042454056441783905, 0.0020375167950987816, 0.011140622198581696, 0.2844918370246887, 0.028632279485464096, 0.002851989585906267, 0.03876161575317383, 0.0012130379909649491, 0.005774775054305792, 0.02924088016152382, 0.0010681678541004658, 0.37792491912841797]], [[1.0, 0.0, 0.0, 0.0, 0.0, 0.0, 0.0, 0.0, 0.0, 0.0, 0.0, 0.0, 0.0, 0.0, 0.0], [0.9642724394798279, 0.03572753816843033, 0.0, 0.0, 0.0, 0.0, 0.0, 0.0, 0.0, 0.0, 0.0, 0.0, 0.0, 0.0, 0.0], [0.8186166286468506, 0.07821816205978394, 0.10316517949104309, 0.0, 0.0, 0.0, 0.0, 0.0, 0.0, 0.0, 0.0, 0.0, 0.0, 0.0, 0.0], [0.8590690493583679, 0.08924600481987, 0.027286970987915993, 0.024398040026426315, 0.0, 0.0, 0.0, 0.0, 0.0, 0.0, 0.0, 0.0, 0.0, 0.0, 0.0], [0.7577188014984131, 0.10870122909545898, 0.021550394594669342, 0.06323225051164627, 0.04879732429981232, 0.0, 0.0, 0.0, 0.0, 0.0, 0.0, 0.0, 0.0, 0.0, 0.0], [0.7421963214874268, 0.11382556706666946, 0.07331816852092743, 0.027635250240564346, 0.01513676717877388, 0.027887918055057526, 0.0, 0.0, 0.0, 0.0, 0.0, 0.0, 0.0, 0.0, 0.0], [0.568062961101532, 0.14952363073825836, 0.03173317760229111, 0.050373684614896774, 0.041392333805561066, 0.1187519058585167, 0.040162380784749985, 0.0, 0.0, 0.0, 0.0, 0.0, 0.0, 0.0, 0.0], [0.6517642140388489, 0.09586798399686813, 0.06299661099910736, 0.03579051420092583, 0.027237793430685997, 0.04253503307700157, 0.032033614814281464, 0.05177436023950577, 0.0, 0.0, 0.0, 0.0, 0.0, 0.0, 0.0], [0.6690648198127747, 0.06197264790534973, 0.008823876269161701, 0.04703538864850998, 0.02236262895166874, 0.019664091989398003, 0.03893721476197243, 0.08093275874853134, 0.051206596195697784, 0.0, 0.0, 0.0, 0.0, 0.0, 0.0], [0.6597124934196472, 0.08675404638051987, 0.04676748067140579, 0.02251569740474224, 0.020273130387067795, 0.04957437515258789, 0.02211235649883747, 0.03899240121245384, 0.01606777124106884, 0.037230148911476135, 0.0, 0.0, 0.0, 0.0, 0.0], [0.4023643434047699, 0.06204181909561157, 0.019997749477624893, 0.056729696691036224, 0.05218398943543434, 0.04983212426304817, 0.059697430580854416, 0.1194576546549797, 0.06744454056024551, 0.0861944854259491, 0.02405611053109169, 0.0, 0.0, 0.0, 0.0], [0.4984898865222931, 0.08805996179580688, 0.045634493231773376, 0.035485513508319855, 0.026416633278131485, 0.06193504482507706, 0.032204966992139816, 0.033272191882133484, 0.07062987983226776, 0.03918376937508583, 0.011803261004388332, 0.056884340941905975, 0.0, 0.0, 0.0], [0.5292946696281433, 0.08590549975633621, 0.052900779992341995, 0.037011321634054184, 0.024808883666992188, 0.04162703827023506, 0.03311185911297798, 0.04583853483200073, 0.02645508013665676, 0.043438348919153214, 0.010470149107277393, 0.02698318287730217, 0.04215460270643234, 0.0, 0.0], [0.32090309262275696, 0.04736959561705589, 0.012568069621920586, 0.05166516825556755, 0.028994964435696602, 0.03998715803027153, 0.05758310481905937, 0.1307816505432129, 0.0370042510330677, 0.09435316175222397, 0.01350930705666542, 0.056154750287532806, 0.09961572289466858, 0.009509989060461521, 0.0], [0.33474668860435486, 0.10477820783853531, 0.02299458347260952, 0.04127214103937149, 0.042593732476234436, 0.08618809282779694, 0.03104165382683277, 0.05153679847717285, 0.018978385254740715, 0.051688797771930695, 0.022446973249316216, 0.09630409628152847, 0.048622626811265945, 0.017360344529151917, 0.02944682352244854]], [[1.0, 0.0, 0.0, 0.0, 0.0, 0.0, 0.0, 0.0, 0.0, 0.0, 0.0, 0.0, 0.0, 0.0, 0.0], [0.9774472713470459, 0.0225527286529541, 0.0, 0.0, 0.0, 0.0, 0.0, 0.0, 0.0, 0.0, 0.0, 0.0, 0.0, 0.0, 0.0], [0.8195595145225525, 0.11220448464155197, 0.06823599338531494, 0.0, 0.0, 0.0, 0.0, 0.0, 0.0, 0.0, 0.0, 0.0, 0.0, 0.0, 0.0], [0.7515378594398499, 0.06915697455406189, 0.11144915223121643, 0.06785593926906586, 0.0, 0.0, 0.0, 0.0, 0.0, 0.0, 0.0, 0.0, 0.0, 0.0, 0.0], [0.6062169075012207, 0.10115434974431992, 0.15637972950935364, 0.10283572226762772, 0.0334133505821228, 0.0, 0.0, 0.0, 0.0, 0.0, 0.0, 0.0, 0.0, 0.0, 0.0], [0.5833176374435425, 0.07661411166191101, 0.13207924365997314, 0.06943918019533157, 0.07398636639118195, 0.06456348299980164, 0.0, 0.0, 0.0, 0.0, 0.0, 0.0, 0.0, 0.0, 0.0], [0.5809065103530884, 0.058092862367630005, 0.08605819195508957, 0.05864807963371277, 0.059919245541095734, 0.07104217261075974, 0.08533293753862381, 0.0, 0.0, 0.0, 0.0, 0.0, 0.0, 0.0, 0.0], [0.5279828906059265, 0.06280019879341125, 0.08172566443681717, 0.04789658635854721, 0.0628276839852333, 0.08903365582227707, 0.06073806807398796, 0.06699526309967041, 0.0, 0.0, 0.0, 0.0, 0.0, 0.0, 0.0], [0.4870375394821167, 0.04316473379731178, 0.15358908474445343, 0.04860267415642738, 0.05683122202754021, 0.06341689825057983, 0.05250328779220581, 0.06102251261472702, 0.03383214771747589, 0.0, 0.0, 0.0, 0.0, 0.0, 0.0], [0.41819655895233154, 0.055499929934740067, 0.06429888308048248, 0.042744025588035583, 0.054808568209409714, 0.06902896612882614, 0.05054066702723503, 0.04821100831031799, 0.10669497400522232, 0.0899764820933342, 0.0, 0.0, 0.0, 0.0, 0.0], [0.36227113008499146, 0.06478097289800644, 0.09449947625398636, 0.06078421324491501, 0.023072533309459686, 0.07664501667022705, 0.07210332155227661, 0.06495222449302673, 0.05918725207448006, 0.10670866817235947, 0.01499523501843214, 0.0, 0.0, 0.0, 0.0], [0.34304648637771606, 0.05324231833219528, 0.10472244024276733, 0.043203871697187424, 0.04825311526656151, 0.04893834888935089, 0.05027739331126213, 0.03679058328270912, 0.11526381224393845, 0.08482132852077484, 0.032437827438116074, 0.03900255262851715, 0.0, 0.0, 0.0], [0.36848556995391846, 0.04742727801203728, 0.05673384666442871, 0.03669024258852005, 0.042411718517541885, 0.052325502038002014, 0.043682586401700974, 0.049917180091142654, 0.09202835708856583, 0.07537569105625153, 0.024656308814883232, 0.046840354800224304, 0.06342539936304092, 0.0, 0.0], [0.32882171869277954, 0.05164768174290657, 0.0744185522198677, 0.04821326211094856, 0.021502910181879997, 0.05489102378487587, 0.059510741382837296, 0.0534275583922863, 0.04708372429013252, 0.09788019955158234, 0.013609967194497585, 0.06863228976726532, 0.06702392548322678, 0.013336433097720146, 0.0], [0.3449436128139496, 0.03933796286582947, 0.056959815323352814, 0.033412814140319824, 0.0375678651034832, 0.043654389679431915, 0.04529973119497299, 0.03927856311202049, 0.06848769634962082, 0.09062996506690979, 0.021914416924118996, 0.04388853907585144, 0.04767623543739319, 0.018062649294734, 0.06888576596975327]], [[1.0, 0.0, 0.0, 0.0, 0.0, 0.0, 0.0, 0.0, 0.0, 0.0, 0.0, 0.0, 0.0, 0.0, 0.0], [0.9522119164466858, 0.04778808355331421, 0.0, 0.0, 0.0, 0.0, 0.0, 0.0, 0.0, 0.0, 0.0, 0.0, 0.0, 0.0, 0.0], [0.829823911190033, 0.0589267872273922, 0.11124924570322037, 0.0, 0.0, 0.0, 0.0, 0.0, 0.0, 0.0, 0.0, 0.0, 0.0, 0.0, 0.0], [0.757101833820343, 0.07944616675376892, 0.05492513254284859, 0.10852686315774918, 0.0, 0.0, 0.0, 0.0, 0.0, 0.0, 0.0, 0.0, 0.0, 0.0, 0.0], [0.7594446539878845, 0.038659363985061646, 0.06779195368289948, 0.08479773253202438, 0.049306344240903854, 0.0, 0.0, 0.0, 0.0, 0.0, 0.0, 0.0, 0.0, 0.0, 0.0], [0.6712217330932617, 0.05516057088971138, 0.05519748851656914, 0.08573569357395172, 0.04386912286281586, 0.08881533890962601, 0.0, 0.0, 0.0, 0.0, 0.0, 0.0, 0.0, 0.0, 0.0], [0.5895720720291138, 0.08034169673919678, 0.04402623698115349, 0.07885896414518356, 0.03470891714096069, 0.06776804476976395, 0.10472409427165985, 0.0, 0.0, 0.0, 0.0, 0.0, 0.0, 0.0, 0.0], [0.4942615032196045, 0.07240572571754456, 0.04313100874423981, 0.07907100766897202, 0.03327058255672455, 0.05970355495810509, 0.10252459347248077, 0.1156320571899414, 0.0, 0.0, 0.0, 0.0, 0.0, 0.0, 0.0], [0.47273463010787964, 0.03957146778702736, 0.05262036621570587, 0.06652405858039856, 0.03901192545890808, 0.05709660425782204, 0.10773441195487976, 0.12240184843540192, 0.04230460152029991, 0.0, 0.0, 0.0, 0.0, 0.0, 0.0], [0.41586655378341675, 0.05744580179452896, 0.043365076184272766, 0.07237228751182556, 0.032190073281526566, 0.054928164929151535, 0.07838934659957886, 0.0988980308175087, 0.03486713021993637, 0.111677385866642, 0.0, 0.0, 0.0, 0.0, 0.0], [0.46631553769111633, 0.035383790731430054, 0.028834205120801926, 0.04746063053607941, 0.022600430995225906, 0.04532087594270706, 0.09059292823076248, 0.08447796106338501, 0.03360327333211899, 0.11443811655044556, 0.0309723112732172, 0.0, 0.0, 0.0, 0.0], [0.4225737154483795, 0.05244984105229378, 0.02458873577415943, 0.05907775089144707, 0.0204482339322567, 0.05289376154541969, 0.07994430512189865, 0.08514893800020218, 0.027874315157532692, 0.09992697834968567, 0.02557818964123726, 0.04949519410729408, 0.0, 0.0, 0.0], [0.35761505365371704, 0.053324684500694275, 0.03447156399488449, 0.05525561422109604, 0.027599629014730453, 0.044412482529878616, 0.07292765378952026, 0.07770729064941406, 0.03372326120734215, 0.08624707907438278, 0.03406223654747009, 0.04285639524459839, 0.07979704439640045, 0.0, 0.0], [0.3775372803211212, 0.028182482346892357, 0.026175357401371002, 0.04304630309343338, 0.020379625260829926, 0.040427640080451965, 0.07993323355913162, 0.07168564200401306, 0.02898336574435234, 0.10778333246707916, 0.02763151004910469, 0.043466802686452866, 0.07437879592180252, 0.030388642102479935, 0.0], [0.35497719049453735, 0.051906000822782516, 0.02583594061434269, 0.04675520211458206, 0.022177983075380325, 0.041655879467725754, 0.06653270870447159, 0.05990207940340042, 0.027323555201292038, 0.07767526805400848, 0.02720041200518608, 0.04270010069012642, 0.061644215136766434, 0.027696145698428154, 0.0660172551870346]], [[1.0, 0.0, 0.0, 0.0, 0.0, 0.0, 0.0, 0.0, 0.0, 0.0, 0.0, 0.0, 0.0, 0.0, 0.0], [0.9504060745239258, 0.049593888223171234, 0.0, 0.0, 0.0, 0.0, 0.0, 0.0, 0.0, 0.0, 0.0, 0.0, 0.0, 0.0, 0.0], [0.8957726359367371, 0.08916722983121872, 0.015060145407915115, 0.0, 0.0, 0.0, 0.0, 0.0, 0.0, 0.0, 0.0, 0.0, 0.0, 0.0, 0.0], [0.8493954539299011, 0.06286628544330597, 0.011692806147038937, 0.07604549825191498, 0.0, 0.0, 0.0, 0.0, 0.0, 0.0, 0.0, 0.0, 0.0, 0.0, 0.0], [0.852798342704773, 0.06902177631855011, 0.014165110886096954, 0.05845757573843002, 0.005557266529649496, 0.0, 0.0, 0.0, 0.0, 0.0, 0.0, 0.0, 0.0, 0.0, 0.0], [0.7987557053565979, 0.07440664619207382, 0.013914202339947224, 0.060516439378261566, 0.008271434344351292, 0.044135674834251404, 0.0, 0.0, 0.0, 0.0, 0.0, 0.0, 0.0, 0.0, 0.0], [0.7412481904029846, 0.06718454509973526, 0.013890446163713932, 0.05741305649280548, 0.00919193122535944, 0.04041658341884613, 0.07065525650978088, 0.0, 0.0, 0.0, 0.0, 0.0, 0.0, 0.0, 0.0], [0.6493274569511414, 0.06185228005051613, 0.01524900458753109, 0.051362279802560806, 0.01067754440009594, 0.04556755721569061, 0.05507538095116615, 0.11088858544826508, 0.0, 0.0, 0.0, 0.0, 0.0, 0.0, 0.0], [0.6003878116607666, 0.08736340701580048, 0.02609206922352314, 0.062300510704517365, 0.016221435740590096, 0.06047923490405083, 0.04625789821147919, 0.07713554054498672, 0.023761993274092674, 0.0, 0.0, 0.0, 0.0, 0.0, 0.0], [0.5647891759872437, 0.07923974096775055, 0.0157775841653347, 0.05228433385491371, 0.012032621540129185, 0.04505673423409462, 0.051395758986473083, 0.1060045063495636, 0.018881797790527344, 0.05453783646225929, 0.0, 0.0, 0.0, 0.0, 0.0], [0.5411996841430664, 0.06468109786510468, 0.01587679423391819, 0.05574479326605797, 0.006896232720464468, 0.041947830468416214, 0.06496172398328781, 0.11576919257640839, 0.016661833971738815, 0.06523976475000381, 0.01102097425609827, 0.0, 0.0, 0.0, 0.0], [0.463483989238739, 0.07339096069335938, 0.015042530372738838, 0.046930909156799316, 0.009708510711789131, 0.05390656739473343, 0.07060492038726807, 0.12675385177135468, 0.020231958478689194, 0.056626223027706146, 0.01341653149574995, 0.04990299418568611, 0.0, 0.0, 0.0], [0.4795815944671631, 0.05554427579045296, 0.0179450623691082, 0.03912359103560448, 0.013235362246632576, 0.04995330795645714, 0.04129792004823685, 0.0907667726278305, 0.022664643824100494, 0.04033162444829941, 0.017178434878587723, 0.04767142981290817, 0.08470595628023148, 0.0, 0.0], [0.4451660215854645, 0.052553605288267136, 0.016767552122473717, 0.05024402216076851, 0.007900428026914597, 0.03787284716963768, 0.05858079344034195, 0.09278197586536407, 0.017482155933976173, 0.0595160610973835, 0.012092744931578636, 0.03977763280272484, 0.09382610023021698, 0.01543797180056572, 0.0], [0.37995967268943787, 0.054190151393413544, 0.0166754312813282, 0.0420711487531662, 0.01206456683576107, 0.041552841663360596, 0.04667310044169426, 0.11585260182619095, 0.022221935912966728, 0.04070882871747017, 0.015659397467970848, 0.04346860200166702, 0.10852047055959702, 0.017292995005846024, 0.043088361620903015]], [[1.0, 0.0, 0.0, 0.0, 0.0, 0.0, 0.0, 0.0, 0.0, 0.0, 0.0, 0.0, 0.0, 0.0, 0.0], [0.00033902822178788483, 0.9996609687805176, 0.0, 0.0, 0.0, 0.0, 0.0, 0.0, 0.0, 0.0, 0.0, 0.0, 0.0, 0.0, 0.0], [0.000660486111883074, 0.546696126461029, 0.45264333486557007, 0.0, 0.0, 0.0, 0.0, 0.0, 0.0, 0.0, 0.0, 0.0, 0.0, 0.0, 0.0], [0.0010770418448373675, 0.36138248443603516, 0.36902955174446106, 0.2685108780860901, 0.0, 0.0, 0.0, 0.0, 0.0, 0.0, 0.0, 0.0, 0.0, 0.0, 0.0], [0.0007760050939396024, 0.2699922025203705, 0.26579126715660095, 0.20882000029087067, 0.2546205222606659, 0.0, 0.0, 0.0, 0.0, 0.0, 0.0, 0.0, 0.0, 0.0, 0.0], [0.0010458528995513916, 0.1846504658460617, 0.2054031938314438, 0.15276376903057098, 0.21176207065582275, 0.24437466263771057, 0.0, 0.0, 0.0, 0.0, 0.0, 0.0, 0.0, 0.0, 0.0], [0.0015934627735987306, 0.14955352246761322, 0.16930560767650604, 0.12439855188131332, 0.17695796489715576, 0.21325695514678955, 0.16493399441242218, 0.0, 0.0, 0.0, 0.0, 0.0, 0.0, 0.0, 0.0], [0.0015701611991971731, 0.12540824711322784, 0.14699028432369232, 0.10661667585372925, 0.15786392986774445, 0.18111008405685425, 0.13921351730823517, 0.14122723042964935, 0.0, 0.0, 0.0, 0.0, 0.0, 0.0, 0.0], [0.0013290188508108258, 0.1146504133939743, 0.12051400542259216, 0.09439868479967117, 0.12234839797019958, 0.1448216438293457, 0.11751380562782288, 0.11047591269016266, 0.17394813895225525, 0.0, 0.0, 0.0, 0.0, 0.0, 0.0], [0.0018005589954555035, 0.08424625545740128, 0.09951096773147583, 0.07285052537918091, 0.10669316351413727, 0.13274961709976196, 0.0978776216506958, 0.09305135160684586, 0.15742745995521545, 0.1537923961877823, 0.0, 0.0, 0.0, 0.0, 0.0], [0.0013513949234038591, 0.07520164549350739, 0.08644307404756546, 0.06698661297559738, 0.08513685315847397, 0.11257322132587433, 0.08693662285804749, 0.0798693597316742, 0.13818465173244476, 0.14069810509681702, 0.12661851942539215, 0.0, 0.0, 0.0, 0.0], [0.0014078434323891997, 0.061859387904405594, 0.07079483568668365, 0.05500619113445282, 0.07622569054365158, 0.09889093786478043, 0.07436158508062363, 0.06651671975851059, 0.11737247556447983, 0.11572353541851044, 0.11034204065799713, 0.15149874985218048, 0.0, 0.0, 0.0], [0.0022959134075790644, 0.05023070424795151, 0.06368047744035721, 0.046525243669748306, 0.0679868832230568, 0.08241180330514908, 0.06480441987514496, 0.06679773330688477, 0.10617158561944962, 0.10325665771961212, 0.10259777307510376, 0.13958539068698883, 0.10365545749664307, 0.0, 0.0], [0.0015587166417390108, 0.049857206642627716, 0.05886451154947281, 0.04542785510420799, 0.05765115097165108, 0.07555924355983734, 0.059217192232608795, 0.055285509675741196, 0.09450878947973251, 0.09705093502998352, 0.08644932508468628, 0.12517213821411133, 0.08573784679174423, 0.10765957087278366, 0.0], [0.0032601202838122845, 0.03729093074798584, 0.049406275153160095, 0.03674713522195816, 0.052504416555166245, 0.06684067845344543, 0.054032135754823685, 0.04964897036552429, 0.08244524151086807, 0.08161431550979614, 0.07985776662826538, 0.11411578208208084, 0.07847622781991959, 0.10084652900695801, 0.11291342228651047]], [[1.0, 0.0, 0.0, 0.0, 0.0, 0.0, 0.0, 0.0, 0.0, 0.0, 0.0, 0.0, 0.0, 0.0, 0.0], [0.17958272993564606, 0.8204172253608704, 0.0, 0.0, 0.0, 0.0, 0.0, 0.0, 0.0, 0.0, 0.0, 0.0, 0.0, 0.0, 0.0], [0.1366293877363205, 0.004254050552845001, 0.8591165542602539, 0.0, 0.0, 0.0, 0.0, 0.0, 0.0, 0.0, 0.0, 0.0, 0.0, 0.0, 0.0], [0.45224055647850037, 0.1106545627117157, 0.007992833852767944, 0.4291120767593384, 0.0, 0.0, 0.0, 0.0, 0.0, 0.0, 0.0, 0.0, 0.0, 0.0, 0.0], [0.06797283887863159, 0.0017441678792238235, 0.009428096003830433, 0.024197841063141823, 0.8966570496559143, 0.0, 0.0, 0.0, 0.0, 0.0, 0.0, 0.0, 0.0, 0.0, 0.0], [0.09731723368167877, 0.005661917384713888, 0.0026021183002740145, 0.030541975051164627, 0.0013908199034631252, 0.862485945224762, 0.0, 0.0, 0.0, 0.0, 0.0, 0.0, 0.0, 0.0, 0.0], [0.21071018278598785, 0.00691968621686101, 0.0008676570141687989, 0.10469906032085419, 0.0001265048049390316, 0.003154526697471738, 0.6735223531723022, 0.0, 0.0, 0.0, 0.0, 0.0, 0.0, 0.0, 0.0], [0.20258603990077972, 0.006933386437594891, 0.003955930937081575, 0.04651445522904396, 0.00048691435949876904, 0.0030112359672784805, 0.04047096520662308, 0.6960410475730896, 0.0, 0.0, 0.0, 0.0, 0.0, 0.0, 0.0], [0.08742281794548035, 0.003758791135624051, 0.010718966834247112, 0.03872841224074364, 0.027173936367034912, 0.0044996063224971294, 0.023182697594165802, 0.002098526805639267, 0.8024163246154785, 0.0, 0.0, 0.0, 0.0, 0.0, 0.0], [0.199458509683609, 0.2339790165424347, 0.03717809170484543, 0.11653994768857956, 0.010472606867551804, 0.026151761412620544, 0.08494819700717926, 0.10445136576890945, 0.012638361193239689, 0.17418214678764343, 0.0, 0.0, 0.0, 0.0, 0.0], [0.009358799085021019, 0.0009503925684839487, 0.007643931079655886, 0.005702279508113861, 0.6201317310333252, 0.001374493120238185, 0.0008506663725711405, 0.00034142620279453695, 0.014942708425223827, 0.0335177518427372, 0.30518582463264465, 0.0, 0.0, 0.0, 0.0], [0.053068459033966064, 0.006539044436067343, 0.0011629186337813735, 0.03458923473954201, 0.0026461088564246893, 0.007260485552251339, 0.01558817271143198, 0.0019305188907310367, 0.00065673264907673, 0.05951576679944992, 0.001050659455358982, 0.8159918785095215, 0.0, 0.0, 0.0], [0.07161737978458405, 0.004483594559133053, 0.002360311336815357, 0.020506389439105988, 0.00029669940704479814, 0.0017100205877795815, 0.01603524573147297, 0.3339591920375824, 0.0008788910345174372, 0.06410139799118042, 0.0005325718084350228, 0.0018492571543902159, 0.4816690683364868, 0.0, 0.0], [0.0038902622181922197, 0.00048629831871949136, 0.006208181846886873, 0.0027893066871911287, 0.42185088992118835, 0.000992808025330305, 0.00037106804666109383, 0.00021531460515689105, 0.012616566382348537, 0.028966648504137993, 0.33350658416748047, 0.0015153081621974707, 0.00032251758966594934, 0.18626827001571655, 0.0], [0.07419372349977493, 0.0031627134885638952, 0.0003607692488003522, 0.046678576618433, 5.65808113606181e-05, 0.0013215747894719243, 0.30126872658729553, 0.006139769218862057, 0.0009031897643581033, 0.06920252740383148, 7.427299715345725e-05, 0.0020841574296355247, 0.008631276898086071, 8.737613097764552e-05, 0.4858347177505493]]]}\n",
       "    )\n",
       "    </script>"
      ],
      "text/plain": [
       "<circuitsvis.utils.render.RenderedHTML at 0x1135e8190>"
      ]
     },
     "metadata": {},
     "output_type": "display_data"
    }
   ],
   "source": [
    "\n",
    "print(\"Layer 9 Head Attention Patterns:\")\n",
    "display(cv.attention.attention_patterns(tokens=model.to_str_tokens(noun_tokens[10]), attention= noun_cache[\"pattern\", 1][10]))\n",
    "\n",
    "\n"
   ]
  },
  {
   "cell_type": "code",
   "execution_count": 24,
   "metadata": {},
   "outputs": [
    {
     "ename": "NameError",
     "evalue": "name 'pattern' is not defined",
     "output_type": "error",
     "traceback": [
      "\u001b[0;31m---------------------------------------------------------------------------\u001b[0m",
      "\u001b[0;31mNameError\u001b[0m                                 Traceback (most recent call last)",
      "Cell \u001b[0;32mIn[24], line 4\u001b[0m\n\u001b[1;32m      1\u001b[0m \u001b[38;5;66;03m#len(noun_tokens), einops.rearrange(pattern, \"b h s1 s2 -> h s1 s2 b\").shape\u001b[39;00m\n\u001b[0;32m----> 4\u001b[0m model\u001b[38;5;241m.\u001b[39mto_str_tokens(noun_tokens[\u001b[38;5;241m0\u001b[39m]), \u001b[43mpattern\u001b[49m[\u001b[38;5;241m0\u001b[39m]\u001b[38;5;241m.\u001b[39mshape\n",
      "\u001b[0;31mNameError\u001b[0m: name 'pattern' is not defined"
     ]
    }
   ],
   "source": [
    "#len(noun_tokens), einops.rearrange(pattern, \"b h s1 s2 -> h s1 s2 b\").shape\n",
    "\n",
    "\n",
    "model.to_str_tokens(noun_tokens[0]), pattern[0].shape"
   ]
  },
  {
   "cell_type": "markdown",
   "metadata": {},
   "source": []
  },
  {
   "attachments": {},
   "cell_type": "markdown",
   "metadata": {},
   "source": [
    "Use the logit lens to look at the attention output at each head/layer\n",
    "\n",
    "Define the logit_diff_directions in different ways: according to the 3 metrics described above"
   ]
  },
  {
   "cell_type": "code",
   "execution_count": null,
   "metadata": {},
   "outputs": [
    {
     "ename": "NameError",
     "evalue": "name 'pnoun_cache' is not defined",
     "output_type": "error",
     "traceback": [
      "\u001b[0;31m---------------------------------------------------------------------------\u001b[0m",
      "\u001b[0;31mNameError\u001b[0m                                 Traceback (most recent call last)",
      "Cell \u001b[0;32mIn[21], line 22\u001b[0m\n\u001b[1;32m     18\u001b[0m     \u001b[39mreturn\u001b[39;00m per_head_logit_diffs\n\u001b[1;32m     21\u001b[0m answer_tokens \u001b[39m=\u001b[39m ans_toks_pn\n\u001b[0;32m---> 22\u001b[0m cache \u001b[39m=\u001b[39m pnoun_cache\n\u001b[1;32m     23\u001b[0m logit_diff_dirs \u001b[39m=\u001b[39m get_IOI_dir(answer_tokens)\n\u001b[1;32m     24\u001b[0m imshow(get_per_head_logit_diffs(cache, logit_diff_dirs), labels\u001b[39m=\u001b[39m{\u001b[39m\"\u001b[39m\u001b[39mx\u001b[39m\u001b[39m\"\u001b[39m:\u001b[39m\"\u001b[39m\u001b[39mHead\u001b[39m\u001b[39m\"\u001b[39m, \u001b[39m\"\u001b[39m\u001b[39my\u001b[39m\u001b[39m\"\u001b[39m:\u001b[39m\"\u001b[39m\u001b[39mLayer\u001b[39m\u001b[39m\"\u001b[39m}, title\u001b[39m=\u001b[39m\u001b[39m\"\u001b[39m\u001b[39mLogit Difference From Each Head - proper nouns distr\u001b[39m\u001b[39m\"\u001b[39m)\n",
      "\u001b[0;31mNameError\u001b[0m: name 'pnoun_cache' is not defined"
     ]
    }
   ],
   "source": [
    "\n",
    "def get_IOI_dir(answer_tokens):\n",
    "    answer_residual_directions = model.tokens_to_residual_directions(answer_tokens)\n",
    "    print(\"Answer residual directions shape:\", answer_residual_directions.shape)\n",
    "    logit_diff_directions = answer_residual_directions[:, 0] - answer_residual_directions[:, 1]\n",
    "    print(\"Logit difference directions shape:\", logit_diff_directions.shape)\n",
    "    return logit_diff_directions\n",
    "\n",
    "def residual_stack_to_logit_diff(residual_stack: Float[t.Tensor, \"components batch d_model\"], cache: ActivationCache, logit_diff_directions) -> float:\n",
    "    scaled_residual_stack = cache.apply_ln_to_stack(residual_stack, layer = -1, pos_slice=-1)\n",
    "    return einsum(\"... batch d_model, batch d_model -> ...\", scaled_residual_stack, logit_diff_directions)/len(prompts)\n",
    "\n",
    "\n",
    "\n",
    "def get_per_head_logit_diffs(cache,logit_diff_directions):\n",
    "    per_head_residual, labels = cache.stack_head_results(layer=-1, pos_slice=-1, return_labels=True)\n",
    "    per_head_logit_diffs = residual_stack_to_logit_diff(per_head_residual, cache, logit_diff_directions)\n",
    "    per_head_logit_diffs = einops.rearrange(per_head_logit_diffs, \"(layer head_index) -> layer head_index\", layer=model.cfg.n_layers, head_index=model.cfg.n_heads)\n",
    "    return per_head_logit_diffs\n",
    "\n",
    "\n",
    "answer_tokens = ans_toks_pn\n",
    "cache = pnoun_cache\n",
    "logit_diff_dirs = get_IOI_dir(answer_tokens)\n",
    "imshow(get_per_head_logit_diffs(cache, logit_diff_dirs), labels={\"x\":\"Head\", \"y\":\"Layer\"}, title=\"Logit Difference From Each Head - proper nouns distr\")\n",
    "\n",
    "answer_tokens = ans_toks_full\n",
    "cache = full_cache\n",
    "logit_diff_dirs = get_IOI_dir(answer_tokens)\n",
    "imshow(get_per_head_logit_diffs(cache, logit_diff_dirs), labels={\"x\":\"Head\", \"y\":\"Layer\"}, title=\"Logit Difference From Each Head - full distr\")"
   ]
  },
  {
   "cell_type": "code",
   "execution_count": null,
   "metadata": {},
   "outputs": [
    {
     "name": "stdout",
     "output_type": "stream",
     "text": [
      "Answer residual directions shape: torch.Size([20, 2, 768])\n",
      "Logit difference directions shape: torch.Size([20, 768])\n",
      "Tried to stack head results when they weren't cached. Computing head results now\n"
     ]
    },
    {
     "data": {
      "text/html": [
       "<div>                            <div id=\"d24ec3d1-fd1d-4fa2-85a0-c2e7e6e02347\" class=\"plotly-graph-div\" style=\"height:525px; width:100%;\"></div>            <script type=\"text/javascript\">                require([\"plotly\"], function(Plotly) {                    window.PLOTLYENV=window.PLOTLYENV || {};                                    if (document.getElementById(\"d24ec3d1-fd1d-4fa2-85a0-c2e7e6e02347\")) {                    Plotly.newPlot(                        \"d24ec3d1-fd1d-4fa2-85a0-c2e7e6e02347\",                        [{\"coloraxis\":\"coloraxis\",\"name\":\"0\",\"z\":[[-0.0009251620504073799,-5.880480239284225e-05,7.858940080041066e-05,0.00016165645502042025,-0.0015045201871544123,0.0001810134417610243,-0.004716910421848297,-0.0016833043191581964,-0.00035390217090025544,-0.00022455910220742226,-0.00030012670322321355,7.783826004015282e-05],[-0.00045164363109506667,-0.0004631394986063242,0.0005342850927263498,-0.0001591932086739689,-0.0009559763711877167,-0.00034746824530884624,-0.0027411826886236668,-0.0029647070914506912,0.0012942764442414045,0.00045496009988710284,0.00045454534119926393,0.0014213552931323647],[-0.0007356256828643382,-1.550588604004588e-05,0.0003607019898481667,0.00017559957632329315,-0.0007412786362692714,0.0002505214652046561,4.642221756512299e-05,0.002506424905732274,-0.0008300564950332046,-0.0010248047765344381,-0.0010340798180550337,-2.5217741494998336e-05],[7.560414087492973e-05,-0.0003297755611129105,0.00040595390601083636,-0.0001386440999340266,-2.7039902761316625e-06,-0.003067922778427601,0.0002778471098281443,0.0010128316935151815,-8.692166011314839e-05,-0.0009248379501514137,0.0006519944872707129,-0.0008835395565256476],[-0.0013676697853952646,-7.487740367650986e-05,-0.00055719941155985,0.0007093771127983928,0.0010340933222323656,-0.0005617184797301888,-0.0008609275100752711,0.001419425243511796,-0.00045505998423323035,-0.0019920291379094124,0.00027104601031169295,0.0003216582699678838],[-0.00032995163928717375,7.330968946916983e-05,-0.001291503431275487,-0.0005804297397844493,0.0025640770327299833,-0.0007467139512300491,0.0006121232872828841,-0.003862386103719473,-0.00013198284432291985,0.00018962915055453777,-0.002833076287060976,0.005205984227359295],[-0.0028806354384869337,-0.0005302014760673046,0.0020710329990833998,-0.0009289771551266313,-0.0035177096724510193,0.003414552193135023,0.0016790501540526748,-0.0026646582409739494,0.0026412452571094036,-0.0018577368464320898,1.982740286621265e-05,-0.0015948556829243898],[-0.00021628753165714443,-0.004650535527616739,-0.0003303792327642441,0.020456235855817795,-0.0014495512004941702,-0.008320851251482964,0.0016679198015481234,-0.002804639283567667,-0.013746745884418488,0.013871034607291222,-0.000508420926053077,-0.0038786735385656357],[0.0011531974887475371,-0.0014409155119210482,-0.009055746719241142,-0.0127485990524292,-0.0005454247584566474,-0.002785215387120843,-0.08123309910297394,0.000429361971328035,-0.04695791378617287,0.001412731595337391,0.050520509481430054,-0.002740781521424651],[7.352880493272096e-05,-9.549744572723284e-05,-0.004922186024487019,-0.004518286325037479,-0.008039101026952267,0.032187867909669876,0.08825357258319855,0.02181142568588257,-0.007558293640613556,0.14947299659252167,-0.0008940810221247375,-0.007707239128649235],[0.10171614587306976,0.01853933371603489,-0.04950268194079399,-0.009922528639435768,-0.006295367144048214,-0.0011034258641302586,0.0022954633459448814,0.03243809938430786,0.0005403134855441749,0.0018142713233828545,0.028347957879304886,-0.036650195717811584],[0.013674454763531685,-0.012463939376175404,-0.03376542776823044,-0.00827049370855093,0.001128831529058516,-0.00336594320833683,-0.0037252050824463367,-0.026850294321775436,-0.0013337365817278624,-0.009660176001489162,-0.006054834928363562,-0.012351766228675842]],\"type\":\"heatmap\",\"xaxis\":\"x\",\"yaxis\":\"y\",\"hovertemplate\":\"Head: %{x}<br>Layer: %{y}<br>color: %{z}<extra></extra>\"}],                        {\"template\":{\"data\":{\"histogram2dcontour\":[{\"type\":\"histogram2dcontour\",\"colorbar\":{\"outlinewidth\":0,\"ticks\":\"\"},\"colorscale\":[[0.0,\"#0d0887\"],[0.1111111111111111,\"#46039f\"],[0.2222222222222222,\"#7201a8\"],[0.3333333333333333,\"#9c179e\"],[0.4444444444444444,\"#bd3786\"],[0.5555555555555556,\"#d8576b\"],[0.6666666666666666,\"#ed7953\"],[0.7777777777777778,\"#fb9f3a\"],[0.8888888888888888,\"#fdca26\"],[1.0,\"#f0f921\"]]}],\"choropleth\":[{\"type\":\"choropleth\",\"colorbar\":{\"outlinewidth\":0,\"ticks\":\"\"}}],\"histogram2d\":[{\"type\":\"histogram2d\",\"colorbar\":{\"outlinewidth\":0,\"ticks\":\"\"},\"colorscale\":[[0.0,\"#0d0887\"],[0.1111111111111111,\"#46039f\"],[0.2222222222222222,\"#7201a8\"],[0.3333333333333333,\"#9c179e\"],[0.4444444444444444,\"#bd3786\"],[0.5555555555555556,\"#d8576b\"],[0.6666666666666666,\"#ed7953\"],[0.7777777777777778,\"#fb9f3a\"],[0.8888888888888888,\"#fdca26\"],[1.0,\"#f0f921\"]]}],\"heatmap\":[{\"type\":\"heatmap\",\"colorbar\":{\"outlinewidth\":0,\"ticks\":\"\"},\"colorscale\":[[0.0,\"#0d0887\"],[0.1111111111111111,\"#46039f\"],[0.2222222222222222,\"#7201a8\"],[0.3333333333333333,\"#9c179e\"],[0.4444444444444444,\"#bd3786\"],[0.5555555555555556,\"#d8576b\"],[0.6666666666666666,\"#ed7953\"],[0.7777777777777778,\"#fb9f3a\"],[0.8888888888888888,\"#fdca26\"],[1.0,\"#f0f921\"]]}],\"heatmapgl\":[{\"type\":\"heatmapgl\",\"colorbar\":{\"outlinewidth\":0,\"ticks\":\"\"},\"colorscale\":[[0.0,\"#0d0887\"],[0.1111111111111111,\"#46039f\"],[0.2222222222222222,\"#7201a8\"],[0.3333333333333333,\"#9c179e\"],[0.4444444444444444,\"#bd3786\"],[0.5555555555555556,\"#d8576b\"],[0.6666666666666666,\"#ed7953\"],[0.7777777777777778,\"#fb9f3a\"],[0.8888888888888888,\"#fdca26\"],[1.0,\"#f0f921\"]]}],\"contourcarpet\":[{\"type\":\"contourcarpet\",\"colorbar\":{\"outlinewidth\":0,\"ticks\":\"\"}}],\"contour\":[{\"type\":\"contour\",\"colorbar\":{\"outlinewidth\":0,\"ticks\":\"\"},\"colorscale\":[[0.0,\"#0d0887\"],[0.1111111111111111,\"#46039f\"],[0.2222222222222222,\"#7201a8\"],[0.3333333333333333,\"#9c179e\"],[0.4444444444444444,\"#bd3786\"],[0.5555555555555556,\"#d8576b\"],[0.6666666666666666,\"#ed7953\"],[0.7777777777777778,\"#fb9f3a\"],[0.8888888888888888,\"#fdca26\"],[1.0,\"#f0f921\"]]}],\"surface\":[{\"type\":\"surface\",\"colorbar\":{\"outlinewidth\":0,\"ticks\":\"\"},\"colorscale\":[[0.0,\"#0d0887\"],[0.1111111111111111,\"#46039f\"],[0.2222222222222222,\"#7201a8\"],[0.3333333333333333,\"#9c179e\"],[0.4444444444444444,\"#bd3786\"],[0.5555555555555556,\"#d8576b\"],[0.6666666666666666,\"#ed7953\"],[0.7777777777777778,\"#fb9f3a\"],[0.8888888888888888,\"#fdca26\"],[1.0,\"#f0f921\"]]}],\"mesh3d\":[{\"type\":\"mesh3d\",\"colorbar\":{\"outlinewidth\":0,\"ticks\":\"\"}}],\"scatter\":[{\"fillpattern\":{\"fillmode\":\"overlay\",\"size\":10,\"solidity\":0.2},\"type\":\"scatter\"}],\"parcoords\":[{\"type\":\"parcoords\",\"line\":{\"colorbar\":{\"outlinewidth\":0,\"ticks\":\"\"}}}],\"scatterpolargl\":[{\"type\":\"scatterpolargl\",\"marker\":{\"colorbar\":{\"outlinewidth\":0,\"ticks\":\"\"}}}],\"bar\":[{\"error_x\":{\"color\":\"#2a3f5f\"},\"error_y\":{\"color\":\"#2a3f5f\"},\"marker\":{\"line\":{\"color\":\"#E5ECF6\",\"width\":0.5},\"pattern\":{\"fillmode\":\"overlay\",\"size\":10,\"solidity\":0.2}},\"type\":\"bar\"}],\"scattergeo\":[{\"type\":\"scattergeo\",\"marker\":{\"colorbar\":{\"outlinewidth\":0,\"ticks\":\"\"}}}],\"scatterpolar\":[{\"type\":\"scatterpolar\",\"marker\":{\"colorbar\":{\"outlinewidth\":0,\"ticks\":\"\"}}}],\"histogram\":[{\"marker\":{\"pattern\":{\"fillmode\":\"overlay\",\"size\":10,\"solidity\":0.2}},\"type\":\"histogram\"}],\"scattergl\":[{\"type\":\"scattergl\",\"marker\":{\"colorbar\":{\"outlinewidth\":0,\"ticks\":\"\"}}}],\"scatter3d\":[{\"type\":\"scatter3d\",\"line\":{\"colorbar\":{\"outlinewidth\":0,\"ticks\":\"\"}},\"marker\":{\"colorbar\":{\"outlinewidth\":0,\"ticks\":\"\"}}}],\"scattermapbox\":[{\"type\":\"scattermapbox\",\"marker\":{\"colorbar\":{\"outlinewidth\":0,\"ticks\":\"\"}}}],\"scatterternary\":[{\"type\":\"scatterternary\",\"marker\":{\"colorbar\":{\"outlinewidth\":0,\"ticks\":\"\"}}}],\"scattercarpet\":[{\"type\":\"scattercarpet\",\"marker\":{\"colorbar\":{\"outlinewidth\":0,\"ticks\":\"\"}}}],\"carpet\":[{\"aaxis\":{\"endlinecolor\":\"#2a3f5f\",\"gridcolor\":\"white\",\"linecolor\":\"white\",\"minorgridcolor\":\"white\",\"startlinecolor\":\"#2a3f5f\"},\"baxis\":{\"endlinecolor\":\"#2a3f5f\",\"gridcolor\":\"white\",\"linecolor\":\"white\",\"minorgridcolor\":\"white\",\"startlinecolor\":\"#2a3f5f\"},\"type\":\"carpet\"}],\"table\":[{\"cells\":{\"fill\":{\"color\":\"#EBF0F8\"},\"line\":{\"color\":\"white\"}},\"header\":{\"fill\":{\"color\":\"#C8D4E3\"},\"line\":{\"color\":\"white\"}},\"type\":\"table\"}],\"barpolar\":[{\"marker\":{\"line\":{\"color\":\"#E5ECF6\",\"width\":0.5},\"pattern\":{\"fillmode\":\"overlay\",\"size\":10,\"solidity\":0.2}},\"type\":\"barpolar\"}],\"pie\":[{\"automargin\":true,\"type\":\"pie\"}]},\"layout\":{\"autotypenumbers\":\"strict\",\"colorway\":[\"#636efa\",\"#EF553B\",\"#00cc96\",\"#ab63fa\",\"#FFA15A\",\"#19d3f3\",\"#FF6692\",\"#B6E880\",\"#FF97FF\",\"#FECB52\"],\"font\":{\"color\":\"#2a3f5f\"},\"hovermode\":\"closest\",\"hoverlabel\":{\"align\":\"left\"},\"paper_bgcolor\":\"white\",\"plot_bgcolor\":\"#E5ECF6\",\"polar\":{\"bgcolor\":\"#E5ECF6\",\"angularaxis\":{\"gridcolor\":\"white\",\"linecolor\":\"white\",\"ticks\":\"\"},\"radialaxis\":{\"gridcolor\":\"white\",\"linecolor\":\"white\",\"ticks\":\"\"}},\"ternary\":{\"bgcolor\":\"#E5ECF6\",\"aaxis\":{\"gridcolor\":\"white\",\"linecolor\":\"white\",\"ticks\":\"\"},\"baxis\":{\"gridcolor\":\"white\",\"linecolor\":\"white\",\"ticks\":\"\"},\"caxis\":{\"gridcolor\":\"white\",\"linecolor\":\"white\",\"ticks\":\"\"}},\"coloraxis\":{\"colorbar\":{\"outlinewidth\":0,\"ticks\":\"\"}},\"colorscale\":{\"sequential\":[[0.0,\"#0d0887\"],[0.1111111111111111,\"#46039f\"],[0.2222222222222222,\"#7201a8\"],[0.3333333333333333,\"#9c179e\"],[0.4444444444444444,\"#bd3786\"],[0.5555555555555556,\"#d8576b\"],[0.6666666666666666,\"#ed7953\"],[0.7777777777777778,\"#fb9f3a\"],[0.8888888888888888,\"#fdca26\"],[1.0,\"#f0f921\"]],\"sequentialminus\":[[0.0,\"#0d0887\"],[0.1111111111111111,\"#46039f\"],[0.2222222222222222,\"#7201a8\"],[0.3333333333333333,\"#9c179e\"],[0.4444444444444444,\"#bd3786\"],[0.5555555555555556,\"#d8576b\"],[0.6666666666666666,\"#ed7953\"],[0.7777777777777778,\"#fb9f3a\"],[0.8888888888888888,\"#fdca26\"],[1.0,\"#f0f921\"]],\"diverging\":[[0,\"#8e0152\"],[0.1,\"#c51b7d\"],[0.2,\"#de77ae\"],[0.3,\"#f1b6da\"],[0.4,\"#fde0ef\"],[0.5,\"#f7f7f7\"],[0.6,\"#e6f5d0\"],[0.7,\"#b8e186\"],[0.8,\"#7fbc41\"],[0.9,\"#4d9221\"],[1,\"#276419\"]]},\"xaxis\":{\"gridcolor\":\"white\",\"linecolor\":\"white\",\"ticks\":\"\",\"title\":{\"standoff\":15},\"zerolinecolor\":\"white\",\"automargin\":true,\"zerolinewidth\":2},\"yaxis\":{\"gridcolor\":\"white\",\"linecolor\":\"white\",\"ticks\":\"\",\"title\":{\"standoff\":15},\"zerolinecolor\":\"white\",\"automargin\":true,\"zerolinewidth\":2},\"scene\":{\"xaxis\":{\"backgroundcolor\":\"#E5ECF6\",\"gridcolor\":\"white\",\"linecolor\":\"white\",\"showbackground\":true,\"ticks\":\"\",\"zerolinecolor\":\"white\",\"gridwidth\":2},\"yaxis\":{\"backgroundcolor\":\"#E5ECF6\",\"gridcolor\":\"white\",\"linecolor\":\"white\",\"showbackground\":true,\"ticks\":\"\",\"zerolinecolor\":\"white\",\"gridwidth\":2},\"zaxis\":{\"backgroundcolor\":\"#E5ECF6\",\"gridcolor\":\"white\",\"linecolor\":\"white\",\"showbackground\":true,\"ticks\":\"\",\"zerolinecolor\":\"white\",\"gridwidth\":2}},\"shapedefaults\":{\"line\":{\"color\":\"#2a3f5f\"}},\"annotationdefaults\":{\"arrowcolor\":\"#2a3f5f\",\"arrowhead\":0,\"arrowwidth\":1},\"geo\":{\"bgcolor\":\"white\",\"landcolor\":\"#E5ECF6\",\"subunitcolor\":\"white\",\"showland\":true,\"showlakes\":true,\"lakecolor\":\"white\"},\"title\":{\"x\":0.05},\"mapbox\":{\"style\":\"light\"}}},\"xaxis\":{\"anchor\":\"y\",\"domain\":[0.0,1.0],\"scaleanchor\":\"y\",\"constrain\":\"domain\",\"title\":{\"text\":\"Head\"}},\"yaxis\":{\"anchor\":\"x\",\"domain\":[0.0,1.0],\"autorange\":\"reversed\",\"constrain\":\"domain\",\"title\":{\"text\":\"Layer\"}},\"coloraxis\":{\"colorscale\":[[0.0,\"rgb(103,0,31)\"],[0.1,\"rgb(178,24,43)\"],[0.2,\"rgb(214,96,77)\"],[0.3,\"rgb(244,165,130)\"],[0.4,\"rgb(253,219,199)\"],[0.5,\"rgb(247,247,247)\"],[0.6,\"rgb(209,229,240)\"],[0.7,\"rgb(146,197,222)\"],[0.8,\"rgb(67,147,195)\"],[0.9,\"rgb(33,102,172)\"],[1.0,\"rgb(5,48,97)\"]],\"cmid\":0.0},\"title\":{\"text\":\"Logit Difference From Each Head - nouns distr\"}},                        {\"responsive\": true}                    ).then(function(){\n",
       "                            \n",
       "var gd = document.getElementById('d24ec3d1-fd1d-4fa2-85a0-c2e7e6e02347');\n",
       "var x = new MutationObserver(function (mutations, observer) {{\n",
       "        var display = window.getComputedStyle(gd).display;\n",
       "        if (!display || display === 'none') {{\n",
       "            console.log([gd, 'removed!']);\n",
       "            Plotly.purge(gd);\n",
       "            observer.disconnect();\n",
       "        }}\n",
       "}});\n",
       "\n",
       "// Listen for the removal of the full notebook cells\n",
       "var notebookContainer = gd.closest('#notebook-container');\n",
       "if (notebookContainer) {{\n",
       "    x.observe(notebookContainer, {childList: true});\n",
       "}}\n",
       "\n",
       "// Listen for the clearing of the current output cell\n",
       "var outputEl = gd.closest('.output');\n",
       "if (outputEl) {{\n",
       "    x.observe(outputEl, {childList: true});\n",
       "}}\n",
       "\n",
       "                        })                };                });            </script>        </div>"
      ]
     },
     "metadata": {},
     "output_type": "display_data"
    },
    {
     "name": "stdout",
     "output_type": "stream",
     "text": [
      "Answer residual directions shape: torch.Size([20, 2, 768])\n",
      "Logit difference directions shape: torch.Size([20, 768])\n",
      "Tried to stack head results when they weren't cached. Computing head results now\n"
     ]
    },
    {
     "data": {
      "text/html": [
       "<div>                            <div id=\"04a6f6f8-67f5-4695-89cd-bb0be1bb4b54\" class=\"plotly-graph-div\" style=\"height:525px; width:100%;\"></div>            <script type=\"text/javascript\">                require([\"plotly\"], function(Plotly) {                    window.PLOTLYENV=window.PLOTLYENV || {};                                    if (document.getElementById(\"04a6f6f8-67f5-4695-89cd-bb0be1bb4b54\")) {                    Plotly.newPlot(                        \"04a6f6f8-67f5-4695-89cd-bb0be1bb4b54\",                        [{\"coloraxis\":\"coloraxis\",\"name\":\"0\",\"z\":[[-0.0014337718021124601,-0.00014016558998264372,-8.961823914432898e-05,-8.500447620463092e-06,-0.00012433355732355267,5.8458208513911813e-05,-0.0012653728481382132,-0.0002155450638383627,1.5598134268657304e-05,-0.0002702045312616974,0.0001195782097056508,0.00010374714474892244],[1.791822796803899e-05,-0.0003277829964645207,6.729271149197302e-07,0.00014328400720842183,-0.0002489887992851436,-1.5859195627854206e-05,-0.00040289893513545394,-0.0013472572900354862,0.00042833253974094987,0.0004671475035138428,-6.305856368271634e-05,0.0002210327220382169],[-7.41579060559161e-05,-0.00044971395982429385,-5.0873881264124066e-05,-0.0002338606136618182,4.352723408374004e-05,0.0001971609890460968,0.0002829941513482481,0.0004460564232431352,-0.00019269211043138057,-0.0006618268089368939,-0.00023316682199947536,0.00013746363401878625],[-1.690702083578799e-05,5.2067880460526794e-05,0.0001156704020104371,-3.102597838733345e-05,6.268125434871763e-05,4.107929999008775e-05,-0.0006669675931334496,1.0552053936407901e-05,-7.546699634985998e-05,-7.085059769451618e-05,-0.00011327763786539435,5.279738616081886e-05],[5.607501225313172e-05,-1.843351128627546e-05,-0.00012768285523634404,6.31360526313074e-05,0.00035685329930856824,1.8845690647140145e-05,-0.0001305393234360963,0.0004013038706034422,-2.1790945538668893e-05,-0.0002608420327305794,8.135812822729349e-05,5.646517820423469e-05],[-8.07229516794905e-05,6.688740540994331e-05,-0.0004576652718242258,-3.54403855453711e-05,8.1445905379951e-05,-0.0002977299445774406,0.00013720340211875737,0.0005415233899839222,7.730170909781009e-05,0.00013519340427592397,-0.00025944618391804397,0.0004245235468260944],[-0.0016747305635362864,7.204325083876029e-05,0.0007469116826541722,-0.0002841520181391388,-0.001566275954246521,0.00032346672378480434,0.0011018782388418913,-0.0005275738658383489,-0.00014215570990927517,-0.0005937671521678567,-0.00012832271750085056,-2.2866763629281195e-06],[-0.00010219965770374984,-0.0013649342581629753,-0.00021642036153934896,0.027115589007735252,-9.912946552503854e-05,-0.0038176600355654955,0.000544566719327122,-0.0005226477514952421,-0.0032394477166235447,0.03940031677484512,-0.0002581537119112909,-0.000501468253787607],[0.0010979344369843602,-0.0005000930395908654,-0.006130354944616556,0.0012257905909791589,7.374594861175865e-05,-0.004244829062372446,-0.01384095661342144,4.727375562652014e-05,-0.010755321942269802,0.0006718240911141038,0.061128489673137665,0.006951571442186832],[0.009562293067574501,-0.0005305404192768037,0.010013342835009098,0.0023364019580185413,-0.0038375065196305513,0.013358774594962597,0.29864105582237244,0.0173167884349823,-0.010630474425852299,0.5578008890151978,1.9453606000752188e-05,-0.0012690837029367685],[0.20289137959480286,0.04363671690225601,-0.006811794824898243,0.004051866475492716,5.831615908391541e-06,0.0006091255927458405,0.07120750099420547,-0.31995508074760437,-0.0002716810558922589,-0.002264163689687848,0.06521089375019073,0.0018255645409226418],[0.00484789814800024,-0.014922703616321087,-0.039959803223609924,0.000629875750746578,-0.002189436461776495,-0.0005749518750235438,-0.00013734796084463596,0.0006768558523617685,0.00504749221727252,0.003032966982573271,-0.1771654188632965,0.004207246005535126]],\"type\":\"heatmap\",\"xaxis\":\"x\",\"yaxis\":\"y\",\"hovertemplate\":\"Head: %{x}<br>Layer: %{y}<br>color: %{z}<extra></extra>\"}],                        {\"template\":{\"data\":{\"histogram2dcontour\":[{\"type\":\"histogram2dcontour\",\"colorbar\":{\"outlinewidth\":0,\"ticks\":\"\"},\"colorscale\":[[0.0,\"#0d0887\"],[0.1111111111111111,\"#46039f\"],[0.2222222222222222,\"#7201a8\"],[0.3333333333333333,\"#9c179e\"],[0.4444444444444444,\"#bd3786\"],[0.5555555555555556,\"#d8576b\"],[0.6666666666666666,\"#ed7953\"],[0.7777777777777778,\"#fb9f3a\"],[0.8888888888888888,\"#fdca26\"],[1.0,\"#f0f921\"]]}],\"choropleth\":[{\"type\":\"choropleth\",\"colorbar\":{\"outlinewidth\":0,\"ticks\":\"\"}}],\"histogram2d\":[{\"type\":\"histogram2d\",\"colorbar\":{\"outlinewidth\":0,\"ticks\":\"\"},\"colorscale\":[[0.0,\"#0d0887\"],[0.1111111111111111,\"#46039f\"],[0.2222222222222222,\"#7201a8\"],[0.3333333333333333,\"#9c179e\"],[0.4444444444444444,\"#bd3786\"],[0.5555555555555556,\"#d8576b\"],[0.6666666666666666,\"#ed7953\"],[0.7777777777777778,\"#fb9f3a\"],[0.8888888888888888,\"#fdca26\"],[1.0,\"#f0f921\"]]}],\"heatmap\":[{\"type\":\"heatmap\",\"colorbar\":{\"outlinewidth\":0,\"ticks\":\"\"},\"colorscale\":[[0.0,\"#0d0887\"],[0.1111111111111111,\"#46039f\"],[0.2222222222222222,\"#7201a8\"],[0.3333333333333333,\"#9c179e\"],[0.4444444444444444,\"#bd3786\"],[0.5555555555555556,\"#d8576b\"],[0.6666666666666666,\"#ed7953\"],[0.7777777777777778,\"#fb9f3a\"],[0.8888888888888888,\"#fdca26\"],[1.0,\"#f0f921\"]]}],\"heatmapgl\":[{\"type\":\"heatmapgl\",\"colorbar\":{\"outlinewidth\":0,\"ticks\":\"\"},\"colorscale\":[[0.0,\"#0d0887\"],[0.1111111111111111,\"#46039f\"],[0.2222222222222222,\"#7201a8\"],[0.3333333333333333,\"#9c179e\"],[0.4444444444444444,\"#bd3786\"],[0.5555555555555556,\"#d8576b\"],[0.6666666666666666,\"#ed7953\"],[0.7777777777777778,\"#fb9f3a\"],[0.8888888888888888,\"#fdca26\"],[1.0,\"#f0f921\"]]}],\"contourcarpet\":[{\"type\":\"contourcarpet\",\"colorbar\":{\"outlinewidth\":0,\"ticks\":\"\"}}],\"contour\":[{\"type\":\"contour\",\"colorbar\":{\"outlinewidth\":0,\"ticks\":\"\"},\"colorscale\":[[0.0,\"#0d0887\"],[0.1111111111111111,\"#46039f\"],[0.2222222222222222,\"#7201a8\"],[0.3333333333333333,\"#9c179e\"],[0.4444444444444444,\"#bd3786\"],[0.5555555555555556,\"#d8576b\"],[0.6666666666666666,\"#ed7953\"],[0.7777777777777778,\"#fb9f3a\"],[0.8888888888888888,\"#fdca26\"],[1.0,\"#f0f921\"]]}],\"surface\":[{\"type\":\"surface\",\"colorbar\":{\"outlinewidth\":0,\"ticks\":\"\"},\"colorscale\":[[0.0,\"#0d0887\"],[0.1111111111111111,\"#46039f\"],[0.2222222222222222,\"#7201a8\"],[0.3333333333333333,\"#9c179e\"],[0.4444444444444444,\"#bd3786\"],[0.5555555555555556,\"#d8576b\"],[0.6666666666666666,\"#ed7953\"],[0.7777777777777778,\"#fb9f3a\"],[0.8888888888888888,\"#fdca26\"],[1.0,\"#f0f921\"]]}],\"mesh3d\":[{\"type\":\"mesh3d\",\"colorbar\":{\"outlinewidth\":0,\"ticks\":\"\"}}],\"scatter\":[{\"fillpattern\":{\"fillmode\":\"overlay\",\"size\":10,\"solidity\":0.2},\"type\":\"scatter\"}],\"parcoords\":[{\"type\":\"parcoords\",\"line\":{\"colorbar\":{\"outlinewidth\":0,\"ticks\":\"\"}}}],\"scatterpolargl\":[{\"type\":\"scatterpolargl\",\"marker\":{\"colorbar\":{\"outlinewidth\":0,\"ticks\":\"\"}}}],\"bar\":[{\"error_x\":{\"color\":\"#2a3f5f\"},\"error_y\":{\"color\":\"#2a3f5f\"},\"marker\":{\"line\":{\"color\":\"#E5ECF6\",\"width\":0.5},\"pattern\":{\"fillmode\":\"overlay\",\"size\":10,\"solidity\":0.2}},\"type\":\"bar\"}],\"scattergeo\":[{\"type\":\"scattergeo\",\"marker\":{\"colorbar\":{\"outlinewidth\":0,\"ticks\":\"\"}}}],\"scatterpolar\":[{\"type\":\"scatterpolar\",\"marker\":{\"colorbar\":{\"outlinewidth\":0,\"ticks\":\"\"}}}],\"histogram\":[{\"marker\":{\"pattern\":{\"fillmode\":\"overlay\",\"size\":10,\"solidity\":0.2}},\"type\":\"histogram\"}],\"scattergl\":[{\"type\":\"scattergl\",\"marker\":{\"colorbar\":{\"outlinewidth\":0,\"ticks\":\"\"}}}],\"scatter3d\":[{\"type\":\"scatter3d\",\"line\":{\"colorbar\":{\"outlinewidth\":0,\"ticks\":\"\"}},\"marker\":{\"colorbar\":{\"outlinewidth\":0,\"ticks\":\"\"}}}],\"scattermapbox\":[{\"type\":\"scattermapbox\",\"marker\":{\"colorbar\":{\"outlinewidth\":0,\"ticks\":\"\"}}}],\"scatterternary\":[{\"type\":\"scatterternary\",\"marker\":{\"colorbar\":{\"outlinewidth\":0,\"ticks\":\"\"}}}],\"scattercarpet\":[{\"type\":\"scattercarpet\",\"marker\":{\"colorbar\":{\"outlinewidth\":0,\"ticks\":\"\"}}}],\"carpet\":[{\"aaxis\":{\"endlinecolor\":\"#2a3f5f\",\"gridcolor\":\"white\",\"linecolor\":\"white\",\"minorgridcolor\":\"white\",\"startlinecolor\":\"#2a3f5f\"},\"baxis\":{\"endlinecolor\":\"#2a3f5f\",\"gridcolor\":\"white\",\"linecolor\":\"white\",\"minorgridcolor\":\"white\",\"startlinecolor\":\"#2a3f5f\"},\"type\":\"carpet\"}],\"table\":[{\"cells\":{\"fill\":{\"color\":\"#EBF0F8\"},\"line\":{\"color\":\"white\"}},\"header\":{\"fill\":{\"color\":\"#C8D4E3\"},\"line\":{\"color\":\"white\"}},\"type\":\"table\"}],\"barpolar\":[{\"marker\":{\"line\":{\"color\":\"#E5ECF6\",\"width\":0.5},\"pattern\":{\"fillmode\":\"overlay\",\"size\":10,\"solidity\":0.2}},\"type\":\"barpolar\"}],\"pie\":[{\"automargin\":true,\"type\":\"pie\"}]},\"layout\":{\"autotypenumbers\":\"strict\",\"colorway\":[\"#636efa\",\"#EF553B\",\"#00cc96\",\"#ab63fa\",\"#FFA15A\",\"#19d3f3\",\"#FF6692\",\"#B6E880\",\"#FF97FF\",\"#FECB52\"],\"font\":{\"color\":\"#2a3f5f\"},\"hovermode\":\"closest\",\"hoverlabel\":{\"align\":\"left\"},\"paper_bgcolor\":\"white\",\"plot_bgcolor\":\"#E5ECF6\",\"polar\":{\"bgcolor\":\"#E5ECF6\",\"angularaxis\":{\"gridcolor\":\"white\",\"linecolor\":\"white\",\"ticks\":\"\"},\"radialaxis\":{\"gridcolor\":\"white\",\"linecolor\":\"white\",\"ticks\":\"\"}},\"ternary\":{\"bgcolor\":\"#E5ECF6\",\"aaxis\":{\"gridcolor\":\"white\",\"linecolor\":\"white\",\"ticks\":\"\"},\"baxis\":{\"gridcolor\":\"white\",\"linecolor\":\"white\",\"ticks\":\"\"},\"caxis\":{\"gridcolor\":\"white\",\"linecolor\":\"white\",\"ticks\":\"\"}},\"coloraxis\":{\"colorbar\":{\"outlinewidth\":0,\"ticks\":\"\"}},\"colorscale\":{\"sequential\":[[0.0,\"#0d0887\"],[0.1111111111111111,\"#46039f\"],[0.2222222222222222,\"#7201a8\"],[0.3333333333333333,\"#9c179e\"],[0.4444444444444444,\"#bd3786\"],[0.5555555555555556,\"#d8576b\"],[0.6666666666666666,\"#ed7953\"],[0.7777777777777778,\"#fb9f3a\"],[0.8888888888888888,\"#fdca26\"],[1.0,\"#f0f921\"]],\"sequentialminus\":[[0.0,\"#0d0887\"],[0.1111111111111111,\"#46039f\"],[0.2222222222222222,\"#7201a8\"],[0.3333333333333333,\"#9c179e\"],[0.4444444444444444,\"#bd3786\"],[0.5555555555555556,\"#d8576b\"],[0.6666666666666666,\"#ed7953\"],[0.7777777777777778,\"#fb9f3a\"],[0.8888888888888888,\"#fdca26\"],[1.0,\"#f0f921\"]],\"diverging\":[[0,\"#8e0152\"],[0.1,\"#c51b7d\"],[0.2,\"#de77ae\"],[0.3,\"#f1b6da\"],[0.4,\"#fde0ef\"],[0.5,\"#f7f7f7\"],[0.6,\"#e6f5d0\"],[0.7,\"#b8e186\"],[0.8,\"#7fbc41\"],[0.9,\"#4d9221\"],[1,\"#276419\"]]},\"xaxis\":{\"gridcolor\":\"white\",\"linecolor\":\"white\",\"ticks\":\"\",\"title\":{\"standoff\":15},\"zerolinecolor\":\"white\",\"automargin\":true,\"zerolinewidth\":2},\"yaxis\":{\"gridcolor\":\"white\",\"linecolor\":\"white\",\"ticks\":\"\",\"title\":{\"standoff\":15},\"zerolinecolor\":\"white\",\"automargin\":true,\"zerolinewidth\":2},\"scene\":{\"xaxis\":{\"backgroundcolor\":\"#E5ECF6\",\"gridcolor\":\"white\",\"linecolor\":\"white\",\"showbackground\":true,\"ticks\":\"\",\"zerolinecolor\":\"white\",\"gridwidth\":2},\"yaxis\":{\"backgroundcolor\":\"#E5ECF6\",\"gridcolor\":\"white\",\"linecolor\":\"white\",\"showbackground\":true,\"ticks\":\"\",\"zerolinecolor\":\"white\",\"gridwidth\":2},\"zaxis\":{\"backgroundcolor\":\"#E5ECF6\",\"gridcolor\":\"white\",\"linecolor\":\"white\",\"showbackground\":true,\"ticks\":\"\",\"zerolinecolor\":\"white\",\"gridwidth\":2}},\"shapedefaults\":{\"line\":{\"color\":\"#2a3f5f\"}},\"annotationdefaults\":{\"arrowcolor\":\"#2a3f5f\",\"arrowhead\":0,\"arrowwidth\":1},\"geo\":{\"bgcolor\":\"white\",\"landcolor\":\"#E5ECF6\",\"subunitcolor\":\"white\",\"showland\":true,\"showlakes\":true,\"lakecolor\":\"white\"},\"title\":{\"x\":0.05},\"mapbox\":{\"style\":\"light\"}}},\"xaxis\":{\"anchor\":\"y\",\"domain\":[0.0,1.0],\"scaleanchor\":\"y\",\"constrain\":\"domain\",\"title\":{\"text\":\"Head\"}},\"yaxis\":{\"anchor\":\"x\",\"domain\":[0.0,1.0],\"autorange\":\"reversed\",\"constrain\":\"domain\",\"title\":{\"text\":\"Layer\"}},\"coloraxis\":{\"colorscale\":[[0.0,\"rgb(103,0,31)\"],[0.1,\"rgb(178,24,43)\"],[0.2,\"rgb(214,96,77)\"],[0.3,\"rgb(244,165,130)\"],[0.4,\"rgb(253,219,199)\"],[0.5,\"rgb(247,247,247)\"],[0.6,\"rgb(209,229,240)\"],[0.7,\"rgb(146,197,222)\"],[0.8,\"rgb(67,147,195)\"],[0.9,\"rgb(33,102,172)\"],[1.0,\"rgb(5,48,97)\"]],\"cmid\":0.0},\"title\":{\"text\":\"Logit Difference From Each Head - rel names distr\"}},                        {\"responsive\": true}                    ).then(function(){\n",
       "                            \n",
       "var gd = document.getElementById('04a6f6f8-67f5-4695-89cd-bb0be1bb4b54');\n",
       "var x = new MutationObserver(function (mutations, observer) {{\n",
       "        var display = window.getComputedStyle(gd).display;\n",
       "        if (!display || display === 'none') {{\n",
       "            console.log([gd, 'removed!']);\n",
       "            Plotly.purge(gd);\n",
       "            observer.disconnect();\n",
       "        }}\n",
       "}});\n",
       "\n",
       "// Listen for the removal of the full notebook cells\n",
       "var notebookContainer = gd.closest('#notebook-container');\n",
       "if (notebookContainer) {{\n",
       "    x.observe(notebookContainer, {childList: true});\n",
       "}}\n",
       "\n",
       "// Listen for the clearing of the current output cell\n",
       "var outputEl = gd.closest('.output');\n",
       "if (outputEl) {{\n",
       "    x.observe(outputEl, {childList: true});\n",
       "}}\n",
       "\n",
       "                        })                };                });            </script>        </div>"
      ]
     },
     "metadata": {},
     "output_type": "display_data"
    },
    {
     "name": "stdout",
     "output_type": "stream",
     "text": [
      "Answer residual directions shape: torch.Size([20, 2, 768])\n",
      "Logit difference directions shape: torch.Size([20, 768])\n",
      "Tried to stack head results when they weren't cached. Computing head results now\n"
     ]
    },
    {
     "data": {
      "text/html": [
       "<div>                            <div id=\"1949b814-9ec2-4685-862b-0590c5685fda\" class=\"plotly-graph-div\" style=\"height:525px; width:100%;\"></div>            <script type=\"text/javascript\">                require([\"plotly\"], function(Plotly) {                    window.PLOTLYENV=window.PLOTLYENV || {};                                    if (document.getElementById(\"1949b814-9ec2-4685-862b-0590c5685fda\")) {                    Plotly.newPlot(                        \"1949b814-9ec2-4685-862b-0590c5685fda\",                        [{\"coloraxis\":\"coloraxis\",\"name\":\"0\",\"z\":[[-0.0007809585658833385,6.303549889707938e-05,-0.0006138435564935207,-0.00032692161039449275,-0.0006032793899066746,0.00021536581334657967,-0.003839233424514532,-0.0005376738263294101,0.000256315222941339,0.00027969159418717027,-0.0005077897803857923,-0.00020246868371032178],[-0.0005614900146611035,-0.0004796268476638943,0.00017115463560912758,0.0005340891657397151,-0.0007081949152052402,0.0001738165010465309,-0.0007675520027987659,-0.0032121625263243914,0.0015631348360329866,0.0006968801026232541,4.269663622835651e-05,0.0006342663546092808],[-0.00017872457101475447,-0.0013342360034585,-5.674700878444128e-05,0.0003905865887645632,4.017711034975946e-05,-0.00033713626908138394,0.00031531797139905393,0.0021751229651272297,-1.0762421425170032e-06,-0.0007706566248089075,-0.0002875050122383982,0.00014187098713591695],[1.1822849046438932e-05,-0.0003339453833177686,-0.00019280487322248518,-4.383640407468192e-05,8.142314618453383e-05,-0.0006437090924009681,-0.0010774916736409068,-0.00036738693597726524,-0.0002579569409135729,-0.0003003041201736778,0.0003469076764304191,0.00030428156605921686],[0.0005007517756894231,-0.0001509586872998625,4.214908040012233e-05,-0.0010071622673422098,0.00017212354578077793,-0.00017878305516205728,-0.0007452178397215903,0.0008376920595765114,-0.00019378375145606697,-0.00045237940503284335,0.00013184570707380772,-0.00038993346970528364],[-0.00016199194942601025,3.523063423926942e-05,-0.0003359256952535361,0.0005250336253084242,0.00032702245516702533,-0.0005899713141843677,0.00018635399464983493,-0.0006443639285862446,-0.00013979888171888888,-3.4454569686204195e-06,-0.0017294296994805336,0.0009242965606972575],[-0.0005287883104756474,-0.00025877502048388124,0.0005620073643513024,0.0008272443083114922,-0.00309985619969666,0.000767833786085248,0.00141892209649086,-0.0014030174352228642,-0.0003965221403632313,-0.0007913564331829548,-1.5294781405827962e-05,-9.578296157997102e-05],[-9.232213051291183e-05,-0.0006692814058624208,-0.00014917601947672665,0.013929557986557484,0.00013287103502079844,-0.002649384317919612,-0.0007827747613191605,-0.0013404202181845903,-0.001699840067885816,0.02649855986237526,-0.0004756975395139307,-0.0021099948789924383],[0.0005317210452631116,-0.00028299452969804406,-0.024310410022735596,0.00024035289243329316,1.3901362763135694e-05,-0.0015678433701395988,-0.04048839956521988,0.00022132442973088473,-0.007852143608033657,0.0002678526216186583,0.05463303253054619,0.002955433214083314],[0.013286950998008251,-0.00025563337840139866,0.006177685689181089,-0.0013178387889638543,-0.0031393556855618954,0.011475480161607265,0.2141036093235016,0.06337867677211761,0.02547641657292843,0.4029918313026428,-9.362650598632172e-05,-0.002058187499642372],[0.25216999650001526,0.022988909855484962,0.008042228408157825,0.01672494038939476,-0.0019293682416900992,0.0003580879420042038,0.047836948186159134,-0.15336374938488007,-0.0006227625999599695,0.0014025082346051931,0.12673386931419373,0.00011526276648510247],[0.00747582595795393,0.0008759456686675549,-0.1489836722612381,0.0022988796699792147,-0.0007157609215937555,-0.0014962127897888422,-0.0057728779502213,-0.001626274548470974,0.006579013075679541,-0.0007621068507432938,-0.12591353058815002,0.0022137195337563753]],\"type\":\"heatmap\",\"xaxis\":\"x\",\"yaxis\":\"y\",\"hovertemplate\":\"Head: %{x}<br>Layer: %{y}<br>color: %{z}<extra></extra>\"}],                        {\"template\":{\"data\":{\"histogram2dcontour\":[{\"type\":\"histogram2dcontour\",\"colorbar\":{\"outlinewidth\":0,\"ticks\":\"\"},\"colorscale\":[[0.0,\"#0d0887\"],[0.1111111111111111,\"#46039f\"],[0.2222222222222222,\"#7201a8\"],[0.3333333333333333,\"#9c179e\"],[0.4444444444444444,\"#bd3786\"],[0.5555555555555556,\"#d8576b\"],[0.6666666666666666,\"#ed7953\"],[0.7777777777777778,\"#fb9f3a\"],[0.8888888888888888,\"#fdca26\"],[1.0,\"#f0f921\"]]}],\"choropleth\":[{\"type\":\"choropleth\",\"colorbar\":{\"outlinewidth\":0,\"ticks\":\"\"}}],\"histogram2d\":[{\"type\":\"histogram2d\",\"colorbar\":{\"outlinewidth\":0,\"ticks\":\"\"},\"colorscale\":[[0.0,\"#0d0887\"],[0.1111111111111111,\"#46039f\"],[0.2222222222222222,\"#7201a8\"],[0.3333333333333333,\"#9c179e\"],[0.4444444444444444,\"#bd3786\"],[0.5555555555555556,\"#d8576b\"],[0.6666666666666666,\"#ed7953\"],[0.7777777777777778,\"#fb9f3a\"],[0.8888888888888888,\"#fdca26\"],[1.0,\"#f0f921\"]]}],\"heatmap\":[{\"type\":\"heatmap\",\"colorbar\":{\"outlinewidth\":0,\"ticks\":\"\"},\"colorscale\":[[0.0,\"#0d0887\"],[0.1111111111111111,\"#46039f\"],[0.2222222222222222,\"#7201a8\"],[0.3333333333333333,\"#9c179e\"],[0.4444444444444444,\"#bd3786\"],[0.5555555555555556,\"#d8576b\"],[0.6666666666666666,\"#ed7953\"],[0.7777777777777778,\"#fb9f3a\"],[0.8888888888888888,\"#fdca26\"],[1.0,\"#f0f921\"]]}],\"heatmapgl\":[{\"type\":\"heatmapgl\",\"colorbar\":{\"outlinewidth\":0,\"ticks\":\"\"},\"colorscale\":[[0.0,\"#0d0887\"],[0.1111111111111111,\"#46039f\"],[0.2222222222222222,\"#7201a8\"],[0.3333333333333333,\"#9c179e\"],[0.4444444444444444,\"#bd3786\"],[0.5555555555555556,\"#d8576b\"],[0.6666666666666666,\"#ed7953\"],[0.7777777777777778,\"#fb9f3a\"],[0.8888888888888888,\"#fdca26\"],[1.0,\"#f0f921\"]]}],\"contourcarpet\":[{\"type\":\"contourcarpet\",\"colorbar\":{\"outlinewidth\":0,\"ticks\":\"\"}}],\"contour\":[{\"type\":\"contour\",\"colorbar\":{\"outlinewidth\":0,\"ticks\":\"\"},\"colorscale\":[[0.0,\"#0d0887\"],[0.1111111111111111,\"#46039f\"],[0.2222222222222222,\"#7201a8\"],[0.3333333333333333,\"#9c179e\"],[0.4444444444444444,\"#bd3786\"],[0.5555555555555556,\"#d8576b\"],[0.6666666666666666,\"#ed7953\"],[0.7777777777777778,\"#fb9f3a\"],[0.8888888888888888,\"#fdca26\"],[1.0,\"#f0f921\"]]}],\"surface\":[{\"type\":\"surface\",\"colorbar\":{\"outlinewidth\":0,\"ticks\":\"\"},\"colorscale\":[[0.0,\"#0d0887\"],[0.1111111111111111,\"#46039f\"],[0.2222222222222222,\"#7201a8\"],[0.3333333333333333,\"#9c179e\"],[0.4444444444444444,\"#bd3786\"],[0.5555555555555556,\"#d8576b\"],[0.6666666666666666,\"#ed7953\"],[0.7777777777777778,\"#fb9f3a\"],[0.8888888888888888,\"#fdca26\"],[1.0,\"#f0f921\"]]}],\"mesh3d\":[{\"type\":\"mesh3d\",\"colorbar\":{\"outlinewidth\":0,\"ticks\":\"\"}}],\"scatter\":[{\"fillpattern\":{\"fillmode\":\"overlay\",\"size\":10,\"solidity\":0.2},\"type\":\"scatter\"}],\"parcoords\":[{\"type\":\"parcoords\",\"line\":{\"colorbar\":{\"outlinewidth\":0,\"ticks\":\"\"}}}],\"scatterpolargl\":[{\"type\":\"scatterpolargl\",\"marker\":{\"colorbar\":{\"outlinewidth\":0,\"ticks\":\"\"}}}],\"bar\":[{\"error_x\":{\"color\":\"#2a3f5f\"},\"error_y\":{\"color\":\"#2a3f5f\"},\"marker\":{\"line\":{\"color\":\"#E5ECF6\",\"width\":0.5},\"pattern\":{\"fillmode\":\"overlay\",\"size\":10,\"solidity\":0.2}},\"type\":\"bar\"}],\"scattergeo\":[{\"type\":\"scattergeo\",\"marker\":{\"colorbar\":{\"outlinewidth\":0,\"ticks\":\"\"}}}],\"scatterpolar\":[{\"type\":\"scatterpolar\",\"marker\":{\"colorbar\":{\"outlinewidth\":0,\"ticks\":\"\"}}}],\"histogram\":[{\"marker\":{\"pattern\":{\"fillmode\":\"overlay\",\"size\":10,\"solidity\":0.2}},\"type\":\"histogram\"}],\"scattergl\":[{\"type\":\"scattergl\",\"marker\":{\"colorbar\":{\"outlinewidth\":0,\"ticks\":\"\"}}}],\"scatter3d\":[{\"type\":\"scatter3d\",\"line\":{\"colorbar\":{\"outlinewidth\":0,\"ticks\":\"\"}},\"marker\":{\"colorbar\":{\"outlinewidth\":0,\"ticks\":\"\"}}}],\"scattermapbox\":[{\"type\":\"scattermapbox\",\"marker\":{\"colorbar\":{\"outlinewidth\":0,\"ticks\":\"\"}}}],\"scatterternary\":[{\"type\":\"scatterternary\",\"marker\":{\"colorbar\":{\"outlinewidth\":0,\"ticks\":\"\"}}}],\"scattercarpet\":[{\"type\":\"scattercarpet\",\"marker\":{\"colorbar\":{\"outlinewidth\":0,\"ticks\":\"\"}}}],\"carpet\":[{\"aaxis\":{\"endlinecolor\":\"#2a3f5f\",\"gridcolor\":\"white\",\"linecolor\":\"white\",\"minorgridcolor\":\"white\",\"startlinecolor\":\"#2a3f5f\"},\"baxis\":{\"endlinecolor\":\"#2a3f5f\",\"gridcolor\":\"white\",\"linecolor\":\"white\",\"minorgridcolor\":\"white\",\"startlinecolor\":\"#2a3f5f\"},\"type\":\"carpet\"}],\"table\":[{\"cells\":{\"fill\":{\"color\":\"#EBF0F8\"},\"line\":{\"color\":\"white\"}},\"header\":{\"fill\":{\"color\":\"#C8D4E3\"},\"line\":{\"color\":\"white\"}},\"type\":\"table\"}],\"barpolar\":[{\"marker\":{\"line\":{\"color\":\"#E5ECF6\",\"width\":0.5},\"pattern\":{\"fillmode\":\"overlay\",\"size\":10,\"solidity\":0.2}},\"type\":\"barpolar\"}],\"pie\":[{\"automargin\":true,\"type\":\"pie\"}]},\"layout\":{\"autotypenumbers\":\"strict\",\"colorway\":[\"#636efa\",\"#EF553B\",\"#00cc96\",\"#ab63fa\",\"#FFA15A\",\"#19d3f3\",\"#FF6692\",\"#B6E880\",\"#FF97FF\",\"#FECB52\"],\"font\":{\"color\":\"#2a3f5f\"},\"hovermode\":\"closest\",\"hoverlabel\":{\"align\":\"left\"},\"paper_bgcolor\":\"white\",\"plot_bgcolor\":\"#E5ECF6\",\"polar\":{\"bgcolor\":\"#E5ECF6\",\"angularaxis\":{\"gridcolor\":\"white\",\"linecolor\":\"white\",\"ticks\":\"\"},\"radialaxis\":{\"gridcolor\":\"white\",\"linecolor\":\"white\",\"ticks\":\"\"}},\"ternary\":{\"bgcolor\":\"#E5ECF6\",\"aaxis\":{\"gridcolor\":\"white\",\"linecolor\":\"white\",\"ticks\":\"\"},\"baxis\":{\"gridcolor\":\"white\",\"linecolor\":\"white\",\"ticks\":\"\"},\"caxis\":{\"gridcolor\":\"white\",\"linecolor\":\"white\",\"ticks\":\"\"}},\"coloraxis\":{\"colorbar\":{\"outlinewidth\":0,\"ticks\":\"\"}},\"colorscale\":{\"sequential\":[[0.0,\"#0d0887\"],[0.1111111111111111,\"#46039f\"],[0.2222222222222222,\"#7201a8\"],[0.3333333333333333,\"#9c179e\"],[0.4444444444444444,\"#bd3786\"],[0.5555555555555556,\"#d8576b\"],[0.6666666666666666,\"#ed7953\"],[0.7777777777777778,\"#fb9f3a\"],[0.8888888888888888,\"#fdca26\"],[1.0,\"#f0f921\"]],\"sequentialminus\":[[0.0,\"#0d0887\"],[0.1111111111111111,\"#46039f\"],[0.2222222222222222,\"#7201a8\"],[0.3333333333333333,\"#9c179e\"],[0.4444444444444444,\"#bd3786\"],[0.5555555555555556,\"#d8576b\"],[0.6666666666666666,\"#ed7953\"],[0.7777777777777778,\"#fb9f3a\"],[0.8888888888888888,\"#fdca26\"],[1.0,\"#f0f921\"]],\"diverging\":[[0,\"#8e0152\"],[0.1,\"#c51b7d\"],[0.2,\"#de77ae\"],[0.3,\"#f1b6da\"],[0.4,\"#fde0ef\"],[0.5,\"#f7f7f7\"],[0.6,\"#e6f5d0\"],[0.7,\"#b8e186\"],[0.8,\"#7fbc41\"],[0.9,\"#4d9221\"],[1,\"#276419\"]]},\"xaxis\":{\"gridcolor\":\"white\",\"linecolor\":\"white\",\"ticks\":\"\",\"title\":{\"standoff\":15},\"zerolinecolor\":\"white\",\"automargin\":true,\"zerolinewidth\":2},\"yaxis\":{\"gridcolor\":\"white\",\"linecolor\":\"white\",\"ticks\":\"\",\"title\":{\"standoff\":15},\"zerolinecolor\":\"white\",\"automargin\":true,\"zerolinewidth\":2},\"scene\":{\"xaxis\":{\"backgroundcolor\":\"#E5ECF6\",\"gridcolor\":\"white\",\"linecolor\":\"white\",\"showbackground\":true,\"ticks\":\"\",\"zerolinecolor\":\"white\",\"gridwidth\":2},\"yaxis\":{\"backgroundcolor\":\"#E5ECF6\",\"gridcolor\":\"white\",\"linecolor\":\"white\",\"showbackground\":true,\"ticks\":\"\",\"zerolinecolor\":\"white\",\"gridwidth\":2},\"zaxis\":{\"backgroundcolor\":\"#E5ECF6\",\"gridcolor\":\"white\",\"linecolor\":\"white\",\"showbackground\":true,\"ticks\":\"\",\"zerolinecolor\":\"white\",\"gridwidth\":2}},\"shapedefaults\":{\"line\":{\"color\":\"#2a3f5f\"}},\"annotationdefaults\":{\"arrowcolor\":\"#2a3f5f\",\"arrowhead\":0,\"arrowwidth\":1},\"geo\":{\"bgcolor\":\"white\",\"landcolor\":\"#E5ECF6\",\"subunitcolor\":\"white\",\"showland\":true,\"showlakes\":true,\"lakecolor\":\"white\"},\"title\":{\"x\":0.05},\"mapbox\":{\"style\":\"light\"}}},\"xaxis\":{\"anchor\":\"y\",\"domain\":[0.0,1.0],\"scaleanchor\":\"y\",\"constrain\":\"domain\",\"title\":{\"text\":\"Head\"}},\"yaxis\":{\"anchor\":\"x\",\"domain\":[0.0,1.0],\"autorange\":\"reversed\",\"constrain\":\"domain\",\"title\":{\"text\":\"Layer\"}},\"coloraxis\":{\"colorscale\":[[0.0,\"rgb(103,0,31)\"],[0.1,\"rgb(178,24,43)\"],[0.2,\"rgb(214,96,77)\"],[0.3,\"rgb(244,165,130)\"],[0.4,\"rgb(253,219,199)\"],[0.5,\"rgb(247,247,247)\"],[0.6,\"rgb(209,229,240)\"],[0.7,\"rgb(146,197,222)\"],[0.8,\"rgb(67,147,195)\"],[0.9,\"rgb(33,102,172)\"],[1.0,\"rgb(5,48,97)\"]],\"cmid\":0.0},\"title\":{\"text\":\"Logit Difference From Each Head - place names distr\"}},                        {\"responsive\": true}                    ).then(function(){\n",
       "                            \n",
       "var gd = document.getElementById('1949b814-9ec2-4685-862b-0590c5685fda');\n",
       "var x = new MutationObserver(function (mutations, observer) {{\n",
       "        var display = window.getComputedStyle(gd).display;\n",
       "        if (!display || display === 'none') {{\n",
       "            console.log([gd, 'removed!']);\n",
       "            Plotly.purge(gd);\n",
       "            observer.disconnect();\n",
       "        }}\n",
       "}});\n",
       "\n",
       "// Listen for the removal of the full notebook cells\n",
       "var notebookContainer = gd.closest('#notebook-container');\n",
       "if (notebookContainer) {{\n",
       "    x.observe(notebookContainer, {childList: true});\n",
       "}}\n",
       "\n",
       "// Listen for the clearing of the current output cell\n",
       "var outputEl = gd.closest('.output');\n",
       "if (outputEl) {{\n",
       "    x.observe(outputEl, {childList: true});\n",
       "}}\n",
       "\n",
       "                        })                };                });            </script>        </div>"
      ]
     },
     "metadata": {},
     "output_type": "display_data"
    }
   ],
   "source": [
    "answer_tokens = ans_toks_n\n",
    "cache = noun_cache\n",
    "logit_diff_dirs = get_IOI_dir(answer_tokens)\n",
    "imshow(get_per_head_logit_diffs(cache, logit_diff_dirs), labels={\"x\":\"Head\", \"y\":\"Layer\"}, title=\"Logit Difference From Each Head - nouns distr\")\n",
    "\n",
    "answer_tokens = ans_toks_rel\n",
    "cache = rel_cache\n",
    "logit_diff_dirs = get_IOI_dir(answer_tokens)\n",
    "imshow(get_per_head_logit_diffs(cache, logit_diff_dirs), labels={\"x\":\"Head\", \"y\":\"Layer\"}, title=\"Logit Difference From Each Head - rel names distr\")\n",
    "\n",
    "answer_tokens = ans_toks_pl\n",
    "cache = pl_cache\n",
    "logit_diff_dirs = get_IOI_dir(answer_tokens)\n",
    "imshow(get_per_head_logit_diffs(cache, logit_diff_dirs), labels={\"x\":\"Head\", \"y\":\"Layer\"}, title=\"Logit Difference From Each Head - place names distr\")"
   ]
  },
  {
   "cell_type": "code",
   "execution_count": null,
   "metadata": {},
   "outputs": [],
   "source": [
    "lh_backup = [[10,10],[10,6],[10,2],[10,1],[11,2],[11,9],[9,0],[9,7]]\n",
    "lh_list_pos = [[9,6],[9,9], [10,0]]\n",
    "lh_list_neg = [[10,7], [11,10]]"
   ]
  },
  {
   "cell_type": "code",
   "execution_count": null,
   "metadata": {},
   "outputs": [],
   "source": [
    "def visualize_attention_patterns(\n",
    "    heads, \n",
    "    local_cache, \n",
    "    local_tokens, \n",
    "    title: str=\"\"):\n",
    "    # Heads are given as a list of integers or a single integer in [0, n_layers * n_heads)\n",
    "    if isinstance(heads, int):\n",
    "        heads = [heads]\n",
    "    elif isinstance(heads, list) or isinstance(heads, t.Tensor):\n",
    "        heads = utils.to_numpy(heads)\n",
    "    # Cache defaults to the original activation cache\n",
    "    if local_cache is None:\n",
    "        local_cache = cache\n",
    "    # Tokens defaults to the tokenization of the first prompt (including the BOS token)\n",
    "    # if local_tokens is None:\n",
    "    #     # The tokens of the first prompt\n",
    "    #     local_tokens = tokens[0]\n",
    "    \n",
    "    labels = []\n",
    "    patterns = []\n",
    "    batch_index = 0\n",
    "    for head in heads:\n",
    "        layer = head // model.cfg.n_heads\n",
    "        head_index = head % model.cfg.n_heads\n",
    "        # Get the attention patterns for the head\n",
    "        # Attention patterns have shape [batch, head_index, query_pos, key_pos]\n",
    "        patterns.append(local_cache[\"attn\", layer][batch_index, head_index])\n",
    "        labels.append(f\"L{layer}H{head_index}\")\n",
    "    str_tokens = model.to_str_tokens(local_tokens)\n",
    "    patterns = t.stack(patterns, dim=-1)\n",
    "    # Plot the attention patterns\n",
    "    attention_vis = pysvelte.AttentionMulti(attention=patterns, tokens=str_tokens, head_labels=labels)\n",
    "    display(HTML(f\"<h3>{title}</h3>\"))\n",
    "    attention_vis.show()"
   ]
  },
  {
   "cell_type": "code",
   "execution_count": null,
   "metadata": {},
   "outputs": [
    {
     "name": "stdout",
     "output_type": "stream",
     "text": [
      "Answer residual directions shape: torch.Size([20, 2, 768])\n",
      "Logit difference directions shape: torch.Size([20, 768])\n"
     ]
    },
    {
     "data": {
      "text/plain": [
       "tensor([117, 114, 120])"
      ]
     },
     "execution_count": 87,
     "metadata": {},
     "output_type": "execute_result"
    }
   ],
   "source": [
    "\n",
    "top_k = 3\n",
    "\n",
    "answer_tokens = ans_toks_pn\n",
    "cache = pnoun_cache\n",
    "logit_diff_dirs = get_IOI_dir(answer_tokens)\n",
    "       \n",
    "top_positive_logit_attr_heads = t.topk(get_per_head_logit_diffs(cache, logit_diff_dirs).flatten(), k=top_k).indices\n",
    "#visualize_attention_patterns(top_positive_logit_attr_heads, title=f\"Top {top_k} Positive Logit Attribution Heads\")\n",
    "# top_negative_logit_attr_heads = torch.topk(-per_head_logit_diffs.flatten(), k=top_k).indices\n",
    "# visualize_attention_patterns(top_negative_logit_attr_heads, title=f\"Top {top_k} Negative Logit Attribution Heads\")\n",
    "\n",
    "# print(\"Layer 9 Head Attention Patterns:\")\n",
    "# display(cv.attention.attention_patterns(tokens=model.to_str_tokens(noun_tokens[10]), attention= noun_cache[\"pattern\", 1][10]))\n",
    "\n",
    "top_positive_logit_attr_heads"
   ]
  },
  {
   "cell_type": "code",
   "execution_count": null,
   "metadata": {},
   "outputs": [],
   "source": [
    "def imshow(tensor, renderer=None, xaxis=\"\", yaxis=\"\", **kwargs):\n",
    "    px.imshow(utils.to_numpy(tensor), color_continuous_midpoint=0.0, color_continuous_scale=\"RdBu\", labels={\"x\":xaxis, \"y\":yaxis}, **kwargs).show(renderer)\n",
    "\n",
    "def line(tensor, renderer=None, xaxis=\"\", yaxis=\"\", **kwargs):\n",
    "    px.line(utils.to_numpy(tensor), labels={\"x\":xaxis, \"y\":yaxis}, **kwargs).show(renderer)\n",
    "\n",
    "def scatter(x, y, xaxis=\"\", yaxis=\"\", caxis=\"\", renderer=None, **kwargs):\n",
    "    x = utils.to_numpy(x)\n",
    "    y = utils.to_numpy(y)\n",
    "    px.scatter(y=y, x=x, labels={\"x\":xaxis, \"y\":yaxis, \"color\":caxis}, **kwargs).show(renderer)"
   ]
  },
  {
   "cell_type": "code",
   "execution_count": null,
   "metadata": {},
   "outputs": [
    {
     "data": {
      "text/plain": [
       "['<|endoftext|>',\n",
       " 'When',\n",
       " ' statue',\n",
       " ' and',\n",
       " ' chair',\n",
       " ' went',\n",
       " ' to',\n",
       " ' the',\n",
       " ' shops',\n",
       " ',',\n",
       " ' chair',\n",
       " ' gave',\n",
       " ' the',\n",
       " ' bag',\n",
       " ' to']"
      ]
     },
     "execution_count": 122,
     "metadata": {},
     "output_type": "execute_result"
    }
   ],
   "source": [
    "model.to_str_tokens(prompts_n[0])"
   ]
  },
  {
   "cell_type": "code",
   "execution_count": null,
   "metadata": {},
   "outputs": [
    {
     "name": "stdout",
     "output_type": "stream",
     "text": [
      "torch.Size([3, 20, 15, 15])\n"
     ]
    },
    {
     "data": {
      "text/html": [
       "<div>                            <div id=\"bc9976a8-18d2-4bb4-b5ea-22857a5ffcd3\" class=\"plotly-graph-div\" style=\"height:525px; width:100%;\"></div>            <script type=\"text/javascript\">                require([\"plotly\"], function(Plotly) {                    window.PLOTLYENV=window.PLOTLYENV || {};                                    if (document.getElementById(\"bc9976a8-18d2-4bb4-b5ea-22857a5ffcd3\")) {                    Plotly.newPlot(                        \"bc9976a8-18d2-4bb4-b5ea-22857a5ffcd3\",                        [{\"coloraxis\":\"coloraxis\",\"name\":\"0\",\"x\":[\"<|endoftext|>\",\"When\",\" statue\",\" and\",\" chair\",\" went\",\" to\",\" the\",\" shops\",\",\",\" chair\",\" gave\",\" the\",\" bag\",\" to\"],\"y\":[\"<|endoftext|>\",\"When\",\" statue\",\" and\",\" chair\",\" went\",\" to\",\" the\",\" shops\",\",\",\" chair\",\" gave\",\" the\",\" bag\",\" to\"],\"z\":[[1.0,0.0,0.0,0.0,0.0,0.0,0.0,0.0,0.0,0.0,0.0,0.0,0.0,0.0,0.0],[0.9985043406486511,0.0014959131367504597,0.0,0.0,0.0,0.0,0.0,0.0,0.0,0.0,0.0,0.0,0.0,0.0,0.0],[0.9933711886405945,0.0014616044936701655,0.005167239345610142,0.0,0.0,0.0,0.0,0.0,0.0,0.0,0.0,0.0,0.0,0.0,0.0],[0.9637773633003235,0.0010437053861096501,0.03114314004778862,0.00403582165017724,0.0,0.0,0.0,0.0,0.0,0.0,0.0,0.0,0.0,0.0,0.0],[0.9701038599014282,0.002333205658942461,0.014585872180759907,0.0021324441768229008,0.01084478385746479,0.0,0.0,0.0,0.0,0.0,0.0,0.0,0.0,0.0,0.0],[0.9720737338066101,0.002556524006649852,0.006394627038389444,0.0012126535875722766,0.0066483356058597565,0.01111396960914135,0.0,0.0,0.0,0.0,0.0,0.0,0.0,0.0,0.0],[0.9525120854377747,0.002995043061673641,0.014361677691340446,0.0008217456634156406,0.0175430066883564,0.003467333735898137,0.008299106732010841,0.0,0.0,0.0,0.0,0.0,0.0,0.0,0.0],[0.964865505695343,0.0016067549586296082,0.009501063264906406,0.0006336416117846966,0.01851286180317402,0.0009418648551218212,0.002907669637352228,0.0010306084295734763,0.0,0.0,0.0,0.0,0.0,0.0,0.0],[0.9620221257209778,0.013363616541028023,0.002850575838238001,0.0007369474624283612,0.0030570910312235355,0.001146300113759935,0.004910462535917759,0.001280925003811717,0.010632093995809555,0.0,0.0,0.0,0.0,0.0,0.0],[0.7802901268005371,0.006101254373788834,0.08837781846523285,0.0014407641720026731,0.09629274159669876,0.0018446476897224784,0.001482250401750207,0.0008054695790633559,0.020207595080137253,0.0031572780571877956,0.0,0.0,0.0,0.0,0.0],[0.8682767748832703,0.00231699226424098,0.010823266580700874,0.00789698027074337,0.038742415606975555,0.022607337683439255,0.009731131605803967,0.0013994146138429642,0.02791857160627842,0.003703548340126872,0.006583604961633682,0.0,0.0,0.0,0.0],[0.7002272009849548,0.003621614072471857,0.08195269107818604,0.0016991185257211328,0.10521199554204941,0.0027100469451397657,0.0025686603039503098,0.00160351546946913,0.03112146258354187,0.0036058383993804455,0.05548621341586113,0.01019175536930561,0.0,0.0,0.0],[0.6175042390823364,0.0030857508536428213,0.08727078139781952,0.0019207814475521445,0.14160189032554626,0.003954710438847542,0.0020975079387426376,0.00023803289514034986,0.10182547569274902,0.0033121444284915924,0.03113512322306633,0.0034212141763418913,0.002632365096360445,0.0,0.0],[0.9119356870651245,0.0025908451061695814,0.00545629533007741,0.003060871735215187,0.022683946415781975,0.006484346929937601,0.011315110139548779,0.001980735454708338,0.012246768921613693,0.0030069267377257347,0.004783127456903458,0.002739800838753581,0.003135864157229662,0.008579649962484837,0.0],[0.5086848139762878,0.0018341118702664971,0.1152222603559494,0.0008979708654806018,0.2380308210849762,0.0010301368311047554,0.0006130997207947075,0.0009750657482072711,0.028798764571547508,0.001274471404030919,0.08416207879781723,0.0008848704164847732,0.0017116889357566833,0.015125500969588757,0.0007543256506323814]],\"type\":\"heatmap\",\"xaxis\":\"x\",\"yaxis\":\"y\",\"hovertemplate\":\"source_tok: %{x}<br>dest_tok: %{y}<br>color: %{z}<extra></extra>\"},{\"coloraxis\":\"coloraxis\",\"name\":\"1\",\"x\":[\"<|endoftext|>\",\"When\",\" statue\",\" and\",\" chair\",\" went\",\" to\",\" the\",\" shops\",\",\",\" chair\",\" gave\",\" the\",\" bag\",\" to\"],\"y\":[\"<|endoftext|>\",\"When\",\" statue\",\" and\",\" chair\",\" went\",\" to\",\" the\",\" shops\",\",\",\" chair\",\" gave\",\" the\",\" bag\",\" to\"],\"z\":[[1.0,0.0,0.0,0.0,0.0,0.0,0.0,0.0,0.0,0.0,0.0,0.0,0.0,0.0,0.0],[0.9979304075241089,0.0020696446299552917,0.0,0.0,0.0,0.0,0.0,0.0,0.0,0.0,0.0,0.0,0.0,0.0,0.0],[0.9933809041976929,0.0006632989970967174,0.005955840460956097,0.0,0.0,0.0,0.0,0.0,0.0,0.0,0.0,0.0,0.0,0.0,0.0],[0.9764074087142944,0.0008922789129428566,0.020723912864923477,0.0019762555602937937,0.0,0.0,0.0,0.0,0.0,0.0,0.0,0.0,0.0,0.0,0.0],[0.973334789276123,0.0012764978455379605,0.011017180047929287,0.0013862488558515906,0.012985211797058582,0.0,0.0,0.0,0.0,0.0,0.0,0.0,0.0,0.0,0.0],[0.984752357006073,0.0010894245933741331,0.006843161769211292,0.0005769002018496394,0.004365955013781786,0.0023722329642623663,0.0,0.0,0.0,0.0,0.0,0.0,0.0,0.0,0.0],[0.9739429354667664,0.0014056660002097487,0.005331844091415405,0.0002600962470751256,0.013406863436102867,0.0018452642252668738,0.0038072008173912764,0.0,0.0,0.0,0.0,0.0,0.0,0.0,0.0],[0.9855829477310181,0.0010946139227598906,0.0037036999128758907,0.000149124491144903,0.007878437638282776,0.00031567260157316923,0.0004638538812287152,0.0008116677636280656,0.0,0.0,0.0,0.0,0.0,0.0,0.0],[0.9901385307312012,0.0016377444844692945,0.0008841875242069364,0.00041675622924230993,0.0009447019547224045,0.0008468216983601451,0.0008882000111043453,0.00014875053602736443,0.004094387404620647,0.0,0.0,0.0,0.0,0.0,0.0],[0.8579689860343933,0.005497203674167395,0.04554533213376999,0.0012335905339568853,0.06589605659246445,0.0015626813983544707,0.0017872436437755823,0.0016552753513678908,0.013230182230472565,0.00562343979254365,0.0,0.0,0.0,0.0,0.0],[0.8873407244682312,0.0026711218524724245,0.012185215018689632,0.025645751506090164,0.035134319216012955,0.008867290802299976,0.002190366853028536,0.00046312357881106436,0.016155246645212173,0.003657601773738861,0.005689218174666166,0.0,0.0,0.0,0.0],[0.6858566999435425,0.012042004615068436,0.0850333422422409,0.0020073172636330128,0.09364109486341476,0.0034426753409206867,0.0054616075940430164,0.003018096089363098,0.03878254443407059,0.012737659737467766,0.04405101388692856,0.013925949111580849,0.0,0.0,0.0],[0.6299176216125488,0.006816658191382885,0.09279309213161469,0.0018299572402611375,0.11514141410589218,0.0026636417023837566,0.0020370662678033113,0.0008740906487219036,0.1003173440694809,0.006530307233333588,0.032227084040641785,0.00426834262907505,0.004583409987390041,0.0,0.0],[0.9006670117378235,0.0021779800299555063,0.010055044665932655,0.010779352858662605,0.02572626993060112,0.0018050053622573614,0.005883810576051474,0.0004428975225891918,0.008665261790156364,0.003735816106200218,0.005147445946931839,0.0036464326549321413,0.0010882532224059105,0.020179398357868195,0.0],[0.4976128041744232,0.006860013119876385,0.08690796792507172,0.0021052868105471134,0.2804566025733948,0.0010558770736679435,0.0018939755391329527,0.008103327825665474,0.023855458945035934,0.007023412734270096,0.05566054582595825,0.0012340883258730173,0.009598487988114357,0.014728213660418987,0.0029039878863841295]],\"type\":\"heatmap\",\"xaxis\":\"x2\",\"yaxis\":\"y2\",\"hovertemplate\":\"source_tok: %{x}<br>dest_tok: %{y}<br>color: %{z}<extra></extra>\"},{\"coloraxis\":\"coloraxis\",\"name\":\"2\",\"x\":[\"<|endoftext|>\",\"When\",\" statue\",\" and\",\" chair\",\" went\",\" to\",\" the\",\" shops\",\",\",\" chair\",\" gave\",\" the\",\" bag\",\" to\"],\"y\":[\"<|endoftext|>\",\"When\",\" statue\",\" and\",\" chair\",\" went\",\" to\",\" the\",\" shops\",\",\",\" chair\",\" gave\",\" the\",\" bag\",\" to\"],\"z\":[[1.0,0.0,0.0,0.0,0.0,0.0,0.0,0.0,0.0,0.0,0.0,0.0,0.0,0.0,0.0],[0.9776753187179565,0.022324660792946815,0.0,0.0,0.0,0.0,0.0,0.0,0.0,0.0,0.0,0.0,0.0,0.0,0.0],[0.9227086305618286,0.00917690061032772,0.06811445951461792,0.0,0.0,0.0,0.0,0.0,0.0,0.0,0.0,0.0,0.0,0.0,0.0],[0.7930556535720825,0.016373323276638985,0.12773916125297546,0.06283193826675415,0.0,0.0,0.0,0.0,0.0,0.0,0.0,0.0,0.0,0.0,0.0],[0.8299214243888855,0.01217876560986042,0.08267790079116821,0.015258674509823322,0.059963159263134,0.0,0.0,0.0,0.0,0.0,0.0,0.0,0.0,0.0,0.0],[0.9116838574409485,0.004015868064016104,0.022118238732218742,0.006564062088727951,0.045258283615112305,0.01035969890654087,0.0,0.0,0.0,0.0,0.0,0.0,0.0,0.0,0.0],[0.8081275820732117,0.012818388640880585,0.05371120572090149,0.008754742331802845,0.08751069754362106,0.016656994819641113,0.01242044847458601,0.0,0.0,0.0,0.0,0.0,0.0,0.0,0.0],[0.813103199005127,0.007763142231851816,0.05360078066587448,0.006971729453653097,0.09836895018815994,0.008388306945562363,0.0070056067779660225,0.0047982195392251015,0.0,0.0,0.0,0.0,0.0,0.0,0.0],[0.8079050779342651,0.011210084892809391,0.08117001503705978,0.003530928399413824,0.06392855942249298,0.007796593010425568,0.0018766764551401138,0.001212477101944387,0.021369488909840584,0.0,0.0,0.0,0.0,0.0,0.0],[0.43236976861953735,0.00803608912974596,0.19429588317871094,0.008458655327558517,0.2696846127510071,0.008240895345807076,0.0037126541137695312,0.003194449469447136,0.06063161417841911,0.011375321075320244,0.0,0.0,0.0,0.0,0.0],[0.7600952982902527,0.005540010519325733,0.04702078551054001,0.00721049914136529,0.07502810657024384,0.018072230741381645,0.005461926106363535,0.001554734306409955,0.048892177641391754,0.007094346918165684,0.024029847234487534,0.0,0.0,0.0,0.0],[0.4924851059913635,0.013008256442844868,0.14214050769805908,0.006501215510070324,0.20084455609321594,0.005239511374384165,0.0048948428593575954,0.0030560404993593693,0.05169118568301201,0.00919966958463192,0.06520356237888336,0.005735622253268957,0.0,0.0,0.0],[0.4469929337501526,0.00775646697729826,0.1649450808763504,0.005901927128434181,0.19238288700580597,0.007535888347774744,0.0062165348790585995,0.0017815178725868464,0.11337610334157944,0.008888018317520618,0.0381491482257843,0.003431277349591255,0.0026422315277159214,0.0,0.0],[0.8239768147468567,0.007617013994604349,0.03651270270347595,0.004242524039000273,0.0432707816362381,0.005161053501069546,0.0022685800213366747,0.0011642443714663386,0.021104037761688232,0.006948198191821575,0.024777743965387344,0.0029499190859496593,0.0015631893184036016,0.01844318024814129,0.0],[0.3562520146369934,0.015947021543979645,0.2128654271364212,0.004095910582691431,0.2473173588514328,0.004861781839281321,0.00291735609062016,0.002833886072039604,0.055662453174591064,0.00910551194101572,0.05988873168826103,0.0017210652586072683,0.0028110884595662355,0.017920825630426407,0.005799560807645321]],\"type\":\"heatmap\",\"xaxis\":\"x3\",\"yaxis\":\"y3\",\"hovertemplate\":\"source_tok: %{x}<br>dest_tok: %{y}<br>color: %{z}<extra></extra>\"}],                        {\"template\":{\"data\":{\"histogram2dcontour\":[{\"type\":\"histogram2dcontour\",\"colorbar\":{\"outlinewidth\":0,\"ticks\":\"\"},\"colorscale\":[[0.0,\"#0d0887\"],[0.1111111111111111,\"#46039f\"],[0.2222222222222222,\"#7201a8\"],[0.3333333333333333,\"#9c179e\"],[0.4444444444444444,\"#bd3786\"],[0.5555555555555556,\"#d8576b\"],[0.6666666666666666,\"#ed7953\"],[0.7777777777777778,\"#fb9f3a\"],[0.8888888888888888,\"#fdca26\"],[1.0,\"#f0f921\"]]}],\"choropleth\":[{\"type\":\"choropleth\",\"colorbar\":{\"outlinewidth\":0,\"ticks\":\"\"}}],\"histogram2d\":[{\"type\":\"histogram2d\",\"colorbar\":{\"outlinewidth\":0,\"ticks\":\"\"},\"colorscale\":[[0.0,\"#0d0887\"],[0.1111111111111111,\"#46039f\"],[0.2222222222222222,\"#7201a8\"],[0.3333333333333333,\"#9c179e\"],[0.4444444444444444,\"#bd3786\"],[0.5555555555555556,\"#d8576b\"],[0.6666666666666666,\"#ed7953\"],[0.7777777777777778,\"#fb9f3a\"],[0.8888888888888888,\"#fdca26\"],[1.0,\"#f0f921\"]]}],\"heatmap\":[{\"type\":\"heatmap\",\"colorbar\":{\"outlinewidth\":0,\"ticks\":\"\"},\"colorscale\":[[0.0,\"#0d0887\"],[0.1111111111111111,\"#46039f\"],[0.2222222222222222,\"#7201a8\"],[0.3333333333333333,\"#9c179e\"],[0.4444444444444444,\"#bd3786\"],[0.5555555555555556,\"#d8576b\"],[0.6666666666666666,\"#ed7953\"],[0.7777777777777778,\"#fb9f3a\"],[0.8888888888888888,\"#fdca26\"],[1.0,\"#f0f921\"]]}],\"heatmapgl\":[{\"type\":\"heatmapgl\",\"colorbar\":{\"outlinewidth\":0,\"ticks\":\"\"},\"colorscale\":[[0.0,\"#0d0887\"],[0.1111111111111111,\"#46039f\"],[0.2222222222222222,\"#7201a8\"],[0.3333333333333333,\"#9c179e\"],[0.4444444444444444,\"#bd3786\"],[0.5555555555555556,\"#d8576b\"],[0.6666666666666666,\"#ed7953\"],[0.7777777777777778,\"#fb9f3a\"],[0.8888888888888888,\"#fdca26\"],[1.0,\"#f0f921\"]]}],\"contourcarpet\":[{\"type\":\"contourcarpet\",\"colorbar\":{\"outlinewidth\":0,\"ticks\":\"\"}}],\"contour\":[{\"type\":\"contour\",\"colorbar\":{\"outlinewidth\":0,\"ticks\":\"\"},\"colorscale\":[[0.0,\"#0d0887\"],[0.1111111111111111,\"#46039f\"],[0.2222222222222222,\"#7201a8\"],[0.3333333333333333,\"#9c179e\"],[0.4444444444444444,\"#bd3786\"],[0.5555555555555556,\"#d8576b\"],[0.6666666666666666,\"#ed7953\"],[0.7777777777777778,\"#fb9f3a\"],[0.8888888888888888,\"#fdca26\"],[1.0,\"#f0f921\"]]}],\"surface\":[{\"type\":\"surface\",\"colorbar\":{\"outlinewidth\":0,\"ticks\":\"\"},\"colorscale\":[[0.0,\"#0d0887\"],[0.1111111111111111,\"#46039f\"],[0.2222222222222222,\"#7201a8\"],[0.3333333333333333,\"#9c179e\"],[0.4444444444444444,\"#bd3786\"],[0.5555555555555556,\"#d8576b\"],[0.6666666666666666,\"#ed7953\"],[0.7777777777777778,\"#fb9f3a\"],[0.8888888888888888,\"#fdca26\"],[1.0,\"#f0f921\"]]}],\"mesh3d\":[{\"type\":\"mesh3d\",\"colorbar\":{\"outlinewidth\":0,\"ticks\":\"\"}}],\"scatter\":[{\"fillpattern\":{\"fillmode\":\"overlay\",\"size\":10,\"solidity\":0.2},\"type\":\"scatter\"}],\"parcoords\":[{\"type\":\"parcoords\",\"line\":{\"colorbar\":{\"outlinewidth\":0,\"ticks\":\"\"}}}],\"scatterpolargl\":[{\"type\":\"scatterpolargl\",\"marker\":{\"colorbar\":{\"outlinewidth\":0,\"ticks\":\"\"}}}],\"bar\":[{\"error_x\":{\"color\":\"#2a3f5f\"},\"error_y\":{\"color\":\"#2a3f5f\"},\"marker\":{\"line\":{\"color\":\"#E5ECF6\",\"width\":0.5},\"pattern\":{\"fillmode\":\"overlay\",\"size\":10,\"solidity\":0.2}},\"type\":\"bar\"}],\"scattergeo\":[{\"type\":\"scattergeo\",\"marker\":{\"colorbar\":{\"outlinewidth\":0,\"ticks\":\"\"}}}],\"scatterpolar\":[{\"type\":\"scatterpolar\",\"marker\":{\"colorbar\":{\"outlinewidth\":0,\"ticks\":\"\"}}}],\"histogram\":[{\"marker\":{\"pattern\":{\"fillmode\":\"overlay\",\"size\":10,\"solidity\":0.2}},\"type\":\"histogram\"}],\"scattergl\":[{\"type\":\"scattergl\",\"marker\":{\"colorbar\":{\"outlinewidth\":0,\"ticks\":\"\"}}}],\"scatter3d\":[{\"type\":\"scatter3d\",\"line\":{\"colorbar\":{\"outlinewidth\":0,\"ticks\":\"\"}},\"marker\":{\"colorbar\":{\"outlinewidth\":0,\"ticks\":\"\"}}}],\"scattermapbox\":[{\"type\":\"scattermapbox\",\"marker\":{\"colorbar\":{\"outlinewidth\":0,\"ticks\":\"\"}}}],\"scatterternary\":[{\"type\":\"scatterternary\",\"marker\":{\"colorbar\":{\"outlinewidth\":0,\"ticks\":\"\"}}}],\"scattercarpet\":[{\"type\":\"scattercarpet\",\"marker\":{\"colorbar\":{\"outlinewidth\":0,\"ticks\":\"\"}}}],\"carpet\":[{\"aaxis\":{\"endlinecolor\":\"#2a3f5f\",\"gridcolor\":\"white\",\"linecolor\":\"white\",\"minorgridcolor\":\"white\",\"startlinecolor\":\"#2a3f5f\"},\"baxis\":{\"endlinecolor\":\"#2a3f5f\",\"gridcolor\":\"white\",\"linecolor\":\"white\",\"minorgridcolor\":\"white\",\"startlinecolor\":\"#2a3f5f\"},\"type\":\"carpet\"}],\"table\":[{\"cells\":{\"fill\":{\"color\":\"#EBF0F8\"},\"line\":{\"color\":\"white\"}},\"header\":{\"fill\":{\"color\":\"#C8D4E3\"},\"line\":{\"color\":\"white\"}},\"type\":\"table\"}],\"barpolar\":[{\"marker\":{\"line\":{\"color\":\"#E5ECF6\",\"width\":0.5},\"pattern\":{\"fillmode\":\"overlay\",\"size\":10,\"solidity\":0.2}},\"type\":\"barpolar\"}],\"pie\":[{\"automargin\":true,\"type\":\"pie\"}]},\"layout\":{\"autotypenumbers\":\"strict\",\"colorway\":[\"#636efa\",\"#EF553B\",\"#00cc96\",\"#ab63fa\",\"#FFA15A\",\"#19d3f3\",\"#FF6692\",\"#B6E880\",\"#FF97FF\",\"#FECB52\"],\"font\":{\"color\":\"#2a3f5f\"},\"hovermode\":\"closest\",\"hoverlabel\":{\"align\":\"left\"},\"paper_bgcolor\":\"white\",\"plot_bgcolor\":\"#E5ECF6\",\"polar\":{\"bgcolor\":\"#E5ECF6\",\"angularaxis\":{\"gridcolor\":\"white\",\"linecolor\":\"white\",\"ticks\":\"\"},\"radialaxis\":{\"gridcolor\":\"white\",\"linecolor\":\"white\",\"ticks\":\"\"}},\"ternary\":{\"bgcolor\":\"#E5ECF6\",\"aaxis\":{\"gridcolor\":\"white\",\"linecolor\":\"white\",\"ticks\":\"\"},\"baxis\":{\"gridcolor\":\"white\",\"linecolor\":\"white\",\"ticks\":\"\"},\"caxis\":{\"gridcolor\":\"white\",\"linecolor\":\"white\",\"ticks\":\"\"}},\"coloraxis\":{\"colorbar\":{\"outlinewidth\":0,\"ticks\":\"\"}},\"colorscale\":{\"sequential\":[[0.0,\"#0d0887\"],[0.1111111111111111,\"#46039f\"],[0.2222222222222222,\"#7201a8\"],[0.3333333333333333,\"#9c179e\"],[0.4444444444444444,\"#bd3786\"],[0.5555555555555556,\"#d8576b\"],[0.6666666666666666,\"#ed7953\"],[0.7777777777777778,\"#fb9f3a\"],[0.8888888888888888,\"#fdca26\"],[1.0,\"#f0f921\"]],\"sequentialminus\":[[0.0,\"#0d0887\"],[0.1111111111111111,\"#46039f\"],[0.2222222222222222,\"#7201a8\"],[0.3333333333333333,\"#9c179e\"],[0.4444444444444444,\"#bd3786\"],[0.5555555555555556,\"#d8576b\"],[0.6666666666666666,\"#ed7953\"],[0.7777777777777778,\"#fb9f3a\"],[0.8888888888888888,\"#fdca26\"],[1.0,\"#f0f921\"]],\"diverging\":[[0,\"#8e0152\"],[0.1,\"#c51b7d\"],[0.2,\"#de77ae\"],[0.3,\"#f1b6da\"],[0.4,\"#fde0ef\"],[0.5,\"#f7f7f7\"],[0.6,\"#e6f5d0\"],[0.7,\"#b8e186\"],[0.8,\"#7fbc41\"],[0.9,\"#4d9221\"],[1,\"#276419\"]]},\"xaxis\":{\"gridcolor\":\"white\",\"linecolor\":\"white\",\"ticks\":\"\",\"title\":{\"standoff\":15},\"zerolinecolor\":\"white\",\"automargin\":true,\"zerolinewidth\":2},\"yaxis\":{\"gridcolor\":\"white\",\"linecolor\":\"white\",\"ticks\":\"\",\"title\":{\"standoff\":15},\"zerolinecolor\":\"white\",\"automargin\":true,\"zerolinewidth\":2},\"scene\":{\"xaxis\":{\"backgroundcolor\":\"#E5ECF6\",\"gridcolor\":\"white\",\"linecolor\":\"white\",\"showbackground\":true,\"ticks\":\"\",\"zerolinecolor\":\"white\",\"gridwidth\":2},\"yaxis\":{\"backgroundcolor\":\"#E5ECF6\",\"gridcolor\":\"white\",\"linecolor\":\"white\",\"showbackground\":true,\"ticks\":\"\",\"zerolinecolor\":\"white\",\"gridwidth\":2},\"zaxis\":{\"backgroundcolor\":\"#E5ECF6\",\"gridcolor\":\"white\",\"linecolor\":\"white\",\"showbackground\":true,\"ticks\":\"\",\"zerolinecolor\":\"white\",\"gridwidth\":2}},\"shapedefaults\":{\"line\":{\"color\":\"#2a3f5f\"}},\"annotationdefaults\":{\"arrowcolor\":\"#2a3f5f\",\"arrowhead\":0,\"arrowwidth\":1},\"geo\":{\"bgcolor\":\"white\",\"landcolor\":\"#E5ECF6\",\"subunitcolor\":\"white\",\"showland\":true,\"showlakes\":true,\"lakecolor\":\"white\"},\"title\":{\"x\":0.05},\"mapbox\":{\"style\":\"light\"}}},\"xaxis\":{\"anchor\":\"y\",\"domain\":[0.0,0.31999999999999995],\"scaleanchor\":\"y\",\"constrain\":\"domain\",\"title\":{\"text\":\"source_tok\"}},\"yaxis\":{\"anchor\":\"x\",\"domain\":[0.0,1.0],\"autorange\":\"reversed\",\"constrain\":\"domain\",\"title\":{\"text\":\"dest_tok\"}},\"xaxis2\":{\"anchor\":\"y2\",\"domain\":[0.33999999999999997,0.6599999999999999],\"matches\":\"x\",\"title\":{\"text\":\"source_tok\"}},\"yaxis2\":{\"anchor\":\"x2\",\"domain\":[0.0,1.0],\"matches\":\"y\",\"showticklabels\":false},\"xaxis3\":{\"anchor\":\"y3\",\"domain\":[0.6799999999999999,0.9999999999999999],\"matches\":\"x\",\"title\":{\"text\":\"source_tok\"}},\"yaxis3\":{\"anchor\":\"x3\",\"domain\":[0.0,1.0],\"matches\":\"y\",\"showticklabels\":false},\"annotations\":[{\"font\":{},\"showarrow\":false,\"text\":\"facet_col=0\",\"x\":0.15999999999999998,\"xanchor\":\"center\",\"xref\":\"paper\",\"y\":1.0,\"yanchor\":\"bottom\",\"yref\":\"paper\"},{\"font\":{},\"showarrow\":false,\"text\":\"facet_col=1\",\"x\":0.49999999999999994,\"xanchor\":\"center\",\"xref\":\"paper\",\"y\":1.0,\"yanchor\":\"bottom\",\"yref\":\"paper\"},{\"font\":{},\"showarrow\":false,\"text\":\"facet_col=2\",\"x\":0.8399999999999999,\"xanchor\":\"center\",\"xref\":\"paper\",\"y\":1.0,\"yanchor\":\"bottom\",\"yref\":\"paper\"}],\"coloraxis\":{\"colorscale\":[[0.0,\"rgb(103,0,31)\"],[0.1,\"rgb(178,24,43)\"],[0.2,\"rgb(214,96,77)\"],[0.3,\"rgb(244,165,130)\"],[0.4,\"rgb(253,219,199)\"],[0.5,\"rgb(247,247,247)\"],[0.6,\"rgb(209,229,240)\"],[0.7,\"rgb(146,197,222)\"],[0.8,\"rgb(67,147,195)\"],[0.9,\"rgb(33,102,172)\"],[1.0,\"rgb(5,48,97)\"]],\"cmid\":0.0},\"title\":{\"text\":\"nouns\"}},                        {\"responsive\": true}                    ).then(function(){\n",
       "                            \n",
       "var gd = document.getElementById('bc9976a8-18d2-4bb4-b5ea-22857a5ffcd3');\n",
       "var x = new MutationObserver(function (mutations, observer) {{\n",
       "        var display = window.getComputedStyle(gd).display;\n",
       "        if (!display || display === 'none') {{\n",
       "            console.log([gd, 'removed!']);\n",
       "            Plotly.purge(gd);\n",
       "            observer.disconnect();\n",
       "        }}\n",
       "}});\n",
       "\n",
       "// Listen for the removal of the full notebook cells\n",
       "var notebookContainer = gd.closest('#notebook-container');\n",
       "if (notebookContainer) {{\n",
       "    x.observe(notebookContainer, {childList: true});\n",
       "}}\n",
       "\n",
       "// Listen for the clearing of the current output cell\n",
       "var outputEl = gd.closest('.output');\n",
       "if (outputEl) {{\n",
       "    x.observe(outputEl, {childList: true});\n",
       "}}\n",
       "\n",
       "                        })                };                });            </script>        </div>"
      ]
     },
     "metadata": {},
     "output_type": "display_data"
    }
   ],
   "source": [
    "heads = [(9,6), (9,9), (10,0)]\n",
    "patts = []\n",
    "for layer, head in heads:\n",
    "  patts.append(noun_cache[\"pattern\", layer][:,head, :,:])\n",
    "patts = t.stack(patts)\n",
    "print(patts.shape)\n",
    "patts = patts.mean(dim = 1)\n",
    "\n",
    "imshow(patts, facet_col = 0, yaxis = \"dest_tok\", xaxis = \"source_tok\", title = \"nouns\", x= model.to_str_tokens(prompts_n[0]), y = model.to_str_tokens(prompts_n[0]))\n",
    "\n",
    "\n"
   ]
  },
  {
   "cell_type": "code",
   "execution_count": null,
   "metadata": {},
   "outputs": [
    {
     "data": {
      "text/html": [
       "<div>                            <div id=\"75f7366d-490a-424f-991e-193d99000c61\" class=\"plotly-graph-div\" style=\"height:525px; width:100%;\"></div>            <script type=\"text/javascript\">                require([\"plotly\"], function(Plotly) {                    window.PLOTLYENV=window.PLOTLYENV || {};                                    if (document.getElementById(\"75f7366d-490a-424f-991e-193d99000c61\")) {                    Plotly.newPlot(                        \"75f7366d-490a-424f-991e-193d99000c61\",                        [{\"coloraxis\":\"coloraxis\",\"name\":\"0\",\"x\":[\"<|endoftext|>\",\"When\",\" Goose\",\" and\",\" Google\",\" went\",\" to\",\" the\",\" shops\",\",\",\" Google\",\" gave\",\" the\",\" bag\",\" to\"],\"y\":[\"<|endoftext|>\",\"When\",\" Goose\",\" and\",\" Google\",\" went\",\" to\",\" the\",\" shops\",\",\",\" Google\",\" gave\",\" the\",\" bag\",\" to\"],\"z\":[[1.0,0.0,0.0,0.0,0.0,0.0,0.0,0.0,0.0,0.0,0.0,0.0,0.0,0.0,0.0],[0.9985043406486511,0.0014959131367504597,0.0,0.0,0.0,0.0,0.0,0.0,0.0,0.0,0.0,0.0,0.0,0.0,0.0],[0.9947465658187866,0.0008417778881266713,0.0044117094948887825,0.0,0.0,0.0,0.0,0.0,0.0,0.0,0.0,0.0,0.0,0.0,0.0],[0.9664770364761353,0.0008628403884358704,0.030367588624358177,0.0022925748489797115,0.0,0.0,0.0,0.0,0.0,0.0,0.0,0.0,0.0,0.0,0.0],[0.9812617301940918,0.00247393362224102,0.008562779054045677,0.0025732957292348146,0.005128280259668827,0.0,0.0,0.0,0.0,0.0,0.0,0.0,0.0,0.0,0.0],[0.9881733655929565,0.0008314570295624435,0.005721443332731724,0.0003533372946549207,0.0024112106766551733,0.0025092379655689,0.0,0.0,0.0,0.0,0.0,0.0,0.0,0.0,0.0],[0.9568420648574829,0.0015836283564567566,0.02591334655880928,0.0003881088341586292,0.010615401901304722,0.0013367654755711555,0.0033205747604370117,0.0,0.0,0.0,0.0,0.0,0.0,0.0,0.0],[0.9757083654403687,0.0009828899055719376,0.009743940085172653,0.0004535996413324028,0.01061752438545227,0.0004682322614826262,0.0012869156198576093,0.0007385416538454592,0.0,0.0,0.0,0.0,0.0,0.0,0.0],[0.9710122346878052,0.008984853513538837,0.004316202364861965,0.00027803456760011613,0.00178993190638721,0.0004931463045068085,0.002745531965047121,0.0012438411358743906,0.009136252105236053,0.0,0.0,0.0,0.0,0.0,0.0],[0.648948609828949,0.005302878562361002,0.18188175559043884,0.0012783196289092302,0.14626702666282654,0.0009577689925208688,0.0006927736103534698,0.0004954231553710997,0.012310849502682686,0.001864503137767315,0.0,0.0,0.0,0.0,0.0],[0.9177063703536987,0.0016782019520178437,0.005981826223433018,0.01441181730479002,0.03162543103098869,0.00854694563895464,0.0036629936657845974,0.0008471694891341031,0.010447589680552483,0.001891613588668406,0.0031999931670725346,0.0,0.0,0.0,0.0],[0.45107927918434143,0.0020352699793875217,0.18634530901908875,0.0026697609573602676,0.27379703521728516,0.001582273980602622,0.0009193476289510727,0.0008901518885977566,0.015513939782977104,0.0012975514400750399,0.06207319349050522,0.001796815311536193,0.0,0.0,0.0],[0.6503764986991882,0.002108544809743762,0.058786965906620026,0.006623928435146809,0.15081730484962463,0.004262474365532398,0.0013336684787645936,0.0001756215060595423,0.11068031936883926,0.0019952128641307354,0.008843479678034782,0.001445863163098693,0.002550149569287896,0.0,0.0],[0.9509502649307251,0.001743829227052629,0.009910902939736843,0.0018865487072616816,0.012900750152766705,0.0019092850852757692,0.0020848058629781008,0.0005875833448953927,0.006344192661345005,0.0012917396379634738,0.003835915122181177,0.0003163176297675818,0.0014293761923909187,0.0048084803856909275,0.0],[0.2345140278339386,0.000793140206951648,0.24876084923744202,0.0005388588760979474,0.41788139939308167,0.00037973280996084213,9.590138506609946e-05,0.00013982308155391365,0.0067667001858353615,0.00020188985217828304,0.08753684163093567,7.745072070974857e-05,0.0004302770830690861,0.001685818424448371,0.00019735626119654626]],\"type\":\"heatmap\",\"xaxis\":\"x\",\"yaxis\":\"y\",\"hovertemplate\":\"source_tok: %{x}<br>dest_tok: %{y}<br>color: %{z}<extra></extra>\"},{\"coloraxis\":\"coloraxis\",\"name\":\"1\",\"x\":[\"<|endoftext|>\",\"When\",\" Goose\",\" and\",\" Google\",\" went\",\" to\",\" the\",\" shops\",\",\",\" Google\",\" gave\",\" the\",\" bag\",\" to\"],\"y\":[\"<|endoftext|>\",\"When\",\" Goose\",\" and\",\" Google\",\" went\",\" to\",\" the\",\" shops\",\",\",\" Google\",\" gave\",\" the\",\" bag\",\" to\"],\"z\":[[1.0,0.0,0.0,0.0,0.0,0.0,0.0,0.0,0.0,0.0,0.0,0.0,0.0,0.0,0.0],[0.9979304075241089,0.0020696446299552917,0.0,0.0,0.0,0.0,0.0,0.0,0.0,0.0,0.0,0.0,0.0,0.0,0.0],[0.9940441846847534,0.0006679490325041115,0.005287816282361746,0.0,0.0,0.0,0.0,0.0,0.0,0.0,0.0,0.0,0.0,0.0,0.0],[0.9844425320625305,0.0010321818990632892,0.012674587778747082,0.0018507823115214705,0.0,0.0,0.0,0.0,0.0,0.0,0.0,0.0,0.0,0.0,0.0],[0.9893983006477356,0.0012056592386215925,0.0032506664283573627,0.0012046827469021082,0.004940760787576437,0.0,0.0,0.0,0.0,0.0,0.0,0.0,0.0,0.0,0.0],[0.989274799823761,0.0006569218821823597,0.004805952776223421,0.0002808303397614509,0.003889920888468623,0.0010915533639490604,0.0,0.0,0.0,0.0,0.0,0.0,0.0,0.0,0.0],[0.9697931408882141,0.001359115238301456,0.011356825940310955,0.00016324370517395437,0.00986472237855196,0.0018382411217316985,0.005624667275696993,0.0,0.0,0.0,0.0,0.0,0.0,0.0,0.0],[0.9886555671691895,0.0009072862449102104,0.0037536576855927706,9.550176037009805e-05,0.004832156002521515,0.00021690354333259165,0.00038472883170470595,0.001154209254309535,0.0,0.0,0.0,0.0,0.0,0.0,0.0],[0.992362380027771,0.0011855693301185966,0.0007065115496516228,0.00019174259796272963,0.00047581145190633833,0.0004060867358930409,0.0006159133627079427,0.00019425255595706403,0.003861719276756048,0.0,0.0,0.0,0.0,0.0,0.0],[0.7937654256820679,0.006413782946765423,0.099329873919487,0.0015561897307634354,0.08286154270172119,0.001086726551875472,0.0009966888464987278,0.0017062952974811196,0.007812847383320332,0.004470610059797764,0.0,0.0,0.0,0.0,0.0],[0.9148026704788208,0.0021855072118341923,0.004670086316764355,0.04649095982313156,0.018980007618665695,0.004180627875030041,0.0009621233912184834,0.0003322628908790648,0.0035853490699082613,0.002198719186708331,0.0016116101760417223,0.0,0.0,0.0,0.0],[0.41069015860557556,0.013018650934100151,0.1992172747850418,0.00696061784401536,0.2875734269618988,0.002335126278921962,0.0020338615868240595,0.0034010980743914843,0.018510790541768074,0.00565345911309123,0.04779774695634842,0.0028077876195311546,0.0,0.0,0.0],[0.6790667176246643,0.006732004228979349,0.06469529122114182,0.004907072987407446,0.09086533635854721,0.0036578974686563015,0.0015069838846102357,0.0011961881536990404,0.12222391366958618,0.004981602542102337,0.009640036150813103,0.002205922268331051,0.008321080356836319,0.0,0.0],[0.9483412504196167,0.0019005301874130964,0.004927410744130611,0.00764581048861146,0.011225626803934574,0.0015437367837876081,0.0019381573656573892,0.0002700449840631336,0.004601688589900732,0.002136933384463191,0.0022251117043197155,0.0008980391430668533,0.000992695102468133,0.01135285384953022,0.0],[0.2175763100385666,0.007772235665470362,0.22417502105236053,0.0032557579688727856,0.45788341760635376,0.0006166596431285143,0.0004130376037210226,0.0024257381446659565,0.0043060011230409145,0.0021966868080198765,0.07068068534135818,0.00017779077461455017,0.006732074078172445,0.0010053919395431876,0.0007831763359718025]],\"type\":\"heatmap\",\"xaxis\":\"x2\",\"yaxis\":\"y2\",\"hovertemplate\":\"source_tok: %{x}<br>dest_tok: %{y}<br>color: %{z}<extra></extra>\"},{\"coloraxis\":\"coloraxis\",\"name\":\"2\",\"x\":[\"<|endoftext|>\",\"When\",\" Goose\",\" and\",\" Google\",\" went\",\" to\",\" the\",\" shops\",\",\",\" Google\",\" gave\",\" the\",\" bag\",\" to\"],\"y\":[\"<|endoftext|>\",\"When\",\" Goose\",\" and\",\" Google\",\" went\",\" to\",\" the\",\" shops\",\",\",\" Google\",\" gave\",\" the\",\" bag\",\" to\"],\"z\":[[1.0,0.0,0.0,0.0,0.0,0.0,0.0,0.0,0.0,0.0,0.0,0.0,0.0,0.0,0.0],[0.9776753187179565,0.022324660792946815,0.0,0.0,0.0,0.0,0.0,0.0,0.0,0.0,0.0,0.0,0.0,0.0,0.0],[0.9475612640380859,0.010573873296380043,0.04186480492353439,0.0,0.0,0.0,0.0,0.0,0.0,0.0,0.0,0.0,0.0,0.0,0.0],[0.8411375284194946,0.010301711037755013,0.12022548913955688,0.028335293754935265,0.0,0.0,0.0,0.0,0.0,0.0,0.0,0.0,0.0,0.0,0.0],[0.9101669192314148,0.0164333526045084,0.04194731265306473,0.012628999538719654,0.0188232883810997,0.0,0.0,0.0,0.0,0.0,0.0,0.0,0.0,0.0,0.0],[0.9393337965011597,0.002965691965073347,0.022500719875097275,0.007979870773851871,0.02274118736386299,0.004478661809116602,0.0,0.0,0.0,0.0,0.0,0.0,0.0,0.0,0.0],[0.7864969968795776,0.019211815670132637,0.09056129306554794,0.010687853209674358,0.0591849684715271,0.011958643794059753,0.021898509934544563,0.0,0.0,0.0,0.0,0.0,0.0,0.0,0.0],[0.8116580247879028,0.012517963536083698,0.0703773945569992,0.011540405452251434,0.06287048757076263,0.004729940090328455,0.015025993809103966,0.011279832571744919,0.0,0.0,0.0,0.0,0.0,0.0,0.0],[0.8715082406997681,0.007675954606384039,0.0743873193860054,0.002458948642015457,0.01865711808204651,0.00273210764862597,0.0014715080615133047,0.0012586022494360805,0.01985025964677334,0.0,0.0,0.0,0.0,0.0,0.0],[0.4125123918056488,0.007775761187076569,0.3278752863407135,0.008962690830230713,0.1757526695728302,0.0036594043485820293,0.0032231458462774754,0.0036026134621351957,0.04581999033689499,0.01081604789942503,0.0,0.0,0.0,0.0,0.0],[0.854897677898407,0.010255781933665276,0.02624506875872612,0.010211099870502949,0.02920246124267578,0.009390446357429028,0.005869791842997074,0.001848425017669797,0.027157951146364212,0.014891006052494049,0.010030308738350868,0.0,0.0,0.0,0.0],[0.4008362889289856,0.01429410744458437,0.2803443968296051,0.013592446222901344,0.16748276352882385,0.003204930108040571,0.0064575509168207645,0.00505232997238636,0.04063005372881889,0.010887346230447292,0.05454109236598015,0.002676676493138075,0.0,0.0,0.0],[0.4371587336063385,0.008170765824615955,0.1750166267156601,0.01643271930515766,0.14798295497894287,0.0062542930245399475,0.01028465200215578,0.0026704855263233185,0.16260926425457,0.011712931096553802,0.013139814138412476,0.00402046088129282,0.004546308424323797,0.0,0.0],[0.8889524340629578,0.008090873248875141,0.033515509217977524,0.002476045396178961,0.011497875675559044,0.0021422109566628933,0.0016178118530660868,0.0009038932621479034,0.019065096974372864,0.0055559477768838406,0.008904698304831982,0.0016609051963314414,0.0008876097272150218,0.014729127287864685,0.0],[0.48037728667259216,0.017682138830423355,0.26266711950302124,0.008961649611592293,0.13363921642303467,0.0026348596438765526,0.0036122039891779423,0.002961135469377041,0.029389485716819763,0.008940005674958229,0.035071663558483124,0.0007872061687521636,0.0026910961605608463,0.005148307420313358,0.005436586681753397]],\"type\":\"heatmap\",\"xaxis\":\"x3\",\"yaxis\":\"y3\",\"hovertemplate\":\"source_tok: %{x}<br>dest_tok: %{y}<br>color: %{z}<extra></extra>\"}],                        {\"template\":{\"data\":{\"histogram2dcontour\":[{\"type\":\"histogram2dcontour\",\"colorbar\":{\"outlinewidth\":0,\"ticks\":\"\"},\"colorscale\":[[0.0,\"#0d0887\"],[0.1111111111111111,\"#46039f\"],[0.2222222222222222,\"#7201a8\"],[0.3333333333333333,\"#9c179e\"],[0.4444444444444444,\"#bd3786\"],[0.5555555555555556,\"#d8576b\"],[0.6666666666666666,\"#ed7953\"],[0.7777777777777778,\"#fb9f3a\"],[0.8888888888888888,\"#fdca26\"],[1.0,\"#f0f921\"]]}],\"choropleth\":[{\"type\":\"choropleth\",\"colorbar\":{\"outlinewidth\":0,\"ticks\":\"\"}}],\"histogram2d\":[{\"type\":\"histogram2d\",\"colorbar\":{\"outlinewidth\":0,\"ticks\":\"\"},\"colorscale\":[[0.0,\"#0d0887\"],[0.1111111111111111,\"#46039f\"],[0.2222222222222222,\"#7201a8\"],[0.3333333333333333,\"#9c179e\"],[0.4444444444444444,\"#bd3786\"],[0.5555555555555556,\"#d8576b\"],[0.6666666666666666,\"#ed7953\"],[0.7777777777777778,\"#fb9f3a\"],[0.8888888888888888,\"#fdca26\"],[1.0,\"#f0f921\"]]}],\"heatmap\":[{\"type\":\"heatmap\",\"colorbar\":{\"outlinewidth\":0,\"ticks\":\"\"},\"colorscale\":[[0.0,\"#0d0887\"],[0.1111111111111111,\"#46039f\"],[0.2222222222222222,\"#7201a8\"],[0.3333333333333333,\"#9c179e\"],[0.4444444444444444,\"#bd3786\"],[0.5555555555555556,\"#d8576b\"],[0.6666666666666666,\"#ed7953\"],[0.7777777777777778,\"#fb9f3a\"],[0.8888888888888888,\"#fdca26\"],[1.0,\"#f0f921\"]]}],\"heatmapgl\":[{\"type\":\"heatmapgl\",\"colorbar\":{\"outlinewidth\":0,\"ticks\":\"\"},\"colorscale\":[[0.0,\"#0d0887\"],[0.1111111111111111,\"#46039f\"],[0.2222222222222222,\"#7201a8\"],[0.3333333333333333,\"#9c179e\"],[0.4444444444444444,\"#bd3786\"],[0.5555555555555556,\"#d8576b\"],[0.6666666666666666,\"#ed7953\"],[0.7777777777777778,\"#fb9f3a\"],[0.8888888888888888,\"#fdca26\"],[1.0,\"#f0f921\"]]}],\"contourcarpet\":[{\"type\":\"contourcarpet\",\"colorbar\":{\"outlinewidth\":0,\"ticks\":\"\"}}],\"contour\":[{\"type\":\"contour\",\"colorbar\":{\"outlinewidth\":0,\"ticks\":\"\"},\"colorscale\":[[0.0,\"#0d0887\"],[0.1111111111111111,\"#46039f\"],[0.2222222222222222,\"#7201a8\"],[0.3333333333333333,\"#9c179e\"],[0.4444444444444444,\"#bd3786\"],[0.5555555555555556,\"#d8576b\"],[0.6666666666666666,\"#ed7953\"],[0.7777777777777778,\"#fb9f3a\"],[0.8888888888888888,\"#fdca26\"],[1.0,\"#f0f921\"]]}],\"surface\":[{\"type\":\"surface\",\"colorbar\":{\"outlinewidth\":0,\"ticks\":\"\"},\"colorscale\":[[0.0,\"#0d0887\"],[0.1111111111111111,\"#46039f\"],[0.2222222222222222,\"#7201a8\"],[0.3333333333333333,\"#9c179e\"],[0.4444444444444444,\"#bd3786\"],[0.5555555555555556,\"#d8576b\"],[0.6666666666666666,\"#ed7953\"],[0.7777777777777778,\"#fb9f3a\"],[0.8888888888888888,\"#fdca26\"],[1.0,\"#f0f921\"]]}],\"mesh3d\":[{\"type\":\"mesh3d\",\"colorbar\":{\"outlinewidth\":0,\"ticks\":\"\"}}],\"scatter\":[{\"fillpattern\":{\"fillmode\":\"overlay\",\"size\":10,\"solidity\":0.2},\"type\":\"scatter\"}],\"parcoords\":[{\"type\":\"parcoords\",\"line\":{\"colorbar\":{\"outlinewidth\":0,\"ticks\":\"\"}}}],\"scatterpolargl\":[{\"type\":\"scatterpolargl\",\"marker\":{\"colorbar\":{\"outlinewidth\":0,\"ticks\":\"\"}}}],\"bar\":[{\"error_x\":{\"color\":\"#2a3f5f\"},\"error_y\":{\"color\":\"#2a3f5f\"},\"marker\":{\"line\":{\"color\":\"#E5ECF6\",\"width\":0.5},\"pattern\":{\"fillmode\":\"overlay\",\"size\":10,\"solidity\":0.2}},\"type\":\"bar\"}],\"scattergeo\":[{\"type\":\"scattergeo\",\"marker\":{\"colorbar\":{\"outlinewidth\":0,\"ticks\":\"\"}}}],\"scatterpolar\":[{\"type\":\"scatterpolar\",\"marker\":{\"colorbar\":{\"outlinewidth\":0,\"ticks\":\"\"}}}],\"histogram\":[{\"marker\":{\"pattern\":{\"fillmode\":\"overlay\",\"size\":10,\"solidity\":0.2}},\"type\":\"histogram\"}],\"scattergl\":[{\"type\":\"scattergl\",\"marker\":{\"colorbar\":{\"outlinewidth\":0,\"ticks\":\"\"}}}],\"scatter3d\":[{\"type\":\"scatter3d\",\"line\":{\"colorbar\":{\"outlinewidth\":0,\"ticks\":\"\"}},\"marker\":{\"colorbar\":{\"outlinewidth\":0,\"ticks\":\"\"}}}],\"scattermapbox\":[{\"type\":\"scattermapbox\",\"marker\":{\"colorbar\":{\"outlinewidth\":0,\"ticks\":\"\"}}}],\"scatterternary\":[{\"type\":\"scatterternary\",\"marker\":{\"colorbar\":{\"outlinewidth\":0,\"ticks\":\"\"}}}],\"scattercarpet\":[{\"type\":\"scattercarpet\",\"marker\":{\"colorbar\":{\"outlinewidth\":0,\"ticks\":\"\"}}}],\"carpet\":[{\"aaxis\":{\"endlinecolor\":\"#2a3f5f\",\"gridcolor\":\"white\",\"linecolor\":\"white\",\"minorgridcolor\":\"white\",\"startlinecolor\":\"#2a3f5f\"},\"baxis\":{\"endlinecolor\":\"#2a3f5f\",\"gridcolor\":\"white\",\"linecolor\":\"white\",\"minorgridcolor\":\"white\",\"startlinecolor\":\"#2a3f5f\"},\"type\":\"carpet\"}],\"table\":[{\"cells\":{\"fill\":{\"color\":\"#EBF0F8\"},\"line\":{\"color\":\"white\"}},\"header\":{\"fill\":{\"color\":\"#C8D4E3\"},\"line\":{\"color\":\"white\"}},\"type\":\"table\"}],\"barpolar\":[{\"marker\":{\"line\":{\"color\":\"#E5ECF6\",\"width\":0.5},\"pattern\":{\"fillmode\":\"overlay\",\"size\":10,\"solidity\":0.2}},\"type\":\"barpolar\"}],\"pie\":[{\"automargin\":true,\"type\":\"pie\"}]},\"layout\":{\"autotypenumbers\":\"strict\",\"colorway\":[\"#636efa\",\"#EF553B\",\"#00cc96\",\"#ab63fa\",\"#FFA15A\",\"#19d3f3\",\"#FF6692\",\"#B6E880\",\"#FF97FF\",\"#FECB52\"],\"font\":{\"color\":\"#2a3f5f\"},\"hovermode\":\"closest\",\"hoverlabel\":{\"align\":\"left\"},\"paper_bgcolor\":\"white\",\"plot_bgcolor\":\"#E5ECF6\",\"polar\":{\"bgcolor\":\"#E5ECF6\",\"angularaxis\":{\"gridcolor\":\"white\",\"linecolor\":\"white\",\"ticks\":\"\"},\"radialaxis\":{\"gridcolor\":\"white\",\"linecolor\":\"white\",\"ticks\":\"\"}},\"ternary\":{\"bgcolor\":\"#E5ECF6\",\"aaxis\":{\"gridcolor\":\"white\",\"linecolor\":\"white\",\"ticks\":\"\"},\"baxis\":{\"gridcolor\":\"white\",\"linecolor\":\"white\",\"ticks\":\"\"},\"caxis\":{\"gridcolor\":\"white\",\"linecolor\":\"white\",\"ticks\":\"\"}},\"coloraxis\":{\"colorbar\":{\"outlinewidth\":0,\"ticks\":\"\"}},\"colorscale\":{\"sequential\":[[0.0,\"#0d0887\"],[0.1111111111111111,\"#46039f\"],[0.2222222222222222,\"#7201a8\"],[0.3333333333333333,\"#9c179e\"],[0.4444444444444444,\"#bd3786\"],[0.5555555555555556,\"#d8576b\"],[0.6666666666666666,\"#ed7953\"],[0.7777777777777778,\"#fb9f3a\"],[0.8888888888888888,\"#fdca26\"],[1.0,\"#f0f921\"]],\"sequentialminus\":[[0.0,\"#0d0887\"],[0.1111111111111111,\"#46039f\"],[0.2222222222222222,\"#7201a8\"],[0.3333333333333333,\"#9c179e\"],[0.4444444444444444,\"#bd3786\"],[0.5555555555555556,\"#d8576b\"],[0.6666666666666666,\"#ed7953\"],[0.7777777777777778,\"#fb9f3a\"],[0.8888888888888888,\"#fdca26\"],[1.0,\"#f0f921\"]],\"diverging\":[[0,\"#8e0152\"],[0.1,\"#c51b7d\"],[0.2,\"#de77ae\"],[0.3,\"#f1b6da\"],[0.4,\"#fde0ef\"],[0.5,\"#f7f7f7\"],[0.6,\"#e6f5d0\"],[0.7,\"#b8e186\"],[0.8,\"#7fbc41\"],[0.9,\"#4d9221\"],[1,\"#276419\"]]},\"xaxis\":{\"gridcolor\":\"white\",\"linecolor\":\"white\",\"ticks\":\"\",\"title\":{\"standoff\":15},\"zerolinecolor\":\"white\",\"automargin\":true,\"zerolinewidth\":2},\"yaxis\":{\"gridcolor\":\"white\",\"linecolor\":\"white\",\"ticks\":\"\",\"title\":{\"standoff\":15},\"zerolinecolor\":\"white\",\"automargin\":true,\"zerolinewidth\":2},\"scene\":{\"xaxis\":{\"backgroundcolor\":\"#E5ECF6\",\"gridcolor\":\"white\",\"linecolor\":\"white\",\"showbackground\":true,\"ticks\":\"\",\"zerolinecolor\":\"white\",\"gridwidth\":2},\"yaxis\":{\"backgroundcolor\":\"#E5ECF6\",\"gridcolor\":\"white\",\"linecolor\":\"white\",\"showbackground\":true,\"ticks\":\"\",\"zerolinecolor\":\"white\",\"gridwidth\":2},\"zaxis\":{\"backgroundcolor\":\"#E5ECF6\",\"gridcolor\":\"white\",\"linecolor\":\"white\",\"showbackground\":true,\"ticks\":\"\",\"zerolinecolor\":\"white\",\"gridwidth\":2}},\"shapedefaults\":{\"line\":{\"color\":\"#2a3f5f\"}},\"annotationdefaults\":{\"arrowcolor\":\"#2a3f5f\",\"arrowhead\":0,\"arrowwidth\":1},\"geo\":{\"bgcolor\":\"white\",\"landcolor\":\"#E5ECF6\",\"subunitcolor\":\"white\",\"showland\":true,\"showlakes\":true,\"lakecolor\":\"white\"},\"title\":{\"x\":0.05},\"mapbox\":{\"style\":\"light\"}}},\"xaxis\":{\"anchor\":\"y\",\"domain\":[0.0,0.31999999999999995],\"scaleanchor\":\"y\",\"constrain\":\"domain\",\"title\":{\"text\":\"source_tok\"}},\"yaxis\":{\"anchor\":\"x\",\"domain\":[0.0,1.0],\"autorange\":\"reversed\",\"constrain\":\"domain\",\"title\":{\"text\":\"dest_tok\"}},\"xaxis2\":{\"anchor\":\"y2\",\"domain\":[0.33999999999999997,0.6599999999999999],\"matches\":\"x\",\"title\":{\"text\":\"source_tok\"}},\"yaxis2\":{\"anchor\":\"x2\",\"domain\":[0.0,1.0],\"matches\":\"y\",\"showticklabels\":false},\"xaxis3\":{\"anchor\":\"y3\",\"domain\":[0.6799999999999999,0.9999999999999999],\"matches\":\"x\",\"title\":{\"text\":\"source_tok\"}},\"yaxis3\":{\"anchor\":\"x3\",\"domain\":[0.0,1.0],\"matches\":\"y\",\"showticklabels\":false},\"annotations\":[{\"font\":{},\"showarrow\":false,\"text\":\"facet_col=0\",\"x\":0.15999999999999998,\"xanchor\":\"center\",\"xref\":\"paper\",\"y\":1.0,\"yanchor\":\"bottom\",\"yref\":\"paper\"},{\"font\":{},\"showarrow\":false,\"text\":\"facet_col=1\",\"x\":0.49999999999999994,\"xanchor\":\"center\",\"xref\":\"paper\",\"y\":1.0,\"yanchor\":\"bottom\",\"yref\":\"paper\"},{\"font\":{},\"showarrow\":false,\"text\":\"facet_col=2\",\"x\":0.8399999999999999,\"xanchor\":\"center\",\"xref\":\"paper\",\"y\":1.0,\"yanchor\":\"bottom\",\"yref\":\"paper\"}],\"coloraxis\":{\"colorscale\":[[0.0,\"rgb(103,0,31)\"],[0.1,\"rgb(178,24,43)\"],[0.2,\"rgb(214,96,77)\"],[0.3,\"rgb(244,165,130)\"],[0.4,\"rgb(253,219,199)\"],[0.5,\"rgb(247,247,247)\"],[0.6,\"rgb(209,229,240)\"],[0.7,\"rgb(146,197,222)\"],[0.8,\"rgb(67,147,195)\"],[0.9,\"rgb(33,102,172)\"],[1.0,\"rgb(5,48,97)\"]],\"cmid\":0.0},\"title\":{\"text\":\"proper nouns\"}},                        {\"responsive\": true}                    ).then(function(){\n",
       "                            \n",
       "var gd = document.getElementById('75f7366d-490a-424f-991e-193d99000c61');\n",
       "var x = new MutationObserver(function (mutations, observer) {{\n",
       "        var display = window.getComputedStyle(gd).display;\n",
       "        if (!display || display === 'none') {{\n",
       "            console.log([gd, 'removed!']);\n",
       "            Plotly.purge(gd);\n",
       "            observer.disconnect();\n",
       "        }}\n",
       "}});\n",
       "\n",
       "// Listen for the removal of the full notebook cells\n",
       "var notebookContainer = gd.closest('#notebook-container');\n",
       "if (notebookContainer) {{\n",
       "    x.observe(notebookContainer, {childList: true});\n",
       "}}\n",
       "\n",
       "// Listen for the clearing of the current output cell\n",
       "var outputEl = gd.closest('.output');\n",
       "if (outputEl) {{\n",
       "    x.observe(outputEl, {childList: true});\n",
       "}}\n",
       "\n",
       "                        })                };                });            </script>        </div>"
      ]
     },
     "metadata": {},
     "output_type": "display_data"
    }
   ],
   "source": [
    "heads = [(9,6), (9,9), (10,0)]\n",
    "patts = []\n",
    "for layer, head in heads:\n",
    "  patts.append(pnoun_cache[\"pattern\", layer][:,head, :,:])\n",
    "patts = t.stack(patts)\n",
    "patts.shape\n",
    "patts = patts.mean(dim = 1)\n",
    "\n",
    "imshow(patts, facet_col = 0, yaxis = \"dest_tok\", xaxis = \"source_tok\", title = \"proper nouns\", x= model.to_str_tokens(prompts_pn[0]), y = model.to_str_tokens(prompts_pn[0]))"
   ]
  },
  {
   "cell_type": "code",
   "execution_count": null,
   "metadata": {},
   "outputs": [
    {
     "data": {
      "text/html": [
       "<div>                            <div id=\"3398ae7c-d616-4543-85ed-7778e9d174a6\" class=\"plotly-graph-div\" style=\"height:525px; width:100%;\"></div>            <script type=\"text/javascript\">                require([\"plotly\"], function(Plotly) {                    window.PLOTLYENV=window.PLOTLYENV || {};                                    if (document.getElementById(\"3398ae7c-d616-4543-85ed-7778e9d174a6\")) {                    Plotly.newPlot(                        \"3398ae7c-d616-4543-85ed-7778e9d174a6\",                        [{\"coloraxis\":\"coloraxis\",\"name\":\"0\",\"x\":[\"<|endoftext|>\",\"When\",\" Isaac\",\" and\",\" Paul\",\" went\",\" to\",\" the\",\" shops\",\",\",\" Paul\",\" gave\",\" the\",\" bag\",\" to\"],\"y\":[\"<|endoftext|>\",\"When\",\" Isaac\",\" and\",\" Paul\",\" went\",\" to\",\" the\",\" shops\",\",\",\" Paul\",\" gave\",\" the\",\" bag\",\" to\"],\"z\":[[1.0,0.0,0.0,0.0,0.0,0.0,0.0,0.0,0.0,0.0,0.0,0.0,0.0,0.0,0.0],[0.9985043406486511,0.0014959131367504597,0.0,0.0,0.0,0.0,0.0,0.0,0.0,0.0,0.0,0.0,0.0,0.0,0.0],[0.9949315190315247,0.0007452866993844509,0.004323242232203484,0.0,0.0,0.0,0.0,0.0,0.0,0.0,0.0,0.0,0.0,0.0,0.0],[0.9080878496170044,0.0012362448032945395,0.08856908231973648,0.002106940606608987,0.0,0.0,0.0,0.0,0.0,0.0,0.0,0.0,0.0,0.0,0.0],[0.9730892181396484,0.001064039533957839,0.008225063793361187,0.007634228561073542,0.009987355209887028,0.0,0.0,0.0,0.0,0.0,0.0,0.0,0.0,0.0,0.0],[0.9914640188217163,0.0008395488257519901,0.0017137539107352495,0.0005675959982909262,0.0013582446845248342,0.004056932870298624,0.0,0.0,0.0,0.0,0.0,0.0,0.0,0.0,0.0],[0.9672514796257019,0.0016707053873687983,0.014397045597434044,0.0006052356911823153,0.011537561193108559,0.0015064480248838663,0.0030314698815345764,0.0,0.0,0.0,0.0,0.0,0.0,0.0,0.0],[0.9933355450630188,0.0010045936796814203,0.0014070502948015928,0.0005302238278090954,0.0011669823434203863,0.0006565150106325746,0.0009349870379082859,0.0009640606003813446,0.0,0.0,0.0,0.0,0.0,0.0,0.0],[0.9762115478515625,0.008599800989031792,0.0023331211414188147,0.0004255032108630985,0.0011223534820601344,0.0005008733132854104,0.0019744583405554295,0.0009539949824102223,0.007878326810896397,0.0,0.0,0.0,0.0,0.0,0.0],[0.5572410821914673,0.008119110949337482,0.1677035391330719,0.002987626241520047,0.25323790311813354,0.0012916302075609565,0.0005363957025110722,0.000524448580108583,0.006780237890779972,0.0015780538087710738,0.0,0.0,0.0,0.0,0.0],[0.9355651140213013,0.0018397376406937838,0.004488321952521801,0.02459460124373436,0.01606682315468788,0.006630981806665659,0.0018718208884820342,0.0004151536268182099,0.0035178489051759243,0.0009826469467952847,0.004026880022138357,0.0,0.0,0.0,0.0],[0.4360852837562561,0.0028224154375493526,0.172836035490036,0.0068247513845562935,0.3341044783592224,0.0011667306534945965,0.0004606954171322286,0.0011893102200701833,0.004371077753603458,0.0005340900388546288,0.034118037670850754,0.005487117916345596,0.0,0.0,0.0],[0.7858490347862244,0.002617052523419261,0.02315237745642662,0.013467495329678059,0.04459952190518379,0.0056099365465343,0.0014688652008771896,0.0003538938472047448,0.10459180921316147,0.0018015571404248476,0.006390496157109737,0.004033341072499752,0.006064587738364935,0.0,0.0],[0.964449405670166,0.0025444363709539175,0.009580699726939201,0.00036955467658117414,0.005112872924655676,0.0003224232350476086,0.0010859202593564987,0.0005381690571084619,0.002692202804610133,0.0016656678635627031,0.0038162902928888798,0.0001387275115121156,0.0024169585667550564,0.005266659427434206,0.0],[0.2171877920627594,0.0012660290813073516,0.28654730319976807,0.0010651348857209086,0.4578002989292145,0.00024338885850738734,4.927187546854839e-05,0.00014920977992005646,0.0014061034889891744,9.537472215015441e-05,0.03164432570338249,0.00017943655257113278,0.0009579698671586812,0.0010530876461416483,0.00035525215207599103]],\"type\":\"heatmap\",\"xaxis\":\"x\",\"yaxis\":\"y\",\"hovertemplate\":\"source_tok: %{x}<br>dest_tok: %{y}<br>color: %{z}<extra></extra>\"},{\"coloraxis\":\"coloraxis\",\"name\":\"1\",\"x\":[\"<|endoftext|>\",\"When\",\" Isaac\",\" and\",\" Paul\",\" went\",\" to\",\" the\",\" shops\",\",\",\" Paul\",\" gave\",\" the\",\" bag\",\" to\"],\"y\":[\"<|endoftext|>\",\"When\",\" Isaac\",\" and\",\" Paul\",\" went\",\" to\",\" the\",\" shops\",\",\",\" Paul\",\" gave\",\" the\",\" bag\",\" to\"],\"z\":[[1.0,0.0,0.0,0.0,0.0,0.0,0.0,0.0,0.0,0.0,0.0,0.0,0.0,0.0,0.0],[0.9979304075241089,0.0020696446299552917,0.0,0.0,0.0,0.0,0.0,0.0,0.0,0.0,0.0,0.0,0.0,0.0,0.0],[0.9927692413330078,0.0014204928884282708,0.005810185801237822,0.0,0.0,0.0,0.0,0.0,0.0,0.0,0.0,0.0,0.0,0.0,0.0],[0.9598677754402161,0.001915059401653707,0.03493093326687813,0.0032860576175153255,0.0,0.0,0.0,0.0,0.0,0.0,0.0,0.0,0.0,0.0,0.0],[0.9803979992866516,0.002115062903612852,0.006867091171443462,0.0046465047635138035,0.00597339728847146,0.0,0.0,0.0,0.0,0.0,0.0,0.0,0.0,0.0,0.0],[0.9934253692626953,0.0009397974354214966,0.0011739092878997326,0.00031672278419137,0.0010512403678148985,0.0030928687192499638,0.0,0.0,0.0,0.0,0.0,0.0,0.0,0.0,0.0],[0.9659390449523926,0.0019826656207442284,0.008298386819660664,0.00033635858562774956,0.014752079732716084,0.0018764615524560213,0.006814991589635611,0.0,0.0,0.0,0.0,0.0,0.0,0.0,0.0],[0.9942951202392578,0.0013427403755486012,0.0007774296100251377,0.00020840318757109344,0.0007457361789420247,0.0002340489299967885,0.0004410221299622208,0.0019555934704840183,0.0,0.0,0.0,0.0,0.0,0.0,0.0],[0.9911479949951172,0.0014360189670696855,0.000586560694500804,0.00021407590247690678,0.000329849572153762,0.00025315696257166564,0.000413496425608173,0.0002764084201771766,0.005342390388250351,0.0,0.0,0.0,0.0,0.0,0.0],[0.5893541574478149,0.01020536758005619,0.19012564420700073,0.00370347429998219,0.19035354256629944,0.0011489699827507138,0.0010980687802657485,0.002614301163703203,0.006992929615080357,0.004403526894748211,0.0,0.0,0.0,0.0,0.0],[0.9199255704879761,0.0032838128972798586,0.005646062083542347,0.04128246381878853,0.017303170636296272,0.006236843764781952,0.0005470007890835404,0.0007009022519923747,0.002348595531657338,0.0009711376624181867,0.0017543788999319077,0.0,0.0,0.0,0.0],[0.3584322929382324,0.014950646087527275,0.2864309847354889,0.01640031859278679,0.27719539403915405,0.001378914574161172,0.0011564616579562426,0.0030411749612540007,0.011882084421813488,0.002774799009785056,0.020315703004598618,0.0060411845333874226,0.0,0.0,0.0],[0.7098954319953918,0.00676101166754961,0.028005152940750122,0.008643755689263344,0.02089822292327881,0.00319446949288249,0.001085325493477285,0.001138294697739184,0.19269630312919617,0.003511721733957529,0.00503954291343689,0.005029390566051006,0.01410143543034792,0.0,0.0],[0.9717127084732056,0.0013390546664595604,0.002609419170767069,0.00011793601879617199,0.0008995836833491921,0.00014004300464875996,0.0006246113916859031,0.00013442488852888346,0.003325618337839842,0.0017104409635066986,0.0009679322829470038,0.0002695860748644918,0.0009662080556154251,0.015182456001639366,0.0],[0.1357090026140213,0.007803254760801792,0.36063843965530396,0.0034032720141112804,0.460836797952652,0.00019592228636611253,0.0001527430722489953,0.0012169192777946591,0.0009778615785762668,0.0006120859179645777,0.01981452852487564,0.00023790360137354583,0.006022695917636156,0.0006485820631496608,0.0017300546169281006]],\"type\":\"heatmap\",\"xaxis\":\"x2\",\"yaxis\":\"y2\",\"hovertemplate\":\"source_tok: %{x}<br>dest_tok: %{y}<br>color: %{z}<extra></extra>\"},{\"coloraxis\":\"coloraxis\",\"name\":\"2\",\"x\":[\"<|endoftext|>\",\"When\",\" Isaac\",\" and\",\" Paul\",\" went\",\" to\",\" the\",\" shops\",\",\",\" Paul\",\" gave\",\" the\",\" bag\",\" to\"],\"y\":[\"<|endoftext|>\",\"When\",\" Isaac\",\" and\",\" Paul\",\" went\",\" to\",\" the\",\" shops\",\",\",\" Paul\",\" gave\",\" the\",\" bag\",\" to\"],\"z\":[[1.0,0.0,0.0,0.0,0.0,0.0,0.0,0.0,0.0,0.0,0.0,0.0,0.0,0.0,0.0],[0.9776753187179565,0.022324660792946815,0.0,0.0,0.0,0.0,0.0,0.0,0.0,0.0,0.0,0.0,0.0,0.0,0.0],[0.9033890962600708,0.012065161019563675,0.0845458135008812,0.0,0.0,0.0,0.0,0.0,0.0,0.0,0.0,0.0,0.0,0.0,0.0],[0.745489239692688,0.006077648140490055,0.22779229283332825,0.020640844479203224,0.0,0.0,0.0,0.0,0.0,0.0,0.0,0.0,0.0,0.0,0.0],[0.8095443844795227,0.0134656373411417,0.0976269394159317,0.013032279908657074,0.06633077561855316,0.0,0.0,0.0,0.0,0.0,0.0,0.0,0.0,0.0,0.0],[0.9554116129875183,0.0029493749607354403,0.009428879246115685,0.006653326563537121,0.0154906390234828,0.010066112503409386,0.0,0.0,0.0,0.0,0.0,0.0,0.0,0.0,0.0],[0.6514120101928711,0.011245320551097393,0.12386004626750946,0.008584444411098957,0.162022203207016,0.017052268609404564,0.025823676958680153,0.0,0.0,0.0,0.0,0.0,0.0,0.0,0.0],[0.799031138420105,0.006236226297914982,0.0674443393945694,0.008579645305871964,0.07596638053655624,0.0063306367956101894,0.020115375518798828,0.016296308487653732,0.0,0.0,0.0,0.0,0.0,0.0,0.0],[0.8827170133590698,0.004282977432012558,0.062107522040605545,0.001115142134949565,0.03127303719520569,0.0012575243599712849,0.0007800992461852729,0.0008219134761020541,0.015644703060388565,0.0,0.0,0.0,0.0,0.0,0.0],[0.4398321211338043,0.004560853820294142,0.24551479518413544,0.005250548478215933,0.2524874806404114,0.002984978724271059,0.0023542011622339487,0.002636117395013571,0.03653200343251228,0.007846811786293983,0.0,0.0,0.0,0.0,0.0],[0.7919772863388062,0.009367303922772408,0.04397083446383476,0.009754236787557602,0.0291229747235775,0.013500303030014038,0.004378368612378836,0.0019111956935375929,0.049103379249572754,0.012049953453242779,0.03486420959234238,0.0,0.0,0.0,0.0],[0.28423747420310974,0.004160206764936447,0.3076321482658386,0.006387550383806229,0.2903366684913635,0.0018830038607120514,0.002821236616000533,0.002573451492935419,0.01820892095565796,0.004524039104580879,0.07260357588529587,0.0046317083761096,0.0,0.0,0.0],[0.5292710065841675,0.0034744024742394686,0.12995460629463196,0.013297846540808678,0.09927819669246674,0.004916999954730272,0.008145022206008434,0.0026039103977382183,0.15069493651390076,0.006744267884641886,0.033287882804870605,0.010957157239317894,0.007373705506324768,0.0,0.0],[0.7937461733818054,0.006662917323410511,0.06204535812139511,0.0023594459053128958,0.03127044811844826,0.0017130108317360282,0.001968628028407693,0.001833469606935978,0.02857035957276821,0.008331218734383583,0.0324571318924427,0.003657212946563959,0.003141069086268544,0.02224351093173027,0.0],[0.3751201331615448,0.004922288469970226,0.2972811758518219,0.004111880902200937,0.2594459652900696,0.001421955181285739,0.0011901665711775422,0.001124163856729865,0.009496067650616169,0.0027583639603108168,0.032739751040935516,0.0008415685733780265,0.0019150972366333008,0.0034809045027941465,0.004150514490902424]],\"type\":\"heatmap\",\"xaxis\":\"x3\",\"yaxis\":\"y3\",\"hovertemplate\":\"source_tok: %{x}<br>dest_tok: %{y}<br>color: %{z}<extra></extra>\"}],                        {\"template\":{\"data\":{\"histogram2dcontour\":[{\"type\":\"histogram2dcontour\",\"colorbar\":{\"outlinewidth\":0,\"ticks\":\"\"},\"colorscale\":[[0.0,\"#0d0887\"],[0.1111111111111111,\"#46039f\"],[0.2222222222222222,\"#7201a8\"],[0.3333333333333333,\"#9c179e\"],[0.4444444444444444,\"#bd3786\"],[0.5555555555555556,\"#d8576b\"],[0.6666666666666666,\"#ed7953\"],[0.7777777777777778,\"#fb9f3a\"],[0.8888888888888888,\"#fdca26\"],[1.0,\"#f0f921\"]]}],\"choropleth\":[{\"type\":\"choropleth\",\"colorbar\":{\"outlinewidth\":0,\"ticks\":\"\"}}],\"histogram2d\":[{\"type\":\"histogram2d\",\"colorbar\":{\"outlinewidth\":0,\"ticks\":\"\"},\"colorscale\":[[0.0,\"#0d0887\"],[0.1111111111111111,\"#46039f\"],[0.2222222222222222,\"#7201a8\"],[0.3333333333333333,\"#9c179e\"],[0.4444444444444444,\"#bd3786\"],[0.5555555555555556,\"#d8576b\"],[0.6666666666666666,\"#ed7953\"],[0.7777777777777778,\"#fb9f3a\"],[0.8888888888888888,\"#fdca26\"],[1.0,\"#f0f921\"]]}],\"heatmap\":[{\"type\":\"heatmap\",\"colorbar\":{\"outlinewidth\":0,\"ticks\":\"\"},\"colorscale\":[[0.0,\"#0d0887\"],[0.1111111111111111,\"#46039f\"],[0.2222222222222222,\"#7201a8\"],[0.3333333333333333,\"#9c179e\"],[0.4444444444444444,\"#bd3786\"],[0.5555555555555556,\"#d8576b\"],[0.6666666666666666,\"#ed7953\"],[0.7777777777777778,\"#fb9f3a\"],[0.8888888888888888,\"#fdca26\"],[1.0,\"#f0f921\"]]}],\"heatmapgl\":[{\"type\":\"heatmapgl\",\"colorbar\":{\"outlinewidth\":0,\"ticks\":\"\"},\"colorscale\":[[0.0,\"#0d0887\"],[0.1111111111111111,\"#46039f\"],[0.2222222222222222,\"#7201a8\"],[0.3333333333333333,\"#9c179e\"],[0.4444444444444444,\"#bd3786\"],[0.5555555555555556,\"#d8576b\"],[0.6666666666666666,\"#ed7953\"],[0.7777777777777778,\"#fb9f3a\"],[0.8888888888888888,\"#fdca26\"],[1.0,\"#f0f921\"]]}],\"contourcarpet\":[{\"type\":\"contourcarpet\",\"colorbar\":{\"outlinewidth\":0,\"ticks\":\"\"}}],\"contour\":[{\"type\":\"contour\",\"colorbar\":{\"outlinewidth\":0,\"ticks\":\"\"},\"colorscale\":[[0.0,\"#0d0887\"],[0.1111111111111111,\"#46039f\"],[0.2222222222222222,\"#7201a8\"],[0.3333333333333333,\"#9c179e\"],[0.4444444444444444,\"#bd3786\"],[0.5555555555555556,\"#d8576b\"],[0.6666666666666666,\"#ed7953\"],[0.7777777777777778,\"#fb9f3a\"],[0.8888888888888888,\"#fdca26\"],[1.0,\"#f0f921\"]]}],\"surface\":[{\"type\":\"surface\",\"colorbar\":{\"outlinewidth\":0,\"ticks\":\"\"},\"colorscale\":[[0.0,\"#0d0887\"],[0.1111111111111111,\"#46039f\"],[0.2222222222222222,\"#7201a8\"],[0.3333333333333333,\"#9c179e\"],[0.4444444444444444,\"#bd3786\"],[0.5555555555555556,\"#d8576b\"],[0.6666666666666666,\"#ed7953\"],[0.7777777777777778,\"#fb9f3a\"],[0.8888888888888888,\"#fdca26\"],[1.0,\"#f0f921\"]]}],\"mesh3d\":[{\"type\":\"mesh3d\",\"colorbar\":{\"outlinewidth\":0,\"ticks\":\"\"}}],\"scatter\":[{\"fillpattern\":{\"fillmode\":\"overlay\",\"size\":10,\"solidity\":0.2},\"type\":\"scatter\"}],\"parcoords\":[{\"type\":\"parcoords\",\"line\":{\"colorbar\":{\"outlinewidth\":0,\"ticks\":\"\"}}}],\"scatterpolargl\":[{\"type\":\"scatterpolargl\",\"marker\":{\"colorbar\":{\"outlinewidth\":0,\"ticks\":\"\"}}}],\"bar\":[{\"error_x\":{\"color\":\"#2a3f5f\"},\"error_y\":{\"color\":\"#2a3f5f\"},\"marker\":{\"line\":{\"color\":\"#E5ECF6\",\"width\":0.5},\"pattern\":{\"fillmode\":\"overlay\",\"size\":10,\"solidity\":0.2}},\"type\":\"bar\"}],\"scattergeo\":[{\"type\":\"scattergeo\",\"marker\":{\"colorbar\":{\"outlinewidth\":0,\"ticks\":\"\"}}}],\"scatterpolar\":[{\"type\":\"scatterpolar\",\"marker\":{\"colorbar\":{\"outlinewidth\":0,\"ticks\":\"\"}}}],\"histogram\":[{\"marker\":{\"pattern\":{\"fillmode\":\"overlay\",\"size\":10,\"solidity\":0.2}},\"type\":\"histogram\"}],\"scattergl\":[{\"type\":\"scattergl\",\"marker\":{\"colorbar\":{\"outlinewidth\":0,\"ticks\":\"\"}}}],\"scatter3d\":[{\"type\":\"scatter3d\",\"line\":{\"colorbar\":{\"outlinewidth\":0,\"ticks\":\"\"}},\"marker\":{\"colorbar\":{\"outlinewidth\":0,\"ticks\":\"\"}}}],\"scattermapbox\":[{\"type\":\"scattermapbox\",\"marker\":{\"colorbar\":{\"outlinewidth\":0,\"ticks\":\"\"}}}],\"scatterternary\":[{\"type\":\"scatterternary\",\"marker\":{\"colorbar\":{\"outlinewidth\":0,\"ticks\":\"\"}}}],\"scattercarpet\":[{\"type\":\"scattercarpet\",\"marker\":{\"colorbar\":{\"outlinewidth\":0,\"ticks\":\"\"}}}],\"carpet\":[{\"aaxis\":{\"endlinecolor\":\"#2a3f5f\",\"gridcolor\":\"white\",\"linecolor\":\"white\",\"minorgridcolor\":\"white\",\"startlinecolor\":\"#2a3f5f\"},\"baxis\":{\"endlinecolor\":\"#2a3f5f\",\"gridcolor\":\"white\",\"linecolor\":\"white\",\"minorgridcolor\":\"white\",\"startlinecolor\":\"#2a3f5f\"},\"type\":\"carpet\"}],\"table\":[{\"cells\":{\"fill\":{\"color\":\"#EBF0F8\"},\"line\":{\"color\":\"white\"}},\"header\":{\"fill\":{\"color\":\"#C8D4E3\"},\"line\":{\"color\":\"white\"}},\"type\":\"table\"}],\"barpolar\":[{\"marker\":{\"line\":{\"color\":\"#E5ECF6\",\"width\":0.5},\"pattern\":{\"fillmode\":\"overlay\",\"size\":10,\"solidity\":0.2}},\"type\":\"barpolar\"}],\"pie\":[{\"automargin\":true,\"type\":\"pie\"}]},\"layout\":{\"autotypenumbers\":\"strict\",\"colorway\":[\"#636efa\",\"#EF553B\",\"#00cc96\",\"#ab63fa\",\"#FFA15A\",\"#19d3f3\",\"#FF6692\",\"#B6E880\",\"#FF97FF\",\"#FECB52\"],\"font\":{\"color\":\"#2a3f5f\"},\"hovermode\":\"closest\",\"hoverlabel\":{\"align\":\"left\"},\"paper_bgcolor\":\"white\",\"plot_bgcolor\":\"#E5ECF6\",\"polar\":{\"bgcolor\":\"#E5ECF6\",\"angularaxis\":{\"gridcolor\":\"white\",\"linecolor\":\"white\",\"ticks\":\"\"},\"radialaxis\":{\"gridcolor\":\"white\",\"linecolor\":\"white\",\"ticks\":\"\"}},\"ternary\":{\"bgcolor\":\"#E5ECF6\",\"aaxis\":{\"gridcolor\":\"white\",\"linecolor\":\"white\",\"ticks\":\"\"},\"baxis\":{\"gridcolor\":\"white\",\"linecolor\":\"white\",\"ticks\":\"\"},\"caxis\":{\"gridcolor\":\"white\",\"linecolor\":\"white\",\"ticks\":\"\"}},\"coloraxis\":{\"colorbar\":{\"outlinewidth\":0,\"ticks\":\"\"}},\"colorscale\":{\"sequential\":[[0.0,\"#0d0887\"],[0.1111111111111111,\"#46039f\"],[0.2222222222222222,\"#7201a8\"],[0.3333333333333333,\"#9c179e\"],[0.4444444444444444,\"#bd3786\"],[0.5555555555555556,\"#d8576b\"],[0.6666666666666666,\"#ed7953\"],[0.7777777777777778,\"#fb9f3a\"],[0.8888888888888888,\"#fdca26\"],[1.0,\"#f0f921\"]],\"sequentialminus\":[[0.0,\"#0d0887\"],[0.1111111111111111,\"#46039f\"],[0.2222222222222222,\"#7201a8\"],[0.3333333333333333,\"#9c179e\"],[0.4444444444444444,\"#bd3786\"],[0.5555555555555556,\"#d8576b\"],[0.6666666666666666,\"#ed7953\"],[0.7777777777777778,\"#fb9f3a\"],[0.8888888888888888,\"#fdca26\"],[1.0,\"#f0f921\"]],\"diverging\":[[0,\"#8e0152\"],[0.1,\"#c51b7d\"],[0.2,\"#de77ae\"],[0.3,\"#f1b6da\"],[0.4,\"#fde0ef\"],[0.5,\"#f7f7f7\"],[0.6,\"#e6f5d0\"],[0.7,\"#b8e186\"],[0.8,\"#7fbc41\"],[0.9,\"#4d9221\"],[1,\"#276419\"]]},\"xaxis\":{\"gridcolor\":\"white\",\"linecolor\":\"white\",\"ticks\":\"\",\"title\":{\"standoff\":15},\"zerolinecolor\":\"white\",\"automargin\":true,\"zerolinewidth\":2},\"yaxis\":{\"gridcolor\":\"white\",\"linecolor\":\"white\",\"ticks\":\"\",\"title\":{\"standoff\":15},\"zerolinecolor\":\"white\",\"automargin\":true,\"zerolinewidth\":2},\"scene\":{\"xaxis\":{\"backgroundcolor\":\"#E5ECF6\",\"gridcolor\":\"white\",\"linecolor\":\"white\",\"showbackground\":true,\"ticks\":\"\",\"zerolinecolor\":\"white\",\"gridwidth\":2},\"yaxis\":{\"backgroundcolor\":\"#E5ECF6\",\"gridcolor\":\"white\",\"linecolor\":\"white\",\"showbackground\":true,\"ticks\":\"\",\"zerolinecolor\":\"white\",\"gridwidth\":2},\"zaxis\":{\"backgroundcolor\":\"#E5ECF6\",\"gridcolor\":\"white\",\"linecolor\":\"white\",\"showbackground\":true,\"ticks\":\"\",\"zerolinecolor\":\"white\",\"gridwidth\":2}},\"shapedefaults\":{\"line\":{\"color\":\"#2a3f5f\"}},\"annotationdefaults\":{\"arrowcolor\":\"#2a3f5f\",\"arrowhead\":0,\"arrowwidth\":1},\"geo\":{\"bgcolor\":\"white\",\"landcolor\":\"#E5ECF6\",\"subunitcolor\":\"white\",\"showland\":true,\"showlakes\":true,\"lakecolor\":\"white\"},\"title\":{\"x\":0.05},\"mapbox\":{\"style\":\"light\"}}},\"xaxis\":{\"anchor\":\"y\",\"domain\":[0.0,0.31999999999999995],\"scaleanchor\":\"y\",\"constrain\":\"domain\",\"title\":{\"text\":\"source_tok\"}},\"yaxis\":{\"anchor\":\"x\",\"domain\":[0.0,1.0],\"autorange\":\"reversed\",\"constrain\":\"domain\",\"title\":{\"text\":\"dest_tok\"}},\"xaxis2\":{\"anchor\":\"y2\",\"domain\":[0.33999999999999997,0.6599999999999999],\"matches\":\"x\",\"title\":{\"text\":\"source_tok\"}},\"yaxis2\":{\"anchor\":\"x2\",\"domain\":[0.0,1.0],\"matches\":\"y\",\"showticklabels\":false},\"xaxis3\":{\"anchor\":\"y3\",\"domain\":[0.6799999999999999,0.9999999999999999],\"matches\":\"x\",\"title\":{\"text\":\"source_tok\"}},\"yaxis3\":{\"anchor\":\"x3\",\"domain\":[0.0,1.0],\"matches\":\"y\",\"showticklabels\":false},\"annotations\":[{\"font\":{},\"showarrow\":false,\"text\":\"facet_col=0\",\"x\":0.15999999999999998,\"xanchor\":\"center\",\"xref\":\"paper\",\"y\":1.0,\"yanchor\":\"bottom\",\"yref\":\"paper\"},{\"font\":{},\"showarrow\":false,\"text\":\"facet_col=1\",\"x\":0.49999999999999994,\"xanchor\":\"center\",\"xref\":\"paper\",\"y\":1.0,\"yanchor\":\"bottom\",\"yref\":\"paper\"},{\"font\":{},\"showarrow\":false,\"text\":\"facet_col=2\",\"x\":0.8399999999999999,\"xanchor\":\"center\",\"xref\":\"paper\",\"y\":1.0,\"yanchor\":\"bottom\",\"yref\":\"paper\"}],\"coloraxis\":{\"colorscale\":[[0.0,\"rgb(103,0,31)\"],[0.1,\"rgb(178,24,43)\"],[0.2,\"rgb(214,96,77)\"],[0.3,\"rgb(244,165,130)\"],[0.4,\"rgb(253,219,199)\"],[0.5,\"rgb(247,247,247)\"],[0.6,\"rgb(209,229,240)\"],[0.7,\"rgb(146,197,222)\"],[0.8,\"rgb(67,147,195)\"],[0.9,\"rgb(33,102,172)\"],[1.0,\"rgb(5,48,97)\"]],\"cmid\":0.0},\"title\":{\"text\":\"religious names\"}},                        {\"responsive\": true}                    ).then(function(){\n",
       "                            \n",
       "var gd = document.getElementById('3398ae7c-d616-4543-85ed-7778e9d174a6');\n",
       "var x = new MutationObserver(function (mutations, observer) {{\n",
       "        var display = window.getComputedStyle(gd).display;\n",
       "        if (!display || display === 'none') {{\n",
       "            console.log([gd, 'removed!']);\n",
       "            Plotly.purge(gd);\n",
       "            observer.disconnect();\n",
       "        }}\n",
       "}});\n",
       "\n",
       "// Listen for the removal of the full notebook cells\n",
       "var notebookContainer = gd.closest('#notebook-container');\n",
       "if (notebookContainer) {{\n",
       "    x.observe(notebookContainer, {childList: true});\n",
       "}}\n",
       "\n",
       "// Listen for the clearing of the current output cell\n",
       "var outputEl = gd.closest('.output');\n",
       "if (outputEl) {{\n",
       "    x.observe(outputEl, {childList: true});\n",
       "}}\n",
       "\n",
       "                        })                };                });            </script>        </div>"
      ]
     },
     "metadata": {},
     "output_type": "display_data"
    }
   ],
   "source": [
    "heads = [(9,6), (9,9), (10,0)]\n",
    "patts = []\n",
    "for layer, head in heads:\n",
    "  patts.append(rel_cache[\"pattern\", layer][:,head, :,:])\n",
    "patts = t.stack(patts)\n",
    "patts.shape\n",
    "patts = patts.mean(dim = 1)\n",
    "\n",
    "imshow(patts, facet_col = 0, yaxis = \"dest_tok\", xaxis = \"source_tok\", title = \"religious names\", x= model.to_str_tokens(prompts_rel[0]), y = model.to_str_tokens(prompts_rel[0]))"
   ]
  },
  {
   "cell_type": "code",
   "execution_count": null,
   "metadata": {},
   "outputs": [
    {
     "data": {
      "text/html": [
       "<div>                            <div id=\"ab5621b2-035c-4ea4-a3df-2c26f8e0940d\" class=\"plotly-graph-div\" style=\"height:525px; width:100%;\"></div>            <script type=\"text/javascript\">                require([\"plotly\"], function(Plotly) {                    window.PLOTLYENV=window.PLOTLYENV || {};                                    if (document.getElementById(\"ab5621b2-035c-4ea4-a3df-2c26f8e0940d\")) {                    Plotly.newPlot(                        \"ab5621b2-035c-4ea4-a3df-2c26f8e0940d\",                        [{\"coloraxis\":\"coloraxis\",\"name\":\"0\",\"x\":[\"<|endoftext|>\",\"When\",\" Paris\",\" and\",\" London\",\" went\",\" to\",\" the\",\" shops\",\",\",\" London\",\" gave\",\" the\",\" bag\",\" to\"],\"y\":[\"<|endoftext|>\",\"When\",\" Paris\",\" and\",\" London\",\" went\",\" to\",\" the\",\" shops\",\",\",\" London\",\" gave\",\" the\",\" bag\",\" to\"],\"z\":[[1.0,0.0,0.0,0.0,0.0,0.0,0.0,0.0,0.0,0.0,0.0,0.0,0.0,0.0,0.0],[0.9985043406486511,0.0014959131367504597,0.0,0.0,0.0,0.0,0.0,0.0,0.0,0.0,0.0,0.0,0.0,0.0,0.0],[0.9925069808959961,0.0012268486898392439,0.006266201846301556,0.0,0.0,0.0,0.0,0.0,0.0,0.0,0.0,0.0,0.0,0.0,0.0],[0.9482635259628296,0.0012206211686134338,0.047783635556697845,0.0027320634108036757,0.0,0.0,0.0,0.0,0.0,0.0,0.0,0.0,0.0,0.0,0.0],[0.970349133014679,0.0013736434048041701,0.006143626756966114,0.010636379010975361,0.011497363448143005,0.0,0.0,0.0,0.0,0.0,0.0,0.0,0.0,0.0,0.0],[0.9913180470466614,0.0006493005785159767,0.0018379188841208816,0.001148036913946271,0.002214564476162195,0.002832174301147461,0.0,0.0,0.0,0.0,0.0,0.0,0.0,0.0,0.0],[0.959412693977356,0.0011543284635990858,0.017087871208786964,0.0012974115088582039,0.016598613932728767,0.0011689799139276147,0.003280243370682001,0.0,0.0,0.0,0.0,0.0,0.0,0.0,0.0],[0.9871276021003723,0.0006810359773226082,0.003407847136259079,0.0012080151354894042,0.0046270363964140415,0.0005193824181333184,0.0015421019634231925,0.0008869911544024944,0.0,0.0,0.0,0.0,0.0,0.0,0.0],[0.9811021089553833,0.006217588670551777,0.0020548172760754824,0.0004825310898013413,0.001080912770703435,0.00024937751004472375,0.0015362759586423635,0.00056045176461339,0.006715986877679825,0.0,0.0,0.0,0.0,0.0,0.0],[0.7588092088699341,0.0038336627185344696,0.09320484846830368,0.0014776027528569102,0.12949475646018982,0.000639519770629704,0.0004779007285833359,0.0003084828204009682,0.010295088402926922,0.0014589037746191025,0.0,0.0,0.0,0.0,0.0],[0.944548487663269,0.0015367560554295778,0.0034790232311934233,0.013914364390075207,0.011825810186564922,0.002886964241042733,0.0016375906998291612,0.0005774878663942218,0.013082429766654968,0.0019317265832796693,0.004579417407512665,0.0,0.0,0.0,0.0],[0.41202956438064575,0.0018817263189703226,0.13956791162490845,0.0036553367972373962,0.36474475264549255,0.0006915368721820414,0.0004993568873032928,0.0006865955656394362,0.006847454700618982,0.0007907429826445878,0.06661650538444519,0.0019885050132870674,0.0,0.0,0.0],[0.6916347146034241,0.002096326556056738,0.0376419872045517,0.009017323143780231,0.10064294189214706,0.0038998425006866455,0.0013782045571133494,0.00016356052947230637,0.13886091113090515,0.0021736393682658672,0.0077839987352490425,0.002200835384428501,0.002505720127373934,0.0,0.0],[0.9756827354431152,0.0016180071979761124,0.0045476919040083885,0.0002562079462222755,0.001706407987512648,0.0001754497643560171,0.0008947032620199025,0.00032038992503657937,0.004126506391912699,0.0016822100151330233,0.0033333278261125088,9.200369822792709e-05,0.001004652353003621,0.004559764172881842,0.0],[0.2945348620414734,0.000950183137319982,0.1535433977842331,0.0010475735180079937,0.45718035101890564,0.00023832703300286084,0.00010660693806130439,0.00016105355462059379,0.00399309117347002,0.00025845837080851197,0.0835002213716507,0.00014073136844672263,0.0009177437168546021,0.003066370729357004,0.0003609672130551189]],\"type\":\"heatmap\",\"xaxis\":\"x\",\"yaxis\":\"y\",\"hovertemplate\":\"source_tok: %{x}<br>dest_tok: %{y}<br>color: %{z}<extra></extra>\"},{\"coloraxis\":\"coloraxis\",\"name\":\"1\",\"x\":[\"<|endoftext|>\",\"When\",\" Paris\",\" and\",\" London\",\" went\",\" to\",\" the\",\" shops\",\",\",\" London\",\" gave\",\" the\",\" bag\",\" to\"],\"y\":[\"<|endoftext|>\",\"When\",\" Paris\",\" and\",\" London\",\" went\",\" to\",\" the\",\" shops\",\",\",\" London\",\" gave\",\" the\",\" bag\",\" to\"],\"z\":[[1.0,0.0,0.0,0.0,0.0,0.0,0.0,0.0,0.0,0.0,0.0,0.0,0.0,0.0,0.0],[0.9979304075241089,0.0020696446299552917,0.0,0.0,0.0,0.0,0.0,0.0,0.0,0.0,0.0,0.0,0.0,0.0,0.0],[0.9947412610054016,0.0011438413057476282,0.004114977549761534,0.0,0.0,0.0,0.0,0.0,0.0,0.0,0.0,0.0,0.0,0.0,0.0],[0.9736889004707336,0.0016314219683408737,0.022983450442552567,0.001696412218734622,0.0,0.0,0.0,0.0,0.0,0.0,0.0,0.0,0.0,0.0,0.0],[0.9881922006607056,0.00124395324382931,0.0020821886137127876,0.0040304819121956825,0.004451085347682238,0.0,0.0,0.0,0.0,0.0,0.0,0.0,0.0,0.0,0.0],[0.9950594902038574,0.000740524148568511,0.0010858470341190696,0.00034201075322926044,0.001574863912537694,0.0011972924694418907,0.0,0.0,0.0,0.0,0.0,0.0,0.0,0.0,0.0],[0.9541093707084656,0.0013217829400673509,0.014823379926383495,0.000349525740602985,0.022489409893751144,0.0015453784726560116,0.005361007992178202,0.0,0.0,0.0,0.0,0.0,0.0,0.0,0.0],[0.9906757473945618,0.0010281226132065058,0.0030227613169699907,0.00016157550271600485,0.0031440749298781157,0.0001819361059460789,0.00041625177254900336,0.0013695880770683289,0.0,0.0,0.0,0.0,0.0,0.0,0.0],[0.9936046600341797,0.0009107665391638875,0.0005974278901703656,0.000283373607089743,0.0004060633946210146,0.0001667849428486079,0.00033520316355861723,0.00011310045374557376,0.0035827183164656162,0.0,0.0,0.0,0.0,0.0,0.0],[0.7416387796401978,0.004546697251498699,0.09936487674713135,0.0026552188210189342,0.1382485032081604,0.0006031934171915054,0.0008117347024381161,0.0013085660757496953,0.007256170269101858,0.0035663172602653503,0.0,0.0,0.0,0.0,0.0],[0.9468237161636353,0.0017924157436937094,0.002793673425912857,0.02944941446185112,0.008098611608147621,0.0018188453977927566,0.0006939407321624458,0.00038918846985325217,0.004417183808982372,0.0015295927878469229,0.0021934262476861477,0.0,0.0,0.0,0.0],[0.35589614510536194,0.010192844085395336,0.19486862421035767,0.006823128554970026,0.3563602566719055,0.0008032281184569001,0.0006917977007105947,0.0018891992513090372,0.0077466340735554695,0.00355010898783803,0.05885189771652222,0.00232610572129488,0.0,0.0,0.0],[0.707180917263031,0.0059557100757956505,0.04002807289361954,0.0060960217379033566,0.05531081557273865,0.0025396407581865788,0.0011005678679794073,0.0007841667393222451,0.160731703042984,0.0042674788273870945,0.008296105079352856,0.002269567921757698,0.005439236760139465,0.0,0.0],[0.9777622222900391,0.000864867412019521,0.0014126712922006845,6.204033707035705e-05,0.0005722860223613679,9.109103120863438e-05,0.00034450148814357817,6.011538062011823e-05,0.0035916075576096773,0.0015355728100985289,0.000912291114218533,6.688879511784762e-05,0.0002544982125982642,0.0124693363904953,0.0],[0.21705615520477295,0.005495503544807434,0.20211148262023926,0.002179538132622838,0.4886765480041504,0.0002644209598656744,0.0002879946550820023,0.0015782371629029512,0.0026127921883016825,0.002191977109760046,0.06727932393550873,0.00017406560073141009,0.006440849043428898,0.002099354285746813,0.0015517626889050007]],\"type\":\"heatmap\",\"xaxis\":\"x2\",\"yaxis\":\"y2\",\"hovertemplate\":\"source_tok: %{x}<br>dest_tok: %{y}<br>color: %{z}<extra></extra>\"},{\"coloraxis\":\"coloraxis\",\"name\":\"2\",\"x\":[\"<|endoftext|>\",\"When\",\" Paris\",\" and\",\" London\",\" went\",\" to\",\" the\",\" shops\",\",\",\" London\",\" gave\",\" the\",\" bag\",\" to\"],\"y\":[\"<|endoftext|>\",\"When\",\" Paris\",\" and\",\" London\",\" went\",\" to\",\" the\",\" shops\",\",\",\" London\",\" gave\",\" the\",\" bag\",\" to\"],\"z\":[[1.0,0.0,0.0,0.0,0.0,0.0,0.0,0.0,0.0,0.0,0.0,0.0,0.0,0.0,0.0],[0.9776753187179565,0.022324660792946815,0.0,0.0,0.0,0.0,0.0,0.0,0.0,0.0,0.0,0.0,0.0,0.0,0.0],[0.908225417137146,0.00924752652645111,0.08252700418233871,0.0,0.0,0.0,0.0,0.0,0.0,0.0,0.0,0.0,0.0,0.0,0.0],[0.7678535580635071,0.009175007231533527,0.18370956182479858,0.03926180675625801,0.0,0.0,0.0,0.0,0.0,0.0,0.0,0.0,0.0,0.0,0.0],[0.8571586608886719,0.011959968134760857,0.05062717944383621,0.028755569830536842,0.051498569548130035,0.0,0.0,0.0,0.0,0.0,0.0,0.0,0.0,0.0,0.0],[0.9243679046630859,0.0034386683255434036,0.01898137293756008,0.011000613681972027,0.03730091452598572,0.004910572897642851,0.0,0.0,0.0,0.0,0.0,0.0,0.0,0.0,0.0],[0.6525872945785522,0.011791992001235485,0.12183940410614014,0.01286837924271822,0.16914409399032593,0.00944279134273529,0.022326011210680008,0.0,0.0,0.0,0.0,0.0,0.0,0.0,0.0],[0.7886000871658325,0.00921181496232748,0.0659141093492508,0.016551872715353966,0.08197537064552307,0.004021543078124523,0.016234559938311577,0.01749061979353428,0.0,0.0,0.0,0.0,0.0,0.0,0.0],[0.9164931178092957,0.005347420461475849,0.031872790306806564,0.0015610166592523456,0.019009530544281006,0.0014170764479786158,0.0010759796714410186,0.0011559977428987622,0.022067008540034294,0.0,0.0,0.0,0.0,0.0,0.0],[0.42542439699172974,0.005258945748209953,0.19312159717082977,0.007908126339316368,0.2645297944545746,0.00360683212056756,0.0032513183541595936,0.004003339447081089,0.08290351927280426,0.009992129169404507,0.0,0.0,0.0,0.0,0.0],[0.8436252474784851,0.005181506741791964,0.01318134181201458,0.007740744389593601,0.015530839562416077,0.005091038532555103,0.004547120071947575,0.001971723511815071,0.07410012185573578,0.013931268826127052,0.015099013224244118,0.0,0.0,0.0,0.0],[0.33557137846946716,0.007918622344732285,0.1888635903596878,0.010228903032839298,0.3247322142124176,0.002759256400167942,0.004058183170855045,0.003527926281094551,0.03598764166235924,0.007665783166885376,0.07550127804279327,0.003185172798112035,0.0,0.0,0.0],[0.40958070755004883,0.006270820740610361,0.10948951542377472,0.021037304773926735,0.15964987874031067,0.00657456461340189,0.012312422506511211,0.002962900325655937,0.23238115012645721,0.012339779175817966,0.018386999145150185,0.0051649101078510284,0.0038490649312734604,0.0,0.0],[0.8691250085830688,0.005907867103815079,0.01994458958506584,0.0018659975612536073,0.01222416665405035,0.0012350451434031129,0.00135906133800745,0.0009218174964189529,0.03639321029186249,0.00772979948669672,0.01252077054232359,0.0011522762943059206,0.0013381957542151213,0.028282154351472855,0.0],[0.3126397728919983,0.007508793380111456,0.21070650219917297,0.004676808603107929,0.35818952322006226,0.0020531252957880497,0.0021290124859660864,0.0015847228933125734,0.023047765716910362,0.0044385287910699844,0.05073346942663193,0.0008398752543143928,0.0013778486754745245,0.01640309952199459,0.0036711625289171934]],\"type\":\"heatmap\",\"xaxis\":\"x3\",\"yaxis\":\"y3\",\"hovertemplate\":\"source_tok: %{x}<br>dest_tok: %{y}<br>color: %{z}<extra></extra>\"}],                        {\"template\":{\"data\":{\"histogram2dcontour\":[{\"type\":\"histogram2dcontour\",\"colorbar\":{\"outlinewidth\":0,\"ticks\":\"\"},\"colorscale\":[[0.0,\"#0d0887\"],[0.1111111111111111,\"#46039f\"],[0.2222222222222222,\"#7201a8\"],[0.3333333333333333,\"#9c179e\"],[0.4444444444444444,\"#bd3786\"],[0.5555555555555556,\"#d8576b\"],[0.6666666666666666,\"#ed7953\"],[0.7777777777777778,\"#fb9f3a\"],[0.8888888888888888,\"#fdca26\"],[1.0,\"#f0f921\"]]}],\"choropleth\":[{\"type\":\"choropleth\",\"colorbar\":{\"outlinewidth\":0,\"ticks\":\"\"}}],\"histogram2d\":[{\"type\":\"histogram2d\",\"colorbar\":{\"outlinewidth\":0,\"ticks\":\"\"},\"colorscale\":[[0.0,\"#0d0887\"],[0.1111111111111111,\"#46039f\"],[0.2222222222222222,\"#7201a8\"],[0.3333333333333333,\"#9c179e\"],[0.4444444444444444,\"#bd3786\"],[0.5555555555555556,\"#d8576b\"],[0.6666666666666666,\"#ed7953\"],[0.7777777777777778,\"#fb9f3a\"],[0.8888888888888888,\"#fdca26\"],[1.0,\"#f0f921\"]]}],\"heatmap\":[{\"type\":\"heatmap\",\"colorbar\":{\"outlinewidth\":0,\"ticks\":\"\"},\"colorscale\":[[0.0,\"#0d0887\"],[0.1111111111111111,\"#46039f\"],[0.2222222222222222,\"#7201a8\"],[0.3333333333333333,\"#9c179e\"],[0.4444444444444444,\"#bd3786\"],[0.5555555555555556,\"#d8576b\"],[0.6666666666666666,\"#ed7953\"],[0.7777777777777778,\"#fb9f3a\"],[0.8888888888888888,\"#fdca26\"],[1.0,\"#f0f921\"]]}],\"heatmapgl\":[{\"type\":\"heatmapgl\",\"colorbar\":{\"outlinewidth\":0,\"ticks\":\"\"},\"colorscale\":[[0.0,\"#0d0887\"],[0.1111111111111111,\"#46039f\"],[0.2222222222222222,\"#7201a8\"],[0.3333333333333333,\"#9c179e\"],[0.4444444444444444,\"#bd3786\"],[0.5555555555555556,\"#d8576b\"],[0.6666666666666666,\"#ed7953\"],[0.7777777777777778,\"#fb9f3a\"],[0.8888888888888888,\"#fdca26\"],[1.0,\"#f0f921\"]]}],\"contourcarpet\":[{\"type\":\"contourcarpet\",\"colorbar\":{\"outlinewidth\":0,\"ticks\":\"\"}}],\"contour\":[{\"type\":\"contour\",\"colorbar\":{\"outlinewidth\":0,\"ticks\":\"\"},\"colorscale\":[[0.0,\"#0d0887\"],[0.1111111111111111,\"#46039f\"],[0.2222222222222222,\"#7201a8\"],[0.3333333333333333,\"#9c179e\"],[0.4444444444444444,\"#bd3786\"],[0.5555555555555556,\"#d8576b\"],[0.6666666666666666,\"#ed7953\"],[0.7777777777777778,\"#fb9f3a\"],[0.8888888888888888,\"#fdca26\"],[1.0,\"#f0f921\"]]}],\"surface\":[{\"type\":\"surface\",\"colorbar\":{\"outlinewidth\":0,\"ticks\":\"\"},\"colorscale\":[[0.0,\"#0d0887\"],[0.1111111111111111,\"#46039f\"],[0.2222222222222222,\"#7201a8\"],[0.3333333333333333,\"#9c179e\"],[0.4444444444444444,\"#bd3786\"],[0.5555555555555556,\"#d8576b\"],[0.6666666666666666,\"#ed7953\"],[0.7777777777777778,\"#fb9f3a\"],[0.8888888888888888,\"#fdca26\"],[1.0,\"#f0f921\"]]}],\"mesh3d\":[{\"type\":\"mesh3d\",\"colorbar\":{\"outlinewidth\":0,\"ticks\":\"\"}}],\"scatter\":[{\"fillpattern\":{\"fillmode\":\"overlay\",\"size\":10,\"solidity\":0.2},\"type\":\"scatter\"}],\"parcoords\":[{\"type\":\"parcoords\",\"line\":{\"colorbar\":{\"outlinewidth\":0,\"ticks\":\"\"}}}],\"scatterpolargl\":[{\"type\":\"scatterpolargl\",\"marker\":{\"colorbar\":{\"outlinewidth\":0,\"ticks\":\"\"}}}],\"bar\":[{\"error_x\":{\"color\":\"#2a3f5f\"},\"error_y\":{\"color\":\"#2a3f5f\"},\"marker\":{\"line\":{\"color\":\"#E5ECF6\",\"width\":0.5},\"pattern\":{\"fillmode\":\"overlay\",\"size\":10,\"solidity\":0.2}},\"type\":\"bar\"}],\"scattergeo\":[{\"type\":\"scattergeo\",\"marker\":{\"colorbar\":{\"outlinewidth\":0,\"ticks\":\"\"}}}],\"scatterpolar\":[{\"type\":\"scatterpolar\",\"marker\":{\"colorbar\":{\"outlinewidth\":0,\"ticks\":\"\"}}}],\"histogram\":[{\"marker\":{\"pattern\":{\"fillmode\":\"overlay\",\"size\":10,\"solidity\":0.2}},\"type\":\"histogram\"}],\"scattergl\":[{\"type\":\"scattergl\",\"marker\":{\"colorbar\":{\"outlinewidth\":0,\"ticks\":\"\"}}}],\"scatter3d\":[{\"type\":\"scatter3d\",\"line\":{\"colorbar\":{\"outlinewidth\":0,\"ticks\":\"\"}},\"marker\":{\"colorbar\":{\"outlinewidth\":0,\"ticks\":\"\"}}}],\"scattermapbox\":[{\"type\":\"scattermapbox\",\"marker\":{\"colorbar\":{\"outlinewidth\":0,\"ticks\":\"\"}}}],\"scatterternary\":[{\"type\":\"scatterternary\",\"marker\":{\"colorbar\":{\"outlinewidth\":0,\"ticks\":\"\"}}}],\"scattercarpet\":[{\"type\":\"scattercarpet\",\"marker\":{\"colorbar\":{\"outlinewidth\":0,\"ticks\":\"\"}}}],\"carpet\":[{\"aaxis\":{\"endlinecolor\":\"#2a3f5f\",\"gridcolor\":\"white\",\"linecolor\":\"white\",\"minorgridcolor\":\"white\",\"startlinecolor\":\"#2a3f5f\"},\"baxis\":{\"endlinecolor\":\"#2a3f5f\",\"gridcolor\":\"white\",\"linecolor\":\"white\",\"minorgridcolor\":\"white\",\"startlinecolor\":\"#2a3f5f\"},\"type\":\"carpet\"}],\"table\":[{\"cells\":{\"fill\":{\"color\":\"#EBF0F8\"},\"line\":{\"color\":\"white\"}},\"header\":{\"fill\":{\"color\":\"#C8D4E3\"},\"line\":{\"color\":\"white\"}},\"type\":\"table\"}],\"barpolar\":[{\"marker\":{\"line\":{\"color\":\"#E5ECF6\",\"width\":0.5},\"pattern\":{\"fillmode\":\"overlay\",\"size\":10,\"solidity\":0.2}},\"type\":\"barpolar\"}],\"pie\":[{\"automargin\":true,\"type\":\"pie\"}]},\"layout\":{\"autotypenumbers\":\"strict\",\"colorway\":[\"#636efa\",\"#EF553B\",\"#00cc96\",\"#ab63fa\",\"#FFA15A\",\"#19d3f3\",\"#FF6692\",\"#B6E880\",\"#FF97FF\",\"#FECB52\"],\"font\":{\"color\":\"#2a3f5f\"},\"hovermode\":\"closest\",\"hoverlabel\":{\"align\":\"left\"},\"paper_bgcolor\":\"white\",\"plot_bgcolor\":\"#E5ECF6\",\"polar\":{\"bgcolor\":\"#E5ECF6\",\"angularaxis\":{\"gridcolor\":\"white\",\"linecolor\":\"white\",\"ticks\":\"\"},\"radialaxis\":{\"gridcolor\":\"white\",\"linecolor\":\"white\",\"ticks\":\"\"}},\"ternary\":{\"bgcolor\":\"#E5ECF6\",\"aaxis\":{\"gridcolor\":\"white\",\"linecolor\":\"white\",\"ticks\":\"\"},\"baxis\":{\"gridcolor\":\"white\",\"linecolor\":\"white\",\"ticks\":\"\"},\"caxis\":{\"gridcolor\":\"white\",\"linecolor\":\"white\",\"ticks\":\"\"}},\"coloraxis\":{\"colorbar\":{\"outlinewidth\":0,\"ticks\":\"\"}},\"colorscale\":{\"sequential\":[[0.0,\"#0d0887\"],[0.1111111111111111,\"#46039f\"],[0.2222222222222222,\"#7201a8\"],[0.3333333333333333,\"#9c179e\"],[0.4444444444444444,\"#bd3786\"],[0.5555555555555556,\"#d8576b\"],[0.6666666666666666,\"#ed7953\"],[0.7777777777777778,\"#fb9f3a\"],[0.8888888888888888,\"#fdca26\"],[1.0,\"#f0f921\"]],\"sequentialminus\":[[0.0,\"#0d0887\"],[0.1111111111111111,\"#46039f\"],[0.2222222222222222,\"#7201a8\"],[0.3333333333333333,\"#9c179e\"],[0.4444444444444444,\"#bd3786\"],[0.5555555555555556,\"#d8576b\"],[0.6666666666666666,\"#ed7953\"],[0.7777777777777778,\"#fb9f3a\"],[0.8888888888888888,\"#fdca26\"],[1.0,\"#f0f921\"]],\"diverging\":[[0,\"#8e0152\"],[0.1,\"#c51b7d\"],[0.2,\"#de77ae\"],[0.3,\"#f1b6da\"],[0.4,\"#fde0ef\"],[0.5,\"#f7f7f7\"],[0.6,\"#e6f5d0\"],[0.7,\"#b8e186\"],[0.8,\"#7fbc41\"],[0.9,\"#4d9221\"],[1,\"#276419\"]]},\"xaxis\":{\"gridcolor\":\"white\",\"linecolor\":\"white\",\"ticks\":\"\",\"title\":{\"standoff\":15},\"zerolinecolor\":\"white\",\"automargin\":true,\"zerolinewidth\":2},\"yaxis\":{\"gridcolor\":\"white\",\"linecolor\":\"white\",\"ticks\":\"\",\"title\":{\"standoff\":15},\"zerolinecolor\":\"white\",\"automargin\":true,\"zerolinewidth\":2},\"scene\":{\"xaxis\":{\"backgroundcolor\":\"#E5ECF6\",\"gridcolor\":\"white\",\"linecolor\":\"white\",\"showbackground\":true,\"ticks\":\"\",\"zerolinecolor\":\"white\",\"gridwidth\":2},\"yaxis\":{\"backgroundcolor\":\"#E5ECF6\",\"gridcolor\":\"white\",\"linecolor\":\"white\",\"showbackground\":true,\"ticks\":\"\",\"zerolinecolor\":\"white\",\"gridwidth\":2},\"zaxis\":{\"backgroundcolor\":\"#E5ECF6\",\"gridcolor\":\"white\",\"linecolor\":\"white\",\"showbackground\":true,\"ticks\":\"\",\"zerolinecolor\":\"white\",\"gridwidth\":2}},\"shapedefaults\":{\"line\":{\"color\":\"#2a3f5f\"}},\"annotationdefaults\":{\"arrowcolor\":\"#2a3f5f\",\"arrowhead\":0,\"arrowwidth\":1},\"geo\":{\"bgcolor\":\"white\",\"landcolor\":\"#E5ECF6\",\"subunitcolor\":\"white\",\"showland\":true,\"showlakes\":true,\"lakecolor\":\"white\"},\"title\":{\"x\":0.05},\"mapbox\":{\"style\":\"light\"}}},\"xaxis\":{\"anchor\":\"y\",\"domain\":[0.0,0.31999999999999995],\"scaleanchor\":\"y\",\"constrain\":\"domain\",\"title\":{\"text\":\"source_tok\"}},\"yaxis\":{\"anchor\":\"x\",\"domain\":[0.0,1.0],\"autorange\":\"reversed\",\"constrain\":\"domain\",\"title\":{\"text\":\"dest_tok\"}},\"xaxis2\":{\"anchor\":\"y2\",\"domain\":[0.33999999999999997,0.6599999999999999],\"matches\":\"x\",\"title\":{\"text\":\"source_tok\"}},\"yaxis2\":{\"anchor\":\"x2\",\"domain\":[0.0,1.0],\"matches\":\"y\",\"showticklabels\":false},\"xaxis3\":{\"anchor\":\"y3\",\"domain\":[0.6799999999999999,0.9999999999999999],\"matches\":\"x\",\"title\":{\"text\":\"source_tok\"}},\"yaxis3\":{\"anchor\":\"x3\",\"domain\":[0.0,1.0],\"matches\":\"y\",\"showticklabels\":false},\"annotations\":[{\"font\":{},\"showarrow\":false,\"text\":\"facet_col=0\",\"x\":0.15999999999999998,\"xanchor\":\"center\",\"xref\":\"paper\",\"y\":1.0,\"yanchor\":\"bottom\",\"yref\":\"paper\"},{\"font\":{},\"showarrow\":false,\"text\":\"facet_col=1\",\"x\":0.49999999999999994,\"xanchor\":\"center\",\"xref\":\"paper\",\"y\":1.0,\"yanchor\":\"bottom\",\"yref\":\"paper\"},{\"font\":{},\"showarrow\":false,\"text\":\"facet_col=2\",\"x\":0.8399999999999999,\"xanchor\":\"center\",\"xref\":\"paper\",\"y\":1.0,\"yanchor\":\"bottom\",\"yref\":\"paper\"}],\"coloraxis\":{\"colorscale\":[[0.0,\"rgb(103,0,31)\"],[0.1,\"rgb(178,24,43)\"],[0.2,\"rgb(214,96,77)\"],[0.3,\"rgb(244,165,130)\"],[0.4,\"rgb(253,219,199)\"],[0.5,\"rgb(247,247,247)\"],[0.6,\"rgb(209,229,240)\"],[0.7,\"rgb(146,197,222)\"],[0.8,\"rgb(67,147,195)\"],[0.9,\"rgb(33,102,172)\"],[1.0,\"rgb(5,48,97)\"]],\"cmid\":0.0},\"title\":{\"text\":\"place names\"}},                        {\"responsive\": true}                    ).then(function(){\n",
       "                            \n",
       "var gd = document.getElementById('ab5621b2-035c-4ea4-a3df-2c26f8e0940d');\n",
       "var x = new MutationObserver(function (mutations, observer) {{\n",
       "        var display = window.getComputedStyle(gd).display;\n",
       "        if (!display || display === 'none') {{\n",
       "            console.log([gd, 'removed!']);\n",
       "            Plotly.purge(gd);\n",
       "            observer.disconnect();\n",
       "        }}\n",
       "}});\n",
       "\n",
       "// Listen for the removal of the full notebook cells\n",
       "var notebookContainer = gd.closest('#notebook-container');\n",
       "if (notebookContainer) {{\n",
       "    x.observe(notebookContainer, {childList: true});\n",
       "}}\n",
       "\n",
       "// Listen for the clearing of the current output cell\n",
       "var outputEl = gd.closest('.output');\n",
       "if (outputEl) {{\n",
       "    x.observe(outputEl, {childList: true});\n",
       "}}\n",
       "\n",
       "                        })                };                });            </script>        </div>"
      ]
     },
     "metadata": {},
     "output_type": "display_data"
    }
   ],
   "source": [
    "heads = [(9,6), (9,9), (10,0)]\n",
    "patts = []\n",
    "for layer, head in heads:\n",
    "  patts.append(pl_cache[\"pattern\", layer][:,head, :,:])\n",
    "patts = t.stack(patts)\n",
    "patts.shape\n",
    "patts = patts.mean(dim = 1)\n",
    "\n",
    "imshow(patts, facet_col = 0, yaxis = \"dest_tok\", xaxis = \"source_tok\", title = \"place names\", x= model.to_str_tokens(prompts_pl[0]), y = model.to_str_tokens(prompts_pl[0]))"
   ]
  },
  {
   "cell_type": "code",
   "execution_count": null,
   "metadata": {},
   "outputs": [],
   "source": []
  }
 ],
 "metadata": {
  "kernelspec": {
   "display_name": "torch-gpu-clone",
   "language": "python",
   "name": "python3"
  },
  "language_info": {
   "codemirror_mode": {
    "name": "ipython",
    "version": 3
   },
   "file_extension": ".py",
   "mimetype": "text/x-python",
   "name": "python",
   "nbconvert_exporter": "python",
   "pygments_lexer": "ipython3",
   "version": "3.10.9"
  },
  "orig_nbformat": 4,
  "vscode": {
   "interpreter": {
    "hash": "d971c8a72bb284fa0a9b5de01499a335d758798a213b1433d653d782d7cc233d"
   }
  }
 },
 "nbformat": 4,
 "nbformat_minor": 2
}
